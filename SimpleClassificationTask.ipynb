{
  "nbformat": 4,
  "nbformat_minor": 0,
  "metadata": {
    "colab": {
      "provenance": [],
      "collapsed_sections": [
        "Z6DQ9IQS_KC0"
      ],
      "authorship_tag": "ABX9TyOhLex0sDduXdVL/OSvjyoC",
      "include_colab_link": true
    },
    "kernelspec": {
      "name": "python3",
      "display_name": "Python 3"
    },
    "language_info": {
      "name": "python"
    }
  },
  "cells": [
    {
      "cell_type": "markdown",
      "metadata": {
        "id": "view-in-github",
        "colab_type": "text"
      },
      "source": [
        "<a href=\"https://colab.research.google.com/github/its-rajesh/Deep-Learning/blob/main/SimpleClassificationTask.ipynb\" target=\"_parent\"><img src=\"https://colab.research.google.com/assets/colab-badge.svg\" alt=\"Open In Colab\"/></a>"
      ]
    },
    {
      "cell_type": "markdown",
      "source": [
        "# **Handwritten Digits Classification Task**"
      ],
      "metadata": {
        "id": "A8smhSa7_Cex"
      }
    },
    {
      "cell_type": "markdown",
      "source": [
        "## **Processing Inputs**"
      ],
      "metadata": {
        "id": "Z6DQ9IQS_KC0"
      }
    },
    {
      "cell_type": "code",
      "source": [
        "import os\n",
        "import numpy as np\n",
        "import cv2\n",
        "from matplotlib import pyplot as plt"
      ],
      "metadata": {
        "id": "bYrtvFcx-8Bz"
      },
      "execution_count": 19,
      "outputs": []
    },
    {
      "cell_type": "code",
      "source": [
        "from google.colab import drive\n",
        "drive.mount('/drive')"
      ],
      "metadata": {
        "colab": {
          "base_uri": "https://localhost:8080/"
        },
        "id": "9cbeOznrA263",
        "outputId": "9d4f63f7-1f07-428d-9e53-aa89d235b39c"
      },
      "execution_count": 20,
      "outputs": [
        {
          "output_type": "stream",
          "name": "stdout",
          "text": [
            "Mounted at /drive\n"
          ]
        }
      ]
    },
    {
      "cell_type": "code",
      "source": [
        "def read_data(path):\n",
        "    \n",
        "    train_path = path+\"/train\"\n",
        "    test_path = path+\"/test\"\n",
        "    validation_path = path+\"/val\"\n",
        "    \n",
        "    tr_data, test_data, val_data = [], [], []\n",
        "    tr_out, test_out, val_out = [], [], []\n",
        "\n",
        "    for i in os.listdir(train_path):\n",
        "\n",
        "        if i != \".DS_Store\":\n",
        "            for j in os.listdir(train_path+\"/\"+i):\n",
        "                tr_data.append(cv2.imread(train_path+\"/\"+i+\"/\"+j, cv2.IMREAD_GRAYSCALE))\n",
        "                tr_out.append(i)\n",
        "\n",
        "            for j in os.listdir(test_path+\"/\"+i):\n",
        "                test_data.append(cv2.imread(test_path+\"/\"+i+\"/\"+j, cv2.IMREAD_GRAYSCALE))\n",
        "                test_out.append(i)\n",
        "\n",
        "            for j in os.listdir(validation_path+\"/\"+i):\n",
        "                val_data.append(cv2.imread(validation_path+\"/\"+i+\"/\"+j, cv2.IMREAD_GRAYSCALE))\n",
        "                val_out.append(i)\n",
        "                \n",
        "                \n",
        "    tr_data, test_data, val_data = np.array(tr_data), np.array(test_data), np.array(val_data)\n",
        "    tr_out, test_out, val_out = np.array(list(map(int, tr_out))), np.array(list(map(int, test_out))), np.array(list(map(int, val_out)))\n",
        "\n",
        "    return tr_data, test_data, val_data, tr_out, test_out, val_out"
      ],
      "metadata": {
        "id": "UhFwFOW1-23l"
      },
      "execution_count": 21,
      "outputs": []
    },
    {
      "cell_type": "code",
      "source": [
        "def convert(data):\n",
        "  out = []\n",
        "  for i in data:\n",
        "    if i == 1:\n",
        "      out.append(0)\n",
        "    if i == 4:\n",
        "      out.append(1)\n",
        "    if i == 7:\n",
        "      out.append(2)\n",
        "    if i == 8:\n",
        "      out.append(3)\n",
        "    if i == 9:\n",
        "      out.append(4)\n",
        "\n",
        "  return np.array(out)"
      ],
      "metadata": {
        "id": "kHpGFNm3qZ6m"
      },
      "execution_count": null,
      "outputs": []
    },
    {
      "cell_type": "code",
      "source": [
        "path = \"/drive/My Drive/Others/Optimizers/\"\n",
        "tr_data, test_data, val_data, tr_out, test_out, val_out = read_data(path)"
      ],
      "metadata": {
        "id": "18Y1-AQ3A-A2"
      },
      "execution_count": 35,
      "outputs": []
    },
    {
      "cell_type": "code",
      "source": [
        "tr_label = convert(tr_out)\n",
        "val_label = convert(val_out)\n",
        "test_label = convert(test_out)"
      ],
      "metadata": {
        "id": "u1KrwVKXqfZy"
      },
      "execution_count": 52,
      "outputs": []
    },
    {
      "cell_type": "markdown",
      "source": [
        "## **Deep Learning Model**"
      ],
      "metadata": {
        "id": "Zk0yZ6Pg_QOd"
      }
    },
    {
      "cell_type": "code",
      "source": [
        "import tensorflow as tf\n",
        "from tensorflow import keras\n",
        "from tensorflow.keras.models import Model\n",
        "from tensorflow.keras.layers import Input, Dense, Flatten\n",
        "from tensorflow.keras.optimizers import SGD, Adam\n",
        "from tensorflow.keras.callbacks import EarlyStopping"
      ],
      "metadata": {
        "id": "6xKeg_zD9pPN"
      },
      "execution_count": 23,
      "outputs": []
    },
    {
      "cell_type": "code",
      "source": [
        "inputs = Input(shape=(28, 28))\n",
        "\n",
        "x = Flatten(input_shape=(28, 28), name='Input_Layer')(inputs)\n",
        "x = Dense(512, activation='sigmoid', name='HiddenLayer1')(x)\n",
        "x = Dense(256, activation='sigmoid', name='HiddenLayer2')(x)\n",
        "x = Dense(128, activation='sigmoid', name='HiddenLayer3')(x)\n",
        "\n",
        "outputs = Dense(5, activation='softmax', name='OutputLayer')(x)\n",
        "\n",
        "model = Model(inputs=inputs, outputs=outputs)"
      ],
      "metadata": {
        "id": "y0eD5T1j9pML"
      },
      "execution_count": 24,
      "outputs": []
    },
    {
      "cell_type": "code",
      "source": [
        "model.summary()"
      ],
      "metadata": {
        "colab": {
          "base_uri": "https://localhost:8080/"
        },
        "id": "Wnm7QHQ49pJi",
        "outputId": "70d2f647-a8c0-4d30-ff6e-d02a33b56740"
      },
      "execution_count": 25,
      "outputs": [
        {
          "output_type": "stream",
          "name": "stdout",
          "text": [
            "Model: \"model_3\"\n",
            "_________________________________________________________________\n",
            " Layer (type)                Output Shape              Param #   \n",
            "=================================================================\n",
            " input_6 (InputLayer)        [(None, 28, 28)]          0         \n",
            "                                                                 \n",
            " Input_Layer (Flatten)       (None, 784)               0         \n",
            "                                                                 \n",
            " HiddenLayer1 (Dense)        (None, 512)               401920    \n",
            "                                                                 \n",
            " HiddenLayer2 (Dense)        (None, 256)               131328    \n",
            "                                                                 \n",
            " HiddenLayer3 (Dense)        (None, 128)               32896     \n",
            "                                                                 \n",
            " OutputLayer (Dense)         (None, 5)                 645       \n",
            "                                                                 \n",
            "=================================================================\n",
            "Total params: 566,789\n",
            "Trainable params: 566,789\n",
            "Non-trainable params: 0\n",
            "_________________________________________________________________\n"
          ]
        }
      ]
    },
    {
      "cell_type": "code",
      "source": [
        "optimizer = SGD(learning_rate=0.001, momentum=0.0,name='SGD')"
      ],
      "metadata": {
        "id": "QYZztq_dBI4W"
      },
      "execution_count": 26,
      "outputs": []
    },
    {
      "cell_type": "code",
      "source": [
        "model.compile(optimizer=optimizer,\n",
        "             loss='sparse_categorical_crossentropy',\n",
        "             metrics=['accuracy'])"
      ],
      "metadata": {
        "id": "7W9SNPhJBI1P"
      },
      "execution_count": 27,
      "outputs": []
    },
    {
      "cell_type": "code",
      "source": [
        "callback = EarlyStopping(monitor='loss',min_delta=0.0001,patience=2)\n"
      ],
      "metadata": {
        "id": "1B28CRPmBIyn"
      },
      "execution_count": 29,
      "outputs": []
    },
    {
      "cell_type": "code",
      "source": [
        "model_fit = model.fit(tr_data, tr_label, epochs=100, batch_size=1, callbacks=callback)"
      ],
      "metadata": {
        "colab": {
          "base_uri": "https://localhost:8080/"
        },
        "id": "cSaP_MyJBUwv",
        "outputId": "afbb88d7-b613-4267-c7ca-e61bf5378261"
      },
      "execution_count": 53,
      "outputs": [
        {
          "output_type": "stream",
          "name": "stdout",
          "text": [
            "Epoch 1/10000\n",
            "11385/11385 [==============================] - 31s 3ms/step - loss: 0.9060 - accuracy: 0.8020\n",
            "Epoch 2/10000\n",
            "11385/11385 [==============================] - 33s 3ms/step - loss: 0.3729 - accuracy: 0.9147\n",
            "Epoch 3/10000\n",
            "11385/11385 [==============================] - 30s 3ms/step - loss: 0.2482 - accuracy: 0.9343\n",
            "Epoch 4/10000\n",
            "11385/11385 [==============================] - 38s 3ms/step - loss: 0.2067 - accuracy: 0.9425\n",
            "Epoch 5/10000\n",
            "11385/11385 [==============================] - 33s 3ms/step - loss: 0.1855 - accuracy: 0.9488\n",
            "Epoch 6/10000\n",
            "11385/11385 [==============================] - 50s 4ms/step - loss: 0.1742 - accuracy: 0.9507\n",
            "Epoch 7/10000\n",
            "11385/11385 [==============================] - 39s 3ms/step - loss: 0.1591 - accuracy: 0.9543\n",
            "Epoch 8/10000\n",
            "11385/11385 [==============================] - 36s 3ms/step - loss: 0.1517 - accuracy: 0.9563\n",
            "Epoch 9/10000\n",
            "11385/11385 [==============================] - 36s 3ms/step - loss: 0.1460 - accuracy: 0.9570\n",
            "Epoch 10/10000\n",
            "11385/11385 [==============================] - 39s 3ms/step - loss: 0.1431 - accuracy: 0.9578\n",
            "Epoch 11/10000\n",
            "11385/11385 [==============================] - 35s 3ms/step - loss: 0.1344 - accuracy: 0.9603\n",
            "Epoch 12/10000\n",
            "11385/11385 [==============================] - 33s 3ms/step - loss: 0.1344 - accuracy: 0.9608\n",
            "Epoch 13/10000\n",
            "11385/11385 [==============================] - 32s 3ms/step - loss: 0.1300 - accuracy: 0.9614\n",
            "Epoch 14/10000\n",
            "11385/11385 [==============================] - 32s 3ms/step - loss: 0.1305 - accuracy: 0.9615\n",
            "Epoch 15/10000\n",
            "11385/11385 [==============================] - 32s 3ms/step - loss: 0.1289 - accuracy: 0.9626\n",
            "Epoch 16/10000\n",
            "11385/11385 [==============================] - 32s 3ms/step - loss: 0.1306 - accuracy: 0.9617\n",
            "Epoch 17/10000\n",
            "11385/11385 [==============================] - 33s 3ms/step - loss: 0.1262 - accuracy: 0.9632\n",
            "Epoch 18/10000\n",
            "11385/11385 [==============================] - 36s 3ms/step - loss: 0.1270 - accuracy: 0.9620\n",
            "Epoch 19/10000\n",
            "11385/11385 [==============================] - 36s 3ms/step - loss: 0.1293 - accuracy: 0.9624\n"
          ]
        }
      ]
    },
    {
      "cell_type": "code",
      "source": [
        "plt.plot(model_fit.history['loss'])\n",
        "plt.title(\"Average Training Error Vs Epoch\")\n",
        "plt.xlabel(\"epochs\")\n",
        "plt.ylabel(\"Average error\")\n",
        "plt.show()"
      ],
      "metadata": {
        "colab": {
          "base_uri": "https://localhost:8080/",
          "height": 295
        },
        "id": "V6xsCo45BZ4H",
        "outputId": "bf63f37b-a261-4777-d12c-12ac7cc6fee0"
      },
      "execution_count": 54,
      "outputs": [
        {
          "output_type": "display_data",
          "data": {
            "text/plain": [
              "<Figure size 432x288 with 1 Axes>"
            ],
            "image/png": "[encoded data removed]"
          },
          "metadata": {
            "needs_background": "light"
          }
        }
      ]
    },
    {
      "cell_type": "code",
      "source": [
        "loss, mse = model.evaluate(test_data, test_label)"
      ],
      "metadata": {
        "colab": {
          "base_uri": "https://localhost:8080/"
        },
        "id": "tO4hsz2cp7rS",
        "outputId": "ec571704-2ff8-4035-9682-f2aa00e69e31"
      },
      "execution_count": 55,
      "outputs": [
        {
          "output_type": "stream",
          "name": "stdout",
          "text": [
            "120/120 [==============================] - 1s 3ms/step - loss: 0.1414 - accuracy: 0.9579\n"
          ]
        }
      ]
    },
    {
      "cell_type": "code",
      "source": [
        "predictions = model.predict(test_data, verbose=1)\n",
        "p_class = np.argmax(predictions, axis=1)\n",
        "cm = tf.math.confusion_matrix(test_label, p_class)\n",
        "cm"
      ],
      "metadata": {
        "colab": {
          "base_uri": "https://localhost:8080/"
        },
        "id": "Had9f0pbrmYQ",
        "outputId": "dda283c2-9233-480e-86f1-9dd8b16663ad"
      },
      "execution_count": 56,
      "outputs": [
        {
          "output_type": "stream",
          "name": "stdout",
          "text": [
            "120/120 [==============================] - 0s 2ms/step\n"
          ]
        },
        {
          "output_type": "execute_result",
          "data": {
            "text/plain": [
              "<tf.Tensor: shape=(5, 5), dtype=int32, numpy=\n",
              "array([[749,   0,   3,   6,   1],\n",
              "       [  1, 732,   1,   3,  22],\n",
              "       [  5,  14, 737,   0,  12],\n",
              "       [  4,   9,   2, 729,  15],\n",
              "       [  3,  22,  26,  12, 716]], dtype=int32)>"
            ]
          },
          "metadata": {},
          "execution_count": 56
        }
      ]
    },
    {
      "cell_type": "code",
      "source": [],
      "metadata": {
        "id": "XwiTGjclxE1I"
      },
      "execution_count": null,
      "outputs": []
    }
  ]
}