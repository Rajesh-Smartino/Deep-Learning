{
 "cells": [
  {
   "cell_type": "markdown",
   "id": "b3e847cb",
   "metadata": {},
   "source": [
    "# Convolution"
   ]
  },
  {
   "cell_type": "code",
   "execution_count": 1,
   "id": "d40148a8",
   "metadata": {},
   "outputs": [],
   "source": [
    "import numpy as np\n",
    "from matplotlib import pyplot as plt\n",
    "import pandas as pd\n",
    "import os\n",
    "import cv2"
   ]
  },
  {
   "cell_type": "code",
   "execution_count": 2,
   "id": "d674d494",
   "metadata": {},
   "outputs": [],
   "source": [
    "import tensorflow as tf"
   ]
  },
  {
   "cell_type": "markdown",
   "id": "91fd3b47",
   "metadata": {},
   "source": [
    "### Reading data as image and resizing and test, train & validation separated"
   ]
  },
  {
   "cell_type": "code",
   "execution_count": 11,
   "id": "370f2797",
   "metadata": {},
   "outputs": [],
   "source": [
    "def read_data(path):\n",
    "    \n",
    "    train_path = path+\"/train\"\n",
    "    test_path = path+\"/test\"\n",
    "    validation_path = path+\"/val\"\n",
    "    \n",
    "    tr_data, test_data, val_data = [], [], []\n",
    "    tr_out, test_out, val_out = [], [], []\n",
    "\n",
    "    for i in os.listdir(train_path):\n",
    "\n",
    "        try:\n",
    "            for j in os.listdir(train_path+\"/\"+i):\n",
    "                image = cv2.imread(train_path+\"/\"+i+\"/\"+j, cv2.IMREAD_GRAYSCALE)\n",
    "                tr_data.append(cv2.resize(image, (224, 224)))\n",
    "                tr_out.append(i)\n",
    "\n",
    "            for j in os.listdir(test_path+\"/\"+i):\n",
    "                image = cv2.imread(test_path+\"/\"+i+\"/\"+j, cv2.IMREAD_GRAYSCALE)\n",
    "                test_data.append(cv2.resize(image, (224, 224)))\n",
    "                test_out.append(i)\n",
    "\n",
    "            for j in os.listdir(validation_path+\"/\"+i):\n",
    "                image = cv2.imread(validation_path+\"/\"+i+\"/\"+j, cv2.IMREAD_GRAYSCALE)\n",
    "                val_data.append(cv2.resize(image, (224, 224)))\n",
    "                val_out.append(i)\n",
    "        except:\n",
    "            pass\n",
    "                \n",
    "                \n",
    "    tr_data, test_data, val_data = np.array(tr_data), np.array(test_data), np.array(val_data)\n",
    "    tr_out, test_out, val_out = np.array(tr_out), np.array(test_out), np.array(val_out)\n",
    "\n",
    "    return tr_data, test_data, val_data, tr_out, test_out, val_out\n",
    "\n"
   ]
  },
  {
   "cell_type": "code",
   "execution_count": 12,
   "id": "2a72d90c",
   "metadata": {},
   "outputs": [],
   "source": [
    "path = \"/Users/rajeshr/Desktop/Group_22\"\n",
    "tr_data, test_data, val_data, tr_out, test_out, val_out = read_data(path)"
   ]
  },
  {
   "cell_type": "markdown",
   "id": "1e801f7f",
   "metadata": {},
   "source": [
    "## Kaiming Initializatied Filter"
   ]
  },
  {
   "cell_type": "code",
   "execution_count": 167,
   "id": "95650f66",
   "metadata": {},
   "outputs": [],
   "source": [
    "def kaiming(n, size):\n",
    "    mean, sd = 0, np.sqrt(2/n)\n",
    "    weights = np.random.normal(mean, sd, size=size)\n",
    "    return weights"
   ]
  },
  {
   "cell_type": "code",
   "execution_count": 391,
   "id": "adf6b55f",
   "metadata": {},
   "outputs": [
    {
     "data": {
      "text/plain": [
       "array([[ 2.49474675,  0.56590775,  1.38414453],\n",
       "       [ 3.16910155,  2.64112584, -1.38207963],\n",
       "       [ 1.34362793, -0.21405142, -0.1459735 ]])"
      ]
     },
     "execution_count": 391,
     "metadata": {},
     "output_type": "execute_result"
    }
   ],
   "source": [
    "np.random.seed(0)\n",
    "n = 1\n",
    "filtr = kaiming(n, (3, 3))\n",
    "filtr"
   ]
  },
  {
   "cell_type": "markdown",
   "id": "a4a3b24b",
   "metadata": {},
   "source": [
    "## Convolutional Filter"
   ]
  },
  {
   "cell_type": "code",
   "execution_count": 390,
   "id": "bee61e30",
   "metadata": {},
   "outputs": [],
   "source": [
    "def zero_padding(inpt, padding):\n",
    "    \n",
    "    m, n = inpt.shape\n",
    "    \n",
    "    temp = []\n",
    "    for i in range(padding):\n",
    "        for j in range(m+2*padding):\n",
    "            temp.append(0)\n",
    "            \n",
    "    for i in inpt:\n",
    "        \n",
    "        for j in range(padding):\n",
    "            temp.append(0)\n",
    "        \n",
    "        for p in i:\n",
    "            temp.append(p)\n",
    "            \n",
    "        for k in range(padding):\n",
    "            temp.append(0)\n",
    "            \n",
    "    for i in range(padding):\n",
    "        for j in range(m+2*padding):\n",
    "            temp.append(0)\n",
    "    \n",
    "    \n",
    "    temp = np.array(temp, dtype=np.uint8)\n",
    "    temp = temp.flatten()\n",
    "    temp = temp.reshape(m+2*padding, n+2*padding)\n",
    "    \n",
    "    return temp"
   ]
  },
  {
   "cell_type": "code",
   "execution_count": 399,
   "id": "0b37e094",
   "metadata": {},
   "outputs": [
    {
     "name": "stdout",
     "output_type": "stream",
     "text": [
      "(113, 113)\n",
      "[[  88.147013      0.           98.18254414 ...  325.11711373\n",
      "     0.          433.73105887]\n",
      " [   0.            0.            0.         ...    0.\n",
      "     0.            0.        ]\n",
      " [ 137.06247287    0.          188.29690382 ...  307.52215966\n",
      "     0.          407.83340266]\n",
      " ...\n",
      " [ 227.08523347    0.          228.62095747 ... 1529.38256994\n",
      "     0.         1376.68240458]\n",
      " [   0.            0.            0.         ...    0.\n",
      "     0.            0.        ]\n",
      " [ 222.88165187    0.          225.34471918 ... 1384.81369991\n",
      "     0.         1320.94986305]]\n"
     ]
    },
    {
     "data": {
      "text/plain": [
       "((224, 224), (113, 113))"
      ]
     },
     "execution_count": 399,
     "metadata": {},
     "output_type": "execute_result"
    }
   ],
   "source": [
    "def convolution(inpt, filtr , stride, padding):\n",
    "    \n",
    "    inpt = zero_padding(inpt, padding)\n",
    "    \n",
    "    (m, n), (fm, fn) = inpt.shape, filtr.shape\n",
    "    \n",
    "    feature_map = []\n",
    "    \n",
    "    flip_leftright = np.fliplr(filtr)\n",
    "    flip_updown = np.flipud(flip_leftright)\n",
    "    Filtr = flip_updown \n",
    "    \n",
    "    try:\n",
    "        feature_map = np.zeros((int(((m-fm+2*padding)/stride)+1), int(((n-fn+2*padding)/stride)+1)))\n",
    "    except:\n",
    "        print(\"Stride can't be ZERO (Stride should be ℕ)\\nWILL GENERATE ERRORS\")\n",
    "    \n",
    "    print(feature_map.shape)\n",
    "    \n",
    "    for i in range(n):\n",
    "        if i <= n - fn:\n",
    "            if i%stride == 0:\n",
    "                for j in range(m):\n",
    "                    if j <= m - fm:\n",
    "                        if j % stride == 0:\n",
    "                            try:\n",
    "                                feature_map[j, i] = (Filtr*inpt[j:j+fm, i:i+fn]).sum()\n",
    "                            except:\n",
    "                                break\n",
    "                        \n",
    "                    \n",
    "    \n",
    "    return feature_map\n",
    "\n",
    "feature_map = convolution(tr_data[0], filtr, stride = 2, padding = 1)\n",
    "print(feature_map)\n",
    "cv2.imwrite('/Users/rajeshr/Desktop/feature_map'+str(np.random.randint(1000))+'.jpg', feature_map)\n",
    "tr_data[0].shape, feature_map.shape"
   ]
  },
  {
   "cell_type": "code",
   "execution_count": null,
   "id": "f40ba111",
   "metadata": {},
   "outputs": [],
   "source": []
  },
  {
   "cell_type": "code",
   "execution_count": 436,
   "id": "1c5790f1",
   "metadata": {},
   "outputs": [
    {
     "name": "stderr",
     "output_type": "stream",
     "text": [
      "/var/folders/3t/vg36gb2936s7j53bxphjbg1c0000gn/T/ipykernel_51338/3954544478.py:11: DeprecationWarning: `np.float` is a deprecated alias for the builtin `float`. To silence this warning, use `float` by itself. Doing this will not modify any behavior and is safe. If you specifically wanted the numpy scalar type, use `np.float64` here.\n",
      "Deprecated in NumPy 1.20; for more details and guidance: https://numpy.org/devdocs/release/1.20.0-notes.html#deprecations\n",
      "  inputs = np.array(tr_data[0], dtype=np.float)\n"
     ]
    },
    {
     "data": {
      "text/plain": [
       "(112, 112)"
      ]
     },
     "execution_count": 436,
     "metadata": {},
     "output_type": "execute_result"
    }
   ],
   "source": [
    "import tensorflow as tf\n",
    "\n",
    "def comp_conv2d(conv2d, X):\n",
    "  \n",
    "    X = tf.reshape(X, (1, ) + X.shape + (1, ))\n",
    "    Y = conv2d(X)\n",
    "\n",
    "    return tf.reshape(Y, Y.shape[1:3])\n",
    "\n",
    "conv2d = tf.keras.layers.Conv2D(1, kernel_size=3, padding='same', strides=2)\n",
    "inputs = np.array(tr_data[0], dtype=np.float)\n",
    "k = comp_conv2d(conv2d, inputs)\n",
    "k = np.array(k)\n",
    "cv2.imwrite('/Users/rajeshr/Desktop/k'+str(np.random.randint(1000))+'.jpg', k)\n",
    "k.shape"
   ]
  },
  {
   "cell_type": "code",
   "execution_count": null,
   "id": "37c520ce",
   "metadata": {},
   "outputs": [],
   "source": []
  },
  {
   "cell_type": "code",
   "execution_count": null,
   "id": "d4c380f1",
   "metadata": {},
   "outputs": [],
   "source": []
  },
  {
   "cell_type": "code",
   "execution_count": null,
   "id": "5f4ae4b6",
   "metadata": {},
   "outputs": [],
   "source": []
  },
  {
   "cell_type": "code",
   "execution_count": null,
   "id": "44a52702",
   "metadata": {},
   "outputs": [],
   "source": []
  },
  {
   "cell_type": "code",
   "execution_count": null,
   "id": "18f86450",
   "metadata": {},
   "outputs": [],
   "source": []
  },
  {
   "cell_type": "code",
   "execution_count": null,
   "id": "db81fa53",
   "metadata": {},
   "outputs": [],
   "source": []
  }
 ],
 "metadata": {
  "kernelspec": {
   "display_name": "Python 3 (ipykernel)",
   "language": "python",
   "name": "python3"
  },
  "language_info": {
   "codemirror_mode": {
    "name": "ipython",
    "version": 3
   },
   "file_extension": ".py",
   "mimetype": "text/x-python",
   "name": "python",
   "nbconvert_exporter": "python",
   "pygments_lexer": "ipython3",
   "version": "3.10.4"
  }
 },
 "nbformat": 4,
 "nbformat_minor": 5
}
