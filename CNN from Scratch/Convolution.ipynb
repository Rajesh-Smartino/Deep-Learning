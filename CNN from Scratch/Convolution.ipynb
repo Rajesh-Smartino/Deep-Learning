{
 "cells": [
  {
   "cell_type": "markdown",
   "id": "b3e847cb",
   "metadata": {},
   "source": [
    "# 2D Convolution With Stride & Padding"
   ]
  },
  {
   "cell_type": "code",
   "execution_count": 2,
   "id": "d40148a8",
   "metadata": {},
   "outputs": [],
   "source": [
    "import numpy as np\n",
    "from matplotlib import pyplot as plt\n",
    "import pandas as pd\n",
    "import os\n",
    "import cv2"
   ]
  },
  {
   "cell_type": "code",
   "execution_count": 3,
   "id": "d674d494",
   "metadata": {},
   "outputs": [],
   "source": [
    "import tensorflow as tf"
   ]
  },
  {
   "cell_type": "markdown",
   "id": "91fd3b47",
   "metadata": {},
   "source": [
    "### Reading data as image and resizing and test, train & validation separated"
   ]
  },
  {
   "cell_type": "code",
   "execution_count": 110,
   "id": "370f2797",
   "metadata": {},
   "outputs": [],
   "source": [
    "def read_data(path):\n",
    "    \n",
    "    train_path = path+\"/train\"\n",
    "    test_path = path+\"/test\"\n",
    "    validation_path = path+\"/val\"\n",
    "    \n",
    "    tr_data, test_data, val_data = [], [], []\n",
    "    tr_out, test_out, val_out = [], [], []\n",
    "\n",
    "    for i in os.listdir(train_path):\n",
    "\n",
    "        try:\n",
    "            for j in os.listdir(train_path+\"/\"+i):\n",
    "                image = cv2.imread(train_path+\"/\"+i+\"/\"+j, cv2.IMREAD_GRAYSCALE)\n",
    "                tr_data.append(cv2.resize(image, (224, 224)))\n",
    "                tr_out.append(i)\n",
    "\n",
    "            for j in os.listdir(test_path+\"/\"+i):\n",
    "                image = cv2.imread(test_path+\"/\"+i+\"/\"+j, cv2.IMREAD_GRAYSCALE)\n",
    "                test_data.append(cv2.resize(image, (224, 224)))\n",
    "                test_out.append(i)\n",
    "\n",
    "            for j in os.listdir(validation_path+\"/\"+i):\n",
    "                image = cv2.imread(validation_path+\"/\"+i+\"/\"+j, cv2.IMREAD_GRAYSCALE)\n",
    "                val_data.append(cv2.resize(image, (224, 224)))\n",
    "                val_out.append(i)\n",
    "        except:\n",
    "            pass\n",
    "                \n",
    "                \n",
    "    tr_data, test_data, val_data = np.array(tr_data), np.array(test_data), np.array(val_data)\n",
    "    tr_out, test_out, val_out = np.array(tr_out), np.array(test_out), np.array(val_out)\n",
    "\n",
    "    return tr_data, test_data, val_data, tr_out, test_out, val_out\n",
    "\n"
   ]
  },
  {
   "cell_type": "code",
   "execution_count": 111,
   "id": "2a72d90c",
   "metadata": {},
   "outputs": [],
   "source": [
    "path = \"/Users/rajeshr/Desktop/Group_22\"\n",
    "tr_data, test_data, val_data, tr_out, test_out, val_out = read_data(path)"
   ]
  },
  {
   "cell_type": "code",
   "execution_count": 4,
   "id": "aeae46d2",
   "metadata": {},
   "outputs": [],
   "source": [
    "path = '/Users/rajeshr/Desktop/Group_22/selected/'\n",
    "\n",
    "images = []\n",
    "label = []\n",
    "for i in os.listdir(path):\n",
    "    image = cv2.imread(path+i, cv2.IMREAD_GRAYSCALE)\n",
    "    try:\n",
    "        images.append(cv2.resize(image, (224, 224)))\n",
    "        label.append(i)\n",
    "    except:\n",
    "        pass\n",
    "    \n",
    "images = np.array(images)\n",
    "label = np.array(label)"
   ]
  },
  {
   "cell_type": "markdown",
   "id": "1e801f7f",
   "metadata": {},
   "source": [
    "## Kaiming Initializatied Filter"
   ]
  },
  {
   "cell_type": "code",
   "execution_count": 5,
   "id": "95650f66",
   "metadata": {},
   "outputs": [],
   "source": [
    "def kaiming(n, size):\n",
    "    mean, sd = 0, np.sqrt(2/n)\n",
    "    weights = np.random.normal(mean, sd, size=size)\n",
    "    return weights"
   ]
  },
  {
   "cell_type": "markdown",
   "id": "a4a3b24b",
   "metadata": {},
   "source": [
    "## Convolutional Filter"
   ]
  },
  {
   "cell_type": "code",
   "execution_count": 7,
   "id": "bee61e30",
   "metadata": {},
   "outputs": [],
   "source": [
    "def zero_padding(inpt, padding):\n",
    "    \n",
    "    m, n = inpt.shape\n",
    "    \n",
    "    temp = []\n",
    "    for i in range(padding):\n",
    "        for j in range(m+2*padding):\n",
    "            temp.append(0)\n",
    "            \n",
    "    for i in inpt:\n",
    "        \n",
    "        for j in range(padding):\n",
    "            temp.append(0)\n",
    "        \n",
    "        for p in i:\n",
    "            temp.append(p)\n",
    "            \n",
    "        for k in range(padding):\n",
    "            temp.append(0)\n",
    "            \n",
    "    for i in range(padding):\n",
    "        for j in range(m+2*padding):\n",
    "            temp.append(0)\n",
    "    \n",
    "    \n",
    "    temp = np.array(temp, dtype=np.uint8)\n",
    "    temp = temp.flatten()\n",
    "    temp = temp.reshape(m+2*padding, n+2*padding)\n",
    "    \n",
    "    return temp"
   ]
  },
  {
   "cell_type": "markdown",
   "id": "01bd8559",
   "metadata": {},
   "source": [
    "## Without Depth"
   ]
  },
  {
   "cell_type": "code",
   "execution_count": 8,
   "id": "8afdec5b",
   "metadata": {},
   "outputs": [],
   "source": [
    "def convolution(inpt, filtr , stride, padding):\n",
    "    \n",
    "    (Am, An), (fm, fn) = inpt.shape, filtr.shape\n",
    "    inpt = zero_padding(inpt, padding)\n",
    "    m, n = inpt.shape\n",
    "    \n",
    "    feature_map = []\n",
    "    \n",
    "    flip_leftright = np.fliplr(filtr)\n",
    "    flip_updown = np.flipud(flip_leftright)\n",
    "    Filtr = flip_updown \n",
    "    \n",
    "    Outm, Outn = int(((Am-fm+2*padding)/stride)+1), int(((An-fn+2*padding)/stride)+1)\n",
    "    \n",
    "    feature_map = []\n",
    "    for i in range(0, m, stride):\n",
    "        for j in range(0, n, stride):\n",
    "            if inpt[i:i+fn, j:j+fm].shape == Filtr.shape:\n",
    "                feature_map.append((Filtr*inpt[i:i+fn, j:j+fm]).sum())\n",
    "\n",
    "    feature_map = np.array(feature_map).reshape(Outm, Outn)\n",
    "    return feature_map"
   ]
  },
  {
   "cell_type": "code",
   "execution_count": 20,
   "id": "0b37e094",
   "metadata": {},
   "outputs": [],
   "source": [
    "n = 9\n",
    "filtr = kaiming(n, (3, 3))\n",
    "np.savetxt('/Users/rajeshr/Desktop/filter.txt', filtr, delimiter=',')\n",
    "cv2.imwrite('/Users/rajeshr/Desktop/filter.jpg', filtr)\n",
    "\n",
    "for image in images:\n",
    "    cv2.imwrite('/Users/rajeshr/Desktop/input'+str(np.random.randint(1000))+'.jpg', image)\n",
    "\n",
    "for image in images:\n",
    "    feature_map = convolution(image, filtr, stride = 1, padding = 0)\n",
    "    np.savetxt('/Users/rajeshr/Desktop/featuremap.txt', feature_map, delimiter=',')\n",
    "    cv2.imwrite('/Users/rajeshr/Desktop/feature_map'+str(np.random.randint(1000))+'.jpg', feature_map)"
   ]
  },
  {
   "cell_type": "markdown",
   "id": "a0bf3816",
   "metadata": {},
   "source": [
    "## With Depth"
   ]
  },
  {
   "cell_type": "code",
   "execution_count": 115,
   "id": "f40ba111",
   "metadata": {},
   "outputs": [],
   "source": [
    "def convwithDepth(inpt=image, filtr=filtr, stride = 1, padding = 0):\n",
    "    print(inpt.shape, filtr.shape)\n",
    "    (D, Am, An), (fm, fn) = inpt.shape, filtr.shape\n",
    "    \n",
    "    padded_inpt = []\n",
    "    for i in inpt:\n",
    "        padded_inpt.append(zero_padding(i, padding))\n",
    "        \n",
    "    inpt = np.array(padded_inpt)\n",
    "    print(inpt.shape)\n",
    "    d, m, n = inpt.shape\n",
    "    \n",
    "    flip_leftright = np.fliplr(filtr)\n",
    "    flip_updown = np.flipud(flip_leftright)\n",
    "    Filtr = flip_updown \n",
    "    \n",
    "    Outm, Outn = int(((Am-fm+2*padding)/stride)+1), int(((An-fn+2*padding)/stride)+1)\n",
    "    #print(Outm, Outn)\n",
    "    \n",
    "    feature_map = []\n",
    "    for i in range(0, m, stride):\n",
    "        for j in range(0, n, stride):\n",
    "            if inpt[:, i:i+fn, j:j+fm][0].shape == Filtr.shape:\n",
    "                feature_map.append((Filtr*inpt[:, i:i+fn, j:j+fm]).sum())\n",
    "\n",
    "    feature_map = np.array(feature_map).reshape(Outm, Outn)\n",
    "    return feature_map"
   ]
  },
  {
   "cell_type": "code",
   "execution_count": 119,
   "id": "8b6153ae",
   "metadata": {},
   "outputs": [
    {
     "name": "stdout",
     "output_type": "stream",
     "text": [
      "(150, 224, 224) (3, 3)\n",
      "(150, 224, 224)\n",
      "(222, 222)\n"
     ]
    },
    {
     "data": {
      "text/plain": [
       "True"
      ]
     },
     "execution_count": 119,
     "metadata": {},
     "output_type": "execute_result"
    }
   ],
   "source": [
    "feature_map = convwithDepth(inpt=tr_data, filtr=filtr, stride = 1, padding = 0)\n",
    "print(feature_map.shape)\n",
    "cv2.imwrite('/Users/rajeshr/Desktop/feature_map'+str(np.random.randint(1000))+'.jpg', feature_map)"
   ]
  },
  {
   "cell_type": "code",
   "execution_count": null,
   "id": "bb181919",
   "metadata": {},
   "outputs": [],
   "source": []
  },
  {
   "cell_type": "code",
   "execution_count": null,
   "id": "815c891c",
   "metadata": {},
   "outputs": [],
   "source": []
  },
  {
   "cell_type": "code",
   "execution_count": null,
   "id": "508811f3",
   "metadata": {},
   "outputs": [],
   "source": []
  },
  {
   "cell_type": "code",
   "execution_count": null,
   "id": "32e08f38",
   "metadata": {},
   "outputs": [],
   "source": []
  },
  {
   "cell_type": "code",
   "execution_count": null,
   "id": "b328b5b7",
   "metadata": {},
   "outputs": [],
   "source": []
  },
  {
   "cell_type": "code",
   "execution_count": null,
   "id": "b9aa713f",
   "metadata": {},
   "outputs": [],
   "source": []
  },
  {
   "cell_type": "code",
   "execution_count": null,
   "id": "d7eee1d3",
   "metadata": {},
   "outputs": [],
   "source": []
  },
  {
   "cell_type": "code",
   "execution_count": null,
   "id": "1d1c4fbd",
   "metadata": {},
   "outputs": [],
   "source": []
  },
  {
   "cell_type": "code",
   "execution_count": null,
   "id": "1c5790f1",
   "metadata": {},
   "outputs": [],
   "source": []
  },
  {
   "cell_type": "code",
   "execution_count": null,
   "id": "37c520ce",
   "metadata": {},
   "outputs": [],
   "source": []
  },
  {
   "cell_type": "code",
   "execution_count": null,
   "id": "d4c380f1",
   "metadata": {},
   "outputs": [],
   "source": []
  },
  {
   "cell_type": "code",
   "execution_count": null,
   "id": "5f4ae4b6",
   "metadata": {},
   "outputs": [],
   "source": []
  },
  {
   "cell_type": "code",
   "execution_count": null,
   "id": "44a52702",
   "metadata": {},
   "outputs": [],
   "source": []
  },
  {
   "cell_type": "code",
   "execution_count": null,
   "id": "18f86450",
   "metadata": {},
   "outputs": [],
   "source": []
  },
  {
   "cell_type": "code",
   "execution_count": null,
   "id": "db81fa53",
   "metadata": {},
   "outputs": [],
   "source": []
  },
  {
   "cell_type": "code",
   "execution_count": null,
   "id": "479c9be2",
   "metadata": {},
   "outputs": [],
   "source": []
  }
 ],
 "metadata": {
  "kernelspec": {
   "display_name": "Python 3 (ipykernel)",
   "language": "python",
   "name": "python3"
  },
  "language_info": {
   "codemirror_mode": {
    "name": "ipython",
    "version": 3
   },
   "file_extension": ".py",
   "mimetype": "text/x-python",
   "name": "python",
   "nbconvert_exporter": "python",
   "pygments_lexer": "ipython3",
   "version": "3.10.4"
  }
 },
 "nbformat": 4,
 "nbformat_minor": 5
}
