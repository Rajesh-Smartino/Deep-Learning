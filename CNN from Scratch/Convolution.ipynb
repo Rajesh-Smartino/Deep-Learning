{
 "cells": [
  {
   "cell_type": "markdown",
   "id": "b3e847cb",
   "metadata": {},
   "source": [
    "# 2D Convolution With Stride & Padding"
   ]
  },
  {
   "cell_type": "code",
   "execution_count": 96,
   "id": "d40148a8",
   "metadata": {},
   "outputs": [],
   "source": [
    "import numpy as np\n",
    "from matplotlib import pyplot as plt\n",
    "import pandas as pd\n",
    "import os\n",
    "import cv2"
   ]
  },
  {
   "cell_type": "code",
   "execution_count": 97,
   "id": "d674d494",
   "metadata": {},
   "outputs": [],
   "source": [
    "import tensorflow as tf"
   ]
  },
  {
   "cell_type": "markdown",
   "id": "91fd3b47",
   "metadata": {},
   "source": [
    "### Reading data as image and resizing and test, train & validation separated"
   ]
  },
  {
   "cell_type": "code",
   "execution_count": 98,
   "id": "370f2797",
   "metadata": {},
   "outputs": [],
   "source": [
    "def read_data(path):\n",
    "    \n",
    "    train_path = path+\"/train\"\n",
    "    test_path = path+\"/test\"\n",
    "    validation_path = path+\"/val\"\n",
    "    \n",
    "    tr_data, test_data, val_data = [], [], []\n",
    "    tr_out, test_out, val_out = [], [], []\n",
    "\n",
    "    for i in os.listdir(train_path):\n",
    "\n",
    "        try:\n",
    "            for j in os.listdir(train_path+\"/\"+i):\n",
    "                image = cv2.imread(train_path+\"/\"+i+\"/\"+j, cv2.IMREAD_GRAYSCALE)\n",
    "                tr_data.append(cv2.resize(image, (224, 224)))\n",
    "                tr_out.append(i)\n",
    "\n",
    "            for j in os.listdir(test_path+\"/\"+i):\n",
    "                image = cv2.imread(test_path+\"/\"+i+\"/\"+j, cv2.IMREAD_GRAYSCALE)\n",
    "                test_data.append(cv2.resize(image, (224, 224)))\n",
    "                test_out.append(i)\n",
    "\n",
    "            for j in os.listdir(validation_path+\"/\"+i):\n",
    "                image = cv2.imread(validation_path+\"/\"+i+\"/\"+j, cv2.IMREAD_GRAYSCALE)\n",
    "                val_data.append(cv2.resize(image, (224, 224)))\n",
    "                val_out.append(i)\n",
    "        except:\n",
    "            pass\n",
    "                \n",
    "                \n",
    "    tr_data, test_data, val_data = np.array(tr_data), np.array(test_data), np.array(val_data)\n",
    "    tr_out, test_out, val_out = np.array(tr_out), np.array(test_out), np.array(val_out)\n",
    "\n",
    "    return tr_data, test_data, val_data, tr_out, test_out, val_out\n",
    "\n"
   ]
  },
  {
   "cell_type": "code",
   "execution_count": 99,
   "id": "2a72d90c",
   "metadata": {},
   "outputs": [],
   "source": [
    "path = \"/Users/rajeshr/Desktop/Group_22\"\n",
    "tr_data, test_data, val_data, tr_out, test_out, val_out = read_data(path)"
   ]
  },
  {
   "cell_type": "markdown",
   "id": "1e801f7f",
   "metadata": {},
   "source": [
    "## Kaiming Initializatied Filter"
   ]
  },
  {
   "cell_type": "code",
   "execution_count": 100,
   "id": "95650f66",
   "metadata": {},
   "outputs": [],
   "source": [
    "def kaiming(n, size):\n",
    "    mean, sd = 0, np.sqrt(2/n)\n",
    "    weights = np.random.normal(mean, sd, size=size)\n",
    "    return weights"
   ]
  },
  {
   "cell_type": "code",
   "execution_count": 101,
   "id": "adf6b55f",
   "metadata": {},
   "outputs": [
    {
     "data": {
      "text/plain": [
       "array([[ 2.49474675,  0.56590775,  1.38414453],\n",
       "       [ 3.16910155,  2.64112584, -1.38207963],\n",
       "       [ 1.34362793, -0.21405142, -0.1459735 ]])"
      ]
     },
     "execution_count": 101,
     "metadata": {},
     "output_type": "execute_result"
    }
   ],
   "source": [
    "np.random.seed(0)\n",
    "n = 1\n",
    "filtr = kaiming(n, (3, 3))\n",
    "filtr"
   ]
  },
  {
   "cell_type": "markdown",
   "id": "a4a3b24b",
   "metadata": {},
   "source": [
    "## Convolutional Filter"
   ]
  },
  {
   "cell_type": "code",
   "execution_count": 102,
   "id": "bee61e30",
   "metadata": {},
   "outputs": [],
   "source": [
    "def zero_padding(inpt, padding):\n",
    "    \n",
    "    m, n = inpt.shape\n",
    "    \n",
    "    temp = []\n",
    "    for i in range(padding):\n",
    "        for j in range(m+2*padding):\n",
    "            temp.append(0)\n",
    "            \n",
    "    for i in inpt:\n",
    "        \n",
    "        for j in range(padding):\n",
    "            temp.append(0)\n",
    "        \n",
    "        for p in i:\n",
    "            temp.append(p)\n",
    "            \n",
    "        for k in range(padding):\n",
    "            temp.append(0)\n",
    "            \n",
    "    for i in range(padding):\n",
    "        for j in range(m+2*padding):\n",
    "            temp.append(0)\n",
    "    \n",
    "    \n",
    "    temp = np.array(temp, dtype=np.uint8)\n",
    "    temp = temp.flatten()\n",
    "    temp = temp.reshape(m+2*padding, n+2*padding)\n",
    "    \n",
    "    return temp"
   ]
  },
  {
   "cell_type": "code",
   "execution_count": 105,
   "id": "586475ec",
   "metadata": {},
   "outputs": [],
   "source": [
    "def convolution(inpt, filtr , stride, padding):\n",
    "    \n",
    "    (Am, An), (fm, fn) = inpt.shape, filtr.shape\n",
    "    inpt = zero_padding(inpt, padding)\n",
    "    m, n = inpt.shape\n",
    "    \n",
    "    feature_map = []\n",
    "    \n",
    "    flip_leftright = np.fliplr(filtr)\n",
    "    flip_updown = np.flipud(flip_leftright)\n",
    "    Filtr = flip_updown \n",
    "    \n",
    "    Outm, Outn = int(((Am-fm+2*padding)/stride)+1), int(((An-fn+2*padding)/stride)+1)\n",
    "    \n",
    "    feature_map = []\n",
    "    for i in range(0, m, stride):\n",
    "        for j in range(0, n, stride):\n",
    "            if inpt[i:i+fn, j:j+fm].shape == Filtr.shape:\n",
    "                feature_map.append((Filtr*inpt[i:i+fn, j:j+fm]).sum())\n",
    "\n",
    "    feature_map = np.array(feature_map).reshape(Outm, Outn)\n",
    "    return feature_map"
   ]
  },
  {
   "cell_type": "code",
   "execution_count": 106,
   "id": "0b37e094",
   "metadata": {},
   "outputs": [
    {
     "name": "stdout",
     "output_type": "stream",
     "text": [
      "[[ 118.04355169  138.13555937  179.71439218 ...  184.67655187\n",
      "   185.74432824  187.27444627]\n",
      " [ 139.5091461   188.29690382  216.01093463 ...  181.8274783\n",
      "   185.88823684  187.27444627]\n",
      " [ 185.90084279  219.94093638  211.78896215 ...  182.87850929\n",
      "   188.8004345   187.27444627]\n",
      " ...\n",
      " [ 685.76281864  545.49490864  526.28045466 ... 1416.83870728\n",
      "  1252.37647778 1203.79635386]\n",
      " [ 703.8072804   606.26447599  600.74739042 ... 1400.21484511\n",
      "  1276.66501691 1266.04384796]\n",
      " [ 698.03999022  634.65098557  641.96535066 ... 1355.52774545\n",
      "  1383.40209245 1352.74094928]]\n"
     ]
    },
    {
     "data": {
      "text/plain": [
       "((224, 224), (222, 222))"
      ]
     },
     "execution_count": 106,
     "metadata": {},
     "output_type": "execute_result"
    }
   ],
   "source": [
    "feature_map = convolution(tr_data[0], filtr, stride = 1, padding = 0)\n",
    "print(feature_map)\n",
    "cv2.imwrite('/Users/rajeshr/Desktop/feature_map'+str(np.random.randint(1000))+'.jpg', feature_map)\n",
    "tr_data[0].shape, feature_map.shape"
   ]
  },
  {
   "cell_type": "code",
   "execution_count": null,
   "id": "f40ba111",
   "metadata": {},
   "outputs": [],
   "source": []
  },
  {
   "cell_type": "code",
   "execution_count": null,
   "id": "1c5790f1",
   "metadata": {},
   "outputs": [],
   "source": []
  },
  {
   "cell_type": "code",
   "execution_count": null,
   "id": "37c520ce",
   "metadata": {},
   "outputs": [],
   "source": []
  },
  {
   "cell_type": "code",
   "execution_count": null,
   "id": "d4c380f1",
   "metadata": {},
   "outputs": [],
   "source": []
  },
  {
   "cell_type": "code",
   "execution_count": null,
   "id": "5f4ae4b6",
   "metadata": {},
   "outputs": [],
   "source": []
  },
  {
   "cell_type": "code",
   "execution_count": null,
   "id": "44a52702",
   "metadata": {},
   "outputs": [],
   "source": []
  },
  {
   "cell_type": "code",
   "execution_count": null,
   "id": "18f86450",
   "metadata": {},
   "outputs": [],
   "source": []
  },
  {
   "cell_type": "code",
   "execution_count": null,
   "id": "db81fa53",
   "metadata": {},
   "outputs": [],
   "source": []
  },
  {
   "cell_type": "code",
   "execution_count": null,
   "id": "c963bf91",
   "metadata": {},
   "outputs": [],
   "source": []
  }
 ],
 "metadata": {
  "kernelspec": {
   "display_name": "Python 3 (ipykernel)",
   "language": "python",
   "name": "python3"
  },
  "language_info": {
   "codemirror_mode": {
    "name": "ipython",
    "version": 3
   },
   "file_extension": ".py",
   "mimetype": "text/x-python",
   "name": "python",
   "nbconvert_exporter": "python",
   "pygments_lexer": "ipython3",
   "version": "3.10.4"
  }
 },
 "nbformat": 4,
 "nbformat_minor": 5
}
