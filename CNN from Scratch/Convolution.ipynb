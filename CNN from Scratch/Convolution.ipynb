{
 "cells": [
  {
   "cell_type": "markdown",
   "id": "24224240",
   "metadata": {},
   "source": [
    "# Convolution"
   ]
  },
  {
   "cell_type": "code",
   "execution_count": 1,
   "id": "9cab40f8",
   "metadata": {},
   "outputs": [],
   "source": [
    "import numpy as np\n",
    "from matplotlib import pyplot as plt\n",
    "import pandas as pd\n",
    "import os\n",
    "import cv2"
   ]
  },
  {
   "cell_type": "code",
   "execution_count": 2,
   "id": "80bab29b",
   "metadata": {},
   "outputs": [],
   "source": [
    "import tensorflow as tf"
   ]
  },
  {
   "cell_type": "markdown",
   "id": "07b1ea11",
   "metadata": {},
   "source": [
    "### Reading data as image and resizing and test, train & validation separated"
   ]
  },
  {
   "cell_type": "code",
   "execution_count": 11,
   "id": "3e462d6c",
   "metadata": {},
   "outputs": [],
   "source": [
    "def read_data(path):\n",
    "    \n",
    "    train_path = path+\"/train\"\n",
    "    test_path = path+\"/test\"\n",
    "    validation_path = path+\"/val\"\n",
    "    \n",
    "    tr_data, test_data, val_data = [], [], []\n",
    "    tr_out, test_out, val_out = [], [], []\n",
    "\n",
    "    for i in os.listdir(train_path):\n",
    "\n",
    "        try:\n",
    "            for j in os.listdir(train_path+\"/\"+i):\n",
    "                image = cv2.imread(train_path+\"/\"+i+\"/\"+j, cv2.IMREAD_GRAYSCALE)\n",
    "                tr_data.append(cv2.resize(image, (224, 224)))\n",
    "                tr_out.append(i)\n",
    "\n",
    "            for j in os.listdir(test_path+\"/\"+i):\n",
    "                image = cv2.imread(test_path+\"/\"+i+\"/\"+j, cv2.IMREAD_GRAYSCALE)\n",
    "                test_data.append(cv2.resize(image, (224, 224)))\n",
    "                test_out.append(i)\n",
    "\n",
    "            for j in os.listdir(validation_path+\"/\"+i):\n",
    "                image = cv2.imread(validation_path+\"/\"+i+\"/\"+j, cv2.IMREAD_GRAYSCALE)\n",
    "                val_data.append(cv2.resize(image, (224, 224)))\n",
    "                val_out.append(i)\n",
    "        except:\n",
    "            pass\n",
    "                \n",
    "                \n",
    "    tr_data, test_data, val_data = np.array(tr_data), np.array(test_data), np.array(val_data)\n",
    "    tr_out, test_out, val_out = np.array(tr_out), np.array(test_out), np.array(val_out)\n",
    "\n",
    "    return tr_data, test_data, val_data, tr_out, test_out, val_out\n",
    "\n"
   ]
  },
  {
   "cell_type": "code",
   "execution_count": 12,
   "id": "a36b008a",
   "metadata": {},
   "outputs": [],
   "source": [
    "path = \"/Users/rajeshr/Desktop/Group_22\"\n",
    "tr_data, test_data, val_data, tr_out, test_out, val_out = read_data(path)"
   ]
  },
  {
   "cell_type": "markdown",
   "id": "a9c64eed",
   "metadata": {},
   "source": [
    "## Kaiming Initializatied Filter"
   ]
  },
  {
   "cell_type": "code",
   "execution_count": 167,
   "id": "47839ade",
   "metadata": {},
   "outputs": [],
   "source": [
    "def kaiming(n, size):\n",
    "    mean, sd = 0, np.sqrt(2/n)\n",
    "    weights = np.random.normal(mean, sd, size=size)\n",
    "    return weights"
   ]
  },
  {
   "cell_type": "code",
   "execution_count": 283,
   "id": "52aded10",
   "metadata": {},
   "outputs": [
    {
     "data": {
      "text/plain": [
       "array([[ 2.49474675,  0.56590775,  1.38414453],\n",
       "       [ 3.16910155,  2.64112584, -1.38207963],\n",
       "       [ 1.34362793, -0.21405142, -0.1459735 ]])"
      ]
     },
     "execution_count": 283,
     "metadata": {},
     "output_type": "execute_result"
    }
   ],
   "source": [
    "np.random.seed(0)\n",
    "n = 1\n",
    "filtr = kaiming(n, (3, 3))\n",
    "filtr"
   ]
  },
  {
   "cell_type": "markdown",
   "id": "fba39646",
   "metadata": {},
   "source": [
    "## Convolutional Filter"
   ]
  },
  {
   "cell_type": "code",
   "execution_count": 278,
   "id": "9371e7ea",
   "metadata": {},
   "outputs": [],
   "source": [
    "def zero_padding(inpt, filtr):\n",
    "    \n",
    "    (m, n), (fm, fn) = inpt.shape, filtr.shape\n",
    "        \n",
    "    if fm%2 == 0:\n",
    "        print(\"Filter size is not odd, creates issues in future\")\n",
    "    \n",
    "    l = int((fm-1)/2)\n",
    "    #print(l)\n",
    "    \n",
    "    temp = []\n",
    "    for i in range(l):\n",
    "        for j in range(m+2*l):\n",
    "            temp.append(0)\n",
    "            \n",
    "    for i in inpt:\n",
    "        \n",
    "        for j in range(l):\n",
    "            temp.append(0)\n",
    "        \n",
    "        for p in i:\n",
    "            temp.append(p)\n",
    "            \n",
    "        for k in range(l):\n",
    "            temp.append(0)\n",
    "            \n",
    "    for i in range(l):\n",
    "        for j in range(m+2*l):\n",
    "            temp.append(0)\n",
    "    \n",
    "    \n",
    "    temp = np.array(temp, dtype=np.uint8)\n",
    "    temp = temp.flatten()\n",
    "    temp = temp.reshape(m+2*l, n+2*l)\n",
    "    \n",
    "    return temp"
   ]
  },
  {
   "cell_type": "code",
   "execution_count": 284,
   "id": "4507d83b",
   "metadata": {},
   "outputs": [
    {
     "name": "stdout",
     "output_type": "stream",
     "text": [
      "[[  0   0   0 ...   0   0   0]\n",
      " [  0   7  11 ...  19  19   0]\n",
      " [  0  13  11 ...  19  19   0]\n",
      " ...\n",
      " [  0  67  75 ... 142 136   0]\n",
      " [  0  68  72 ... 139 152   0]\n",
      " [  0   0   0 ...   0   0   0]]\n"
     ]
    },
    {
     "data": {
      "text/plain": [
       "[]"
      ]
     },
     "execution_count": 284,
     "metadata": {},
     "output_type": "execute_result"
    }
   ],
   "source": [
    "def convolution(inpt, filtr , stride, padding):\n",
    "    \n",
    "    if padding:\n",
    "        inpt = zero_padding(inpt, Cfilter)\n",
    "        \n",
    "    print(inpt)\n",
    "    feature_map = []\n",
    "    \n",
    "    \n",
    "    \n",
    "    \n",
    "    return feature_map\n",
    "\n",
    "convolution(tr_data[0], filtr, 1, True)"
   ]
  },
  {
   "cell_type": "code",
   "execution_count": null,
   "id": "d5cb4b26",
   "metadata": {},
   "outputs": [],
   "source": []
  },
  {
   "cell_type": "code",
   "execution_count": null,
   "id": "aaeb85ef",
   "metadata": {},
   "outputs": [],
   "source": []
  },
  {
   "cell_type": "code",
   "execution_count": null,
   "id": "da2f5d35",
   "metadata": {},
   "outputs": [],
   "source": []
  },
  {
   "cell_type": "code",
   "execution_count": null,
   "id": "0ebbce64",
   "metadata": {},
   "outputs": [],
   "source": []
  }
 ],
 "metadata": {
  "kernelspec": {
   "display_name": "Python 3 (ipykernel)",
   "language": "python",
   "name": "python3"
  },
  "language_info": {
   "codemirror_mode": {
    "name": "ipython",
    "version": 3
   },
   "file_extension": ".py",
   "mimetype": "text/x-python",
   "name": "python",
   "nbconvert_exporter": "python",
   "pygments_lexer": "ipython3",
   "version": "3.10.4"
  }
 },
 "nbformat": 4,
 "nbformat_minor": 5
}
