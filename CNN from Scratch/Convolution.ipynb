{
 "cells": [
  {
   "cell_type": "markdown",
   "id": "ed3813b3",
   "metadata": {},
   "source": [
    "# Convolution"
   ]
  },
  {
   "cell_type": "code",
   "execution_count": 1,
   "id": "8f53dd1f",
   "metadata": {},
   "outputs": [],
   "source": [
    "import numpy as np\n",
    "from matplotlib import pyplot as plt\n",
    "import pandas as pd\n",
    "import os\n",
    "import cv2"
   ]
  },
  {
   "cell_type": "code",
   "execution_count": 2,
   "id": "dc482203",
   "metadata": {},
   "outputs": [],
   "source": [
    "import tensorflow as tf"
   ]
  },
  {
   "cell_type": "markdown",
   "id": "8be80753",
   "metadata": {},
   "source": [
    "### Reading data as image and resizing and test, train & validation separated"
   ]
  },
  {
   "cell_type": "code",
   "execution_count": 11,
   "id": "8e723b25",
   "metadata": {},
   "outputs": [],
   "source": [
    "def read_data(path):\n",
    "    \n",
    "    train_path = path+\"/train\"\n",
    "    test_path = path+\"/test\"\n",
    "    validation_path = path+\"/val\"\n",
    "    \n",
    "    tr_data, test_data, val_data = [], [], []\n",
    "    tr_out, test_out, val_out = [], [], []\n",
    "\n",
    "    for i in os.listdir(train_path):\n",
    "\n",
    "        try:\n",
    "            for j in os.listdir(train_path+\"/\"+i):\n",
    "                image = cv2.imread(train_path+\"/\"+i+\"/\"+j, cv2.IMREAD_GRAYSCALE)\n",
    "                tr_data.append(cv2.resize(image, (224, 224)))\n",
    "                tr_out.append(i)\n",
    "\n",
    "            for j in os.listdir(test_path+\"/\"+i):\n",
    "                image = cv2.imread(test_path+\"/\"+i+\"/\"+j, cv2.IMREAD_GRAYSCALE)\n",
    "                test_data.append(cv2.resize(image, (224, 224)))\n",
    "                test_out.append(i)\n",
    "\n",
    "            for j in os.listdir(validation_path+\"/\"+i):\n",
    "                image = cv2.imread(validation_path+\"/\"+i+\"/\"+j, cv2.IMREAD_GRAYSCALE)\n",
    "                val_data.append(cv2.resize(image, (224, 224)))\n",
    "                val_out.append(i)\n",
    "        except:\n",
    "            pass\n",
    "                \n",
    "                \n",
    "    tr_data, test_data, val_data = np.array(tr_data), np.array(test_data), np.array(val_data)\n",
    "    tr_out, test_out, val_out = np.array(tr_out), np.array(test_out), np.array(val_out)\n",
    "\n",
    "    return tr_data, test_data, val_data, tr_out, test_out, val_out\n",
    "\n"
   ]
  },
  {
   "cell_type": "code",
   "execution_count": 12,
   "id": "e79384d0",
   "metadata": {},
   "outputs": [],
   "source": [
    "path = \"/Users/rajeshr/Desktop/Group_22\"\n",
    "tr_data, test_data, val_data, tr_out, test_out, val_out = read_data(path)"
   ]
  },
  {
   "cell_type": "markdown",
   "id": "1f125c98",
   "metadata": {},
   "source": [
    "## Kaiming Initializatied Filter"
   ]
  },
  {
   "cell_type": "code",
   "execution_count": 167,
   "id": "05df8275",
   "metadata": {},
   "outputs": [],
   "source": [
    "def kaiming(n, size):\n",
    "    mean, sd = 0, np.sqrt(2/n)\n",
    "    weights = np.random.normal(mean, sd, size=size)\n",
    "    return weights"
   ]
  },
  {
   "cell_type": "code",
   "execution_count": 283,
   "id": "b69ea27b",
   "metadata": {},
   "outputs": [
    {
     "data": {
      "text/plain": [
       "array([[ 2.49474675,  0.56590775,  1.38414453],\n",
       "       [ 3.16910155,  2.64112584, -1.38207963],\n",
       "       [ 1.34362793, -0.21405142, -0.1459735 ]])"
      ]
     },
     "execution_count": 283,
     "metadata": {},
     "output_type": "execute_result"
    }
   ],
   "source": [
    "np.random.seed(0)\n",
    "n = 1\n",
    "filtr = kaiming(n, (3, 3))\n",
    "filtr"
   ]
  },
  {
   "cell_type": "markdown",
   "id": "87fbe21c",
   "metadata": {},
   "source": [
    "## Convolutional Filter"
   ]
  },
  {
   "cell_type": "code",
   "execution_count": 278,
   "id": "574c117c",
   "metadata": {},
   "outputs": [],
   "source": [
    "def zero_padding(inpt, filtr):\n",
    "    \n",
    "    (m, n), (fm, fn) = inpt.shape, filtr.shape\n",
    "        \n",
    "    if fm%2 == 0:\n",
    "        print(\"Filter size is not odd, creates issues in future\")\n",
    "    \n",
    "    l = int((fm-1)/2)\n",
    "    #print(l)\n",
    "    \n",
    "    temp = []\n",
    "    for i in range(l):\n",
    "        for j in range(m+2*l):\n",
    "            temp.append(0)\n",
    "            \n",
    "    for i in inpt:\n",
    "        \n",
    "        for j in range(l):\n",
    "            temp.append(0)\n",
    "        \n",
    "        for p in i:\n",
    "            temp.append(p)\n",
    "            \n",
    "        for k in range(l):\n",
    "            temp.append(0)\n",
    "            \n",
    "    for i in range(l):\n",
    "        for j in range(m+2*l):\n",
    "            temp.append(0)\n",
    "    \n",
    "    \n",
    "    temp = np.array(temp, dtype=np.uint8)\n",
    "    temp = temp.flatten()\n",
    "    temp = temp.reshape(m+2*l, n+2*l)\n",
    "    \n",
    "    return temp"
   ]
  },
  {
   "cell_type": "code",
   "execution_count": 285,
   "id": "36474916",
   "metadata": {},
   "outputs": [
    {
     "name": "stdout",
     "output_type": "stream",
     "text": [
      "[[  0   0   0 ...   0   0   0]\n",
      " [  0   7  11 ...  19  19   0]\n",
      " [  0  13  11 ...  19  19   0]\n",
      " ...\n",
      " [  0  67  75 ... 142 136   0]\n",
      " [  0  68  72 ... 139 152   0]\n",
      " [  0   0   0 ...   0   0   0]]\n"
     ]
    },
    {
     "data": {
      "text/plain": [
       "[]"
      ]
     },
     "execution_count": 285,
     "metadata": {},
     "output_type": "execute_result"
    }
   ],
   "source": [
    "def convolution(inpt, filtr , stride, padding):\n",
    "    \n",
    "    if padding:\n",
    "        inpt = zero_padding(inpt, Cfilter)\n",
    "        \n",
    "    print(inpt)\n",
    "    feature_map = []\n",
    "    \n",
    "    \n",
    "    \n",
    "    \n",
    "    return feature_map\n",
    "\n",
    "convolution(tr_data[0], filtr, 1, True)"
   ]
  },
  {
   "cell_type": "code",
   "execution_count": null,
   "id": "3e791a72",
   "metadata": {},
   "outputs": [],
   "source": []
  },
  {
   "cell_type": "code",
   "execution_count": null,
   "id": "ab1f03f6",
   "metadata": {},
   "outputs": [],
   "source": []
  },
  {
   "cell_type": "code",
   "execution_count": 311,
   "id": "af3a3945",
   "metadata": {},
   "outputs": [],
   "source": [
    "def convolve2D(image, filtr, padding=0, strides=1):\n",
    "\n",
    "    fx, fy = filtr.shape[0], filtr.shape[1]\n",
    "    Ix, Iy = image.shape[0], image.shape[1]\n",
    "    \n",
    "    filtr = np.flipud(np.fliplr(filtr))\n",
    "    \n",
    "    output = np.zeros((int(((Ix-fx+2*padding)/strides)+1), int(((Iy-fy+2*padding)/strides)+1)))\n",
    "\n",
    "    #zero padding\n",
    "    if padding != 0:\n",
    "        imagePadded = np.zeros((image.shape[0] + padding*2, image.shape[1] + padding*2))\n",
    "        imagePadded[int(padding):int(-1 * padding), int(padding):int(-1 * padding)] = image\n",
    "        print(imagePadded)\n",
    "    else:\n",
    "        imagePadded = image\n",
    "\n",
    "    for i in range(image.shape[1]):\n",
    "        if i > image.shape[1] - fy:\n",
    "            break\n",
    "        if i % strides == 0:\n",
    "            for j in range(image.shape[0]):\n",
    "                if j > image.shape[0] - fx:\n",
    "                    break\n",
    "                try:\n",
    "                    if j % strides == 0:\n",
    "                        output[j, i] = (filtr * imagePadded[j: j + fx, i: i + fy]).sum()\n",
    "                except:\n",
    "                    break\n",
    "\n",
    "    return output"
   ]
  },
  {
   "cell_type": "code",
   "execution_count": 312,
   "id": "4040e96a",
   "metadata": {},
   "outputs": [
    {
     "name": "stdout",
     "output_type": "stream",
     "text": [
      "[[  0.   0.   0. ...   0.   0.   0.]\n",
      " [  0.   0.   0. ...   0.   0.   0.]\n",
      " [  0.   0.   7. ...  19.   0.   0.]\n",
      " ...\n",
      " [  0.   0.  68. ... 152.   0.   0.]\n",
      " [  0.   0.   0. ...   0.   0.   0.]\n",
      " [  0.   0.   0. ...   0.   0.   0.]]\n"
     ]
    },
    {
     "data": {
      "text/plain": [
       "True"
      ]
     },
     "execution_count": 312,
     "metadata": {},
     "output_type": "execute_result"
    }
   ],
   "source": [
    "out = convolve2D(tr_data[0], filtr, 2)\n",
    "cv2.imwrite('/Users/rajeshr/Desktop/out'+str(np.random.randint(1000))+'.jpg', out)"
   ]
  },
  {
   "cell_type": "code",
   "execution_count": null,
   "id": "9bdf26d7",
   "metadata": {},
   "outputs": [],
   "source": []
  }
 ],
 "metadata": {
  "kernelspec": {
   "display_name": "Python 3 (ipykernel)",
   "language": "python",
   "name": "python3"
  },
  "language_info": {
   "codemirror_mode": {
    "name": "ipython",
    "version": 3
   },
   "file_extension": ".py",
   "mimetype": "text/x-python",
   "name": "python",
   "nbconvert_exporter": "python",
   "pygments_lexer": "ipython3",
   "version": "3.10.4"
  }
 },
 "nbformat": 4,
 "nbformat_minor": 5
}
