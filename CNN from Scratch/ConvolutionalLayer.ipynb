{
 "cells": [
  {
   "cell_type": "markdown",
   "id": "fb01627b",
   "metadata": {},
   "source": [
    "# Convolutional Layer"
   ]
  },
  {
   "cell_type": "code",
   "execution_count": 1,
   "id": "ef1aef90",
   "metadata": {},
   "outputs": [],
   "source": [
    "import numpy as np\n",
    "from matplotlib import pyplot as plt\n",
    "import pandas as pd\n",
    "import os\n",
    "import cv2"
   ]
  },
  {
   "cell_type": "code",
   "execution_count": 2,
   "id": "5c0031f0",
   "metadata": {},
   "outputs": [],
   "source": [
    "import tensorflow as tf"
   ]
  },
  {
   "cell_type": "code",
   "execution_count": 164,
   "id": "fd54c0c3",
   "metadata": {},
   "outputs": [],
   "source": [
    "from convolution2d import Convolution as cv"
   ]
  },
  {
   "cell_type": "markdown",
   "id": "c2e53cd9",
   "metadata": {},
   "source": [
    "### CL Class"
   ]
  },
  {
   "cell_type": "code",
   "execution_count": 202,
   "id": "61af876f",
   "metadata": {},
   "outputs": [],
   "source": [
    "path = '/Users/rajeshr/Desktop/Group_22/selected/'\n",
    "\n",
    "images = []\n",
    "label = []\n",
    "for i in os.listdir(path):\n",
    "    image = cv2.imread(path+i, cv2.IMREAD_GRAYSCALE)\n",
    "    try:\n",
    "        images.append(cv2.resize(image, (224, 224)))\n",
    "        label.append(i)\n",
    "    except:\n",
    "        pass\n",
    "    \n",
    "images = np.array(images)\n",
    "label = np.array(label)"
   ]
  },
  {
   "cell_type": "code",
   "execution_count": 171,
   "id": "0cb1976e",
   "metadata": {},
   "outputs": [],
   "source": [
    "class layer():\n",
    "    \n",
    "    def __init__(self):\n",
    "        pass\n",
    "    \n",
    "    def kaiming(self, n, size):\n",
    "        mean, sd = 0, np.sqrt(2/n)\n",
    "        weights = np.random.normal(mean, sd, size=size)\n",
    "        return weights\n",
    "    \n",
    "    def ReLUActivation(x):\n",
    "        out = []\n",
    "        for i in x:\n",
    "            for j in i:\n",
    "                if j>=0:\n",
    "                    out.append(j)\n",
    "                else:\n",
    "                    out.append(0)\n",
    "        return np.array(out).reshape(x.shape)\n",
    "    \n",
    "    def ConVlayer(self, image, K, size, n):\n",
    "        #n = 1\n",
    "        output = []\n",
    "        ReLUout = []\n",
    "        for i in range(K):\n",
    "            filtr = self.kaiming(n, size)\n",
    "            res = cv.convolve(cv, inpt=image, filtr=filtr, stride = 1, padding = 0)\n",
    "            output.append(res)\n",
    "            ReLUout.append(ReLUActivation(res))\n",
    "            \n",
    "        self.output = np.array(output)\n",
    "        self.ReLUout = np.array(ReLUout)\n",
    "        \n",
    "    def ConVDepthlayer(self, images, K, size, n):\n",
    "        output = []\n",
    "        ReLUout = []\n",
    "        for i in range(K):\n",
    "            filtr = self.kaiming(n, size)\n",
    "            res = cv.convwithDepth(cv, inpt=images, filtr=filtr, stride = 1, padding = 0)\n",
    "            output.append(res)\n",
    "            ReLUout.append(ReLUActivation(res))\n",
    "        \n",
    "        self.output = np.array(output)\n",
    "        self.ReLUout = np.array(ReLUout)"
   ]
  },
  {
   "cell_type": "code",
   "execution_count": 207,
   "id": "b7c56de1",
   "metadata": {},
   "outputs": [],
   "source": [
    "image = images[0]    \n",
    "x, y = filtr.shape\n",
    "n = x*y\n",
    "\n",
    "layer1 = layer()\n",
    "layer1.ConVlayer(image, 32, (3, 3), n)"
   ]
  },
  {
   "cell_type": "code",
   "execution_count": 208,
   "id": "c828649c",
   "metadata": {},
   "outputs": [],
   "source": [
    "for image in layer1.ReLUout:\n",
    "    cv2.imwrite('/Users/rajeshr/Desktop/feature_map'+str(np.random.randint(1000))+'.jpg', image)"
   ]
  },
  {
   "cell_type": "code",
   "execution_count": 209,
   "id": "0f2b9b2d",
   "metadata": {},
   "outputs": [],
   "source": [
    "layer2 = layer()\n",
    "layer2.ConVDepthlayer(layer1.ReLUout, 64, (3, 3), n)"
   ]
  },
  {
   "cell_type": "code",
   "execution_count": 210,
   "id": "ae151fc1",
   "metadata": {},
   "outputs": [],
   "source": [
    "for image in layer2.ReLUout:\n",
    "    cv2.imwrite('/Users/rajeshr/Desktop/feature_map'+str(np.random.randint(1000))+'.jpg', image)"
   ]
  },
  {
   "cell_type": "code",
   "execution_count": null,
   "id": "54408977",
   "metadata": {},
   "outputs": [],
   "source": []
  },
  {
   "cell_type": "code",
   "execution_count": null,
   "id": "b74f6048",
   "metadata": {},
   "outputs": [],
   "source": []
  },
  {
   "cell_type": "code",
   "execution_count": null,
   "id": "bf9044e6",
   "metadata": {},
   "outputs": [],
   "source": []
  },
  {
   "cell_type": "code",
   "execution_count": null,
   "id": "ca0d4645",
   "metadata": {},
   "outputs": [],
   "source": []
  },
  {
   "cell_type": "code",
   "execution_count": null,
   "id": "8f2fc939",
   "metadata": {},
   "outputs": [],
   "source": []
  },
  {
   "cell_type": "code",
   "execution_count": null,
   "id": "264e4004",
   "metadata": {},
   "outputs": [],
   "source": []
  },
  {
   "cell_type": "code",
   "execution_count": null,
   "id": "36078317",
   "metadata": {},
   "outputs": [],
   "source": []
  },
  {
   "cell_type": "code",
   "execution_count": null,
   "id": "cea41653",
   "metadata": {},
   "outputs": [],
   "source": []
  },
  {
   "cell_type": "code",
   "execution_count": null,
   "id": "94f559a6",
   "metadata": {},
   "outputs": [],
   "source": []
  },
  {
   "cell_type": "code",
   "execution_count": null,
   "id": "8c05465d",
   "metadata": {},
   "outputs": [],
   "source": []
  },
  {
   "cell_type": "code",
   "execution_count": null,
   "id": "ff810c81",
   "metadata": {},
   "outputs": [],
   "source": []
  },
  {
   "cell_type": "code",
   "execution_count": null,
   "id": "a0ad32bc",
   "metadata": {},
   "outputs": [],
   "source": []
  },
  {
   "cell_type": "code",
   "execution_count": null,
   "id": "7dce32cd",
   "metadata": {},
   "outputs": [],
   "source": []
  },
  {
   "cell_type": "code",
   "execution_count": null,
   "id": "04889c96",
   "metadata": {},
   "outputs": [],
   "source": []
  },
  {
   "cell_type": "code",
   "execution_count": null,
   "id": "0dab3177",
   "metadata": {},
   "outputs": [],
   "source": []
  }
 ],
 "metadata": {
  "kernelspec": {
   "display_name": "Python 3 (ipykernel)",
   "language": "python",
   "name": "python3"
  },
  "language_info": {
   "codemirror_mode": {
    "name": "ipython",
    "version": 3
   },
   "file_extension": ".py",
   "mimetype": "text/x-python",
   "name": "python",
   "nbconvert_exporter": "python",
   "pygments_lexer": "ipython3",
   "version": "3.10.4"
  }
 },
 "nbformat": 4,
 "nbformat_minor": 5
}
