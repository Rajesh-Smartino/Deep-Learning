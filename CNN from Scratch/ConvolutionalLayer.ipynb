{
 "cells": [
  {
   "cell_type": "markdown",
   "id": "fb01627b",
   "metadata": {},
   "source": [
    "# Convolutional Layer"
   ]
  },
  {
   "cell_type": "code",
   "execution_count": 10,
   "id": "ef1aef90",
   "metadata": {},
   "outputs": [],
   "source": [
    "import numpy as np\n",
    "from matplotlib import pyplot as plt\n",
    "import pandas as pd\n",
    "import os\n",
    "import cv2"
   ]
  },
  {
   "cell_type": "code",
   "execution_count": 11,
   "id": "fd54c0c3",
   "metadata": {},
   "outputs": [],
   "source": [
    "from convolution2d import Convolution as cv"
   ]
  },
  {
   "cell_type": "markdown",
   "id": "c2e53cd9",
   "metadata": {},
   "source": [
    "### CL Class"
   ]
  },
  {
   "cell_type": "code",
   "execution_count": 63,
   "id": "61af876f",
   "metadata": {},
   "outputs": [],
   "source": [
    "path = '/Users/rajeshr/Desktop/Group_22/selected/'\n",
    "\n",
    "images = []\n",
    "color_images = []\n",
    "label = []\n",
    "for i in os.listdir(path):\n",
    "    image = cv2.imread(path+i, cv2.IMREAD_GRAYSCALE)\n",
    "    color_image = cv2.imread(path+i, cv2.COLOR_BGR2RGB)\n",
    "    try:\n",
    "        images.append(cv2.resize(image, (224, 224)))\n",
    "        color_images.append(cv2.resize(color_image, (224, 224)))\n",
    "        label.append(i)\n",
    "    except:\n",
    "        pass\n",
    "    \n",
    "images = np.array(images)\n",
    "label = np.array(label)\n",
    "color_images = np.array(color_images)"
   ]
  },
  {
   "cell_type": "code",
   "execution_count": 64,
   "id": "ce3555de",
   "metadata": {},
   "outputs": [
    {
     "data": {
      "text/plain": [
       "(3, 224, 224, 3)"
      ]
     },
     "execution_count": 64,
     "metadata": {},
     "output_type": "execute_result"
    }
   ],
   "source": [
    "color_images.shape"
   ]
  },
  {
   "cell_type": "code",
   "execution_count": 18,
   "id": "0cb1976e",
   "metadata": {},
   "outputs": [],
   "source": [
    "class layer():\n",
    "    \n",
    "    def __init__(self):\n",
    "        pass\n",
    "    \n",
    "    def kaiming(self, n, size):\n",
    "        mean, sd = 0, np.sqrt(2/n)\n",
    "        weights = np.random.normal(mean, sd, size=size)\n",
    "        return weights\n",
    "    \n",
    "    def ReLUActivation(self, x):\n",
    "        out = []\n",
    "        for i in x:\n",
    "            for j in i:\n",
    "                if j>=0:\n",
    "                    out.append(j)\n",
    "                else:\n",
    "                    out.append(0)\n",
    "        return np.array(out).reshape(x.shape)\n",
    "    \n",
    "    def ConVlayer(self, image, K, size, n):\n",
    "        output = []\n",
    "        ReLUout = []\n",
    "        filters = []\n",
    "        for i in range(K):\n",
    "            filtr = self.kaiming(n, size)\n",
    "            filters.append(filtr)\n",
    "            res = cv.convolve(cv, inpt=image, filtr=filtr, stride = 1, padding = 0)\n",
    "            output.append(res)\n",
    "            ReLUout.append(self.ReLUActivation(res))\n",
    "            \n",
    "        self.output = np.array(output)\n",
    "        self.ReLUout = np.array(ReLUout)\n",
    "        self.filters = np.array(filters)\n",
    "        \n",
    "    def ConVDepthlayer(self, images, K, size, n):\n",
    "        output = []\n",
    "        ReLUout = []\n",
    "        filters = []\n",
    "        for i in range(K):\n",
    "            filtr = self.kaiming(n, size)\n",
    "            filters.append(filtr)\n",
    "            res = cv.convwithDepth(cv, inpt=images, filtr=filtr, stride = 1, padding = 0)\n",
    "            output.append(res)\n",
    "            ReLUout.append(self.ReLUActivation(res))\n",
    "        \n",
    "        self.output = np.array(output)\n",
    "        self.ReLUout = np.array(ReLUout)\n",
    "        self.filters = np.array(filters)\n",
    "        \n",
    "    def poolingLayer(self, featureMaps, size, stride):\n",
    "        m, n = featureMaps[0].shape\n",
    "        fm, fn = size\n",
    "        result = []\n",
    "        \n",
    "        poolout = []\n",
    "        for featureMap in featureMaps:\n",
    "            for i in range(0, m, stride):\n",
    "                for j in range(0, n, stride):\n",
    "                    if featureMap[i:i+fm, j:j+fn].shape == size:\n",
    "                        result.append(max(featureMap[i:i+fm, j:j+fn].flatten()))\n",
    "                        \n",
    "            Outm, Outn = int(((m-fm)/stride)+1), int(((n-fn)/stride)+1)\n",
    "            poolout.append(np.array(result).reshape((Outm, Outn)))\n",
    "            result = []\n",
    "        \n",
    "        self.poolout = np.array(poolout)"
   ]
  },
  {
   "cell_type": "code",
   "execution_count": 138,
   "id": "b7c56de1",
   "metadata": {},
   "outputs": [],
   "source": [
    "#GRAY SCALE\n",
    "image = images[2]    \n",
    "\n",
    "layer1 = layer()\n",
    "layer1.ConVlayer(image, 32, (3, 3), 9)\n",
    "\n",
    "layer2 = layer()\n",
    "layer2.ConVDepthlayer(layer1.ReLUout, 64, (3, 3), 9)"
   ]
  },
  {
   "cell_type": "code",
   "execution_count": 139,
   "id": "3999384b",
   "metadata": {},
   "outputs": [
    {
     "data": {
      "text/plain": [
       "array(['ketch.jpg', 'chandelier.jpg', 'bonsai.jpg'], dtype='<U14')"
      ]
     },
     "execution_count": 139,
     "metadata": {},
     "output_type": "execute_result"
    }
   ],
   "source": [
    "label"
   ]
  },
  {
   "cell_type": "code",
   "execution_count": 67,
   "id": "7a567841",
   "metadata": {
    "scrolled": true
   },
   "outputs": [],
   "source": [
    "layer1_filters = layer1.filters.reshape(layer1.filters.shape[0], -1)\n",
    "layer2_filters = layer2.filters.reshape(layer2.filters.shape[0], -1)\n",
    "\n",
    "np.savetxt('/Users/rajeshr/Desktop/layer1filter.txt', layer1_filters, delimiter=',')\n",
    "np.savetxt('/Users/rajeshr/Desktop/layer2filter.txt', layer2_filters, delimiter=',')"
   ]
  },
  {
   "cell_type": "code",
   "execution_count": 167,
   "id": "47fb1c09",
   "metadata": {},
   "outputs": [],
   "source": [
    "k = 1\n",
    "for filtr in layer1.filters:\n",
    "    cv2.imwrite('/Users/rajeshr/Desktop/l1/filter'+str(k)+'.jpg', filtr*255)\n",
    "    k += 1\n",
    "\n",
    "k = 1\n",
    "for filtr in layer2.filters:\n",
    "    cv2.imwrite('/Users/rajeshr/Desktop/l2/filter'+str(k)+'.jpg', filtr*255)\n",
    "    k += 1"
   ]
  },
  {
   "cell_type": "code",
   "execution_count": null,
   "id": "c828649c",
   "metadata": {},
   "outputs": [],
   "source": []
  },
  {
   "cell_type": "code",
   "execution_count": null,
   "id": "ae151fc1",
   "metadata": {},
   "outputs": [],
   "source": []
  },
  {
   "cell_type": "code",
   "execution_count": null,
   "id": "54408977",
   "metadata": {},
   "outputs": [],
   "source": []
  },
  {
   "cell_type": "code",
   "execution_count": null,
   "id": "b74f6048",
   "metadata": {},
   "outputs": [],
   "source": []
  },
  {
   "cell_type": "code",
   "execution_count": 76,
   "id": "bf9044e6",
   "metadata": {},
   "outputs": [],
   "source": []
  },
  {
   "cell_type": "code",
   "execution_count": 115,
   "id": "ca0d4645",
   "metadata": {},
   "outputs": [],
   "source": []
  },
  {
   "cell_type": "code",
   "execution_count": null,
   "id": "2f22cc17",
   "metadata": {},
   "outputs": [],
   "source": []
  },
  {
   "cell_type": "code",
   "execution_count": null,
   "id": "8f2fc939",
   "metadata": {},
   "outputs": [],
   "source": []
  },
  {
   "cell_type": "code",
   "execution_count": null,
   "id": "264e4004",
   "metadata": {},
   "outputs": [],
   "source": []
  },
  {
   "cell_type": "code",
   "execution_count": null,
   "id": "8a30af8d",
   "metadata": {},
   "outputs": [],
   "source": []
  },
  {
   "cell_type": "code",
   "execution_count": null,
   "id": "36078317",
   "metadata": {},
   "outputs": [],
   "source": []
  },
  {
   "cell_type": "code",
   "execution_count": null,
   "id": "cea41653",
   "metadata": {},
   "outputs": [],
   "source": []
  },
  {
   "cell_type": "code",
   "execution_count": null,
   "id": "94f559a6",
   "metadata": {},
   "outputs": [],
   "source": []
  },
  {
   "cell_type": "code",
   "execution_count": null,
   "id": "8c05465d",
   "metadata": {},
   "outputs": [],
   "source": []
  },
  {
   "cell_type": "code",
   "execution_count": null,
   "id": "ff810c81",
   "metadata": {},
   "outputs": [],
   "source": []
  },
  {
   "cell_type": "code",
   "execution_count": null,
   "id": "a0ad32bc",
   "metadata": {},
   "outputs": [],
   "source": []
  },
  {
   "cell_type": "code",
   "execution_count": null,
   "id": "7dce32cd",
   "metadata": {},
   "outputs": [],
   "source": []
  },
  {
   "cell_type": "code",
   "execution_count": null,
   "id": "04889c96",
   "metadata": {},
   "outputs": [],
   "source": []
  },
  {
   "cell_type": "code",
   "execution_count": null,
   "id": "0dab3177",
   "metadata": {},
   "outputs": [],
   "source": []
  }
 ],
 "metadata": {
  "kernelspec": {
   "display_name": "Python 3 (ipykernel)",
   "language": "python",
   "name": "python3"
  },
  "language_info": {
   "codemirror_mode": {
    "name": "ipython",
    "version": 3
   },
   "file_extension": ".py",
   "mimetype": "text/x-python",
   "name": "python",
   "nbconvert_exporter": "python",
   "pygments_lexer": "ipython3",
   "version": "3.10.4"
  }
 },
 "nbformat": 4,
 "nbformat_minor": 5
}
