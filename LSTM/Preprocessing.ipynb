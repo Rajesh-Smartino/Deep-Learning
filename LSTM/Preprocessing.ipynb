{
 "cells": [
  {
   "cell_type": "markdown",
   "id": "72a54ddc",
   "metadata": {},
   "source": [
    "# Preprocessing of Data"
   ]
  },
  {
   "cell_type": "code",
   "execution_count": 56,
   "id": "8d80c000",
   "metadata": {},
   "outputs": [],
   "source": [
    "import numpy as np\n",
    "import pandas as pd\n",
    "from matplotlib import pyplot as plt\n",
    "import os"
   ]
  },
  {
   "cell_type": "code",
   "execution_count": 57,
   "id": "b571fc33",
   "metadata": {},
   "outputs": [],
   "source": [
    "import warnings\n",
    "warnings.filterwarnings(\"ignore\")"
   ]
  },
  {
   "cell_type": "markdown",
   "id": "eb35c7e7",
   "metadata": {},
   "source": [
    "# Handwritting Data"
   ]
  },
  {
   "cell_type": "code",
   "execution_count": 58,
   "id": "155a6112",
   "metadata": {},
   "outputs": [
    {
     "data": {
      "text/plain": [
       "['chA', '.DS_Store', 'a', 'ai', 'bA', 'tA']"
      ]
     },
     "execution_count": 58,
     "metadata": {},
     "output_type": "execute_result"
    }
   ],
   "source": [
    "path = \"/Users/rajeshr/Desktop/A4/Handwritting/\"\n",
    "os.listdir(path)"
   ]
  },
  {
   "cell_type": "code",
   "execution_count": 59,
   "id": "c670f3c2",
   "metadata": {},
   "outputs": [],
   "source": [
    "def read_data(path):\n",
    "    train, test = pd.DataFrame(), pd.DataFrame()\n",
    "    tr_path = path+'/train/'\n",
    "    test_path = path+'/dev/'\n",
    "    for i in os.listdir(tr_path):\n",
    "        train = train.append(pd.read_csv(tr_path+i, sep=\" \", header=None, index_col=None))\n",
    "    for i in os.listdir(test_path):\n",
    "        test = test.append(pd.read_csv(test_path+i, sep=\" \", header=None, index_col=None))\n",
    "    return train, test"
   ]
  },
  {
   "cell_type": "code",
   "execution_count": 60,
   "id": "ce5f91e5",
   "metadata": {},
   "outputs": [],
   "source": [
    "tr_chA, test_chA = read_data(path+'chA')\n",
    "tr_a, test_a = read_data(path+'a')\n",
    "tr_ai, test_ai = read_data(path+'ai')\n",
    "tr_bA, test_bA = read_data(path+'bA')\n",
    "tr_tA, test_tA = read_data(path+'tA')"
   ]
  },
  {
   "cell_type": "code",
   "execution_count": 61,
   "id": "0c547479",
   "metadata": {},
   "outputs": [],
   "source": [
    "tr_chA.drop(0, inplace=True, axis=1)"
   ]
  },
  {
   "cell_type": "code",
   "execution_count": 94,
   "id": "6aae9ce7",
   "metadata": {},
   "outputs": [
    {
     "data": {
      "text/html": [
       "<div>\n",
       "<style scoped>\n",
       "    .dataframe tbody tr th:only-of-type {\n",
       "        vertical-align: middle;\n",
       "    }\n",
       "\n",
       "    .dataframe tbody tr th {\n",
       "        vertical-align: top;\n",
       "    }\n",
       "\n",
       "    .dataframe thead th {\n",
       "        text-align: right;\n",
       "    }\n",
       "</style>\n",
       "<table border=\"1\" class=\"dataframe\">\n",
       "  <thead>\n",
       "    <tr style=\"text-align: right;\">\n",
       "      <th></th>\n",
       "      <th>1</th>\n",
       "      <th>2</th>\n",
       "      <th>3</th>\n",
       "      <th>4</th>\n",
       "      <th>5</th>\n",
       "      <th>6</th>\n",
       "      <th>7</th>\n",
       "      <th>8</th>\n",
       "      <th>9</th>\n",
       "      <th>10</th>\n",
       "      <th>...</th>\n",
       "      <th>302</th>\n",
       "      <th>303</th>\n",
       "      <th>304</th>\n",
       "      <th>305</th>\n",
       "      <th>306</th>\n",
       "      <th>307</th>\n",
       "      <th>308</th>\n",
       "      <th>309</th>\n",
       "      <th>310</th>\n",
       "      <th>311</th>\n",
       "    </tr>\n",
       "  </thead>\n",
       "  <tbody>\n",
       "    <tr>\n",
       "      <th>0</th>\n",
       "      <td>0.360927</td>\n",
       "      <td>0.431126</td>\n",
       "      <td>0.374172</td>\n",
       "      <td>0.431126</td>\n",
       "      <td>0.387417</td>\n",
       "      <td>0.431126</td>\n",
       "      <td>0.407285</td>\n",
       "      <td>0.424503</td>\n",
       "      <td>0.427152</td>\n",
       "      <td>0.424503</td>\n",
       "      <td>...</td>\n",
       "      <td>NaN</td>\n",
       "      <td>NaN</td>\n",
       "      <td>NaN</td>\n",
       "      <td>NaN</td>\n",
       "      <td>NaN</td>\n",
       "      <td>NaN</td>\n",
       "      <td>NaN</td>\n",
       "      <td>NaN</td>\n",
       "      <td>NaN</td>\n",
       "      <td>NaN</td>\n",
       "    </tr>\n",
       "    <tr>\n",
       "      <th>0</th>\n",
       "      <td>0.235099</td>\n",
       "      <td>0.338411</td>\n",
       "      <td>0.268212</td>\n",
       "      <td>0.338411</td>\n",
       "      <td>0.288079</td>\n",
       "      <td>0.338411</td>\n",
       "      <td>0.307947</td>\n",
       "      <td>0.338411</td>\n",
       "      <td>0.341060</td>\n",
       "      <td>0.351656</td>\n",
       "      <td>...</td>\n",
       "      <td>NaN</td>\n",
       "      <td>NaN</td>\n",
       "      <td>NaN</td>\n",
       "      <td>NaN</td>\n",
       "      <td>NaN</td>\n",
       "      <td>NaN</td>\n",
       "      <td>NaN</td>\n",
       "      <td>NaN</td>\n",
       "      <td>NaN</td>\n",
       "      <td>NaN</td>\n",
       "    </tr>\n",
       "    <tr>\n",
       "      <th>0</th>\n",
       "      <td>0.307947</td>\n",
       "      <td>0.391391</td>\n",
       "      <td>0.314570</td>\n",
       "      <td>0.391391</td>\n",
       "      <td>0.327815</td>\n",
       "      <td>0.384768</td>\n",
       "      <td>0.367550</td>\n",
       "      <td>0.378146</td>\n",
       "      <td>0.380795</td>\n",
       "      <td>0.378146</td>\n",
       "      <td>...</td>\n",
       "      <td>NaN</td>\n",
       "      <td>NaN</td>\n",
       "      <td>NaN</td>\n",
       "      <td>NaN</td>\n",
       "      <td>NaN</td>\n",
       "      <td>NaN</td>\n",
       "      <td>NaN</td>\n",
       "      <td>NaN</td>\n",
       "      <td>NaN</td>\n",
       "      <td>NaN</td>\n",
       "    </tr>\n",
       "    <tr>\n",
       "      <th>0</th>\n",
       "      <td>0.261589</td>\n",
       "      <td>0.219205</td>\n",
       "      <td>0.268212</td>\n",
       "      <td>0.219205</td>\n",
       "      <td>0.281457</td>\n",
       "      <td>0.219205</td>\n",
       "      <td>0.294702</td>\n",
       "      <td>0.219205</td>\n",
       "      <td>0.314570</td>\n",
       "      <td>0.219205</td>\n",
       "      <td>...</td>\n",
       "      <td>NaN</td>\n",
       "      <td>NaN</td>\n",
       "      <td>NaN</td>\n",
       "      <td>NaN</td>\n",
       "      <td>NaN</td>\n",
       "      <td>NaN</td>\n",
       "      <td>NaN</td>\n",
       "      <td>NaN</td>\n",
       "      <td>NaN</td>\n",
       "      <td>NaN</td>\n",
       "    </tr>\n",
       "    <tr>\n",
       "      <th>0</th>\n",
       "      <td>0.314570</td>\n",
       "      <td>0.298675</td>\n",
       "      <td>0.321192</td>\n",
       "      <td>0.298675</td>\n",
       "      <td>0.327815</td>\n",
       "      <td>0.298675</td>\n",
       "      <td>0.347682</td>\n",
       "      <td>0.298675</td>\n",
       "      <td>0.360927</td>\n",
       "      <td>0.298675</td>\n",
       "      <td>...</td>\n",
       "      <td>NaN</td>\n",
       "      <td>NaN</td>\n",
       "      <td>NaN</td>\n",
       "      <td>NaN</td>\n",
       "      <td>NaN</td>\n",
       "      <td>NaN</td>\n",
       "      <td>NaN</td>\n",
       "      <td>NaN</td>\n",
       "      <td>NaN</td>\n",
       "      <td>NaN</td>\n",
       "    </tr>\n",
       "    <tr>\n",
       "      <th>...</th>\n",
       "      <td>...</td>\n",
       "      <td>...</td>\n",
       "      <td>...</td>\n",
       "      <td>...</td>\n",
       "      <td>...</td>\n",
       "      <td>...</td>\n",
       "      <td>...</td>\n",
       "      <td>...</td>\n",
       "      <td>...</td>\n",
       "      <td>...</td>\n",
       "      <td>...</td>\n",
       "      <td>...</td>\n",
       "      <td>...</td>\n",
       "      <td>...</td>\n",
       "      <td>...</td>\n",
       "      <td>...</td>\n",
       "      <td>...</td>\n",
       "      <td>...</td>\n",
       "      <td>...</td>\n",
       "      <td>...</td>\n",
       "      <td>...</td>\n",
       "    </tr>\n",
       "    <tr>\n",
       "      <th>0</th>\n",
       "      <td>0.162252</td>\n",
       "      <td>0.338411</td>\n",
       "      <td>0.168874</td>\n",
       "      <td>0.338411</td>\n",
       "      <td>0.175497</td>\n",
       "      <td>0.338411</td>\n",
       "      <td>0.188742</td>\n",
       "      <td>0.338411</td>\n",
       "      <td>0.201987</td>\n",
       "      <td>0.338411</td>\n",
       "      <td>...</td>\n",
       "      <td>NaN</td>\n",
       "      <td>NaN</td>\n",
       "      <td>NaN</td>\n",
       "      <td>NaN</td>\n",
       "      <td>NaN</td>\n",
       "      <td>NaN</td>\n",
       "      <td>NaN</td>\n",
       "      <td>NaN</td>\n",
       "      <td>NaN</td>\n",
       "      <td>NaN</td>\n",
       "    </tr>\n",
       "    <tr>\n",
       "      <th>0</th>\n",
       "      <td>0.274834</td>\n",
       "      <td>0.166225</td>\n",
       "      <td>0.288079</td>\n",
       "      <td>0.166225</td>\n",
       "      <td>0.301325</td>\n",
       "      <td>0.166225</td>\n",
       "      <td>0.314570</td>\n",
       "      <td>0.166225</td>\n",
       "      <td>0.327815</td>\n",
       "      <td>0.166225</td>\n",
       "      <td>...</td>\n",
       "      <td>NaN</td>\n",
       "      <td>NaN</td>\n",
       "      <td>NaN</td>\n",
       "      <td>NaN</td>\n",
       "      <td>NaN</td>\n",
       "      <td>NaN</td>\n",
       "      <td>NaN</td>\n",
       "      <td>NaN</td>\n",
       "      <td>NaN</td>\n",
       "      <td>NaN</td>\n",
       "    </tr>\n",
       "    <tr>\n",
       "      <th>0</th>\n",
       "      <td>0.321192</td>\n",
       "      <td>0.192715</td>\n",
       "      <td>0.327815</td>\n",
       "      <td>0.192715</td>\n",
       "      <td>0.334437</td>\n",
       "      <td>0.192715</td>\n",
       "      <td>0.341060</td>\n",
       "      <td>0.192715</td>\n",
       "      <td>0.347682</td>\n",
       "      <td>0.192715</td>\n",
       "      <td>...</td>\n",
       "      <td>NaN</td>\n",
       "      <td>NaN</td>\n",
       "      <td>NaN</td>\n",
       "      <td>NaN</td>\n",
       "      <td>NaN</td>\n",
       "      <td>NaN</td>\n",
       "      <td>NaN</td>\n",
       "      <td>NaN</td>\n",
       "      <td>NaN</td>\n",
       "      <td>NaN</td>\n",
       "    </tr>\n",
       "    <tr>\n",
       "      <th>0</th>\n",
       "      <td>0.281457</td>\n",
       "      <td>0.331788</td>\n",
       "      <td>0.334437</td>\n",
       "      <td>0.338411</td>\n",
       "      <td>0.341060</td>\n",
       "      <td>0.338411</td>\n",
       "      <td>0.347682</td>\n",
       "      <td>0.338411</td>\n",
       "      <td>0.327815</td>\n",
       "      <td>0.298675</td>\n",
       "      <td>...</td>\n",
       "      <td>NaN</td>\n",
       "      <td>NaN</td>\n",
       "      <td>NaN</td>\n",
       "      <td>NaN</td>\n",
       "      <td>NaN</td>\n",
       "      <td>NaN</td>\n",
       "      <td>NaN</td>\n",
       "      <td>NaN</td>\n",
       "      <td>NaN</td>\n",
       "      <td>NaN</td>\n",
       "    </tr>\n",
       "    <tr>\n",
       "      <th>0</th>\n",
       "      <td>0.294702</td>\n",
       "      <td>0.325166</td>\n",
       "      <td>0.307947</td>\n",
       "      <td>0.325166</td>\n",
       "      <td>0.321192</td>\n",
       "      <td>0.325166</td>\n",
       "      <td>0.341060</td>\n",
       "      <td>0.325166</td>\n",
       "      <td>0.354305</td>\n",
       "      <td>0.325166</td>\n",
       "      <td>...</td>\n",
       "      <td>NaN</td>\n",
       "      <td>NaN</td>\n",
       "      <td>NaN</td>\n",
       "      <td>NaN</td>\n",
       "      <td>NaN</td>\n",
       "      <td>NaN</td>\n",
       "      <td>NaN</td>\n",
       "      <td>NaN</td>\n",
       "      <td>NaN</td>\n",
       "      <td>NaN</td>\n",
       "    </tr>\n",
       "  </tbody>\n",
       "</table>\n",
       "<p>70 rows × 311 columns</p>\n",
       "</div>"
      ],
      "text/plain": [
       "         1         2         3         4         5         6         7    \\\n",
       "0   0.360927  0.431126  0.374172  0.431126  0.387417  0.431126  0.407285   \n",
       "0   0.235099  0.338411  0.268212  0.338411  0.288079  0.338411  0.307947   \n",
       "0   0.307947  0.391391  0.314570  0.391391  0.327815  0.384768  0.367550   \n",
       "0   0.261589  0.219205  0.268212  0.219205  0.281457  0.219205  0.294702   \n",
       "0   0.314570  0.298675  0.321192  0.298675  0.327815  0.298675  0.347682   \n",
       "..       ...       ...       ...       ...       ...       ...       ...   \n",
       "0   0.162252  0.338411  0.168874  0.338411  0.175497  0.338411  0.188742   \n",
       "0   0.274834  0.166225  0.288079  0.166225  0.301325  0.166225  0.314570   \n",
       "0   0.321192  0.192715  0.327815  0.192715  0.334437  0.192715  0.341060   \n",
       "0   0.281457  0.331788  0.334437  0.338411  0.341060  0.338411  0.347682   \n",
       "0   0.294702  0.325166  0.307947  0.325166  0.321192  0.325166  0.341060   \n",
       "\n",
       "         8         9         10   ...  302  303  304  305  306  307  308  309  \\\n",
       "0   0.424503  0.427152  0.424503  ...  NaN  NaN  NaN  NaN  NaN  NaN  NaN  NaN   \n",
       "0   0.338411  0.341060  0.351656  ...  NaN  NaN  NaN  NaN  NaN  NaN  NaN  NaN   \n",
       "0   0.378146  0.380795  0.378146  ...  NaN  NaN  NaN  NaN  NaN  NaN  NaN  NaN   \n",
       "0   0.219205  0.314570  0.219205  ...  NaN  NaN  NaN  NaN  NaN  NaN  NaN  NaN   \n",
       "0   0.298675  0.360927  0.298675  ...  NaN  NaN  NaN  NaN  NaN  NaN  NaN  NaN   \n",
       "..       ...       ...       ...  ...  ...  ...  ...  ...  ...  ...  ...  ...   \n",
       "0   0.338411  0.201987  0.338411  ...  NaN  NaN  NaN  NaN  NaN  NaN  NaN  NaN   \n",
       "0   0.166225  0.327815  0.166225  ...  NaN  NaN  NaN  NaN  NaN  NaN  NaN  NaN   \n",
       "0   0.192715  0.347682  0.192715  ...  NaN  NaN  NaN  NaN  NaN  NaN  NaN  NaN   \n",
       "0   0.338411  0.327815  0.298675  ...  NaN  NaN  NaN  NaN  NaN  NaN  NaN  NaN   \n",
       "0   0.325166  0.354305  0.325166  ...  NaN  NaN  NaN  NaN  NaN  NaN  NaN  NaN   \n",
       "\n",
       "    310  311  \n",
       "0   NaN  NaN  \n",
       "0   NaN  NaN  \n",
       "0   NaN  NaN  \n",
       "0   NaN  NaN  \n",
       "0   NaN  NaN  \n",
       "..  ...  ...  \n",
       "0   NaN  NaN  \n",
       "0   NaN  NaN  \n",
       "0   NaN  NaN  \n",
       "0   NaN  NaN  \n",
       "0   NaN  NaN  \n",
       "\n",
       "[70 rows x 311 columns]"
      ]
     },
     "execution_count": 94,
     "metadata": {},
     "output_type": "execute_result"
    }
   ],
   "source": [
    "tr_chA"
   ]
  },
  {
   "cell_type": "code",
   "execution_count": 182,
   "id": "26753972",
   "metadata": {},
   "outputs": [],
   "source": [
    "tr_chA.to_csv(\"/Users/rajeshr/Desktop/out.csv\")"
   ]
  },
  {
   "cell_type": "code",
   "execution_count": 149,
   "id": "cb6af310",
   "metadata": {},
   "outputs": [],
   "source": [
    "m, n = tr_chA.shape\n",
    "x, y = [], []\n",
    "for i in range(0, n, 2):\n",
    "    try:\n",
    "        if str(tr_chA.iloc[0, i]) != 'nan':\n",
    "            x.append(tr_chA.iloc[0, i])\n",
    "            y.append(tr_chA.iloc[0, i+1])\n",
    "    except:\n",
    "        pass"
   ]
  },
  {
   "cell_type": "code",
   "execution_count": 152,
   "id": "0129a894",
   "metadata": {},
   "outputs": [
    {
     "data": {
      "image/png": "[encoded data removed]",
      "text/plain": [
       "<Figure size 432x288 with 1 Axes>"
      ]
     },
     "metadata": {
      "needs_background": "light"
     },
     "output_type": "display_data"
    }
   ],
   "source": [
    "plt.plot(x/max(x), y/max(y))\n",
    "plt.show()"
   ]
  },
  {
   "cell_type": "code",
   "execution_count": 64,
   "id": "85001c44",
   "metadata": {},
   "outputs": [],
   "source": [
    "test_chA.drop(0, inplace=True, axis=1)\n",
    "test_a.drop(0, inplace=True, axis=1)\n",
    "test_ai.drop(0, inplace=True, axis=1)\n",
    "test_tA.drop(0, inplace=True, axis=1)\n",
    "test_bA.drop(0, inplace=True, axis=1)"
   ]
  },
  {
   "cell_type": "code",
   "execution_count": 65,
   "id": "a0fcb8db",
   "metadata": {},
   "outputs": [
    {
     "data": {
      "text/plain": [
       "<Figure size 432x288 with 0 Axes>"
      ]
     },
     "metadata": {},
     "output_type": "display_data"
    }
   ],
   "source": [
    "def saveasimage(data, name):\n",
    "    m, n = data.shape\n",
    "    x, y = [], []    \n",
    "    try: \n",
    "        os.mkdir('/Users/rajeshr/Desktop/'+name) \n",
    "    except OSError as error: \n",
    "        print(error)\n",
    "    for k in range(m):\n",
    "        for i in range(0, n, 2):\n",
    "            try:\n",
    "                if str(data.iloc[k, i]) != 'nan':\n",
    "                    x.append(data.iloc[k, i])\n",
    "                    y.append(data.iloc[k, i+1])\n",
    "            except:\n",
    "                pass\n",
    "\n",
    "        plt.plot(x/max(x), y/max(y))\n",
    "        plt.axis('off')  \n",
    "        plt.savefig('/Users/rajeshr/Desktop/'+name+'/'+str(k+1)+'.png')\n",
    "        plt.cla()\n",
    "        plt.clf()\n",
    "        x, y = [], []\n",
    "        \n",
    "saveasimage(test_chA, name='chA')\n",
    "saveasimage(test_a, name='a')\n",
    "saveasimage(test_ai, name='ai')\n",
    "saveasimage(test_bA, name='bA')\n",
    "saveasimage(test_tA, name='tA')"
   ]
  },
  {
   "cell_type": "markdown",
   "id": "1fcca229",
   "metadata": {},
   "source": [
    "# CV Data"
   ]
  },
  {
   "cell_type": "code",
   "execution_count": 5,
   "id": "e46035c6",
   "metadata": {},
   "outputs": [
    {
     "data": {
      "text/plain": [
       "['.DS_Store', 'kaa', 'sa', 'ba', 'ka', 'tA']"
      ]
     },
     "execution_count": 5,
     "metadata": {},
     "output_type": "execute_result"
    }
   ],
   "source": [
    "path = \"/Users/rajeshr/Desktop/A4/cv/\"\n",
    "os.listdir(path)"
   ]
  },
  {
   "cell_type": "code",
   "execution_count": 6,
   "id": "afff578f",
   "metadata": {},
   "outputs": [],
   "source": [
    "def read_CVdata(path):\n",
    "    train, test = [], []\n",
    "    tr_path = path+'/Train/'\n",
    "    test_path = path+'/Test/'\n",
    "    for i in os.listdir(tr_path):\n",
    "        train.append(pd.read_csv(tr_path+i, sep=\" \", header=None, index_col=None))\n",
    "    for i in os.listdir(test_path):\n",
    "        test.append(pd.read_csv(test_path+i, sep=\" \", header=None, index_col=None))\n",
    "    return train, test"
   ]
  },
  {
   "cell_type": "code",
   "execution_count": 7,
   "id": "fa5e6f38",
   "metadata": {},
   "outputs": [],
   "source": [
    "tr_kaa, test_kaa = read_CVdata(path+'kaa')\n",
    "tr_ka, test_ka = read_CVdata(path+'ka')\n",
    "tr_sa, test_sa = read_CVdata(path+'sa')\n",
    "tr_ba, test_ba = read_CVdata(path+'ba')\n",
    "tr_tA, test_tA = read_CVdata(path+'tA')"
   ]
  },
  {
   "cell_type": "code",
   "execution_count": 55,
   "id": "890302bc",
   "metadata": {},
   "outputs": [],
   "source": [
    "def tocsv(x):\n",
    "    k = 0\n",
    "    for i in x:\n",
    "        i.to_csv('/Users/rajeshr/Desktop/D2ta/'+str(k+1)+'.csv')\n",
    "        k+=1\n",
    "\n",
    "#tocsv(tr_kaa)\n",
    "#tocsv(tr_ka)\n",
    "#tocsv(tr_sa)\n",
    "#tocsv(tr_ba)\n",
    "tocsv(tr_tA)"
   ]
  },
  {
   "cell_type": "code",
   "execution_count": 27,
   "id": "01178aae",
   "metadata": {},
   "outputs": [
    {
     "data": {
      "image/png": "[encoded data removed]",
      "text/plain": [
       "<Figure size 432x288 with 2 Axes>"
      ]
     },
     "metadata": {
      "needs_background": "light"
     },
     "output_type": "display_data"
    }
   ],
   "source": [
    "k = tr_kaa[6]\n",
    "norm = (k-min(k))/(max(k)-min(k))\n",
    "plt.pcolormesh(np.abs(norm), shading='gouraud')\n",
    "plt.colorbar()\n",
    "plt.show()"
   ]
  },
  {
   "cell_type": "code",
   "execution_count": 29,
   "id": "a74a7313",
   "metadata": {},
   "outputs": [
    {
     "data": {
      "text/plain": [
       "<Figure size 432x288 with 0 Axes>"
      ]
     },
     "metadata": {},
     "output_type": "display_data"
    }
   ],
   "source": [
    "t = 0\n",
    "for i in tr_ka:\n",
    "    k = i\n",
    "    norm = (k-min(k))/(max(k)-min(k))\n",
    "    plt.pcolormesh(np.abs(norm), shading='gouraud')\n",
    "    plt.colorbar()\n",
    "    plt.savefig('/Users/rajeshr/Desktop/ka/'+str(t+1)+'.png')\n",
    "    plt.cla()\n",
    "    plt.clf()\n",
    "    t += 1"
   ]
  },
  {
   "cell_type": "code",
   "execution_count": null,
   "id": "786a61b5",
   "metadata": {},
   "outputs": [],
   "source": []
  },
  {
   "cell_type": "code",
   "execution_count": null,
   "id": "5af77b0a",
   "metadata": {},
   "outputs": [],
   "source": []
  },
  {
   "cell_type": "code",
   "execution_count": null,
   "id": "c4070903",
   "metadata": {},
   "outputs": [],
   "source": []
  }
 ],
 "metadata": {
  "kernelspec": {
   "display_name": "Python 3 (ipykernel)",
   "language": "python",
   "name": "python3"
  },
  "language_info": {
   "codemirror_mode": {
    "name": "ipython",
    "version": 3
   },
   "file_extension": ".py",
   "mimetype": "text/x-python",
   "name": "python",
   "nbconvert_exporter": "python",
   "pygments_lexer": "ipython3",
   "version": "3.8.13"
  }
 },
 "nbformat": 4,
 "nbformat_minor": 5
}
