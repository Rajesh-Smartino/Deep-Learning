{
 "cells": [
  {
   "cell_type": "code",
   "execution_count": null,
   "metadata": {
    "id": "0s1_3THvDOkz"
   },
   "outputs": [],
   "source": [
    "import os\n",
    "import tensorflow.keras as keras\n",
    "import tensorflow as tf\n",
    "from sklearn.preprocessing import LabelEncoder\n",
    "from sklearn.preprocessing import OneHotEncoder\n",
    "import pandas as pd\n",
    "from keras.models import Sequential\n",
    "from keras.layers import LSTM, Dropout, Dense\n",
    "from sklearn.model_selection import train_test_split\n",
    "import numpy as np\n",
    "import matplotlib.pyplot as plt"
   ]
  },
  {
   "cell_type": "code",
   "execution_count": null,
   "metadata": {
    "id": "ETaM42b-DRhZ"
   },
   "outputs": [],
   "source": [
    "file_path = \"/Users/rajeshr/Desktop/A4/cv/\"\n",
    "classes = ['ba', \"ka\", 'kaa', 'sa', \"tA\"]\n",
    "data_split = ['Test', 'Train']"
   ]
  },
  {
   "cell_type": "code",
   "execution_count": null,
   "metadata": {
    "id": "sr5n_71I9dRU"
   },
   "outputs": [],
   "source": [
    "Y_train = []\n",
    "X_train = []\n",
    "X_test = []\n",
    "Y_test = []\n",
    "X_validation = []\n",
    "Y_validation = []\n",
    "\n",
    "\n",
    "dir_list = os.listdir(file_path)\n",
    "print(dir_list)\n",
    "for j in data_split:\n",
    "    for i in classes:\n",
    "        for filename in glob.glob(os.path.join(file_path + '/' + i + '/' + j, '*.mfcc')):\n",
    "            with open(filename, 'r') as f:\n",
    "\n",
    "                if (j == \"Train\"):\n",
    "                    print(filename)\n",
    "                    f = open(filename)\n",
    "                    parsed = f.read().replace(\" \", \",\").split(\"\\n\")\n",
    "                    final = []\n",
    "                    for k in parsed:\n",
    "                        final.append(k.split(\",\"))\n",
    "                        final[-1] = final[-1][:-1]\n",
    "                    final = final[:-1]\n",
    "                    #count = 0\n",
    "                    for k in final:\n",
    "                        X_train.append(list(map(float, k)))\n",
    "                        Y_train.append(str(i))\n",
    "                if (j == 'Test'):\n",
    "                    print(filename)\n",
    "                    f = open(filename)\n",
    "                    parsed = f.read().replace(\" \", \",\").split(\"\\n\")\n",
    "                    final = []\n",
    "                    for k in parsed:\n",
    "                        final.append(k.split(\",\"))\n",
    "                        final[-1] = final[-1][:-1]\n",
    "                    final = final[:-1]\n",
    "                    for k in final:\n",
    "                        X_test.append(list(map(float, k)))\n",
    "                        Y_test.append(str(i))"
   ]
  },
  {
   "cell_type": "code",
   "execution_count": null,
   "metadata": {
    "colab": {
     "base_uri": "https://localhost:8080/"
    },
    "id": "RTIoi6Mqm4Ew",
    "outputId": "c9366c92-3243-4d62-aaf2-e428fd578b98"
   },
   "outputs": [
    {
     "name": "stdout",
     "output_type": "stream",
     "text": [
      "<class 'list'>\n"
     ]
    }
   ],
   "source": [
    "print(type(X_test))\n",
    "X_test = np.asarray(X_test)\n",
    "X_train = np.asarray(X_train)\n",
    "#X_validation = np.asarray(X_validation)\n",
    "X_train=np.expand_dims(np.array(X_train), axis=2)\n",
    "#X_validation=np.expand_dims(np.array(X_validation), axis=2)\n",
    "X_train = np.stack(X_train, axis=0)\n",
    "# X_validation = np.stack(X_validation, axis=0)\n",
    "X_test=np.expand_dims(np.array(X_test),axis=2)"
   ]
  },
  {
   "cell_type": "code",
   "execution_count": null,
   "metadata": {
    "colab": {
     "base_uri": "https://localhost:8080/"
    },
    "id": "ItwxImGSFPa9",
    "outputId": "00fe68f0-e428-4913-9044-66175f529e91"
   },
   "outputs": [
    {
     "name": "stdout",
     "output_type": "stream",
     "text": [
      "(51505, 39, 1)\n",
      "(12968, 39, 1)\n"
     ]
    }
   ],
   "source": [
    "print(X_train.shape)\n",
    "#print(X_validation.shape)\n",
    "print(X_test.shape)"
   ]
  },
  {
   "cell_type": "code",
   "execution_count": null,
   "metadata": {
    "id": "K_PuDSgzlQE-"
   },
   "outputs": [],
   "source": [
    "X_train[0]"
   ]
  },
  {
   "cell_type": "code",
   "execution_count": null,
   "metadata": {
    "colab": {
     "base_uri": "https://localhost:8080/"
    },
    "id": "xxwpYtTDJ4bc",
    "outputId": "4c225e42-c52e-400b-cfa0-525002fc9303"
   },
   "outputs": [
    {
     "name": "stdout",
     "output_type": "stream",
     "text": [
      "ba\n"
     ]
    }
   ],
   "source": [
    "len(Y_train)\n",
    "i=Y_train[0]\n",
    "print(i)"
   ]
  },
  {
   "cell_type": "code",
   "execution_count": null,
   "metadata": {
    "id": "6LyjWh2KKmSN"
   },
   "outputs": [],
   "source": [
    "Y_train"
   ]
  },
  {
   "cell_type": "code",
   "execution_count": 1,
   "metadata": {},
   "outputs": [],
   "source": [
    "def labels(data):\n",
    "    res = []\n",
    "    for i in data:\n",
    "        if i == \"ba\":\n",
    "            res.append(0)\n",
    "        if i==\"ka\":\n",
    "            res.append(1)\n",
    "        if i=='kaa':\n",
    "            res.append(2)\n",
    "        if i=='sa':\n",
    "            res.append(3)\n",
    "        if i=='tA':\n",
    "            res.append(4)\n",
    "    return res"
   ]
  },
  {
   "cell_type": "code",
   "execution_count": null,
   "metadata": {},
   "outputs": [],
   "source": [
    "ytrain"
   ]
  },
  {
   "cell_type": "code",
   "execution_count": null,
   "metadata": {
    "id": "BKQMbSmgI1x1"
   },
   "outputs": [],
   "source": [
    "ytrain=[]\n",
    "for i in Y_train:\n",
    "    if i == \"ba\":\n",
    "        ytrain.append(0)\n",
    "    if i==\"ka\":\n",
    "        ytrain.append(1)\n",
    "    if i=='kaa':\n",
    "        ytrain.append(2)\n",
    "    if i=='sa':\n",
    "        ytrain.append(3)\n",
    "    if i=='tA':\n",
    "        ytrain.append(4)"
   ]
  },
  {
   "cell_type": "code",
   "execution_count": null,
   "metadata": {
    "id": "8sOWB52HV_cl"
   },
   "outputs": [],
   "source": [
    "yval=[]\n",
    "for i in Y_validation:\n",
    "    if i == \"ba\":\n",
    "        yval.append(0)\n",
    "    if i==\"ka\":\n",
    "        yval.append(1)\n",
    "    if i=='kaa':\n",
    "        yval.append(2)\n",
    "    if i=='sa':\n",
    "        yval.append(3)\n",
    "    if i=='tA':\n",
    "        yval.append(4)"
   ]
  },
  {
   "cell_type": "code",
   "execution_count": null,
   "metadata": {
    "id": "XwiSySkPWGQA"
   },
   "outputs": [],
   "source": [
    "ytest=[]\n",
    "for i in Y_test:\n",
    "  if i == \"ba\":\n",
    "    ytest.append(0)\n",
    "  if i==\"ka\":\n",
    "    ytest.append(1)\n",
    "  if i=='kaa':\n",
    "    ytest.append(2)\n",
    "  if i=='sa':\n",
    "    ytest.append(3)\n",
    "  if i=='tA':\n",
    "    ytest.append(4)"
   ]
  },
  {
   "cell_type": "code",
   "execution_count": null,
   "metadata": {
    "id": "RWl7RiEGJlZA"
   },
   "outputs": [],
   "source": [
    "y_train=np.array(ytrain)\n",
    "#y_val=np.array(yval)\n",
    "y_test=np.array(ytest)"
   ]
  },
  {
   "cell_type": "code",
   "execution_count": null,
   "metadata": {
    "colab": {
     "base_uri": "https://localhost:8080/"
    },
    "id": "NtpnXBsqJszv",
    "outputId": "3db05736-ef78-4b78-a998-64b04eb986b5"
   },
   "outputs": [
    {
     "data": {
      "text/plain": [
       "array([0, 0, 0, ..., 4, 4, 4])"
      ]
     },
     "execution_count": 65,
     "metadata": {},
     "output_type": "execute_result"
    }
   ],
   "source": [
    "y_test[0:]"
   ]
  },
  {
   "cell_type": "code",
   "execution_count": null,
   "metadata": {
    "id": "KSmxgXySVgmc"
   },
   "outputs": [],
   "source": [
    "from tensorflow.keras.utils import  to_categorical\n",
    "y_train1=to_categorical(y_train)\n",
    "#y_val1=to_categorical(y_val)\n",
    "y_test1=to_categorical(y_test)"
   ]
  },
  {
   "cell_type": "code",
   "execution_count": null,
   "metadata": {
    "colab": {
     "base_uri": "https://localhost:8080/"
    },
    "id": "o0n91pqOGjbL",
    "outputId": "688ca48c-43f0-4ef6-ba56-26165ce37269"
   },
   "outputs": [
    {
     "data": {
      "text/plain": [
       "array([1., 0., 0., 0., 0.], dtype=float32)"
      ]
     },
     "execution_count": 18,
     "metadata": {},
     "output_type": "execute_result"
    }
   ],
   "source": [
    "y_test1[0,:]"
   ]
  },
  {
   "cell_type": "code",
   "execution_count": null,
   "metadata": {
    "colab": {
     "base_uri": "https://localhost:8080/"
    },
    "id": "KGq8KUWgD4gF",
    "outputId": "ea492d03-1a3b-4dc8-f089-0726458cd6c7"
   },
   "outputs": [
    {
     "name": "stdout",
     "output_type": "stream",
     "text": [
      "(47637, 39, 1) (47637, 5)\n"
     ]
    }
   ],
   "source": [
    "# # binary encode\n",
    "# Y_train = onehotencoding(Y_train)\n",
    "# Y_test = onehotencoding(Y_test)\n",
    "# Y_validation = onehotencoding(Y_validation)\n",
    "# # Y_train=np.expand_dims(np.array(Y_train), axis=0)\n",
    "# # Y_validation=np.expand_dims(np.array(Y_validation), axis=0)\n",
    "# Y_train=np.stack(Y_train, axis=0)\n",
    "# Y_validation=np.stack(Y_validation, axis=0)\n",
    "\n",
    "# print(X_train.shape, Y_train.shape)"
   ]
  },
  {
   "cell_type": "markdown",
   "metadata": {
    "id": "Ad4OSnBfl84b"
   },
   "source": [
    "LSTM model"
   ]
  },
  {
   "cell_type": "code",
   "execution_count": null,
   "metadata": {
    "colab": {
     "base_uri": "https://localhost:8080/"
    },
    "id": "WghPVlW4Gumo",
    "outputId": "cfe5586f-a3d8-4b32-a85e-46a435ade43f"
   },
   "outputs": [
    {
     "name": "stdout",
     "output_type": "stream",
     "text": [
      "Model: \"sequential_3\"\n",
      "_________________________________________________________________\n",
      " Layer (type)                Output Shape              Param #   \n",
      "=================================================================\n",
      " lstm_5 (LSTM)               (None, 39, 128)           66560     \n",
      "                                                                 \n",
      " dropout_2 (Dropout)         (None, 39, 128)           0         \n",
      "                                                                 \n",
      " lstm_6 (LSTM)               (None, 64)                49408     \n",
      "                                                                 \n",
      " dropout_3 (Dropout)         (None, 64)                0         \n",
      "                                                                 \n",
      " dense_4 (Dense)             (None, 32)                2080      \n",
      "                                                                 \n",
      " dense_5 (Dense)             (None, 5)                 165       \n",
      "                                                                 \n",
      "=================================================================\n",
      "Total params: 118,213\n",
      "Trainable params: 118,213\n",
      "Non-trainable params: 0\n",
      "_________________________________________________________________\n"
     ]
    }
   ],
   "source": [
    "model1=Sequential()\n",
    "model1.add(LSTM(128, input_shape =(X_train.shape[1:]),return_sequences=True))\n",
    "model1.add(Dropout(0.2))\n",
    "model1.add(LSTM(64,activation='relu'))\n",
    "model1.add(Dropout(0.2))\n",
    "model1.add(Dense(32,activation='relu'))\n",
    "model1.add(Dense(5,activation='softmax'))\n",
    "model1.summary()"
   ]
  },
  {
   "cell_type": "code",
   "execution_count": null,
   "metadata": {
    "id": "ejgFltZOHB2a"
   },
   "outputs": [],
   "source": [
    "model1.compile(loss=\"categorical_crossentropy\", optimizer=\"adam\", metrics=['accuracy'])"
   ]
  },
  {
   "cell_type": "code",
   "execution_count": null,
   "metadata": {
    "id": "mGzSfY1TXleg"
   },
   "outputs": [],
   "source": [
    "callback = tf.keras.callbacks.EarlyStopping(monitor=\"loss\",\n",
    "    min_delta=0.0001,\n",
    "    patience=3)"
   ]
  },
  {
   "cell_type": "code",
   "execution_count": 110,
   "metadata": {
    "colab": {
     "base_uri": "https://localhost:8080/"
    },
    "id": "XTv7vGgvXp19",
    "outputId": "e28dc2c2-a02c-4a23-f07b-78ac3634ce31"
   },
   "outputs": [
    {
     "name": "stdout",
     "output_type": "stream",
     "text": [
      "Epoch 1/500\n",
      "52/52 - 147s - loss: 1.5619 - accuracy: 0.2904 - 147s/epoch - 3s/step\n",
      "Epoch 2/500\n",
      "52/52 - 148s - loss: 1.5232 - accuracy: 0.3126 - 148s/epoch - 3s/step\n",
      "Epoch 3/500\n",
      "52/52 - 153s - loss: 1.4596 - accuracy: 0.3489 - 153s/epoch - 3s/step\n",
      "Epoch 4/500\n",
      "52/52 - 149s - loss: 1.4258 - accuracy: 0.3671 - 149s/epoch - 3s/step\n",
      "Epoch 5/500\n",
      "52/52 - 147s - loss: 1.4169 - accuracy: 0.3702 - 147s/epoch - 3s/step\n",
      "Epoch 6/500\n",
      "52/52 - 150s - loss: 1.4022 - accuracy: 0.3738 - 150s/epoch - 3s/step\n",
      "Epoch 7/500\n",
      "52/52 - 150s - loss: 1.3873 - accuracy: 0.3774 - 150s/epoch - 3s/step\n",
      "Epoch 8/500\n",
      "52/52 - 150s - loss: 1.3697 - accuracy: 0.3862 - 150s/epoch - 3s/step\n",
      "Epoch 9/500\n",
      "52/52 - 147s - loss: 1.3556 - accuracy: 0.3928 - 147s/epoch - 3s/step\n",
      "Epoch 10/500\n",
      "52/52 - 147s - loss: 1.3386 - accuracy: 0.4003 - 147s/epoch - 3s/step\n",
      "Epoch 11/500\n",
      "52/52 - 145s - loss: 1.3260 - accuracy: 0.4066 - 145s/epoch - 3s/step\n",
      "Epoch 12/500\n",
      "52/52 - 145s - loss: 1.3124 - accuracy: 0.4174 - 145s/epoch - 3s/step\n",
      "Epoch 13/500\n",
      "52/52 - 146s - loss: 1.2950 - accuracy: 0.4275 - 146s/epoch - 3s/step\n",
      "Epoch 14/500\n",
      "52/52 - 146s - loss: 1.2702 - accuracy: 0.4399 - 146s/epoch - 3s/step\n",
      "Epoch 15/500\n",
      "52/52 - 144s - loss: 1.2551 - accuracy: 0.4479 - 144s/epoch - 3s/step\n",
      "Epoch 16/500\n",
      "52/52 - 143s - loss: 1.2335 - accuracy: 0.4592 - 143s/epoch - 3s/step\n",
      "Epoch 17/500\n",
      "52/52 - 143s - loss: 1.2090 - accuracy: 0.4718 - 143s/epoch - 3s/step\n",
      "Epoch 18/500\n",
      "52/52 - 143s - loss: 1.1899 - accuracy: 0.4827 - 143s/epoch - 3s/step\n",
      "Epoch 19/500\n",
      "52/52 - 143s - loss: 1.1725 - accuracy: 0.4916 - 143s/epoch - 3s/step\n",
      "Epoch 20/500\n",
      "52/52 - 144s - loss: 1.1478 - accuracy: 0.5059 - 144s/epoch - 3s/step\n",
      "Epoch 21/500\n",
      "52/52 - 145s - loss: 1.1272 - accuracy: 0.5146 - 145s/epoch - 3s/step\n",
      "Epoch 22/500\n",
      "52/52 - 146s - loss: 1.1094 - accuracy: 0.5240 - 146s/epoch - 3s/step\n",
      "Epoch 23/500\n",
      "52/52 - 144s - loss: 1.0895 - accuracy: 0.5329 - 144s/epoch - 3s/step\n",
      "Epoch 24/500\n",
      "52/52 - 145s - loss: 1.0680 - accuracy: 0.5421 - 145s/epoch - 3s/step\n",
      "Epoch 25/500\n",
      "52/52 - 142s - loss: 1.0438 - accuracy: 0.5554 - 142s/epoch - 3s/step\n",
      "Epoch 26/500\n",
      "52/52 - 143s - loss: 1.0192 - accuracy: 0.5656 - 143s/epoch - 3s/step\n",
      "Epoch 27/500\n",
      "52/52 - 142s - loss: 1.0036 - accuracy: 0.5742 - 142s/epoch - 3s/step\n",
      "Epoch 28/500\n",
      "52/52 - 142s - loss: 0.9783 - accuracy: 0.5849 - 142s/epoch - 3s/step\n",
      "Epoch 29/500\n",
      "52/52 - 143s - loss: 0.9534 - accuracy: 0.5975 - 143s/epoch - 3s/step\n",
      "Epoch 30/500\n",
      "52/52 - 147s - loss: 0.9318 - accuracy: 0.6066 - 147s/epoch - 3s/step\n",
      "Epoch 31/500\n",
      "52/52 - 147s - loss: 0.9131 - accuracy: 0.6149 - 147s/epoch - 3s/step\n",
      "Epoch 32/500\n",
      "52/52 - 147s - loss: 0.8989 - accuracy: 0.6200 - 147s/epoch - 3s/step\n",
      "Epoch 33/500\n",
      "52/52 - 149s - loss: 0.8674 - accuracy: 0.6373 - 149s/epoch - 3s/step\n",
      "Epoch 34/500\n",
      "52/52 - 147s - loss: 0.8448 - accuracy: 0.6484 - 147s/epoch - 3s/step\n",
      "Epoch 35/500\n",
      "52/52 - 147s - loss: 0.8213 - accuracy: 0.6582 - 147s/epoch - 3s/step\n",
      "Epoch 36/500\n",
      "52/52 - 149s - loss: 0.7916 - accuracy: 0.6719 - 149s/epoch - 3s/step\n",
      "Epoch 37/500\n",
      "52/52 - 146s - loss: 0.7679 - accuracy: 0.6820 - 146s/epoch - 3s/step\n",
      "Epoch 38/500\n",
      "52/52 - 147s - loss: 0.7517 - accuracy: 0.6906 - 147s/epoch - 3s/step\n",
      "Epoch 39/500\n",
      "52/52 - 147s - loss: 0.7318 - accuracy: 0.6964 - 147s/epoch - 3s/step\n",
      "Epoch 40/500\n",
      "52/52 - 147s - loss: 0.6999 - accuracy: 0.7102 - 147s/epoch - 3s/step\n",
      "Epoch 41/500\n",
      "52/52 - 146s - loss: 0.6812 - accuracy: 0.7182 - 146s/epoch - 3s/step\n",
      "Epoch 42/500\n",
      "52/52 - 147s - loss: 0.6587 - accuracy: 0.7285 - 147s/epoch - 3s/step\n",
      "Epoch 43/500\n",
      "52/52 - 146s - loss: 0.6400 - accuracy: 0.7372 - 146s/epoch - 3s/step\n",
      "Epoch 44/500\n",
      "52/52 - 146s - loss: 0.6114 - accuracy: 0.7506 - 146s/epoch - 3s/step\n",
      "Epoch 45/500\n",
      "52/52 - 146s - loss: 0.5983 - accuracy: 0.7570 - 146s/epoch - 3s/step\n",
      "Epoch 46/500\n",
      "52/52 - 145s - loss: 0.5664 - accuracy: 0.7712 - 145s/epoch - 3s/step\n",
      "Epoch 47/500\n",
      "52/52 - 143s - loss: 0.5582 - accuracy: 0.7718 - 143s/epoch - 3s/step\n",
      "Epoch 48/500\n",
      "52/52 - 147s - loss: 0.5373 - accuracy: 0.7840 - 147s/epoch - 3s/step\n",
      "Epoch 49/500\n",
      "52/52 - 147s - loss: 0.5207 - accuracy: 0.7904 - 147s/epoch - 3s/step\n",
      "Epoch 50/500\n",
      "52/52 - 144s - loss: 0.4895 - accuracy: 0.8013 - 144s/epoch - 3s/step\n",
      "Epoch 51/500\n",
      "52/52 - 152s - loss: 0.4724 - accuracy: 0.8108 - 152s/epoch - 3s/step\n",
      "Epoch 52/500\n",
      "52/52 - 146s - loss: 0.4634 - accuracy: 0.8158 - 146s/epoch - 3s/step\n",
      "Epoch 53/500\n",
      "52/52 - 152s - loss: 0.4392 - accuracy: 0.8245 - 152s/epoch - 3s/step\n",
      "Epoch 54/500\n",
      "52/52 - 144s - loss: 0.4259 - accuracy: 0.8296 - 144s/epoch - 3s/step\n",
      "Epoch 55/500\n",
      "52/52 - 145s - loss: 0.4159 - accuracy: 0.8354 - 145s/epoch - 3s/step\n",
      "Epoch 56/500\n",
      "52/52 - 142s - loss: 0.3935 - accuracy: 0.8462 - 142s/epoch - 3s/step\n",
      "Epoch 57/500\n",
      "52/52 - 141s - loss: 0.3872 - accuracy: 0.8482 - 141s/epoch - 3s/step\n",
      "Epoch 58/500\n",
      "52/52 - 141s - loss: 0.3676 - accuracy: 0.8559 - 141s/epoch - 3s/step\n",
      "Epoch 59/500\n",
      "52/52 - 142s - loss: 0.3579 - accuracy: 0.8609 - 142s/epoch - 3s/step\n",
      "Epoch 60/500\n",
      "52/52 - 143s - loss: 0.3327 - accuracy: 0.8694 - 143s/epoch - 3s/step\n",
      "Epoch 61/500\n",
      "52/52 - 142s - loss: 0.3186 - accuracy: 0.8762 - 142s/epoch - 3s/step\n",
      "Epoch 62/500\n",
      "52/52 - 141s - loss: 0.3117 - accuracy: 0.8789 - 141s/epoch - 3s/step\n",
      "Epoch 63/500\n",
      "52/52 - 142s - loss: 0.3127 - accuracy: 0.8798 - 142s/epoch - 3s/step\n",
      "Epoch 64/500\n",
      "52/52 - 143s - loss: 0.2891 - accuracy: 0.8874 - 143s/epoch - 3s/step\n",
      "Epoch 65/500\n",
      "52/52 - 144s - loss: 0.2906 - accuracy: 0.8885 - 144s/epoch - 3s/step\n",
      "Epoch 66/500\n",
      "52/52 - 145s - loss: 0.2718 - accuracy: 0.8952 - 145s/epoch - 3s/step\n",
      "Epoch 67/500\n",
      "52/52 - 142s - loss: 0.2617 - accuracy: 0.9007 - 142s/epoch - 3s/step\n",
      "Epoch 68/500\n",
      "52/52 - 143s - loss: 0.2476 - accuracy: 0.9064 - 143s/epoch - 3s/step\n",
      "Epoch 69/500\n",
      "52/52 - 145s - loss: 0.2375 - accuracy: 0.9088 - 145s/epoch - 3s/step\n",
      "Epoch 70/500\n",
      "52/52 - 145s - loss: 0.2313 - accuracy: 0.9119 - 145s/epoch - 3s/step\n",
      "Epoch 71/500\n",
      "52/52 - 142s - loss: 0.2261 - accuracy: 0.9150 - 142s/epoch - 3s/step\n",
      "Epoch 72/500\n",
      "52/52 - 144s - loss: 0.2257 - accuracy: 0.9166 - 144s/epoch - 3s/step\n",
      "Epoch 73/500\n",
      "52/52 - 143s - loss: 0.2059 - accuracy: 0.9237 - 143s/epoch - 3s/step\n",
      "Epoch 74/500\n",
      "52/52 - 143s - loss: 0.2033 - accuracy: 0.9246 - 143s/epoch - 3s/step\n",
      "Epoch 75/500\n",
      "52/52 - 142s - loss: 0.1934 - accuracy: 0.9279 - 142s/epoch - 3s/step\n",
      "Epoch 76/500\n",
      "52/52 - 146s - loss: 0.1924 - accuracy: 0.9285 - 146s/epoch - 3s/step\n",
      "Epoch 77/500\n",
      "52/52 - 147s - loss: 0.1816 - accuracy: 0.9322 - 147s/epoch - 3s/step\n",
      "Epoch 78/500\n",
      "52/52 - 143s - loss: 0.1866 - accuracy: 0.9315 - 143s/epoch - 3s/step\n",
      "Epoch 79/500\n",
      "52/52 - 142s - loss: 0.1744 - accuracy: 0.9375 - 142s/epoch - 3s/step\n",
      "Epoch 80/500\n",
      "52/52 - 142s - loss: 0.1689 - accuracy: 0.9377 - 142s/epoch - 3s/step\n",
      "Epoch 81/500\n",
      "52/52 - 141s - loss: 0.1595 - accuracy: 0.9428 - 141s/epoch - 3s/step\n",
      "Epoch 82/500\n",
      "52/52 - 141s - loss: 0.1571 - accuracy: 0.9427 - 141s/epoch - 3s/step\n",
      "Epoch 83/500\n",
      "52/52 - 142s - loss: 0.1609 - accuracy: 0.9422 - 142s/epoch - 3s/step\n",
      "Epoch 84/500\n",
      "52/52 - 141s - loss: 0.1435 - accuracy: 0.9485 - 141s/epoch - 3s/step\n",
      "Epoch 85/500\n",
      "52/52 - 141s - loss: 0.1380 - accuracy: 0.9504 - 141s/epoch - 3s/step\n",
      "Epoch 86/500\n",
      "52/52 - 141s - loss: 0.1314 - accuracy: 0.9532 - 141s/epoch - 3s/step\n",
      "Epoch 87/500\n",
      "52/52 - 141s - loss: 0.1186 - accuracy: 0.9578 - 141s/epoch - 3s/step\n",
      "Epoch 88/500\n",
      "52/52 - 143s - loss: 0.1355 - accuracy: 0.9514 - 143s/epoch - 3s/step\n",
      "Epoch 89/500\n",
      "52/52 - 145s - loss: 0.1266 - accuracy: 0.9554 - 145s/epoch - 3s/step\n",
      "Epoch 90/500\n",
      "52/52 - 143s - loss: 0.1209 - accuracy: 0.9568 - 143s/epoch - 3s/step\n"
     ]
    }
   ],
   "source": [
    "history = model1.fit(X_train, y_train1,batch_size=1000,callbacks=[callback] ,epochs=150,verbose=2)"
   ]
  },
  {
   "cell_type": "code",
   "execution_count": 111,
   "metadata": {
    "colab": {
     "base_uri": "https://localhost:8080/",
     "height": 295
    },
    "id": "GoK4f-dPaO25",
    "outputId": "f7bfbca4-9b55-4149-b4e6-8638b5130ef8"
   },
   "outputs": [
    {
     "data": {
      "image/png": "[encoded data removed]",
      "text/plain": [
       "<Figure size 432x288 with 2 Axes>"
      ]
     },
     "metadata": {
      "needs_background": "light"
     },
     "output_type": "display_data"
    }
   ],
   "source": [
    "plot_history(history)"
   ]
  },
  {
   "cell_type": "code",
   "execution_count": 112,
   "metadata": {
    "colab": {
     "base_uri": "https://localhost:8080/"
    },
    "id": "wAVfKyyG_d2E",
    "outputId": "797aa465-e893-4335-af67-86581ab5f3e5"
   },
   "outputs": [
    {
     "name": "stdout",
     "output_type": "stream",
     "text": [
      "406/406 [==============================] - 29s 69ms/step - loss: 4.0613 - accuracy: 0.4587\n"
     ]
    },
    {
     "data": {
      "text/plain": [
       "[4.061348915100098, 0.458744615316391]"
      ]
     },
     "execution_count": 112,
     "metadata": {},
     "output_type": "execute_result"
    }
   ],
   "source": [
    "model1.evaluate(X_test,y_test1)"
   ]
  },
  {
   "cell_type": "code",
   "execution_count": null,
   "metadata": {
    "id": "Q7OyWPFDHSHR"
   },
   "outputs": [],
   "source": [
    "# history=model1.fit(X_train,y_train1,epochs=2,validation_data=(X_validation,y_val1))\n",
    "# plot_history(history)"
   ]
  },
  {
   "cell_type": "code",
   "execution_count": 113,
   "metadata": {
    "id": "wWLHRJfAbdIE"
   },
   "outputs": [],
   "source": [
    "predict=model1.predict(X_test)"
   ]
  },
  {
   "cell_type": "code",
   "execution_count": 114,
   "metadata": {
    "id": "89HenylTcGDo"
   },
   "outputs": [],
   "source": [
    "pred_test=[]\n",
    "for i in range(len(predict)):\n",
    "  predict_1=np.argmax(predict[i])\n",
    "  pred_test.append(predict_1)\n",
    "\n",
    "true_test=[]\n",
    "for i in range(len(y_test1)):\n",
    "  true_1=np.argmax(y_test1[i])\n",
    "  true_test.append(true_1)\n"
   ]
  },
  {
   "cell_type": "code",
   "execution_count": 115,
   "metadata": {
    "colab": {
     "base_uri": "https://localhost:8080/"
    },
    "id": "BkZTDPlversm",
    "outputId": "b5c7338a-8897-4a77-cf4a-6b511c440875"
   },
   "outputs": [
    {
     "name": "stdout",
     "output_type": "stream",
     "text": [
      "(12968,)\n"
     ]
    }
   ],
   "source": [
    "pred1_test=np.array(pred_test)\n",
    "pred1_test.shape\n",
    "true1_test=np.array(true_test)\n",
    "print(true1_test.shape)"
   ]
  },
  {
   "cell_type": "code",
   "execution_count": null,
   "metadata": {
    "colab": {
     "base_uri": "https://localhost:8080/"
    },
    "id": "QU94w7s6fHke",
    "outputId": "079b2923-477b-44cb-fa4b-498e63560146"
   },
   "outputs": [
    {
     "data": {
      "text/plain": [
       "(12968, 5)"
      ]
     },
     "execution_count": 140,
     "metadata": {},
     "output_type": "execute_result"
    }
   ],
   "source": [
    "y_test1.shape"
   ]
  },
  {
   "cell_type": "code",
   "execution_count": 116,
   "metadata": {
    "colab": {
     "base_uri": "https://localhost:8080/"
    },
    "id": "CPoQE3AecQZA",
    "outputId": "2fd0c82c-4725-4fab-8490-abee07a0e775"
   },
   "outputs": [
    {
     "name": "stdout",
     "output_type": "stream",
     "text": [
      "[[ 788  195  247  110  222]\n",
      " [ 194  727  736  168  292]\n",
      " [ 238  662 1939  280  799]\n",
      " [ 176  233  298 1215  383]\n",
      " [ 277  346  883  280 1280]]\n"
     ]
    }
   ],
   "source": [
    "from sklearn.metrics import confusion_matrix\n",
    "cm_test=confusion_matrix(true1_test,pred1_test)\n",
    "print(cm_test)"
   ]
  },
  {
   "cell_type": "code",
   "execution_count": null,
   "metadata": {
    "id": "pya56k7REEmD"
   },
   "outputs": [],
   "source": [
    "# def plot_history(history):\n",
    "\n",
    "\n",
    "#     fig, axs = plt.subplots(2)\n",
    "\n",
    "#     # create accuracy sublpot\n",
    "#     axs[0].plot(history.history[\"accuracy\"], label=\"train accuracy\")\n",
    "#     axs[0].plot(history.history[\"val_accuracy\"], label=\"validation accuracy\")\n",
    "#     axs[0].set_ylabel(\"Accuracy\")\n",
    "#     axs[0].legend(loc=\"lower right\")\n",
    "#     axs[0].set_title(\"Accuracy eval\")\n",
    "\n",
    "#     # create error sublpot\n",
    "#     axs[1].plot(history.history[\"loss\"], label=\"train error\")\n",
    "#     axs[1].plot(history.history[\"val_loss\"], label=\"validation error\")\n",
    "#     axs[1].set_ylabel(\"Error\")\n",
    "#     axs[1].set_xlabel(\"Epoch\")\n",
    "#     axs[1].legend(loc=\"upper right\")\n",
    "#     axs[1].set_title(\"Error eval\")\n",
    "\n",
    "#     plt.show()"
   ]
  },
  {
   "cell_type": "code",
   "execution_count": null,
   "metadata": {
    "colab": {
     "background_save": true
    },
    "id": "xsHfb2IDHq3W"
   },
   "outputs": [],
   "source": [
    "def plot_history(history):\n",
    "\n",
    "\n",
    "    fig, axs = plt.subplots(2)\n",
    "\n",
    "    # create accuracy sublpot\n",
    "    axs[0].plot(history.history[\"accuracy\"], label=\"train accuracy\")\n",
    "    \n",
    "    axs[0].set_ylabel(\"Accuracy\")\n",
    "    axs[0].legend(loc=\"lower right\")\n",
    "    axs[0].set_title(\"Accuracy eval\")\n",
    "\n",
    "    # create error sublpot\n",
    "    axs[1].plot(history.history[\"loss\"], label=\"train error\")\n",
    "   \n",
    "    axs[1].set_ylabel(\"Error\")\n",
    "    axs[1].set_xlabel(\"Epoch\")\n",
    "    axs[1].legend(loc=\"upper right\")\n",
    "    axs[1].set_title(\"Error eval\")\n",
    "\n",
    "    plt.show()"
   ]
  },
  {
   "cell_type": "markdown",
   "metadata": {
    "id": "GEVl2l6zl4sb"
   },
   "source": [
    "Simple RNN model"
   ]
  },
  {
   "cell_type": "code",
   "execution_count": null,
   "metadata": {
    "colab": {
     "base_uri": "https://localhost:8080/"
    },
    "id": "eV97UJR1YUK5",
    "outputId": "94e4ddda-4a3b-4116-ba7f-2649240f28f2"
   },
   "outputs": [
    {
     "name": "stdout",
     "output_type": "stream",
     "text": [
      "Model: \"sequential_7\"\n",
      "_________________________________________________________________\n",
      " Layer (type)                Output Shape              Param #   \n",
      "=================================================================\n",
      " simple_rnn_2 (SimpleRNN)    (None, 39, 128)           16640     \n",
      "                                                                 \n",
      " dropout_1 (Dropout)         (None, 39, 128)           0         \n",
      "                                                                 \n",
      " simple_rnn_3 (SimpleRNN)    (None, 64)                12352     \n",
      "                                                                 \n",
      " dense_12 (Dense)            (None, 32)                2080      \n",
      "                                                                 \n",
      " dense_13 (Dense)            (None, 5)                 165       \n",
      "                                                                 \n",
      "=================================================================\n",
      "Total params: 31,237\n",
      "Trainable params: 31,237\n",
      "Non-trainable params: 0\n",
      "_________________________________________________________________\n"
     ]
    }
   ],
   "source": [
    "from keras.layers.recurrent import SimpleRNN\n",
    "model2=Sequential()\n",
    "model2.add(SimpleRNN(128, input_shape =(X_train.shape[1:]),activation='relu',return_sequences=True))\n",
    "model2.add(Dropout(0.2))\n",
    "model2.add(SimpleRNN(64,activation='relu'))\n",
    "model2.add(Dense(32,activation='relu'))\n",
    "model2.add(Dense(5,activation='softmax'))\n",
    "model2.summary()"
   ]
  },
  {
   "cell_type": "code",
   "execution_count": null,
   "metadata": {
    "id": "lIVpNHuuZZ8t"
   },
   "outputs": [],
   "source": [
    "model2.compile(loss=\"categorical_crossentropy\", optimizer=\"adam\", metrics=['accuracy'])"
   ]
  },
  {
   "cell_type": "code",
   "execution_count": null,
   "metadata": {
    "id": "6YCAwCFaaliu"
   },
   "outputs": [],
   "source": [
    "callback = tf.keras.callbacks.EarlyStopping(monitor=\"loss\",\n",
    "    min_delta=0.0001,\n",
    "    patience=3)"
   ]
  },
  {
   "cell_type": "code",
   "execution_count": null,
   "metadata": {
    "id": "Fd90N2XCaqa_"
   },
   "outputs": [],
   "source": [
    "history = model2.fit(X_train, y_train1, batch_size=1000,callbacks=[callback] ,epochs=10,verbose=2)\n"
   ]
  },
  {
   "cell_type": "code",
   "execution_count": null,
   "metadata": {
    "colab": {
     "base_uri": "https://localhost:8080/",
     "height": 295
    },
    "id": "TTFHnmZ1axHH",
    "outputId": "c74790ab-9aa2-462a-c2b2-86cd3f66dfd2"
   },
   "outputs": [
    {
     "data": {
      "image/png": "[encoded data removed]",
      "text/plain": [
       "<Figure size 432x288 with 2 Axes>"
      ]
     },
     "metadata": {},
     "output_type": "display_data"
    }
   ],
   "source": [
    "plot_history(history)"
   ]
  },
  {
   "cell_type": "code",
   "execution_count": null,
   "metadata": {
    "id": "QuRCHixhjDTV"
   },
   "outputs": [],
   "source": [
    "predict=model2.predict(X_test)"
   ]
  },
  {
   "cell_type": "code",
   "execution_count": null,
   "metadata": {
    "id": "nRMOz0LyjEsW"
   },
   "outputs": [],
   "source": [
    "pred_test=[]\n",
    "for i in range(len(predict)):\n",
    "  predict_1=np.argmax(predict[i])\n",
    "  pred_test.append(predict_1)\n",
    "\n",
    "true_test=[]\n",
    "for i in range(len(y_test1)):\n",
    "  true_1=np.argmax(y_test1[i])\n",
    "  true_test.append(true_1)\n"
   ]
  },
  {
   "cell_type": "code",
   "execution_count": null,
   "metadata": {
    "colab": {
     "base_uri": "https://localhost:8080/"
    },
    "id": "Eoyx2BzxjD3S",
    "outputId": "ee0a6bf6-067b-4ff1-c459-d8e0c8991dcc"
   },
   "outputs": [
    {
     "name": "stdout",
     "output_type": "stream",
     "text": [
      "(12968,)\n"
     ]
    }
   ],
   "source": [
    "pred1_test=np.array(pred_test)\n",
    "pred1_test.shape\n",
    "true1_test=np.array(true_test)\n",
    "print(true1_test.shape)"
   ]
  },
  {
   "cell_type": "code",
   "execution_count": null,
   "metadata": {
    "colab": {
     "base_uri": "https://localhost:8080/"
    },
    "id": "MIISVuntjNf_",
    "outputId": "d795fc81-c6f4-4e1a-996e-bc0b9bed6ddb"
   },
   "outputs": [
    {
     "name": "stdout",
     "output_type": "stream",
     "text": [
      "[[ 576   92  422  194  278]\n",
      " [ 134  356 1144  149  334]\n",
      " [ 168  478 2407  237  628]\n",
      " [ 150   75  520 1172  388]\n",
      " [ 157  121 1434  343 1011]]\n"
     ]
    }
   ],
   "source": [
    "from sklearn.metrics import confusion_matrix\n",
    "cm_test=confusion_matrix(true1_test,pred1_test)\n",
    "print(cm_test)"
   ]
  }
 ],
 "metadata": {
  "colab": {
   "collapsed_sections": [],
   "name": "LSTM.ipynb",
   "provenance": []
  },
  "kernelspec": {
   "display_name": "Python 3 (ipykernel)",
   "language": "python",
   "name": "python3"
  },
  "language_info": {
   "codemirror_mode": {
    "name": "ipython",
    "version": 3
   },
   "file_extension": ".py",
   "mimetype": "text/x-python",
   "name": "python",
   "nbconvert_exporter": "python",
   "pygments_lexer": "ipython3",
   "version": "3.8.13"
  }
 },
 "nbformat": 4,
 "nbformat_minor": 4
}
