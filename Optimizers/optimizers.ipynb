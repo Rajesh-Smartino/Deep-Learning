{
 "cells": [
  {
   "cell_type": "markdown",
   "id": "94651bda-c053-476b-96f0-1db92d9ef440",
   "metadata": {},
   "source": [
    "# 3 Layer FCNN with Stochastic Gradient Descent (SGD) Algorithm"
   ]
  },
  {
   "cell_type": "code",
   "execution_count": 1,
   "id": "79c06aff-1111-4a21-9ee0-a7fb6c505a15",
   "metadata": {},
   "outputs": [],
   "source": [
    "import numpy as np\n",
    "from matplotlib import pyplot as plt\n",
    "import pandas as pd\n",
    "import os\n",
    "import cv2"
   ]
  },
  {
   "cell_type": "markdown",
   "id": "9491defc-27e9-4cf2-aa76-b6639abc4052",
   "metadata": {},
   "source": [
    "### Reading data as image and storing it into training, validation and testing"
   ]
  },
  {
   "cell_type": "code",
   "execution_count": 180,
   "id": "34c55832-da8b-4456-b04f-ce795da455f1",
   "metadata": {},
   "outputs": [],
   "source": [
    "def read_data(path):\n",
    "    \n",
    "    train_path = path+\"/train\"\n",
    "    test_path = path+\"/test\"\n",
    "    validation_path = path+\"/val\"\n",
    "    \n",
    "    tr_data, test_data, val_data = [], [], []\n",
    "    tr_out, test_out, val_out = [], [], []\n",
    "\n",
    "    for i in os.listdir(train_path):\n",
    "\n",
    "        if i != \".DS_Store\":\n",
    "            for j in os.listdir(train_path+\"/\"+i):\n",
    "                tr_data.append(cv2.imread(train_path+\"/\"+i+\"/\"+j, cv2.IMREAD_GRAYSCALE))\n",
    "                tr_out.append(i)\n",
    "\n",
    "            for j in os.listdir(test_path+\"/\"+i):\n",
    "                test_data.append(cv2.imread(test_path+\"/\"+i+\"/\"+j, cv2.IMREAD_GRAYSCALE))\n",
    "                test_out.append(i)\n",
    "\n",
    "            for j in os.listdir(validation_path+\"/\"+i):\n",
    "                val_data.append(cv2.imread(validation_path+\"/\"+i+\"/\"+j, cv2.IMREAD_GRAYSCALE))\n",
    "                val_out.append(i)\n",
    "\n",
    "    return np.array(tr_data), np.array(test_data), np.array(val_data), np.array(tr_out), np.array(test_out), np.array(val_out)"
   ]
  },
  {
   "cell_type": "code",
   "execution_count": 181,
   "id": "17c592c8-fd82-4b2e-b1b1-5a24563cd3f5",
   "metadata": {},
   "outputs": [],
   "source": [
    "path = \"/Users/rajeshr/Desktop/Assignment2/Group_22\"\n",
    "tr_data, test_data, val_data, tr_out, test_out, val_out = read_data(path)"
   ]
  },
  {
   "cell_type": "markdown",
   "id": "d3e6ba44-0f6f-4f7f-839b-114ea35bfbf9",
   "metadata": {},
   "source": [
    "### Flattening of Image"
   ]
  },
  {
   "cell_type": "code",
   "execution_count": 182,
   "id": "08692f6d-5e2f-4ad6-8a5e-39f198c07efb",
   "metadata": {},
   "outputs": [],
   "source": [
    "def flatten_data(data):\n",
    "    temp = []\n",
    "    for image in data:\n",
    "        k = image.flatten()\n",
    "        temp.append(k)\n",
    "        \n",
    "    return(np.array(temp))"
   ]
  },
  {
   "cell_type": "code",
   "execution_count": 184,
   "id": "10fc89f9-857b-43be-a7e2-faff30543a11",
   "metadata": {},
   "outputs": [],
   "source": [
    "tr_flatten = flatten_data(tr_data)\n",
    "test_flatten = flatten_data(test_data)\n",
    "val_flatten = flatten_data(val_data)"
   ]
  },
  {
   "cell_type": "markdown",
   "id": "310b3979-e47e-4c5f-9a07-37ff00b8bf34",
   "metadata": {},
   "source": [
    "### 3 Layer FCNN"
   ]
  },
  {
   "cell_type": "code",
   "execution_count": null,
   "id": "84c30bf7-7ae2-4739-bc2e-fa86698eda1d",
   "metadata": {},
   "outputs": [],
   "source": []
  },
  {
   "cell_type": "code",
   "execution_count": null,
   "id": "12a2986c-1fa1-4b8e-becd-b447cbdb5303",
   "metadata": {},
   "outputs": [],
   "source": []
  },
  {
   "cell_type": "code",
   "execution_count": 3,
   "id": "ca581f00-111c-49ad-856d-935cae4f7e94",
   "metadata": {},
   "outputs": [
    {
     "ename": "ModuleNotFoundError",
     "evalue": "No module named 'tensorflow'",
     "output_type": "error",
     "traceback": [
      "\u001b[0;31m---------------------------------------------------------------------------\u001b[0m",
      "\u001b[0;31mModuleNotFoundError\u001b[0m                       Traceback (most recent call last)",
      "\u001b[0;32m<ipython-input-3-64156d691fe5>\u001b[0m in \u001b[0;36m<module>\u001b[0;34m\u001b[0m\n\u001b[0;32m----> 1\u001b[0;31m \u001b[0;32mimport\u001b[0m \u001b[0mtensorflow\u001b[0m \u001b[0;32mas\u001b[0m \u001b[0mtf\u001b[0m\u001b[0;34m\u001b[0m\u001b[0;34m\u001b[0m\u001b[0m\n\u001b[0m",
      "\u001b[0;31mModuleNotFoundError\u001b[0m: No module named 'tensorflow'"
     ]
    }
   ],
   "source": [
    "import tensorflow as tf"
   ]
  },
  {
   "cell_type": "code",
   "execution_count": 4,
   "id": "57c7a6d9-69de-4e1b-be34-f73a1ea3ea07",
   "metadata": {},
   "outputs": [],
   "source": [
    "import numpy as np"
   ]
  },
  {
   "cell_type": "code",
   "execution_count": null,
   "id": "07715516-08db-4d5c-b20c-d54e746399eb",
   "metadata": {},
   "outputs": [],
   "source": []
  },
  {
   "cell_type": "code",
   "execution_count": null,
   "id": "74c127fe-b5a2-4fe5-ac3a-f9f640195773",
   "metadata": {},
   "outputs": [],
   "source": []
  },
  {
   "cell_type": "code",
   "execution_count": null,
   "id": "c507d21b-ebca-4079-957d-a6dbeaf9abaa",
   "metadata": {},
   "outputs": [],
   "source": []
  },
  {
   "cell_type": "code",
   "execution_count": null,
   "id": "b6a9877f-1f49-407e-b50f-7dd111255312",
   "metadata": {},
   "outputs": [],
   "source": []
  },
  {
   "cell_type": "code",
   "execution_count": null,
   "id": "80de6ac6-28f9-402f-a709-4df62dcbfdd0",
   "metadata": {},
   "outputs": [],
   "source": []
  },
  {
   "cell_type": "code",
   "execution_count": null,
   "id": "895434b1-2188-4dba-b9a8-157ec1ec024d",
   "metadata": {},
   "outputs": [],
   "source": []
  },
  {
   "cell_type": "code",
   "execution_count": null,
   "id": "1b4b4deb-d8a5-4a15-a197-c1a76fda4555",
   "metadata": {},
   "outputs": [],
   "source": []
  },
  {
   "cell_type": "code",
   "execution_count": null,
   "id": "47dc8375-2d4b-4fa4-9870-3f79cf542f38",
   "metadata": {},
   "outputs": [],
   "source": []
  },
  {
   "cell_type": "code",
   "execution_count": null,
   "id": "b813f74c-07b7-4a20-af52-c5ef2617ce7d",
   "metadata": {},
   "outputs": [],
   "source": []
  },
  {
   "cell_type": "code",
   "execution_count": null,
   "id": "85db4149-62bb-4c9c-83ce-03ab337f9147",
   "metadata": {},
   "outputs": [],
   "source": []
  },
  {
   "cell_type": "code",
   "execution_count": null,
   "id": "f01a4356-c08b-487c-aafa-895099b4b57e",
   "metadata": {},
   "outputs": [],
   "source": []
  },
  {
   "cell_type": "code",
   "execution_count": null,
   "id": "135199fd-a5c4-418a-b170-c6cc77801f51",
   "metadata": {},
   "outputs": [],
   "source": []
  },
  {
   "cell_type": "code",
   "execution_count": null,
   "id": "cac17965-9c7a-4aa6-b436-7f2964eafbe1",
   "metadata": {},
   "outputs": [],
   "source": []
  },
  {
   "cell_type": "code",
   "execution_count": null,
   "id": "60bdfd3f-9360-49b6-befe-73ccc455264e",
   "metadata": {},
   "outputs": [],
   "source": []
  }
 ],
 "metadata": {
  "kernelspec": {
   "display_name": "Python 3",
   "language": "python",
   "name": "python3"
  },
  "language_info": {
   "codemirror_mode": {
    "name": "ipython",
    "version": 3
   },
   "file_extension": ".py",
   "mimetype": "text/x-python",
   "name": "python",
   "nbconvert_exporter": "python",
   "pygments_lexer": "ipython3",
   "version": "3.9.6"
  }
 },
 "nbformat": 4,
 "nbformat_minor": 5
}
