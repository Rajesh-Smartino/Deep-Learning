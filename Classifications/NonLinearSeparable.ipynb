{
 "cells": [
  {
   "cell_type": "markdown",
   "id": "fa395fe2-3624-4b5a-9896-fbd1e6d8c839",
   "metadata": {},
   "source": [
    "# Non Linear Classification"
   ]
  },
  {
   "cell_type": "code",
   "execution_count": 38,
   "id": "860974cb-47b2-4675-9e57-6a4d5ad46335",
   "metadata": {},
   "outputs": [],
   "source": [
    "import pandas as pd\n",
    "from matplotlib import pyplot as plt\n",
    "import numpy as np"
   ]
  },
  {
   "cell_type": "code",
   "execution_count": 25,
   "id": "a71b9414-509d-4a98-b837-3322cf59c762",
   "metadata": {},
   "outputs": [],
   "source": [
    "path = \"/Users/rajeshr/Desktop/Assignment1/Group22/Classification/NLS_Group22.txt\""
   ]
  },
  {
   "cell_type": "code",
   "execution_count": 26,
   "id": "30f53b19-ffc6-4958-82ee-bf6020109147",
   "metadata": {},
   "outputs": [
    {
     "data": {
      "text/html": [
       "<div>\n",
       "<style scoped>\n",
       "    .dataframe tbody tr th:only-of-type {\n",
       "        vertical-align: middle;\n",
       "    }\n",
       "\n",
       "    .dataframe tbody tr th {\n",
       "        vertical-align: top;\n",
       "    }\n",
       "\n",
       "    .dataframe thead th {\n",
       "        text-align: right;\n",
       "    }\n",
       "</style>\n",
       "<table border=\"1\" class=\"dataframe\">\n",
       "  <thead>\n",
       "    <tr style=\"text-align: right;\">\n",
       "      <th></th>\n",
       "      <th>0</th>\n",
       "      <th>1</th>\n",
       "      <th>2</th>\n",
       "    </tr>\n",
       "  </thead>\n",
       "  <tbody>\n",
       "    <tr>\n",
       "      <th>0</th>\n",
       "      <td>-0.266484</td>\n",
       "      <td>0.574908</td>\n",
       "      <td>NaN</td>\n",
       "    </tr>\n",
       "    <tr>\n",
       "      <th>1</th>\n",
       "      <td>-0.336049</td>\n",
       "      <td>0.648162</td>\n",
       "      <td>NaN</td>\n",
       "    </tr>\n",
       "    <tr>\n",
       "      <th>2</th>\n",
       "      <td>0.886191</td>\n",
       "      <td>1.179274</td>\n",
       "      <td>NaN</td>\n",
       "    </tr>\n",
       "    <tr>\n",
       "      <th>3</th>\n",
       "      <td>1.552619</td>\n",
       "      <td>1.225525</td>\n",
       "      <td>NaN</td>\n",
       "    </tr>\n",
       "    <tr>\n",
       "      <th>4</th>\n",
       "      <td>1.831822</td>\n",
       "      <td>0.585167</td>\n",
       "      <td>NaN</td>\n",
       "    </tr>\n",
       "    <tr>\n",
       "      <th>...</th>\n",
       "      <td>...</td>\n",
       "      <td>...</td>\n",
       "      <td>...</td>\n",
       "    </tr>\n",
       "    <tr>\n",
       "      <th>1995</th>\n",
       "      <td>5.862960</td>\n",
       "      <td>-0.063358</td>\n",
       "      <td>NaN</td>\n",
       "    </tr>\n",
       "    <tr>\n",
       "      <th>1996</th>\n",
       "      <td>6.226613</td>\n",
       "      <td>4.057052</td>\n",
       "      <td>NaN</td>\n",
       "    </tr>\n",
       "    <tr>\n",
       "      <th>1997</th>\n",
       "      <td>-0.727913</td>\n",
       "      <td>5.083307</td>\n",
       "      <td>NaN</td>\n",
       "    </tr>\n",
       "    <tr>\n",
       "      <th>1998</th>\n",
       "      <td>-4.949915</td>\n",
       "      <td>-5.809762</td>\n",
       "      <td>NaN</td>\n",
       "    </tr>\n",
       "    <tr>\n",
       "      <th>1999</th>\n",
       "      <td>-6.640634</td>\n",
       "      <td>-0.048539</td>\n",
       "      <td>NaN</td>\n",
       "    </tr>\n",
       "  </tbody>\n",
       "</table>\n",
       "<p>2000 rows × 3 columns</p>\n",
       "</div>"
      ],
      "text/plain": [
       "             0         1   2\n",
       "0    -0.266484  0.574908 NaN\n",
       "1    -0.336049  0.648162 NaN\n",
       "2     0.886191  1.179274 NaN\n",
       "3     1.552619  1.225525 NaN\n",
       "4     1.831822  0.585167 NaN\n",
       "...        ...       ...  ..\n",
       "1995  5.862960 -0.063358 NaN\n",
       "1996  6.226613  4.057052 NaN\n",
       "1997 -0.727913  5.083307 NaN\n",
       "1998 -4.949915 -5.809762 NaN\n",
       "1999 -6.640634 -0.048539 NaN\n",
       "\n",
       "[2000 rows x 3 columns]"
      ]
     },
     "execution_count": 26,
     "metadata": {},
     "output_type": "execute_result"
    }
   ],
   "source": [
    "data = pd.read_csv(path, header=None, delimiter=\" \")\n",
    "data = pd.DataFrame(data)\n",
    "m, n = data.shape\n",
    "data"
   ]
  },
  {
   "cell_type": "code",
   "execution_count": 32,
   "id": "d654b3ec-585d-4a55-be13-9ee22afee7bc",
   "metadata": {},
   "outputs": [],
   "source": [
    "c1x, c1y = [], []\n",
    "c2x, c2y = [], []\n",
    "c3x, c3y = [], []\n",
    "\n",
    "for i in range(500):\n",
    "    c1x.append(data[0][i])\n",
    "    c1y.append(data[1][i])\n",
    "\n",
    "for i in range(501, 1001):\n",
    "    c2x.append(data[0][i])\n",
    "    c2y.append(data[1][i])\n",
    "    \n",
    "for i in range(1001, 2000):\n",
    "    c3x.append(data[0][i])\n",
    "    c3y.append(data[0][i])"
   ]
  },
  {
   "cell_type": "code",
   "execution_count": 34,
   "id": "2ff973a4-1519-47a2-91fd-e275425441e3",
   "metadata": {},
   "outputs": [
    {
     "data": {
      "image/png": "[encoded data removed]",
      "text/plain": [
       "<Figure size 640x480 with 1 Axes>"
      ]
     },
     "metadata": {},
     "output_type": "display_data"
    }
   ],
   "source": [
    "plt.scatter(c1x, c1y)\n",
    "plt.scatter(c2x, c2y)\n",
    "plt.scatter(c3x, c3y)\n",
    "plt.legend(['Class 1','Class 2','Class 3'])\n",
    "plt.title(\"Input Data\")\n",
    "plt.show()"
   ]
  },
  {
   "cell_type": "code",
   "execution_count": 43,
   "id": "d71c45f0-265d-47b4-a4ca-20d8ff226025",
   "metadata": {},
   "outputs": [],
   "source": [
    "n = np.arange(len(c1y))\n",
    "s = pd.Series(c1y, index=n)\n",
    "class1 = pd.DataFrame(c1x, n)\n",
    "class1[1] = s.values\n",
    "\n",
    "n = np.arange(len(c2y))\n",
    "s = pd.Series(c2y, index=n)\n",
    "class2 = pd.DataFrame(c2x, n)\n",
    "class2[1] = s.values\n",
    "\n",
    "n = np.arange(len(c3y))\n",
    "s = pd.Series(c3y, index=n)\n",
    "class3 = pd.DataFrame(c3x, n)\n",
    "class3[1] = s.values"
   ]
  },
  {
   "cell_type": "code",
   "execution_count": 44,
   "id": "9c21a66b-76c3-471b-9666-34c157b56660",
   "metadata": {},
   "outputs": [],
   "source": [
    "def seperatedata(data):\n",
    "    m, n = data.shape\n",
    "    l1 = int(0.6*m) \n",
    "    l2 = l1 + int(0.2*m)\n",
    "    print(m, l1, l2)\n",
    "    \n",
    "    x1, y1 = [], []\n",
    "    x2, y2 = [], []\n",
    "    x3, y3 = [], []\n",
    "    \n",
    "    k1, k2, k3 = [], [], []\n",
    "\n",
    "    for i in range(m):\n",
    "        if i < l1:\n",
    "            x1.append(data[0][i])\n",
    "            y1.append(data[1][i])\n",
    "            k1.append(i)\n",
    "        elif i > l1 and i <= l2:\n",
    "            x2.append(data[0][i])\n",
    "            y2.append(data[1][i])\n",
    "            k2.append(l1-i)\n",
    "        else:\n",
    "            x3.append(data[0][i])\n",
    "            y3.append(data[1][i])\n",
    "            k3.append(l2-i)\n",
    "            \n",
    "    s = pd.Series(y1, index=k1)\n",
    "    training = pd.DataFrame(x1, k1)\n",
    "    training[1] = s.values\n",
    "    \n",
    "    s = pd.Series(y2, index=k2)\n",
    "    validation = pd.DataFrame(x2, k2)\n",
    "    validation[1] = s.values\n",
    "    \n",
    "    s = pd.Series(y3, index=k3)\n",
    "    test = pd.DataFrame(x3, k3)\n",
    "    test[1] = s.values\n",
    "\n",
    "    \n",
    "    return training, validation, test"
   ]
  },
  {
   "cell_type": "code",
   "execution_count": 45,
   "id": "aa111b49-b7cc-41c7-b54a-72420e175ea1",
   "metadata": {},
   "outputs": [
    {
     "name": "stdout",
     "output_type": "stream",
     "text": [
      "500 300 400\n",
      "(300, 2) (100, 2) (100, 2)\n",
      "500 300 400\n",
      "(300, 2) (100, 2) (100, 2)\n",
      "999 599 798\n",
      "(599, 2) (199, 2) (201, 2)\n"
     ]
    }
   ],
   "source": [
    "training1, validation1, test1 = seperatedata(class1)\n",
    "print(training1.shape, validation1.shape, test1.shape)\n",
    "\n",
    "training2, validation2, test2 = seperatedata(class2)\n",
    "print(training2.shape, validation2.shape, test2.shape)\n",
    "\n",
    "training3, validation3, test3 = seperatedata(class3)\n",
    "print(training3.shape, validation3.shape, test3.shape)"
   ]
  },
  {
   "cell_type": "code",
   "execution_count": null,
   "id": "b3677ccc-36a7-4b99-93aa-a6ee16332de0",
   "metadata": {},
   "outputs": [],
   "source": []
  }
 ],
 "metadata": {
  "kernelspec": {
   "display_name": "Python 3",
   "language": "python",
   "name": "python3"
  },
  "language_info": {
   "codemirror_mode": {
    "name": "ipython",
    "version": 3
   },
   "file_extension": ".py",
   "mimetype": "text/x-python",
   "name": "python",
   "nbconvert_exporter": "python",
   "pygments_lexer": "ipython3",
   "version": "3.9.6"
  }
 },
 "nbformat": 4,
 "nbformat_minor": 5
}
