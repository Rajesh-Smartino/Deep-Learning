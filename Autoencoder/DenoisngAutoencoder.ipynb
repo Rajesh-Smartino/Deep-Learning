{
  "cells": [
    {
      "cell_type": "markdown",
      "id": "74f5cbb7",
      "metadata": {
        "id": "74f5cbb7"
      },
      "source": [
        "# Denoising Autoencoder"
      ]
    },
    {
      "cell_type": "code",
      "execution_count": null,
      "id": "6ea8b4c4",
      "metadata": {
        "id": "6ea8b4c4"
      },
      "outputs": [],
      "source": [
        "import numpy as np\n",
        "from matplotlib import pyplot as plt\n",
        "import pandas as pd\n",
        "import os\n",
        "import cv2\n",
        "import zipfile as zip"
      ]
    },
    {
      "cell_type": "code",
      "execution_count": null,
      "id": "872e1e57",
      "metadata": {
        "id": "872e1e57"
      },
      "outputs": [],
      "source": [
        "import tensorflow as tf\n",
        "import numpy as np"
      ]
    },
    {
      "cell_type": "markdown",
      "id": "cbe0a31e",
      "metadata": {
        "id": "cbe0a31e"
      },
      "source": [
        "### Reading data as image and storing it into training, validation and testing"
      ]
    },
    {
      "cell_type": "code",
      "execution_count": null,
      "id": "c310ae05",
      "metadata": {
        "id": "c310ae05"
      },
      "outputs": [],
      "source": [
        "def read_data(path):\n",
        "    \n",
        "    train_path = path+\"/train\"\n",
        "    test_path = path+\"/test\"\n",
        "    validation_path = path+\"/val\"\n",
        "    \n",
        "    tr_data, test_data, val_data = [], [], []\n",
        "    tr_out, test_out, val_out = [], [], []\n",
        "\n",
        "    for i in os.listdir(train_path):\n",
        "\n",
        "        if i != \".DS_Store\":\n",
        "            for j in os.listdir(train_path+\"/\"+i):\n",
        "                tr_data.append(cv2.imread(train_path+\"/\"+i+\"/\"+j, cv2.IMREAD_GRAYSCALE))\n",
        "                tr_out.append(i)\n",
        "\n",
        "            for j in os.listdir(test_path+\"/\"+i):\n",
        "                test_data.append(cv2.imread(test_path+\"/\"+i+\"/\"+j, cv2.IMREAD_GRAYSCALE))\n",
        "                test_out.append(i)\n",
        "\n",
        "            for j in os.listdir(validation_path+\"/\"+i):\n",
        "                val_data.append(cv2.imread(validation_path+\"/\"+i+\"/\"+j, cv2.IMREAD_GRAYSCALE))\n",
        "                val_out.append(i)\n",
        "                \n",
        "                \n",
        "    tr_data, test_data, val_data = np.array(tr_data), np.array(test_data), np.array(val_data)\n",
        "    tr_out, test_out, val_out = np.array(list(map(int, tr_out))), np.array(list(map(int, test_out))), np.array(list(map(int, val_out)))\n",
        "\n",
        "    return tr_data, test_data, val_data, tr_out, test_out, val_out\n",
        "\n"
      ]
    },
    {
      "cell_type": "code",
      "source": [
        "from google.colab import drive\n",
        "drive.mount('/content/drive')"
      ],
      "metadata": {
        "colab": {
          "base_uri": "https://localhost:8080/"
        },
        "id": "nF4rfDLk_T_I",
        "outputId": "78ea89cc-fcdc-47ab-ed30-3900b7f95048"
      },
      "id": "nF4rfDLk_T_I",
      "execution_count": null,
      "outputs": [
        {
          "output_type": "stream",
          "name": "stdout",
          "text": [
            "Drive already mounted at /content/drive; to attempt to forcibly remount, call drive.mount(\"/content/drive\", force_remount=True).\n"
          ]
        }
      ]
    },
    {
      "cell_type": "code",
      "source": [
        "folder = zip.ZipFile(\"/content/drive/MyDrive/Group_22.zip\",'r')\n",
        "folder.extractall(\"content/drive/MyDrive/G22\")"
      ],
      "metadata": {
        "id": "ZnYc3sarAI1l"
      },
      "id": "ZnYc3sarAI1l",
      "execution_count": null,
      "outputs": []
    },
    {
      "cell_type": "code",
      "execution_count": null,
      "id": "255509cd",
      "metadata": {
        "id": "255509cd"
      },
      "outputs": [],
      "source": [
        "path = \"/content/content/drive/MyDrive/G22/Group_22\"\n",
        "tr_data, test_data, val_data, tr_out, test_out, val_out = read_data(path)\n"
      ]
    },
    {
      "cell_type": "code",
      "source": [
        "plt.imshow(tr_data[0])"
      ],
      "metadata": {
        "colab": {
          "base_uri": "https://localhost:8080/",
          "height": 282
        },
        "id": "4Bz6EB8VA8W0",
        "outputId": "d7f1a2d6-e26a-4e65-c014-0f7d20c0f5dd"
      },
      "id": "4Bz6EB8VA8W0",
      "execution_count": null,
      "outputs": [
        {
          "output_type": "execute_result",
          "data": {
            "text/plain": [
              "<matplotlib.image.AxesImage at 0x7f7488e1c510>"
            ]
          },
          "metadata": {},
          "execution_count": 128
        },
        {
          "output_type": "display_data",
          "data": {
            "text/plain": [
              "<Figure size 432x288 with 1 Axes>"
            ],
            "image/png": "[encoded data removed]"
          },
          "metadata": {
            "needs_background": "light"
          }
        }
      ]
    },
    {
      "cell_type": "markdown",
      "id": "4b008548",
      "metadata": {
        "id": "4b008548"
      },
      "source": [
        "# Noisy autoencoder single hidden layer model"
      ]
    },
    {
      "cell_type": "code",
      "execution_count": null,
      "id": "1f0cb3a8",
      "metadata": {
        "colab": {
          "base_uri": "https://localhost:8080/"
        },
        "id": "1f0cb3a8",
        "outputId": "abe3c9da-561b-4027-d87b-1e553214646c"
      },
      "outputs": [
        {
          "output_type": "stream",
          "name": "stdout",
          "text": [
            "(11385, 28, 28, 1)\n"
          ]
        }
      ],
      "source": [
        "tr_data = tr_data.astype('float32') / 255.\n",
        "test_data = test_data.astype('float32') / 255.\n",
        "\n",
        "tr_data = tr_data[..., tf.newaxis]\n",
        "test_data = test_data[..., tf.newaxis]\n",
        "\n",
        "print(tr_data.shape)"
      ]
    },
    {
      "cell_type": "code",
      "execution_count": null,
      "id": "9bc3c763",
      "metadata": {
        "id": "9bc3c763"
      },
      "outputs": [],
      "source": [
        "noise_factor = 0.2\n",
        "noisy_tr = tr_data + noise_factor * tf.random.normal(shape=tr_data.shape) \n",
        "noisy_test = test_data + noise_factor * tf.random.normal(shape=test_data.shape) \n",
        "\n",
        "noisy_tr = tf.clip_by_value(noisy_tr, clip_value_min=0., clip_value_max=1.)\n",
        "noisy_test = tf.clip_by_value(noisy_test, clip_value_min=0., clip_value_max=1.)"
      ]
    },
    {
      "cell_type": "code",
      "execution_count": null,
      "id": "1fc4a709",
      "metadata": {
        "colab": {
          "base_uri": "https://localhost:8080/",
          "height": 158
        },
        "id": "1fc4a709",
        "outputId": "d62c0929-bd7d-4425-bb04-521e912546f8"
      },
      "outputs": [
        {
          "output_type": "display_data",
          "data": {
            "text/plain": [
              "<Figure size 1440x144 with 10 Axes>"
            ],
            "image/png": "[encoded data removed]"
          },
          "metadata": {
            "needs_background": "light"
          }
        }
      ],
      "source": [
        "n = 10\n",
        "plt.figure(figsize=(20, 2))\n",
        "for i in range(n):\n",
        "    k = np.random.randint(1, 3500)\n",
        "    ax = plt.subplot(1, n, i+1)\n",
        "    plt.title(\"Input + Noise\")\n",
        "    plt.imshow(tf.squeeze(noisy_test[k]), cmap='gray')\n",
        "plt.show()"
      ]
    },
    {
      "cell_type": "markdown",
      "id": "b52b4f4a",
      "metadata": {
        "id": "b52b4f4a"
      },
      "source": [
        "### Generating Model"
      ]
    },
    {
      "cell_type": "code",
      "execution_count": null,
      "id": "871ec49c",
      "metadata": {
        "id": "871ec49c"
      },
      "outputs": [],
      "source": [
        "class NoisyAutoencoder(tf.keras.models.Model):\n",
        "  \n",
        "    def __init__(self):\n",
        "        \n",
        "        super(NoisyAutoencoder, self).__init__()\n",
        "        \n",
        "        self.encoder = tf.keras.Sequential([\n",
        "          tf.keras.layers.Flatten(input_shape=(28, 28), name='Input_Layer'),\n",
        "          tf.keras.layers.Dense(256, activation='sigmoid', name='Hidden_Layer_1')])\n",
        "\n",
        "        self.decoder = tf.keras.Sequential([\n",
        "            tf.keras.layers.Dense(784, activation='sigmoid', name='Output_Layer'),\n",
        "            tf.keras.layers.Reshape((28, 28))])\n",
        "          \n",
        "\n",
        "    def call(self, x):\n",
        "        encoded = self.encoder(x)\n",
        "        decoded = self.decoder(encoded)\n",
        "        return decoded\n",
        "\n",
        "noisyautoenoder = NoisyAutoencoder()"
      ]
    },
    {
      "cell_type": "code",
      "execution_count": null,
      "id": "39228ea1",
      "metadata": {
        "id": "39228ea1"
      },
      "outputs": [],
      "source": [
        "noisyautoenoder.compile(optimizer='adam', loss=tf.keras.losses.MeanSquaredError())"
      ]
    },
    {
      "cell_type": "code",
      "execution_count": null,
      "id": "74e06675",
      "metadata": {
        "colab": {
          "base_uri": "https://localhost:8080/",
          "height": 802
        },
        "id": "74e06675",
        "outputId": "ac41992d-ea8d-40a8-8f75-19a1d1233324"
      },
      "outputs": [
        {
          "output_type": "stream",
          "name": "stdout",
          "text": [
            "Epoch 1/10000\n",
            "11385/11385 [==============================] - 37s 3ms/step - loss: 0.0160\n",
            "Epoch 2/10000\n",
            "11385/11385 [==============================] - 38s 3ms/step - loss: 0.0070\n",
            "Epoch 3/10000\n",
            "11385/11385 [==============================] - 37s 3ms/step - loss: 0.0056\n",
            "Epoch 4/10000\n",
            "11385/11385 [==============================] - 39s 3ms/step - loss: 0.0049\n",
            "Epoch 5/10000\n",
            "11385/11385 [==============================] - 38s 3ms/step - loss: 0.0045\n",
            "Epoch 6/10000\n",
            "11385/11385 [==============================] - 38s 3ms/step - loss: 0.0042\n",
            "Epoch 7/10000\n",
            "11385/11385 [==============================] - 37s 3ms/step - loss: 0.0040\n",
            "Epoch 8/10000\n",
            "11385/11385 [==============================] - 38s 3ms/step - loss: 0.0038\n",
            "Epoch 9/10000\n",
            "11385/11385 [==============================] - 39s 3ms/step - loss: 0.0036\n",
            "Epoch 10/10000\n",
            "11385/11385 [==============================] - 36s 3ms/step - loss: 0.0035\n",
            "Epoch 11/10000\n",
            "11385/11385 [==============================] - 37s 3ms/step - loss: 0.0034\n",
            "Epoch 12/10000\n",
            "11385/11385 [==============================] - 40s 3ms/step - loss: 0.0033\n",
            "Epoch 13/10000\n",
            "11385/11385 [==============================] - 39s 3ms/step - loss: 0.0033\n",
            "Epoch 14/10000\n",
            "11385/11385 [==============================] - 39s 3ms/step - loss: 0.0032\n",
            "Epoch 15/10000\n",
            "11385/11385 [==============================] - 38s 3ms/step - loss: 0.0032\n",
            "Epoch 16/10000\n",
            "11385/11385 [==============================] - 36s 3ms/step - loss: 0.0031\n",
            "Epoch 17/10000\n",
            "11385/11385 [==============================] - 37s 3ms/step - loss: 0.0031\n",
            "Epoch 18/10000\n",
            "11385/11385 [==============================] - 36s 3ms/step - loss: 0.0030\n",
            "Epoch 19/10000\n",
            "11385/11385 [==============================] - 37s 3ms/step - loss: 0.0030\n",
            "Epoch 20/10000\n",
            "11385/11385 [==============================] - 38s 3ms/step - loss: 0.0030\n",
            "Epoch 21/10000\n",
            "11385/11385 [==============================] - 42s 4ms/step - loss: 0.0029\n",
            "Epoch 22/10000\n",
            "11385/11385 [==============================] - 42s 4ms/step - loss: 0.0029\n"
          ]
        },
        {
          "output_type": "execute_result",
          "data": {
            "text/plain": [
              "'\\nnoisyautoenoder.fit(noisy_tr, tr_data,\\n                epochs=10,\\n                shuffle=True,\\n                validation_data=(noisy_test, test_data))\\n'"
            ],
            "application/vnd.google.colaboratory.intrinsic+json": {
              "type": "string"
            }
          },
          "metadata": {},
          "execution_count": 171
        }
      ],
      "source": [
        "callback = tf.keras.callbacks.EarlyStopping(monitor='loss',min_delta=0.0001,patience=3)\n",
        "trained = noisyautoenoder.fit(noisy_tr, tr_data, epochs=10000, batch_size=1, callbacks=callback)\n",
        "\n",
        "'''\n",
        "noisyautoenoder.fit(noisy_tr, tr_data,\n",
        "                epochs=10,\n",
        "                shuffle=True,\n",
        "                validation_data=(noisy_test, test_data))\n",
        "'''"
      ]
    },
    {
      "cell_type": "code",
      "execution_count": null,
      "id": "8d42b68b",
      "metadata": {
        "colab": {
          "base_uri": "https://localhost:8080/",
          "height": 295
        },
        "id": "8d42b68b",
        "outputId": "533756dc-6c37-4cc1-9a78-85b1b519d945"
      },
      "outputs": [
        {
          "output_type": "display_data",
          "data": {
            "text/plain": [
              "<Figure size 432x288 with 1 Axes>"
            ],
            "image/png": "[encoded data removed]"
          },
          "metadata": {
            "needs_background": "light"
          }
        }
      ],
      "source": [
        "#Plotting error vs epoch graph\n",
        "plt.plot(trained.history['loss'])\n",
        "plt.title(\"Average Training Error Vs Epoch\")\n",
        "plt.xlabel(\"epochs\")\n",
        "plt.ylabel(\"Average error\")\n",
        "#plt.savefig(\"/Users/rajeshr/Desktop/errorvsepoch\"+str(np.random.randint(1, 100000))+\".png\")\n",
        "plt.show()"
      ]
    },
    {
      "cell_type": "code",
      "execution_count": null,
      "id": "919bd7ff",
      "metadata": {
        "colab": {
          "base_uri": "https://localhost:8080/"
        },
        "id": "919bd7ff",
        "outputId": "a38aca73-247a-4028-cba0-6145ee90c008"
      },
      "outputs": [
        {
          "output_type": "stream",
          "name": "stdout",
          "text": [
            "Model: \"sequential_28\"\n",
            "_________________________________________________________________\n",
            " Layer (type)                Output Shape              Param #   \n",
            "=================================================================\n",
            " Input_Layer (Flatten)       (None, 784)               0         \n",
            "                                                                 \n",
            " Hidden_Layer_1 (Dense)      (None, 256)               200960    \n",
            "                                                                 \n",
            "=================================================================\n",
            "Total params: 200,960\n",
            "Trainable params: 200,960\n",
            "Non-trainable params: 0\n",
            "_________________________________________________________________\n",
            "Model: \"sequential_29\"\n",
            "_________________________________________________________________\n",
            " Layer (type)                Output Shape              Param #   \n",
            "=================================================================\n",
            " Output_Layer (Dense)        (1, 784)                  201488    \n",
            "                                                                 \n",
            " reshape_4 (Reshape)         (1, 28, 28)               0         \n",
            "                                                                 \n",
            "=================================================================\n",
            "Total params: 201,488\n",
            "Trainable params: 201,488\n",
            "Non-trainable params: 0\n",
            "_________________________________________________________________\n"
          ]
        }
      ],
      "source": [
        "noisyautoenoder.encoder.summary()\n",
        "noisyautoenoder.decoder.summary()"
      ]
    },
    {
      "cell_type": "code",
      "execution_count": null,
      "id": "705829ef",
      "metadata": {
        "id": "705829ef"
      },
      "outputs": [],
      "source": [
        "encoded_imgs = noisyautoenoder.encoder(noisy_test).numpy()\n",
        "decoded_imgs = noisyautoenoder.decoder(encoded_imgs).numpy()"
      ]
    },
    {
      "cell_type": "code",
      "execution_count": null,
      "id": "b053aa8b",
      "metadata": {
        "colab": {
          "base_uri": "https://localhost:8080/",
          "height": 216
        },
        "id": "b053aa8b",
        "outputId": "6bc9690e-f569-4954-c103-2d4d11647831"
      },
      "outputs": [
        {
          "output_type": "display_data",
          "data": {
            "text/plain": [
              "<Figure size 432x288 with 2 Axes>"
            ],
            "image/png": "[encoded data removed]"
          },
          "metadata": {
            "needs_background": "light"
          }
        }
      ],
      "source": [
        "k = np.random.randint(1, 3500)\n",
        "\n",
        "plt.subplot(1, 2, 1)\n",
        "plt.title(\"Input+noise\")\n",
        "plt.imshow(tf.squeeze(noisy_test[k]), cmap='gray')\n",
        "\n",
        "plt.subplot(1, 2, 2)\n",
        "plt.title(\"Reconstructed\")\n",
        "plt.imshow(tf.squeeze(decoded_imgs[k]), cmap='gray')\n",
        "\n",
        "#plt.savefig(\"/Users/rajeshr/Desktop/output\"+str(np.random.randint(1, 100000))+\".png\")\n",
        "plt.show()"
      ]
    },
    {
      "cell_type": "markdown",
      "id": "8bc25d8a",
      "metadata": {
        "id": "8bc25d8a"
      },
      "source": [
        "### Weight visualization"
      ]
    },
    {
      "cell_type": "code",
      "execution_count": null,
      "id": "afa75eb8",
      "metadata": {
        "id": "afa75eb8"
      },
      "outputs": [],
      "source": [
        "from keras import get_activations, display_activations"
      ]
    },
    {
      "cell_type": "code",
      "execution_count": null,
      "id": "6d8240cf",
      "metadata": {
        "id": "6d8240cf"
      },
      "outputs": [],
      "source": [
        "input_sample = test_data[:1]\n",
        "\n",
        "activations = get_activations(encoder, input_sample)\n",
        "display_activations(activations, cmap=\"gray\", save=False)"
      ]
    },
    {
      "cell_type": "code",
      "execution_count": null,
      "id": "912cb90b",
      "metadata": {
        "id": "912cb90b"
      },
      "outputs": [],
      "source": [
        ""
      ]
    },
    {
      "cell_type": "code",
      "execution_count": null,
      "id": "344981c5",
      "metadata": {
        "id": "344981c5"
      },
      "outputs": [],
      "source": [
        ""
      ]
    },
    {
      "cell_type": "code",
      "execution_count": null,
      "id": "d2d75585",
      "metadata": {
        "colab": {
          "base_uri": "https://localhost:8080/"
        },
        "id": "d2d75585",
        "outputId": "c3947894-7b58-4c33-b4b1-d2494f852370"
      },
      "outputs": [
        {
          "output_type": "execute_result",
          "data": {
            "text/plain": [
              "(784, 256)"
            ]
          },
          "metadata": {},
          "execution_count": 144
        }
      ],
      "source": [
        "weight1 = noisyautoenoder.layers[0].get_weights()\n",
        "weight1[0].shape\n",
        "#weight1"
      ]
    },
    {
      "cell_type": "code",
      "execution_count": null,
      "id": "77cd2571",
      "metadata": {
        "colab": {
          "base_uri": "https://localhost:8080/"
        },
        "id": "77cd2571",
        "outputId": "4f2d6aa5-e9ec-43f3-c722-3dca0c54a9fa"
      },
      "outputs": [
        {
          "output_type": "execute_result",
          "data": {
            "text/plain": [
              "(256, 784)"
            ]
          },
          "metadata": {},
          "execution_count": 145
        }
      ],
      "source": [
        "weight2 = noisyautoenoder.layers[1].get_weights()\n",
        "weight2[0].shape"
      ]
    },
    {
      "cell_type": "code",
      "execution_count": null,
      "id": "574995e8",
      "metadata": {
        "colab": {
          "base_uri": "https://localhost:8080/"
        },
        "id": "574995e8",
        "outputId": "56d35f5f-1fb1-41ce-c3d2-54d261fb6b75"
      },
      "outputs": [
        {
          "output_type": "execute_result",
          "data": {
            "text/plain": [
              "(256, 28, 28)"
            ]
          },
          "metadata": {},
          "execution_count": 146
        }
      ],
      "source": [
        "w1 = []\n",
        "\n",
        "for w in weight1[0].T:\n",
        "    w1.append(w.reshape(28, 28))\n",
        "    \n",
        "w1 = np.array(w1)\n",
        "w1.shape"
      ]
    },
    {
      "cell_type": "code",
      "execution_count": null,
      "id": "81e6ae89",
      "metadata": {
        "colab": {
          "base_uri": "https://localhost:8080/",
          "height": 1000
        },
        "id": "81e6ae89",
        "outputId": "f16bf79a-e6e9-422d-d91f-35b4a9ff509c"
      },
      "outputs": [
        {
          "output_type": "display_data",
          "data": {
            "text/plain": [
              "<Figure size 1800x1800 with 9 Axes>"
            ],
            "image/png": "[encoded data removed]"
          },
          "metadata": {
            "needs_background": "light"
          }
        }
      ],
      "source": [
        "n = 9\n",
        "plt.figure(figsize=(25, 25))\n",
        "for i in range(n):\n",
        "    k = np.random.randint(0, 256)\n",
        "    ax = plt.subplot(3, 3, i+1)\n",
        "    plt.title(\"Node no: \"+str(k))\n",
        "    plt.imshow(w1[k], cmap='gray')\n",
        "    \n",
        "#plt.savefig(\"/Users/rajeshr/Desktop/weightvisualization\"+str(np.random.randint(1, 100000))+\".png\")\n",
        "plt.show()"
      ]
    },
    {
      "cell_type": "code",
      "execution_count": null,
      "id": "dee3ab50",
      "metadata": {
        "colab": {
          "base_uri": "https://localhost:8080/"
        },
        "id": "dee3ab50",
        "outputId": "e3334a7b-dfd4-44b4-ea53-c4412d6f9919"
      },
      "outputs": [
        {
          "output_type": "execute_result",
          "data": {
            "text/plain": [
              "(256, 28, 28)"
            ]
          },
          "metadata": {},
          "execution_count": 150
        }
      ],
      "source": [
        "w2 = []\n",
        "\n",
        "for w in weight2[0]:\n",
        "    w2.append(w.reshape(28, 28))\n",
        "    \n",
        "w2 = np.array(w2)\n",
        "w2.shape"
      ]
    },
    {
      "cell_type": "code",
      "execution_count": null,
      "id": "c209cd26",
      "metadata": {
        "colab": {
          "base_uri": "https://localhost:8080/",
          "height": 1000
        },
        "id": "c209cd26",
        "outputId": "abc03143-d1a7-4198-e82d-8819fea29f0c"
      },
      "outputs": [
        {
          "output_type": "display_data",
          "data": {
            "text/plain": [
              "<Figure size 1800x1800 with 9 Axes>"
            ],
            "image/png": "[encoded data removed]"
          },
          "metadata": {
            "needs_background": "light"
          }
        }
      ],
      "source": [
        "n = 9\n",
        "plt.figure(figsize=(25, 25))\n",
        "for i in range(n):\n",
        "    k = np.random.randint(0, 256)\n",
        "    ax = plt.subplot(3, 3, i+1)\n",
        "    plt.title(\"Node no: \"+str(k))\n",
        "    plt.imshow(w2[k])\n",
        "    \n",
        "#plt.savefig(\"/Users/rajeshr/Desktop/weightvisualization\"+str(np.random.randint(1, 100000))+\".png\")\n",
        "plt.show()"
      ]
    },
    {
      "cell_type": "markdown",
      "id": "8534a75c",
      "metadata": {
        "id": "8534a75c"
      },
      "source": [
        "### Classification"
      ]
    },
    {
      "cell_type": "code",
      "execution_count": null,
      "id": "48764583",
      "metadata": {
        "id": "48764583"
      },
      "outputs": [],
      "source": [
        "encoded_tr = noisyautoenoder.encoder(noisy_tr).numpy()\n",
        "decoded_tr = noisyautoenoder.decoder(encoded_imgs).numpy()\n",
        "from tensorflow.keras.utils import  to_categorical\n",
        "\n",
        "encoded_val=noisyautoenoder.encoder(val_data).numpy()"
      ]
    },
    {
      "cell_type": "code",
      "source": [
        "y_train=to_categorical(tr_out)\n",
        "y_val=to_categorical(val_out)\n",
        "y_test=to_categorical(test_out)"
      ],
      "metadata": {
        "id": "WnOMPA3kEhuN"
      },
      "id": "WnOMPA3kEhuN",
      "execution_count": null,
      "outputs": []
    },
    {
      "cell_type": "markdown",
      "source": [
        "classifier"
      ],
      "metadata": {
        "id": "jku3fmwt4NZo"
      },
      "id": "jku3fmwt4NZo"
    },
    {
      "cell_type": "code",
      "source": [
        "encoded_tr_1 = noisyautoenoder.encoder(tr_data).numpy()"
      ],
      "metadata": {
        "id": "qlbL59J3F3Ej"
      },
      "id": "qlbL59J3F3Ej",
      "execution_count": null,
      "outputs": []
    },
    {
      "cell_type": "code",
      "execution_count": null,
      "id": "0d8f0ccd",
      "metadata": {
        "scrolled": true,
        "id": "0d8f0ccd"
      },
      "outputs": [],
      "source": [
        ""
      ]
    },
    {
      "cell_type": "code",
      "execution_count": null,
      "id": "48dd66a4",
      "metadata": {
        "colab": {
          "base_uri": "https://localhost:8080/"
        },
        "id": "48dd66a4",
        "outputId": "2fc552f3-27f9-4fd6-8901-79fed19d55fa"
      },
      "outputs": [
        {
          "output_type": "stream",
          "name": "stdout",
          "text": [
            "Epoch 1/100\n",
            "356/356 [==============================] - 7s 18ms/step - loss: 0.5284 - accuracy: 0.7973 - val_loss: 0.4204 - val_accuracy: 0.8522\n",
            "Epoch 2/100\n",
            "356/356 [==============================] - 6s 15ms/step - loss: 0.1906 - accuracy: 0.9376 - val_loss: 0.2559 - val_accuracy: 0.9217\n",
            "Epoch 3/100\n",
            "356/356 [==============================] - 6s 16ms/step - loss: 0.1716 - accuracy: 0.9452 - val_loss: 0.2212 - val_accuracy: 0.9241\n",
            "Epoch 4/100\n",
            "356/356 [==============================] - 5s 15ms/step - loss: 0.1556 - accuracy: 0.9495 - val_loss: 0.2513 - val_accuracy: 0.9167\n",
            "Epoch 5/100\n",
            "356/356 [==============================] - 5s 15ms/step - loss: 0.1346 - accuracy: 0.9548 - val_loss: 0.2584 - val_accuracy: 0.9181\n",
            "Epoch 6/100\n",
            "356/356 [==============================] - 6s 16ms/step - loss: 0.1248 - accuracy: 0.9585 - val_loss: 0.2454 - val_accuracy: 0.9212\n",
            "Epoch 7/100\n",
            "356/356 [==============================] - 5s 15ms/step - loss: 0.1005 - accuracy: 0.9673 - val_loss: 0.2439 - val_accuracy: 0.9209\n",
            "Epoch 8/100\n",
            "356/356 [==============================] - 6s 15ms/step - loss: 0.0864 - accuracy: 0.9722 - val_loss: 0.2453 - val_accuracy: 0.9265\n",
            "Epoch 9/100\n",
            "356/356 [==============================] - 5s 15ms/step - loss: 0.0724 - accuracy: 0.9769 - val_loss: 0.1831 - val_accuracy: 0.9418\n",
            "Epoch 10/100\n",
            "356/356 [==============================] - 6s 16ms/step - loss: 0.0607 - accuracy: 0.9809 - val_loss: 0.2101 - val_accuracy: 0.9389\n",
            "Epoch 11/100\n",
            "356/356 [==============================] - 5s 15ms/step - loss: 0.0544 - accuracy: 0.9836 - val_loss: 0.2155 - val_accuracy: 0.9399\n",
            "Epoch 12/100\n",
            "356/356 [==============================] - 6s 16ms/step - loss: 0.0412 - accuracy: 0.9874 - val_loss: 0.2095 - val_accuracy: 0.9399\n",
            "Epoch 13/100\n",
            "356/356 [==============================] - 6s 16ms/step - loss: 0.0427 - accuracy: 0.9861 - val_loss: 0.1920 - val_accuracy: 0.9402\n",
            "Epoch 14/100\n",
            "356/356 [==============================] - 6s 16ms/step - loss: 0.0309 - accuracy: 0.9904 - val_loss: 0.1869 - val_accuracy: 0.9505\n",
            "Epoch 15/100\n",
            "356/356 [==============================] - 5s 15ms/step - loss: 0.0297 - accuracy: 0.9907 - val_loss: 0.3287 - val_accuracy: 0.9099\n",
            "Epoch 16/100\n",
            "356/356 [==============================] - 6s 16ms/step - loss: 0.0194 - accuracy: 0.9939 - val_loss: 0.2145 - val_accuracy: 0.9513\n",
            "Epoch 17/100\n",
            "356/356 [==============================] - 6s 16ms/step - loss: 0.0226 - accuracy: 0.9927 - val_loss: 0.2073 - val_accuracy: 0.9484\n",
            "Epoch 18/100\n",
            "356/356 [==============================] - 6s 16ms/step - loss: 0.0142 - accuracy: 0.9956 - val_loss: 0.2721 - val_accuracy: 0.9402\n",
            "Epoch 19/100\n",
            "356/356 [==============================] - 6s 16ms/step - loss: 0.0155 - accuracy: 0.9948 - val_loss: 0.2536 - val_accuracy: 0.9455\n",
            "Epoch 20/100\n",
            "356/356 [==============================] - 6s 16ms/step - loss: 0.0120 - accuracy: 0.9967 - val_loss: 0.3110 - val_accuracy: 0.9304\n",
            "Epoch 21/100\n",
            "356/356 [==============================] - 6s 15ms/step - loss: 0.0155 - accuracy: 0.9952 - val_loss: 0.1840 - val_accuracy: 0.9568\n",
            "Epoch 22/100\n",
            "356/356 [==============================] - 5s 15ms/step - loss: 0.0064 - accuracy: 0.9988 - val_loss: 0.2443 - val_accuracy: 0.9531\n",
            "Epoch 23/100\n",
            "356/356 [==============================] - 6s 16ms/step - loss: 0.0034 - accuracy: 0.9996 - val_loss: 0.2964 - val_accuracy: 0.9439\n",
            "Epoch 24/100\n",
            "356/356 [==============================] - 6s 16ms/step - loss: 0.0215 - accuracy: 0.9930 - val_loss: 0.3184 - val_accuracy: 0.9365\n",
            "Epoch 25/100\n",
            "356/356 [==============================] - 6s 16ms/step - loss: 0.0122 - accuracy: 0.9958 - val_loss: 0.2370 - val_accuracy: 0.9539\n",
            "Epoch 26/100\n",
            "356/356 [==============================] - 6s 16ms/step - loss: 0.0068 - accuracy: 0.9980 - val_loss: 0.2506 - val_accuracy: 0.9510\n",
            "Epoch 27/100\n",
            "356/356 [==============================] - 6s 16ms/step - loss: 0.0103 - accuracy: 0.9966 - val_loss: 0.2446 - val_accuracy: 0.9555\n",
            "Epoch 28/100\n",
            "356/356 [==============================] - 6s 16ms/step - loss: 0.0091 - accuracy: 0.9973 - val_loss: 0.2854 - val_accuracy: 0.9486\n",
            "Epoch 29/100\n",
            "356/356 [==============================] - 6s 16ms/step - loss: 0.0147 - accuracy: 0.9960 - val_loss: 0.2696 - val_accuracy: 0.9555\n",
            "Epoch 30/100\n",
            "356/356 [==============================] - 6s 16ms/step - loss: 0.0101 - accuracy: 0.9975 - val_loss: 0.2019 - val_accuracy: 0.9621\n",
            "Epoch 31/100\n",
            "356/356 [==============================] - 6s 17ms/step - loss: 0.0024 - accuracy: 0.9997 - val_loss: 0.1980 - val_accuracy: 0.9621\n",
            "Epoch 32/100\n",
            "356/356 [==============================] - 6s 16ms/step - loss: 0.0022 - accuracy: 0.9997 - val_loss: 0.2112 - val_accuracy: 0.9607\n",
            "Epoch 33/100\n",
            "356/356 [==============================] - 6s 17ms/step - loss: 0.0021 - accuracy: 0.9997 - val_loss: 0.2180 - val_accuracy: 0.9602\n",
            "Epoch 34/100\n",
            "356/356 [==============================] - 6s 16ms/step - loss: 0.0021 - accuracy: 0.9997 - val_loss: 0.2340 - val_accuracy: 0.9599\n",
            "Epoch 35/100\n",
            "356/356 [==============================] - 6s 16ms/step - loss: 0.0019 - accuracy: 0.9997 - val_loss: 0.2706 - val_accuracy: 0.9573\n",
            "Epoch 36/100\n",
            "356/356 [==============================] - 6s 16ms/step - loss: 0.0274 - accuracy: 0.9928 - val_loss: 0.3433 - val_accuracy: 0.9370\n",
            "Epoch 37/100\n",
            "356/356 [==============================] - 6s 16ms/step - loss: 0.0035 - accuracy: 0.9992 - val_loss: 0.1836 - val_accuracy: 0.9668\n",
            "Epoch 38/100\n",
            "356/356 [==============================] - 6s 16ms/step - loss: 0.0022 - accuracy: 0.9996 - val_loss: 0.2821 - val_accuracy: 0.9565\n",
            "Epoch 39/100\n",
            "356/356 [==============================] - 6s 16ms/step - loss: 0.0235 - accuracy: 0.9936 - val_loss: 0.2091 - val_accuracy: 0.9523\n",
            "Epoch 40/100\n",
            "356/356 [==============================] - 6s 16ms/step - loss: 0.0025 - accuracy: 0.9996 - val_loss: 0.2606 - val_accuracy: 0.9515\n",
            "Epoch 41/100\n",
            "356/356 [==============================] - 6s 16ms/step - loss: 0.0013 - accuracy: 0.9998 - val_loss: 0.2153 - val_accuracy: 0.9613\n",
            "Epoch 42/100\n",
            "356/356 [==============================] - 6s 17ms/step - loss: 0.0015 - accuracy: 0.9996 - val_loss: 0.2126 - val_accuracy: 0.9631\n",
            "Epoch 43/100\n",
            "356/356 [==============================] - 6s 16ms/step - loss: 0.0010 - accuracy: 0.9998 - val_loss: 0.2340 - val_accuracy: 0.9605\n",
            "Epoch 44/100\n",
            "356/356 [==============================] - 6s 16ms/step - loss: 9.0409e-04 - accuracy: 0.9999 - val_loss: 0.2424 - val_accuracy: 0.9597\n",
            "Epoch 45/100\n",
            "356/356 [==============================] - 6s 16ms/step - loss: 8.5988e-04 - accuracy: 0.9999 - val_loss: 0.2155 - val_accuracy: 0.9636\n",
            "Epoch 46/100\n",
            "356/356 [==============================] - 6s 16ms/step - loss: 8.3993e-04 - accuracy: 0.9999 - val_loss: 0.2380 - val_accuracy: 0.9613\n",
            "Epoch 47/100\n",
            "356/356 [==============================] - 6s 16ms/step - loss: 7.6063e-04 - accuracy: 0.9999 - val_loss: 0.2293 - val_accuracy: 0.9631\n",
            "Epoch 48/100\n",
            "356/356 [==============================] - 6s 16ms/step - loss: 0.0316 - accuracy: 0.9923 - val_loss: 0.1954 - val_accuracy: 0.9576\n",
            "Epoch 49/100\n",
            "356/356 [==============================] - 6s 16ms/step - loss: 0.0049 - accuracy: 0.9985 - val_loss: 0.1837 - val_accuracy: 0.9636\n",
            "Epoch 50/100\n",
            "356/356 [==============================] - 6s 16ms/step - loss: 0.0015 - accuracy: 0.9997 - val_loss: 0.2004 - val_accuracy: 0.9631\n",
            "Epoch 51/100\n",
            "356/356 [==============================] - 6s 16ms/step - loss: 7.5858e-04 - accuracy: 0.9999 - val_loss: 0.2046 - val_accuracy: 0.9644\n",
            "Epoch 52/100\n",
            "356/356 [==============================] - 6s 16ms/step - loss: 6.0371e-04 - accuracy: 0.9999 - val_loss: 0.1999 - val_accuracy: 0.9655\n",
            "Epoch 53/100\n",
            "356/356 [==============================] - 6s 16ms/step - loss: 5.0152e-04 - accuracy: 0.9999 - val_loss: 0.1993 - val_accuracy: 0.9655\n",
            "Epoch 54/100\n",
            "356/356 [==============================] - 6s 16ms/step - loss: 4.8507e-04 - accuracy: 0.9998 - val_loss: 0.2003 - val_accuracy: 0.9660\n",
            "Epoch 55/100\n",
            "356/356 [==============================] - 6s 16ms/step - loss: 3.7015e-04 - accuracy: 0.9999 - val_loss: 0.2168 - val_accuracy: 0.9644\n",
            "Epoch 56/100\n",
            "356/356 [==============================] - 6s 16ms/step - loss: 0.0213 - accuracy: 0.9947 - val_loss: 0.1639 - val_accuracy: 0.9623\n",
            "Epoch 57/100\n",
            "356/356 [==============================] - 6s 16ms/step - loss: 0.0052 - accuracy: 0.9990 - val_loss: 0.1903 - val_accuracy: 0.9615\n",
            "Epoch 58/100\n",
            "356/356 [==============================] - 6s 16ms/step - loss: 0.0032 - accuracy: 0.9990 - val_loss: 0.2347 - val_accuracy: 0.9547\n",
            "Epoch 59/100\n",
            "356/356 [==============================] - 6s 16ms/step - loss: 0.0021 - accuracy: 0.9993 - val_loss: 0.2776 - val_accuracy: 0.9489\n",
            "Epoch 60/100\n",
            "356/356 [==============================] - 5s 15ms/step - loss: 0.0056 - accuracy: 0.9985 - val_loss: 0.2286 - val_accuracy: 0.9610\n",
            "Epoch 61/100\n",
            "356/356 [==============================] - 6s 16ms/step - loss: 4.2169e-04 - accuracy: 0.9999 - val_loss: 0.2280 - val_accuracy: 0.9613\n",
            "Epoch 62/100\n",
            "356/356 [==============================] - 6s 16ms/step - loss: 3.0755e-04 - accuracy: 0.9999 - val_loss: 0.2359 - val_accuracy: 0.9602\n",
            "Epoch 63/100\n",
            "356/356 [==============================] - 6s 16ms/step - loss: 2.3094e-04 - accuracy: 0.9999 - val_loss: 0.2201 - val_accuracy: 0.9650\n",
            "Epoch 64/100\n",
            "356/356 [==============================] - 5s 15ms/step - loss: 8.4592e-04 - accuracy: 0.9996 - val_loss: 0.2159 - val_accuracy: 0.9655\n",
            "Epoch 65/100\n",
            "356/356 [==============================] - 6s 16ms/step - loss: 4.9353e-04 - accuracy: 0.9999 - val_loss: 0.2367 - val_accuracy: 0.9652\n",
            "Epoch 66/100\n",
            "356/356 [==============================] - 6s 16ms/step - loss: 2.3564e-04 - accuracy: 0.9999 - val_loss: 0.2429 - val_accuracy: 0.9639\n",
            "Epoch 67/100\n",
            "356/356 [==============================] - 6s 16ms/step - loss: 1.9501e-04 - accuracy: 0.9999 - val_loss: 0.2414 - val_accuracy: 0.9657\n",
            "Epoch 68/100\n",
            "356/356 [==============================] - 6s 16ms/step - loss: 1.4622e-04 - accuracy: 0.9999 - val_loss: 0.2739 - val_accuracy: 0.9607\n",
            "Epoch 69/100\n",
            "356/356 [==============================] - 6s 16ms/step - loss: 1.7707e-04 - accuracy: 0.9999 - val_loss: 0.2478 - val_accuracy: 0.9657\n",
            "Epoch 70/100\n",
            "356/356 [==============================] - 6s 16ms/step - loss: 0.0295 - accuracy: 0.9931 - val_loss: 0.2097 - val_accuracy: 0.9592\n",
            "Epoch 71/100\n",
            "356/356 [==============================] - 6s 16ms/step - loss: 0.0024 - accuracy: 0.9990 - val_loss: 0.2105 - val_accuracy: 0.9623\n",
            "Epoch 72/100\n",
            "356/356 [==============================] - 6s 16ms/step - loss: 3.8815e-04 - accuracy: 0.9999 - val_loss: 0.2164 - val_accuracy: 0.9636\n",
            "Epoch 73/100\n",
            "356/356 [==============================] - 6s 17ms/step - loss: 1.9517e-04 - accuracy: 0.9999 - val_loss: 0.2212 - val_accuracy: 0.9644\n"
          ]
        }
      ],
      "source": [
        "\n",
        "classifier = tf.keras.models.Sequential([\n",
        "    #tf.keras.layers.Flatten(input_shape=(28, 28), name='Input_Layer'),\n",
        "    tf.keras.layers.Dense(1024, activation='sigmoid', name='Hidden_Layer_1'),\n",
        "    tf.keras.layers.Dense(512, activation='sigmoid', name='Hidden_Layer_2'),\n",
        "    tf.keras.layers.Dense(256, activation='sigmoid', name='Hidden_Layer_3'),\n",
        "    tf.keras.layers.Dense(10, activation='softmax', name='Output_Layer')\n",
        "])\n",
        "optimizer = tf.keras.optimizers.Adam(\n",
        "    learning_rate=0.001,\n",
        "    beta_1=0.9,\n",
        "    beta_2=0.999,\n",
        "    epsilon=1e-08,\n",
        "    name='Adam')\n",
        "classifier.compile(optimizer=optimizer,\n",
        "             loss='categorical_crossentropy',\n",
        "             metrics=['accuracy'])\n",
        "callback = tf.keras.callbacks.EarlyStopping(monitor='loss',min_delta=0.0001,patience=10)\n",
        "trained = classifier.fit(encoded_tr_1, y_train, epochs=100, validation_data=(encoded_val,y_val),callbacks=callback)\n",
        "\n"
      ]
    },
    {
      "cell_type": "code",
      "source": [
        "encoded_val = noisyautoenoder.encoder(val_data).numpy()\n"
      ],
      "metadata": {
        "id": "Q9qJ6NwLJE0h"
      },
      "id": "Q9qJ6NwLJE0h",
      "execution_count": null,
      "outputs": []
    },
    {
      "cell_type": "code",
      "execution_count": null,
      "id": "baed6703",
      "metadata": {
        "colab": {
          "base_uri": "https://localhost:8080/"
        },
        "id": "baed6703",
        "outputId": "7054996e-b06d-43e7-d4fb-3c6f7e1c791c"
      },
      "outputs": [
        {
          "output_type": "stream",
          "name": "stdout",
          "text": [
            "119/119 [==============================] - 1s 5ms/step - loss: 0.8529 - accuracy: 0.8443\n"
          ]
        }
      ],
      "source": [
        "loss, mse = classifier.evaluate(encoded_val, y_val)"
      ]
    },
    {
      "cell_type": "markdown",
      "source": [
        "classifer 2"
      ],
      "metadata": {
        "id": "62y0RLu6Vddb"
      },
      "id": "62y0RLu6Vddb"
    },
    {
      "cell_type": "markdown",
      "source": [
        "classifier 3"
      ],
      "metadata": {
        "id": "XdueBFLHZQgC"
      },
      "id": "XdueBFLHZQgC"
    },
    {
      "cell_type": "code",
      "source": [
        "classifier2 = tf.keras.models.Sequential([\n",
        "    #tf.keras.layers.Flatten(input_shape=(28, 28), name='Input_Layer'),\n",
        "    tf.keras.layers.Dense(1024, activation='sigmoid', name='Hidden_Layer_1'),\n",
        "    tf.keras.layers.Dense(512, activation='sigmoid', name='Hidden_Layer_2'),\n",
        "    tf.keras.layers.Dense(256, activation='sigmoid', name='Hidden_Layer_3'),\n",
        "    tf.keras.layers.Dense(10, activation='softmax', name='Output_Layer')\n",
        "])\n",
        "optimizer = tf.keras.optimizers.Adam(\n",
        "    learning_rate=0.001,\n",
        "    beta_1=0.9,\n",
        "    beta_2=0.999,\n",
        "    epsilon=1e-08,\n",
        "    name='Adam')\n",
        "classifier2.compile(optimizer=optimizer,\n",
        "             loss='categorical_crossentropy',\n",
        "             metrics=['accuracy'])\n",
        "callback = tf.keras.callbacks.EarlyStopping(monitor='loss',min_delta=0.0001,patience=10)\n",
        "trained = classifier2.fit(encoded_tr, y_train, epochs=100, validation_data=(encoded_val,y_val),callbacks=callback)"
      ],
      "metadata": {
        "colab": {
          "base_uri": "https://localhost:8080/"
        },
        "id": "M6rrHL6FZSiQ",
        "outputId": "76fb885f-eba1-4883-9912-52229fc3d4e0"
      },
      "id": "M6rrHL6FZSiQ",
      "execution_count": null,
      "outputs": [
        {
          "output_type": "stream",
          "name": "stdout",
          "text": [
            "Epoch 1/100\n",
            "356/356 [==============================] - 6s 15ms/step - loss: 0.5450 - accuracy: 0.7903 - val_loss: 0.2817 - val_accuracy: 0.9033\n",
            "Epoch 2/100\n",
            "356/356 [==============================] - 5s 15ms/step - loss: 0.2322 - accuracy: 0.9169 - val_loss: 0.2625 - val_accuracy: 0.9117\n",
            "Epoch 3/100\n",
            "356/356 [==============================] - 5s 14ms/step - loss: 0.1999 - accuracy: 0.9330 - val_loss: 0.2066 - val_accuracy: 0.9336\n",
            "Epoch 4/100\n",
            "356/356 [==============================] - 5s 15ms/step - loss: 0.1873 - accuracy: 0.9355 - val_loss: 0.2717 - val_accuracy: 0.9144\n",
            "Epoch 5/100\n",
            "356/356 [==============================] - 5s 15ms/step - loss: 0.1638 - accuracy: 0.9439 - val_loss: 0.2090 - val_accuracy: 0.9349\n",
            "Epoch 6/100\n",
            "356/356 [==============================] - 5s 14ms/step - loss: 0.1473 - accuracy: 0.9521 - val_loss: 0.2058 - val_accuracy: 0.9347\n",
            "Epoch 7/100\n",
            "356/356 [==============================] - 5s 15ms/step - loss: 0.1309 - accuracy: 0.9559 - val_loss: 0.1925 - val_accuracy: 0.9415\n",
            "Epoch 8/100\n",
            "356/356 [==============================] - 5s 15ms/step - loss: 0.1114 - accuracy: 0.9649 - val_loss: 0.1857 - val_accuracy: 0.9415\n",
            "Epoch 9/100\n",
            "356/356 [==============================] - 5s 15ms/step - loss: 0.0943 - accuracy: 0.9663 - val_loss: 0.1711 - val_accuracy: 0.9460\n",
            "Epoch 10/100\n",
            "356/356 [==============================] - 5s 15ms/step - loss: 0.0796 - accuracy: 0.9741 - val_loss: 0.1854 - val_accuracy: 0.9386\n",
            "Epoch 11/100\n",
            "356/356 [==============================] - 5s 15ms/step - loss: 0.0638 - accuracy: 0.9800 - val_loss: 0.2549 - val_accuracy: 0.9217\n",
            "Epoch 12/100\n",
            "356/356 [==============================] - 5s 15ms/step - loss: 0.0558 - accuracy: 0.9816 - val_loss: 0.1491 - val_accuracy: 0.9568\n",
            "Epoch 13/100\n",
            "356/356 [==============================] - 5s 15ms/step - loss: 0.0437 - accuracy: 0.9862 - val_loss: 0.1395 - val_accuracy: 0.9610\n",
            "Epoch 14/100\n",
            "356/356 [==============================] - 5s 15ms/step - loss: 0.0292 - accuracy: 0.9910 - val_loss: 0.1493 - val_accuracy: 0.9652\n",
            "Epoch 15/100\n",
            "356/356 [==============================] - 5s 15ms/step - loss: 0.0251 - accuracy: 0.9931 - val_loss: 0.1914 - val_accuracy: 0.9507\n",
            "Epoch 16/100\n",
            "356/356 [==============================] - 5s 15ms/step - loss: 0.0196 - accuracy: 0.9946 - val_loss: 0.1615 - val_accuracy: 0.9592\n",
            "Epoch 17/100\n",
            "356/356 [==============================] - 6s 16ms/step - loss: 0.0208 - accuracy: 0.9931 - val_loss: 0.2236 - val_accuracy: 0.9431\n",
            "Epoch 18/100\n",
            "356/356 [==============================] - 6s 16ms/step - loss: 0.0201 - accuracy: 0.9937 - val_loss: 0.1488 - val_accuracy: 0.9676\n",
            "Epoch 19/100\n",
            "356/356 [==============================] - 6s 16ms/step - loss: 0.0087 - accuracy: 0.9974 - val_loss: 0.1627 - val_accuracy: 0.9652\n",
            "Epoch 20/100\n",
            "356/356 [==============================] - 6s 16ms/step - loss: 0.0184 - accuracy: 0.9947 - val_loss: 0.1810 - val_accuracy: 0.9584\n",
            "Epoch 21/100\n",
            "356/356 [==============================] - 6s 16ms/step - loss: 0.0151 - accuracy: 0.9950 - val_loss: 0.1683 - val_accuracy: 0.9605\n",
            "Epoch 22/100\n",
            "356/356 [==============================] - 6s 15ms/step - loss: 0.0039 - accuracy: 0.9991 - val_loss: 0.1520 - val_accuracy: 0.9665\n",
            "Epoch 23/100\n",
            "356/356 [==============================] - 5s 15ms/step - loss: 0.0019 - accuracy: 0.9997 - val_loss: 0.1565 - val_accuracy: 0.9671\n",
            "Epoch 24/100\n",
            "356/356 [==============================] - 6s 16ms/step - loss: 0.0017 - accuracy: 0.9997 - val_loss: 0.1710 - val_accuracy: 0.9663\n",
            "Epoch 25/100\n",
            "356/356 [==============================] - 5s 15ms/step - loss: 0.0302 - accuracy: 0.9906 - val_loss: 0.1494 - val_accuracy: 0.9639\n",
            "Epoch 26/100\n",
            "356/356 [==============================] - 6s 16ms/step - loss: 0.0059 - accuracy: 0.9984 - val_loss: 0.1432 - val_accuracy: 0.9673\n",
            "Epoch 27/100\n",
            "356/356 [==============================] - 6s 16ms/step - loss: 0.0022 - accuracy: 0.9996 - val_loss: 0.1534 - val_accuracy: 0.9660\n",
            "Epoch 28/100\n",
            "356/356 [==============================] - 5s 15ms/step - loss: 0.0010 - accuracy: 0.9999 - val_loss: 0.1494 - val_accuracy: 0.9673\n",
            "Epoch 29/100\n",
            "356/356 [==============================] - 6s 15ms/step - loss: 8.3270e-04 - accuracy: 0.9999 - val_loss: 0.1527 - val_accuracy: 0.9679\n",
            "Epoch 30/100\n",
            "356/356 [==============================] - 5s 15ms/step - loss: 7.5926e-04 - accuracy: 0.9999 - val_loss: 0.1564 - val_accuracy: 0.9668\n",
            "Epoch 31/100\n",
            "356/356 [==============================] - 6s 16ms/step - loss: 6.2139e-04 - accuracy: 0.9999 - val_loss: 0.1559 - val_accuracy: 0.9694\n",
            "Epoch 32/100\n",
            "356/356 [==============================] - 6s 16ms/step - loss: 6.1767e-04 - accuracy: 0.9999 - val_loss: 0.1608 - val_accuracy: 0.9694\n",
            "Epoch 33/100\n",
            "356/356 [==============================] - 5s 15ms/step - loss: 4.5977e-04 - accuracy: 0.9999 - val_loss: 0.1626 - val_accuracy: 0.9694\n",
            "Epoch 34/100\n",
            "356/356 [==============================] - 5s 15ms/step - loss: 3.0347e-04 - accuracy: 0.9999 - val_loss: 0.1634 - val_accuracy: 0.9713\n",
            "Epoch 35/100\n",
            "356/356 [==============================] - 6s 16ms/step - loss: 1.6510e-04 - accuracy: 0.9999 - val_loss: 0.1660 - val_accuracy: 0.9713\n",
            "Epoch 36/100\n",
            "356/356 [==============================] - 6s 16ms/step - loss: 1.0332e-04 - accuracy: 1.0000 - val_loss: 0.1678 - val_accuracy: 0.9708\n",
            "Epoch 37/100\n",
            "356/356 [==============================] - 6s 16ms/step - loss: 3.0499e-05 - accuracy: 1.0000 - val_loss: 0.1729 - val_accuracy: 0.9705\n",
            "Epoch 38/100\n",
            "356/356 [==============================] - 6s 16ms/step - loss: 2.3265e-05 - accuracy: 1.0000 - val_loss: 0.1765 - val_accuracy: 0.9705\n",
            "Epoch 39/100\n",
            "356/356 [==============================] - 6s 16ms/step - loss: 1.8556e-05 - accuracy: 1.0000 - val_loss: 0.1787 - val_accuracy: 0.9708\n",
            "Epoch 40/100\n",
            "356/356 [==============================] - 5s 15ms/step - loss: 1.5015e-05 - accuracy: 1.0000 - val_loss: 0.1816 - val_accuracy: 0.9705\n",
            "Epoch 41/100\n",
            "356/356 [==============================] - 5s 15ms/step - loss: 1.2144e-05 - accuracy: 1.0000 - val_loss: 0.1838 - val_accuracy: 0.9702\n",
            "Epoch 42/100\n",
            "356/356 [==============================] - 6s 16ms/step - loss: 9.9433e-06 - accuracy: 1.0000 - val_loss: 0.1869 - val_accuracy: 0.9705\n",
            "Epoch 43/100\n",
            "356/356 [==============================] - 5s 15ms/step - loss: 8.1395e-06 - accuracy: 1.0000 - val_loss: 0.1891 - val_accuracy: 0.9705\n",
            "Epoch 44/100\n",
            "356/356 [==============================] - 6s 16ms/step - loss: 6.6344e-06 - accuracy: 1.0000 - val_loss: 0.1918 - val_accuracy: 0.9702\n",
            "Epoch 45/100\n",
            "356/356 [==============================] - 5s 15ms/step - loss: 5.5087e-06 - accuracy: 1.0000 - val_loss: 0.1955 - val_accuracy: 0.9708\n",
            "Epoch 46/100\n",
            "356/356 [==============================] - 6s 16ms/step - loss: 4.5009e-06 - accuracy: 1.0000 - val_loss: 0.1979 - val_accuracy: 0.9702\n",
            "Epoch 47/100\n",
            "356/356 [==============================] - 6s 16ms/step - loss: 3.7171e-06 - accuracy: 1.0000 - val_loss: 0.2000 - val_accuracy: 0.9705\n"
          ]
        }
      ]
    },
    {
      "cell_type": "code",
      "source": [
        "classifier3 = tf.keras.models.Sequential([\n",
        "    #tf.keras.layers.Flatten(input_shape=(28, 28), name='Input_Layer'),\n",
        "    tf.keras.layers.Dense(512, activation='sigmoid', name='Hidden_Layer_1'),\n",
        "    tf.keras.layers.Dense(256, activation='sigmoid', name='Hidden_Layer_2'),\n",
        "    tf.keras.layers.Dense(128, activation='sigmoid', name='Hidden_Layer_3'),\n",
        "    tf.keras.layers.Dense(10, activation='softmax', name='Output_Layer')\n",
        "])\n",
        "optimizer = tf.keras.optimizers.Adam(\n",
        "    learning_rate=0.001,\n",
        "    beta_1=0.9,\n",
        "    beta_2=0.999,\n",
        "    epsilon=1e-08,\n",
        "    name='Adam')\n",
        "classifier3.compile(optimizer=optimizer,\n",
        "             loss='categorical_crossentropy',\n",
        "             metrics=['accuracy'])\n",
        "callback = tf.keras.callbacks.EarlyStopping(monitor='loss',min_delta=0.0001,patience=10)\n",
        "trained = classifier3.fit(encoded_tr, y_train, epochs=100, validation_data=(encoded_val,y_val),callbacks=callback)"
      ],
      "metadata": {
        "colab": {
          "base_uri": "https://localhost:8080/"
        },
        "id": "cQ4OkymWq4NS",
        "outputId": "2afcfa34-4de5-457a-c8b0-45019a412d9d"
      },
      "id": "cQ4OkymWq4NS",
      "execution_count": null,
      "outputs": [
        {
          "output_type": "stream",
          "name": "stdout",
          "text": [
            "Epoch 1/100\n",
            "356/356 [==============================] - 3s 7ms/step - loss: 0.6645 - accuracy: 0.7541 - val_loss: 0.4189 - val_accuracy: 0.8603\n",
            "Epoch 2/100\n",
            "356/356 [==============================] - 2s 7ms/step - loss: 0.2350 - accuracy: 0.9227 - val_loss: 0.2202 - val_accuracy: 0.9244\n",
            "Epoch 3/100\n",
            "356/356 [==============================] - 2s 7ms/step - loss: 0.1965 - accuracy: 0.9340 - val_loss: 0.2181 - val_accuracy: 0.9304\n",
            "Epoch 4/100\n",
            "356/356 [==============================] - 3s 7ms/step - loss: 0.1822 - accuracy: 0.9398 - val_loss: 0.2180 - val_accuracy: 0.9299\n",
            "Epoch 5/100\n",
            "356/356 [==============================] - 2s 7ms/step - loss: 0.1667 - accuracy: 0.9444 - val_loss: 0.2262 - val_accuracy: 0.9304\n",
            "Epoch 6/100\n",
            "356/356 [==============================] - 2s 7ms/step - loss: 0.1511 - accuracy: 0.9491 - val_loss: 0.2043 - val_accuracy: 0.9344\n",
            "Epoch 7/100\n",
            "356/356 [==============================] - 2s 7ms/step - loss: 0.1345 - accuracy: 0.9559 - val_loss: 0.1878 - val_accuracy: 0.9402\n",
            "Epoch 8/100\n",
            "356/356 [==============================] - 2s 7ms/step - loss: 0.1153 - accuracy: 0.9627 - val_loss: 0.2128 - val_accuracy: 0.9333\n",
            "Epoch 9/100\n",
            "356/356 [==============================] - 3s 7ms/step - loss: 0.1032 - accuracy: 0.9662 - val_loss: 0.1794 - val_accuracy: 0.9470\n",
            "Epoch 10/100\n",
            "356/356 [==============================] - 2s 7ms/step - loss: 0.0871 - accuracy: 0.9738 - val_loss: 0.1589 - val_accuracy: 0.9536\n",
            "Epoch 11/100\n",
            "356/356 [==============================] - 2s 7ms/step - loss: 0.0690 - accuracy: 0.9793 - val_loss: 0.2018 - val_accuracy: 0.9378\n",
            "Epoch 12/100\n",
            "356/356 [==============================] - 2s 7ms/step - loss: 0.0591 - accuracy: 0.9821 - val_loss: 0.1547 - val_accuracy: 0.9576\n",
            "Epoch 13/100\n",
            "356/356 [==============================] - 3s 7ms/step - loss: 0.0519 - accuracy: 0.9843 - val_loss: 0.1614 - val_accuracy: 0.9528\n",
            "Epoch 14/100\n",
            "356/356 [==============================] - 2s 7ms/step - loss: 0.0394 - accuracy: 0.9874 - val_loss: 0.1540 - val_accuracy: 0.9555\n",
            "Epoch 15/100\n",
            "356/356 [==============================] - 2s 7ms/step - loss: 0.0292 - accuracy: 0.9926 - val_loss: 0.1594 - val_accuracy: 0.9584\n",
            "Epoch 16/100\n",
            "356/356 [==============================] - 2s 7ms/step - loss: 0.0234 - accuracy: 0.9948 - val_loss: 0.1399 - val_accuracy: 0.9647\n",
            "Epoch 17/100\n",
            "356/356 [==============================] - 2s 7ms/step - loss: 0.0175 - accuracy: 0.9958 - val_loss: 0.1691 - val_accuracy: 0.9578\n",
            "Epoch 18/100\n",
            "356/356 [==============================] - 2s 7ms/step - loss: 0.0112 - accuracy: 0.9977 - val_loss: 0.1656 - val_accuracy: 0.9594\n",
            "Epoch 19/100\n",
            "356/356 [==============================] - 2s 7ms/step - loss: 0.0179 - accuracy: 0.9945 - val_loss: 0.1766 - val_accuracy: 0.9576\n",
            "Epoch 20/100\n",
            "356/356 [==============================] - 2s 6ms/step - loss: 0.0083 - accuracy: 0.9982 - val_loss: 0.1622 - val_accuracy: 0.9657\n",
            "Epoch 21/100\n",
            "356/356 [==============================] - 2s 7ms/step - loss: 0.0046 - accuracy: 0.9992 - val_loss: 0.1580 - val_accuracy: 0.9679\n",
            "Epoch 22/100\n",
            "356/356 [==============================] - 2s 7ms/step - loss: 0.0032 - accuracy: 0.9996 - val_loss: 0.1771 - val_accuracy: 0.9621\n",
            "Epoch 23/100\n",
            "356/356 [==============================] - 2s 7ms/step - loss: 0.0025 - accuracy: 0.9997 - val_loss: 0.1750 - val_accuracy: 0.9647\n",
            "Epoch 24/100\n",
            "356/356 [==============================] - 2s 7ms/step - loss: 0.0019 - accuracy: 0.9998 - val_loss: 0.1708 - val_accuracy: 0.9657\n",
            "Epoch 25/100\n",
            "356/356 [==============================] - 2s 7ms/step - loss: 0.0013 - accuracy: 0.9998 - val_loss: 0.1894 - val_accuracy: 0.9663\n",
            "Epoch 26/100\n",
            "356/356 [==============================] - 2s 7ms/step - loss: 0.0011 - accuracy: 0.9999 - val_loss: 0.1805 - val_accuracy: 0.9655\n",
            "Epoch 27/100\n",
            "356/356 [==============================] - 2s 7ms/step - loss: 9.3384e-04 - accuracy: 0.9999 - val_loss: 0.1777 - val_accuracy: 0.9681\n",
            "Epoch 28/100\n",
            "356/356 [==============================] - 2s 7ms/step - loss: 0.0017 - accuracy: 0.9994 - val_loss: 0.2347 - val_accuracy: 0.9573\n",
            "Epoch 29/100\n",
            "356/356 [==============================] - 2s 7ms/step - loss: 0.0402 - accuracy: 0.9881 - val_loss: 0.1546 - val_accuracy: 0.9642\n",
            "Epoch 30/100\n",
            "356/356 [==============================] - 2s 7ms/step - loss: 0.0047 - accuracy: 0.9987 - val_loss: 0.1800 - val_accuracy: 0.9623\n",
            "Epoch 31/100\n",
            "356/356 [==============================] - 2s 7ms/step - loss: 0.0042 - accuracy: 0.9986 - val_loss: 0.1802 - val_accuracy: 0.9613\n",
            "Epoch 32/100\n",
            "356/356 [==============================] - 2s 7ms/step - loss: 0.0031 - accuracy: 0.9989 - val_loss: 0.1632 - val_accuracy: 0.9663\n",
            "Epoch 33/100\n",
            "356/356 [==============================] - 2s 7ms/step - loss: 0.0040 - accuracy: 0.9990 - val_loss: 0.1758 - val_accuracy: 0.9647\n",
            "Epoch 34/100\n",
            "356/356 [==============================] - 2s 7ms/step - loss: 3.7360e-04 - accuracy: 1.0000 - val_loss: 0.1815 - val_accuracy: 0.9657\n",
            "Epoch 35/100\n",
            "356/356 [==============================] - 2s 6ms/step - loss: 1.5128e-04 - accuracy: 1.0000 - val_loss: 0.1826 - val_accuracy: 0.9660\n",
            "Epoch 36/100\n",
            "356/356 [==============================] - 2s 7ms/step - loss: 1.1118e-04 - accuracy: 1.0000 - val_loss: 0.1832 - val_accuracy: 0.9665\n",
            "Epoch 37/100\n",
            "356/356 [==============================] - 2s 7ms/step - loss: 8.9989e-05 - accuracy: 1.0000 - val_loss: 0.1834 - val_accuracy: 0.9673\n",
            "Epoch 38/100\n",
            "356/356 [==============================] - 2s 7ms/step - loss: 7.4071e-05 - accuracy: 1.0000 - val_loss: 0.1870 - val_accuracy: 0.9665\n",
            "Epoch 39/100\n",
            "356/356 [==============================] - 2s 7ms/step - loss: 6.1109e-05 - accuracy: 1.0000 - val_loss: 0.1902 - val_accuracy: 0.9660\n",
            "Epoch 40/100\n",
            "356/356 [==============================] - 2s 6ms/step - loss: 5.1783e-05 - accuracy: 1.0000 - val_loss: 0.1921 - val_accuracy: 0.9663\n",
            "Epoch 41/100\n",
            "356/356 [==============================] - 2s 6ms/step - loss: 4.3361e-05 - accuracy: 1.0000 - val_loss: 0.1942 - val_accuracy: 0.9668\n",
            "Epoch 42/100\n",
            "356/356 [==============================] - 2s 6ms/step - loss: 3.6430e-05 - accuracy: 1.0000 - val_loss: 0.1983 - val_accuracy: 0.9663\n",
            "Epoch 43/100\n",
            "356/356 [==============================] - 2s 6ms/step - loss: 3.0518e-05 - accuracy: 1.0000 - val_loss: 0.1976 - val_accuracy: 0.9681\n",
            "Epoch 44/100\n",
            "356/356 [==============================] - 2s 7ms/step - loss: 2.5676e-05 - accuracy: 1.0000 - val_loss: 0.2016 - val_accuracy: 0.9681\n",
            "Epoch 45/100\n",
            "356/356 [==============================] - 2s 7ms/step - loss: 2.1651e-05 - accuracy: 1.0000 - val_loss: 0.2047 - val_accuracy: 0.9668\n",
            "Epoch 46/100\n",
            "356/356 [==============================] - 2s 7ms/step - loss: 1.8159e-05 - accuracy: 1.0000 - val_loss: 0.2063 - val_accuracy: 0.9679\n",
            "Epoch 47/100\n",
            "356/356 [==============================] - 2s 6ms/step - loss: 1.5160e-05 - accuracy: 1.0000 - val_loss: 0.2099 - val_accuracy: 0.9676\n",
            "Epoch 48/100\n",
            "356/356 [==============================] - 2s 7ms/step - loss: 1.2838e-05 - accuracy: 1.0000 - val_loss: 0.2124 - val_accuracy: 0.9673\n",
            "Epoch 49/100\n",
            "356/356 [==============================] - 2s 7ms/step - loss: 1.0699e-05 - accuracy: 1.0000 - val_loss: 0.2158 - val_accuracy: 0.9673\n",
            "Epoch 50/100\n",
            "356/356 [==============================] - 2s 7ms/step - loss: 8.9277e-06 - accuracy: 1.0000 - val_loss: 0.2175 - val_accuracy: 0.9679\n",
            "Epoch 51/100\n",
            "356/356 [==============================] - 2s 7ms/step - loss: 7.5051e-06 - accuracy: 1.0000 - val_loss: 0.2202 - val_accuracy: 0.9676\n"
          ]
        }
      ]
    },
    {
      "cell_type": "markdown",
      "source": [
        "confusion matrix"
      ],
      "metadata": {
        "id": "U1gUIIDyd1ox"
      },
      "id": "U1gUIIDyd1ox"
    },
    {
      "cell_type": "code",
      "source": [
        "encoded_test = noisyautoenoder.encoder(test_data).numpy()\n",
        "encoded_val = noisyautoenoder.encoder(val_data).numpy()"
      ],
      "metadata": {
        "id": "2mXBNhmRgbQJ"
      },
      "id": "2mXBNhmRgbQJ",
      "execution_count": null,
      "outputs": []
    },
    {
      "cell_type": "markdown",
      "source": [
        "Confusion matrix validation data"
      ],
      "metadata": {
        "id": "RSSP3BGOhsfC"
      },
      "id": "RSSP3BGOhsfC"
    },
    {
      "cell_type": "code",
      "source": [
        "prediction_val=classifier3.predict(encoded_val)\n",
        "from sklearn.metrics import confusion_matrix\n",
        "#plt.figure(figsize=(16,9))\n",
        "y_pred_labels=[np.argmax(label) for label in prediction_val]\n",
        "cm_train=confusion_matrix(val_out,y_pred_labels)\n",
        "print(cm_train)"
      ],
      "metadata": {
        "colab": {
          "base_uri": "https://localhost:8080/"
        },
        "id": "ZWKhbpy8dyE8",
        "outputId": "f2cc3c14-334a-4683-a413-e2a301a5bb45"
      },
      "id": "ZWKhbpy8dyE8",
      "execution_count": null,
      "outputs": [
        {
          "output_type": "stream",
          "name": "stdout",
          "text": [
            "[[738   2   3  14   2]\n",
            " [  5 738   2   3  11]\n",
            " [  3   6 741   2   7]\n",
            " [  0   7   1 741  10]\n",
            " [  0  17  16   7 719]]\n"
          ]
        }
      ]
    },
    {
      "cell_type": "markdown",
      "source": [
        "Confusion matrix test data"
      ],
      "metadata": {
        "id": "kh6NwIQNhx10"
      },
      "id": "kh6NwIQNhx10"
    },
    {
      "cell_type": "code",
      "source": [
        "prediction_val=classifier3.predict(encoded_test)\n",
        "from sklearn.metrics import confusion_matrix\n",
        "#plt.figure(figsize=(16,9))\n",
        "y_pred_labels=[np.argmax(label) for label in prediction_val]\n",
        "cm_train=confusion_matrix(test_out,y_pred_labels)\n",
        "print(cm_train)"
      ],
      "metadata": {
        "colab": {
          "base_uri": "https://localhost:8080/"
        },
        "id": "c42DxC8_ffAx",
        "outputId": "f41a944a-4033-4a9b-9d08-598cd92cd234"
      },
      "id": "c42DxC8_ffAx",
      "execution_count": null,
      "outputs": [
        {
          "output_type": "stream",
          "name": "stdout",
          "text": [
            "[[749   0   3   7   0]\n",
            " [  4 748   2   1   4]\n",
            " [  5   6 740   1   7]\n",
            " [  6   7   6 728  12]\n",
            " [  2  17  16   5 719]]\n"
          ]
        }
      ]
    }
  ],
  "metadata": {
    "kernelspec": {
      "display_name": "Python 3 (ipykernel)",
      "language": "python",
      "name": "python3"
    },
    "language_info": {
      "codemirror_mode": {
        "name": "ipython",
        "version": 3
      },
      "file_extension": ".py",
      "mimetype": "text/x-python",
      "name": "python",
      "nbconvert_exporter": "python",
      "pygments_lexer": "ipython3",
      "version": "3.10.4"
    },
    "colab": {
      "name": "DenoisngAutoencoder.ipynb",
      "provenance": [],
      "collapsed_sections": [
        "8bc25d8a",
        "8534a75c"
      ]
    }
  },
  "nbformat": 4,
  "nbformat_minor": 5
}