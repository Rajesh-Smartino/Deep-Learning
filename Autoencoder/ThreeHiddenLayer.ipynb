{
  "cells": [
    {
      "cell_type": "code",
      "execution_count": 1,
      "metadata": {
        "id": "tgxe8WnYhwrs"
      },
      "outputs": [],
      "source": [
        "import numpy as np\n",
        "from matplotlib import pyplot as plt\n",
        "import pandas as pd\n",
        "import os\n",
        "import cv2\n",
        "import tensorflow as tf\n",
        "from tensorflow import keras\n"
      ]
    },
    {
      "cell_type": "code",
      "execution_count": 2,
      "metadata": {
        "id": "dupBY_rHiOdK"
      },
      "outputs": [],
      "source": [
        "def read_data(path):\n",
        "\n",
        "  train_path=path+\"/train\"\n",
        "  test_path=path+\"/test\"\n",
        "  validation_path=path+\"/val\"\n",
        "\n",
        "  train_data,test_data,val_data = [],[],[]\n",
        "  tr_out,test_out,val_out = [],[],[]\n",
        "  \n",
        "  for i in os.listdir(train_path):\n",
        "\n",
        "      if i != \".DS_Store\":\n",
        "          for j in os.listdir(train_path+\"/\"+i):\n",
        "              train_data.append(cv2.imread(train_path+\"/\"+i+\"/\"+j, cv2.IMREAD_GRAYSCALE))\n",
        "              tr_out.append(i)\n",
        "\n",
        "          for j in os.listdir(test_path+\"/\"+i):\n",
        "              test_data.append(cv2.imread(test_path+\"/\"+i+\"/\"+j, cv2.IMREAD_GRAYSCALE))\n",
        "              test_out.append(i)\n",
        "\n",
        "          for j in os.listdir(validation_path+\"/\"+i):\n",
        "              val_data.append(cv2.imread(validation_path+\"/\"+i+\"/\"+j, cv2.IMREAD_GRAYSCALE))\n",
        "              val_out.append(i)\n",
        "    \n",
        "  train_data, test_data, val_data = np.array(train_data), np.array(test_data), np.array(val_data)\n",
        "  tr_out, test_out, val_out = np.array(list(map(int, tr_out))), np.array(list(map(int, test_out))), np.array(list(map(int, val_out)))\n",
        "\n",
        "  return train_data, test_data, val_data, tr_out, test_out, val_out\n"
      ]
    },
    {
      "cell_type": "code",
      "execution_count": null,
      "metadata": {
        "id": "WUB0usFEGog_"
      },
      "outputs": [],
      "source": [
        "path  = \"/content/drive/MyDrive/Group_22\"\n",
        "train_data,test_data,val_data,tr_out,test_out,val_out = read_data(path)"
      ]
    },
    {
      "cell_type": "code",
      "execution_count": null,
      "metadata": {
        "id": "MdVATyaDH98C"
      },
      "outputs": [],
      "source": [
        "train_data = train_data/255\n",
        "test_data = test_data/255\n",
        "val_data = val_data/255"
      ]
    },
    {
      "cell_type": "code",
      "execution_count": null,
      "metadata": {
        "colab": {
          "base_uri": "https://localhost:8080/"
        },
        "id": "zDhk6vw86_hC",
        "outputId": "e14449e0-43ed-48aa-cb5f-88cbac8dbedf"
      },
      "outputs": [
        {
          "output_type": "stream",
          "name": "stdout",
          "text": [
            "Model: \"Autoencoder1\"\n",
            "_________________________________________________________________\n",
            " Layer (type)                Output Shape              Param #   \n",
            "=================================================================\n",
            " img (InputLayer)            [(None, 28, 28, 1)]       0         \n",
            "                                                                 \n",
            " flatten (Flatten)           (None, 784)               0         \n",
            "                                                                 \n",
            " dense (Dense)               (None, 64)                50240     \n",
            "                                                                 \n",
            " dense_1 (Dense)             (None, 784)               50960     \n",
            "                                                                 \n",
            " reshape (Reshape)           (None, 28, 28, 1)         0         \n",
            "                                                                 \n",
            "=================================================================\n",
            "Total params: 101,200\n",
            "Trainable params: 101,200\n",
            "Non-trainable params: 0\n",
            "_________________________________________________________________\n"
          ]
        }
      ],
      "source": [
        "# Architechture for Autoencoder for one hidden layer with 64 neuron \n",
        "x_in = keras.Input(shape=(28,28,1),name=\"img\")\n",
        "x = keras.layers.Flatten()(x_in)\n",
        "encoder_out = keras.layers.Dense(64,activation='sigmoid')(x)\n",
        "\n",
        "# Encoder model for getting compressed representation of image\n",
        "encoder1 = keras.Model(x_in,encoder_out,name=\"encoder\")\n",
        "\n",
        "decoder_ip = keras.layers.Dense(784,activation='sigmoid')(encoder_out)\n",
        "\n",
        "decoder_op = keras.layers.Reshape((28,28,1))(decoder_ip)\n",
        "optimizer = keras.optimizers.Adam(learning_rate = 0.01,decay = 1e-6)\n",
        "\n",
        "# Autoencoder model for getting reconstructed image\n",
        "Autoencoder1 = keras.Model(x_in,decoder_op,name=\"Autoencoder1\")\n",
        "Autoencoder1.summary()\n"
      ]
    },
    {
      "cell_type": "code",
      "execution_count": null,
      "metadata": {
        "colab": {
          "base_uri": "https://localhost:8080/",
          "height": 1000
        },
        "id": "2DJF_rNY99ak",
        "outputId": "d246b479-9c58-4a97-ad0d-8b60d0e72e67"
      },
      "outputs": [
        {
          "output_type": "stream",
          "name": "stdout",
          "text": [
            "Epoch 1/100\n",
            "358/358 [==============================] - 2s 6ms/step - loss: 0.0434 - accuracy: 0.6519 - val_loss: 0.0334 - val_accuracy: 0.6581\n",
            "Epoch 2/100\n",
            "358/358 [==============================] - 2s 5ms/step - loss: 0.0272 - accuracy: 0.6627 - val_loss: 0.0231 - val_accuracy: 0.6645\n",
            "Epoch 3/100\n",
            "358/358 [==============================] - 2s 5ms/step - loss: 0.0198 - accuracy: 0.6669 - val_loss: 0.0182 - val_accuracy: 0.6670\n",
            "Epoch 4/100\n",
            "358/358 [==============================] - 2s 5ms/step - loss: 0.0164 - accuracy: 0.6685 - val_loss: 0.0158 - val_accuracy: 0.6680\n",
            "Epoch 5/100\n",
            "358/358 [==============================] - 2s 5ms/step - loss: 0.0143 - accuracy: 0.6693 - val_loss: 0.0144 - val_accuracy: 0.6685\n",
            "Epoch 6/100\n",
            "358/358 [==============================] - 2s 5ms/step - loss: 0.0132 - accuracy: 0.6697 - val_loss: 0.0143 - val_accuracy: 0.6686\n",
            "Epoch 7/100\n",
            "358/358 [==============================] - 2s 4ms/step - loss: 0.0125 - accuracy: 0.6700 - val_loss: 0.0127 - val_accuracy: 0.6692\n",
            "Epoch 8/100\n",
            "358/358 [==============================] - 2s 5ms/step - loss: 0.0117 - accuracy: 0.6703 - val_loss: 0.0125 - val_accuracy: 0.6692\n",
            "Epoch 9/100\n",
            "358/358 [==============================] - 2s 4ms/step - loss: 0.0112 - accuracy: 0.6705 - val_loss: 0.0119 - val_accuracy: 0.6696\n",
            "Epoch 10/100\n",
            "358/358 [==============================] - 2s 5ms/step - loss: 0.0104 - accuracy: 0.6708 - val_loss: 0.0112 - val_accuracy: 0.6697\n",
            "Epoch 11/100\n",
            "358/358 [==============================] - 2s 5ms/step - loss: 0.0094 - accuracy: 0.6712 - val_loss: 0.0102 - val_accuracy: 0.6702\n",
            "Epoch 12/100\n",
            "358/358 [==============================] - 2s 5ms/step - loss: 0.0088 - accuracy: 0.6714 - val_loss: 0.0094 - val_accuracy: 0.6704\n",
            "Epoch 13/100\n",
            "358/358 [==============================] - 2s 5ms/step - loss: 0.0081 - accuracy: 0.6716 - val_loss: 0.0087 - val_accuracy: 0.6707\n",
            "Epoch 14/100\n",
            "358/358 [==============================] - 2s 5ms/step - loss: 0.0075 - accuracy: 0.6718 - val_loss: 0.0098 - val_accuracy: 0.6703\n",
            "Epoch 15/100\n",
            "358/358 [==============================] - 2s 5ms/step - loss: 0.0073 - accuracy: 0.6718 - val_loss: 0.0080 - val_accuracy: 0.6710\n",
            "Epoch 16/100\n",
            "358/358 [==============================] - 2s 5ms/step - loss: 0.0067 - accuracy: 0.6720 - val_loss: 0.0085 - val_accuracy: 0.6709\n",
            "Epoch 17/100\n",
            "358/358 [==============================] - 2s 5ms/step - loss: 0.0065 - accuracy: 0.6720 - val_loss: 0.0069 - val_accuracy: 0.6712\n",
            "Epoch 18/100\n",
            "358/358 [==============================] - 2s 5ms/step - loss: 0.0061 - accuracy: 0.6722 - val_loss: 0.0077 - val_accuracy: 0.6710\n",
            "Epoch 19/100\n",
            "358/358 [==============================] - 2s 5ms/step - loss: 0.0060 - accuracy: 0.6722 - val_loss: 0.0098 - val_accuracy: 0.6702\n",
            "Epoch 20/100\n",
            "358/358 [==============================] - 2s 5ms/step - loss: 0.0065 - accuracy: 0.6720 - val_loss: 0.0066 - val_accuracy: 0.6713\n",
            "Epoch 21/100\n",
            "358/358 [==============================] - 2s 5ms/step - loss: 0.0055 - accuracy: 0.6723 - val_loss: 0.0061 - val_accuracy: 0.6715\n",
            "Epoch 22/100\n",
            "358/358 [==============================] - 2s 5ms/step - loss: 0.0054 - accuracy: 0.6723 - val_loss: 0.0062 - val_accuracy: 0.6715\n",
            "Epoch 23/100\n",
            "358/358 [==============================] - 2s 5ms/step - loss: 0.0053 - accuracy: 0.6724 - val_loss: 0.0064 - val_accuracy: 0.6714\n",
            "Epoch 24/100\n",
            "358/358 [==============================] - 2s 5ms/step - loss: 0.0052 - accuracy: 0.6724 - val_loss: 0.0065 - val_accuracy: 0.6713\n",
            "Epoch 25/100\n",
            "358/358 [==============================] - 2s 5ms/step - loss: 0.0052 - accuracy: 0.6724 - val_loss: 0.0060 - val_accuracy: 0.6715\n",
            "Epoch 26/100\n",
            "358/358 [==============================] - 2s 5ms/step - loss: 0.0050 - accuracy: 0.6724 - val_loss: 0.0058 - val_accuracy: 0.6716\n",
            "Epoch 27/100\n",
            "358/358 [==============================] - 2s 5ms/step - loss: 0.0049 - accuracy: 0.6725 - val_loss: 0.0059 - val_accuracy: 0.6715\n",
            "Epoch 28/100\n",
            "358/358 [==============================] - 2s 5ms/step - loss: 0.0048 - accuracy: 0.6725 - val_loss: 0.0056 - val_accuracy: 0.6716\n",
            "Epoch 29/100\n",
            "358/358 [==============================] - 2s 5ms/step - loss: 0.0048 - accuracy: 0.6725 - val_loss: 0.0064 - val_accuracy: 0.6715\n",
            "Epoch 30/100\n",
            "358/358 [==============================] - 2s 5ms/step - loss: 0.0048 - accuracy: 0.6725 - val_loss: 0.0073 - val_accuracy: 0.6712\n",
            "Epoch 31/100\n",
            "358/358 [==============================] - 2s 5ms/step - loss: 0.0050 - accuracy: 0.6724 - val_loss: 0.0056 - val_accuracy: 0.6716\n"
          ]
        },
        {
          "output_type": "display_data",
          "data": {
            "text/plain": [
              "<Figure size 432x288 with 1 Axes>"
            ],
            "image/png": "[encoded data removed]"
          },
          "metadata": {
            "needs_background": "light"
          }
        }
      ],
      "source": [
        "# callback for define stopping criteria as consicutive difference between error is less that 0.0001\n",
        "callback = tf.keras.callbacks.EarlyStopping(monitor='loss',min_delta=0.0001,patience=3)\n",
        "\n",
        "# compile the model for adam optimizer and accuracy matrics and loss as MSE\n",
        "Autoencoder1.compile(optimizer,loss=\"mse\",metrics=['accuracy'])\n",
        "history = Autoencoder1.fit(train_data,train_data,epochs=100,batch_size=32,callbacks=[callback], validation_data=(val_data, val_data))\n",
        "plt.plot(history.history['loss'])\n",
        "\n",
        "\n",
        "\n",
        "plt.savefig(\"/content/drive/MyDrive/autoencoder_output/A1loss.png\")"
      ]
    },
    {
      "cell_type": "code",
      "source": [
        ""
      ],
      "metadata": {
        "id": "ndt7bxGAmWOD"
      },
      "execution_count": null,
      "outputs": []
    },
    {
      "cell_type": "code",
      "source": [
        "val_data.shape"
      ],
      "metadata": {
        "colab": {
          "base_uri": "https://localhost:8080/"
        },
        "id": "bQipHfBWY-f5",
        "outputId": "1a74fe91-71fd-4f72-e895-7d4712b01ace"
      },
      "execution_count": null,
      "outputs": [
        {
          "output_type": "execute_result",
          "data": {
            "text/plain": [
              "(3855, 28, 28)"
            ]
          },
          "metadata": {},
          "execution_count": 18
        }
      ]
    },
    {
      "cell_type": "code",
      "execution_count": null,
      "metadata": {
        "colab": {
          "base_uri": "https://localhost:8080/",
          "height": 265
        },
        "id": "-abpyo_eikkR",
        "outputId": "04293904-3ac0-4063-99de-137285b213e3"
      },
      "outputs": [
        {
          "output_type": "display_data",
          "data": {
            "text/plain": [
              "<Figure size 432x288 with 1 Axes>"
            ],
            "image/png": "[encoded data removed]"
          },
          "metadata": {
            "needs_background": "light"
          }
        }
      ],
      "source": [
        "# predict reconstructed image with use of Autoencoder model\n",
        "model_op64 = Autoencoder1.predict([test_data[1].reshape(-1,28,28,1)])\n",
        "#original Image from dataset\n",
        "plt.imshow(test_data[1],cmap=\"gray\")\n",
        "plt.savefig(\"/content/drive/MyDrive/autoencoder_output/test_original1.png\")"
      ]
    },
    {
      "cell_type": "code",
      "execution_count": null,
      "metadata": {
        "id": "q6QiNBMvlVcn"
      },
      "outputs": [],
      "source": [
        "#reshape the vector into image\n",
        "model_op64=model_op64.reshape(28,28)"
      ]
    },
    {
      "cell_type": "code",
      "execution_count": null,
      "metadata": {
        "colab": {
          "base_uri": "https://localhost:8080/",
          "height": 265
        },
        "id": "rwabSCNVknzi",
        "outputId": "ea11c496-3ac2-41cf-c82c-8b4224821325"
      },
      "outputs": [
        {
          "output_type": "display_data",
          "data": {
            "text/plain": [
              "<Figure size 432x288 with 1 Axes>"
            ],
            "image/png": "[encoded data removed]"
          },
          "metadata": {
            "needs_background": "light"
          }
        }
      ],
      "source": [
        "# reconstructed image of original image which predicted by Autoencoder\n",
        "plt.imshow(model_op64,cmap=\"gray\")\n",
        "plt.savefig(\"/content/drive/MyDrive/autoencoder_output/test_reconstruction1.png\")"
      ]
    },
    {
      "cell_type": "code",
      "execution_count": null,
      "metadata": {
        "colab": {
          "base_uri": "https://localhost:8080/"
        },
        "id": "J6PFovGzk5Cd",
        "outputId": "a07ec67d-c62e-4ce0-af06-17a5c72e68f9"
      },
      "outputs": [
        {
          "output_type": "stream",
          "name": "stdout",
          "text": [
            "Model: \"Autoencoder2\"\n",
            "_________________________________________________________________\n",
            " Layer (type)                Output Shape              Param #   \n",
            "=================================================================\n",
            " img (InputLayer)            [(None, 28, 28, 1)]       0         \n",
            "                                                                 \n",
            " flatten_1 (Flatten)         (None, 784)               0         \n",
            "                                                                 \n",
            " dense_2 (Dense)             (None, 100)               78500     \n",
            "                                                                 \n",
            " dense_3 (Dense)             (None, 784)               79184     \n",
            "                                                                 \n",
            " reshape_1 (Reshape)         (None, 28, 28, 1)         0         \n",
            "                                                                 \n",
            "=================================================================\n",
            "Total params: 157,684\n",
            "Trainable params: 157,684\n",
            "Non-trainable params: 0\n",
            "_________________________________________________________________\n"
          ]
        }
      ],
      "source": [
        "x_in = keras.Input(shape=(28,28,1),name=\"img\")\n",
        "x = keras.layers.Flatten()(x_in)\n",
        "encoder_out = keras.layers.Dense(100,activation='sigmoid')(x)\n",
        "encoder_2 = keras.Model(x_in,encoder_out,name=\"encoder\")\n",
        "\n",
        "decoder_ip = keras.layers.Dense(784,activation='sigmoid')(encoder_out)\n",
        "\n",
        "decoder_op = keras.layers.Reshape((28,28,1))(decoder_ip)\n",
        "optimizer = keras.optimizers.Adam(learning_rate = 0.01,decay = 1e-6)\n",
        "\n",
        "Autoencoder2 = keras.Model(x_in,decoder_op,name=\"Autoencoder2\")\n",
        "Autoencoder2.summary()\n"
      ]
    },
    {
      "cell_type": "code",
      "execution_count": null,
      "metadata": {
        "colab": {
          "base_uri": "https://localhost:8080/",
          "height": 1000
        },
        "id": "pOG3WCyLwgj-",
        "outputId": "7e079fa8-ce19-48ed-b31e-90290adc9010"
      },
      "outputs": [
        {
          "output_type": "stream",
          "name": "stdout",
          "text": [
            "Epoch 1/100\n",
            "358/358 [==============================] - 2s 4ms/step - loss: 0.0329 - accuracy: 0.6593 - val_loss: 0.0187 - val_accuracy: 0.6669\n",
            "Epoch 2/100\n",
            "358/358 [==============================] - 1s 4ms/step - loss: 0.0134 - accuracy: 0.6699 - val_loss: 0.0108 - val_accuracy: 0.6702\n",
            "Epoch 3/100\n",
            "358/358 [==============================] - 1s 4ms/step - loss: 0.0088 - accuracy: 0.6715 - val_loss: 0.0084 - val_accuracy: 0.6710\n",
            "Epoch 4/100\n",
            "358/358 [==============================] - 1s 4ms/step - loss: 0.0068 - accuracy: 0.6721 - val_loss: 0.0070 - val_accuracy: 0.6713\n",
            "Epoch 5/100\n",
            "358/358 [==============================] - 2s 4ms/step - loss: 0.0058 - accuracy: 0.6723 - val_loss: 0.0062 - val_accuracy: 0.6715\n",
            "Epoch 6/100\n",
            "358/358 [==============================] - 1s 3ms/step - loss: 0.0050 - accuracy: 0.6724 - val_loss: 0.0064 - val_accuracy: 0.6714\n",
            "Epoch 7/100\n",
            "358/358 [==============================] - 1s 4ms/step - loss: 0.0045 - accuracy: 0.6725 - val_loss: 0.0050 - val_accuracy: 0.6718\n",
            "Epoch 8/100\n",
            "358/358 [==============================] - 1s 3ms/step - loss: 0.0041 - accuracy: 0.6726 - val_loss: 0.0053 - val_accuracy: 0.6717\n",
            "Epoch 9/100\n",
            "358/358 [==============================] - 1s 4ms/step - loss: 0.0040 - accuracy: 0.6726 - val_loss: 0.0061 - val_accuracy: 0.6715\n",
            "Epoch 10/100\n",
            "358/358 [==============================] - 1s 4ms/step - loss: 0.0039 - accuracy: 0.6726 - val_loss: 0.0052 - val_accuracy: 0.6717\n",
            "Epoch 11/100\n",
            "358/358 [==============================] - 1s 4ms/step - loss: 0.0039 - accuracy: 0.6726 - val_loss: 0.0046 - val_accuracy: 0.6718\n",
            "Epoch 12/100\n",
            "358/358 [==============================] - 1s 3ms/step - loss: 0.0035 - accuracy: 0.6727 - val_loss: 0.0045 - val_accuracy: 0.6719\n",
            "Epoch 13/100\n",
            "358/358 [==============================] - 1s 3ms/step - loss: 0.0034 - accuracy: 0.6727 - val_loss: 0.0044 - val_accuracy: 0.6719\n",
            "Epoch 14/100\n",
            "358/358 [==============================] - 1s 4ms/step - loss: 0.0033 - accuracy: 0.6727 - val_loss: 0.0073 - val_accuracy: 0.6712\n",
            "Epoch 15/100\n",
            "358/358 [==============================] - 1s 3ms/step - loss: 0.0037 - accuracy: 0.6727 - val_loss: 0.0046 - val_accuracy: 0.6719\n",
            "Epoch 16/100\n",
            "358/358 [==============================] - 1s 3ms/step - loss: 0.0033 - accuracy: 0.6727 - val_loss: 0.0043 - val_accuracy: 0.6719\n",
            "Epoch 17/100\n",
            "358/358 [==============================] - 2s 4ms/step - loss: 0.0032 - accuracy: 0.6727 - val_loss: 0.0040 - val_accuracy: 0.6719\n",
            "Epoch 18/100\n",
            "358/358 [==============================] - 2s 4ms/step - loss: 0.0031 - accuracy: 0.6727 - val_loss: 0.0041 - val_accuracy: 0.6719\n",
            "Epoch 19/100\n",
            "358/358 [==============================] - 1s 3ms/step - loss: 0.0031 - accuracy: 0.6727 - val_loss: 0.0041 - val_accuracy: 0.6719\n",
            "Epoch 20/100\n",
            "358/358 [==============================] - 1s 3ms/step - loss: 0.0031 - accuracy: 0.6728 - val_loss: 0.0040 - val_accuracy: 0.6720\n",
            "Epoch 21/100\n",
            "358/358 [==============================] - 1s 3ms/step - loss: 0.0031 - accuracy: 0.6728 - val_loss: 0.0049 - val_accuracy: 0.6718\n",
            "Epoch 22/100\n",
            "358/358 [==============================] - 1s 3ms/step - loss: 0.0031 - accuracy: 0.6728 - val_loss: 0.0044 - val_accuracy: 0.6719\n",
            "Epoch 23/100\n",
            "358/358 [==============================] - 1s 4ms/step - loss: 0.0031 - accuracy: 0.6727 - val_loss: 0.0047 - val_accuracy: 0.6719\n",
            "Epoch 24/100\n",
            "358/358 [==============================] - 1s 4ms/step - loss: 0.0031 - accuracy: 0.6727 - val_loss: 0.0054 - val_accuracy: 0.6717\n",
            "Epoch 25/100\n",
            "358/358 [==============================] - 1s 4ms/step - loss: 0.0031 - accuracy: 0.6727 - val_loss: 0.0040 - val_accuracy: 0.6719\n",
            "Epoch 26/100\n",
            "358/358 [==============================] - 1s 3ms/step - loss: 0.0029 - accuracy: 0.6728 - val_loss: 0.0039 - val_accuracy: 0.6719\n",
            "Epoch 27/100\n",
            "358/358 [==============================] - 1s 4ms/step - loss: 0.0029 - accuracy: 0.6728 - val_loss: 0.0044 - val_accuracy: 0.6719\n",
            "Epoch 28/100\n",
            "358/358 [==============================] - 2s 4ms/step - loss: 0.0030 - accuracy: 0.6728 - val_loss: 0.0042 - val_accuracy: 0.6719\n",
            "Epoch 29/100\n",
            "358/358 [==============================] - 1s 3ms/step - loss: 0.0030 - accuracy: 0.6728 - val_loss: 0.0038 - val_accuracy: 0.6720\n",
            "Epoch 30/100\n",
            "358/358 [==============================] - 1s 4ms/step - loss: 0.0029 - accuracy: 0.6728 - val_loss: 0.0039 - val_accuracy: 0.6720\n",
            "Epoch 31/100\n",
            "358/358 [==============================] - 1s 4ms/step - loss: 0.0029 - accuracy: 0.6728 - val_loss: 0.0040 - val_accuracy: 0.6719\n",
            "Epoch 32/100\n",
            "358/358 [==============================] - 1s 4ms/step - loss: 0.0029 - accuracy: 0.6728 - val_loss: 0.0042 - val_accuracy: 0.6719\n",
            "Epoch 33/100\n",
            "358/358 [==============================] - 1s 3ms/step - loss: 0.0029 - accuracy: 0.6728 - val_loss: 0.0041 - val_accuracy: 0.6719\n",
            "Epoch 34/100\n",
            "358/358 [==============================] - 1s 3ms/step - loss: 0.0029 - accuracy: 0.6728 - val_loss: 0.0038 - val_accuracy: 0.6720\n",
            "Epoch 35/100\n",
            "358/358 [==============================] - 1s 4ms/step - loss: 0.0029 - accuracy: 0.6728 - val_loss: 0.0039 - val_accuracy: 0.6720\n",
            "Epoch 36/100\n",
            "358/358 [==============================] - 1s 4ms/step - loss: 0.0028 - accuracy: 0.6728 - val_loss: 0.0052 - val_accuracy: 0.6718\n",
            "Epoch 37/100\n",
            "358/358 [==============================] - 1s 4ms/step - loss: 0.0032 - accuracy: 0.6727 - val_loss: 0.0039 - val_accuracy: 0.6719\n",
            "Epoch 38/100\n",
            "358/358 [==============================] - 1s 4ms/step - loss: 0.0028 - accuracy: 0.6728 - val_loss: 0.0055 - val_accuracy: 0.6716\n",
            "Epoch 39/100\n",
            "358/358 [==============================] - 2s 4ms/step - loss: 0.0030 - accuracy: 0.6728 - val_loss: 0.0043 - val_accuracy: 0.6719\n",
            "Epoch 40/100\n",
            "358/358 [==============================] - 1s 4ms/step - loss: 0.0029 - accuracy: 0.6728 - val_loss: 0.0048 - val_accuracy: 0.6718\n",
            "Epoch 41/100\n",
            "358/358 [==============================] - 1s 4ms/step - loss: 0.0030 - accuracy: 0.6728 - val_loss: 0.0038 - val_accuracy: 0.6720\n",
            "Epoch 42/100\n",
            "358/358 [==============================] - 1s 4ms/step - loss: 0.0028 - accuracy: 0.6728 - val_loss: 0.0039 - val_accuracy: 0.6719\n",
            "Epoch 43/100\n",
            "358/358 [==============================] - 1s 3ms/step - loss: 0.0028 - accuracy: 0.6728 - val_loss: 0.0038 - val_accuracy: 0.6719\n",
            "Epoch 44/100\n",
            "358/358 [==============================] - 1s 3ms/step - loss: 0.0028 - accuracy: 0.6728 - val_loss: 0.0038 - val_accuracy: 0.6719\n",
            "Epoch 45/100\n",
            "358/358 [==============================] - 1s 4ms/step - loss: 0.0028 - accuracy: 0.6728 - val_loss: 0.0038 - val_accuracy: 0.6720\n",
            "Epoch 46/100\n",
            "358/358 [==============================] - 1s 3ms/step - loss: 0.0028 - accuracy: 0.6728 - val_loss: 0.0042 - val_accuracy: 0.6719\n"
          ]
        },
        {
          "output_type": "display_data",
          "data": {
            "text/plain": [
              "<Figure size 432x288 with 1 Axes>"
            ],
            "image/png": "[encoded data removed]"
          },
          "metadata": {
            "needs_background": "light"
          }
        }
      ],
      "source": [
        "callback = tf.keras.callbacks.EarlyStopping(monitor='loss',min_delta=0.0001,patience=10)\n",
        "\n",
        "Autoencoder2.compile(optimizer,loss=\"mse\",metrics=['accuracy'])\n",
        "history2 = Autoencoder2.fit(train_data,train_data,epochs=100,batch_size=32,callbacks=[callback],validation_data=(val_data, val_data))\n",
        "#history_val = Autoencoder1.evaluate(val_data)\n",
        "#print(\"test loss\", history_val)\n",
        "\n",
        "#history_val2 = Autoencoder2.fit(val_data,val_data,epochs=100,batch_size=32,callbacks=[callback])\n",
        "plt.plot(history2.history['loss'])\n",
        "\n",
        "plt.savefig(\"/content/drive/MyDrive/autoencoder_output/A2loss.png\")"
      ]
    },
    {
      "cell_type": "code",
      "execution_count": null,
      "metadata": {
        "colab": {
          "base_uri": "https://localhost:8080/",
          "height": 265
        },
        "id": "PKe23P8Nw42E",
        "outputId": "61b91a25-2f66-4793-bee1-544fcf65a60c"
      },
      "outputs": [
        {
          "output_type": "display_data",
          "data": {
            "text/plain": [
              "<Figure size 432x288 with 1 Axes>"
            ],
            "image/png": "[encoded data removed]"
          },
          "metadata": {
            "needs_background": "light"
          }
        }
      ],
      "source": [
        "model_op100 = Autoencoder2.predict([test_data[1].reshape(-1,28,28,1)])\n",
        "plt.imshow(test_data[1],cmap=\"gray\")\n",
        "plt.savefig(\"/content/drive/MyDrive/autoencoder_output/test_original_image2.png\")"
      ]
    },
    {
      "cell_type": "code",
      "execution_count": null,
      "metadata": {
        "colab": {
          "base_uri": "https://localhost:8080/",
          "height": 265
        },
        "id": "9_lkcRFmxQIb",
        "outputId": "6f89b131-d826-4888-e5ed-57dd0596a312"
      },
      "outputs": [
        {
          "output_type": "display_data",
          "data": {
            "text/plain": [
              "<Figure size 432x288 with 1 Axes>"
            ],
            "image/png": "[encoded data removed]"
          },
          "metadata": {
            "needs_background": "light"
          }
        }
      ],
      "source": [
        "model_op100=model_op100.reshape(28,28)\n",
        "plt.imshow(model_op100,cmap=\"gray\")\n",
        "plt.savefig(\"/content/drive/MyDrive/autoencoder_output/test_reconstructed_image2.png\")"
      ]
    },
    {
      "cell_type": "code",
      "execution_count": null,
      "metadata": {
        "colab": {
          "base_uri": "https://localhost:8080/"
        },
        "id": "G9cw4PmxxWey",
        "outputId": "377db2f1-1377-452a-ab0d-6b330b5370ce"
      },
      "outputs": [
        {
          "output_type": "stream",
          "name": "stdout",
          "text": [
            "Model: \"Autoencoder3\"\n",
            "_________________________________________________________________\n",
            " Layer (type)                Output Shape              Param #   \n",
            "=================================================================\n",
            " img (InputLayer)            [(None, 28, 28, 1)]       0         \n",
            "                                                                 \n",
            " flatten_2 (Flatten)         (None, 784)               0         \n",
            "                                                                 \n",
            " dense_4 (Dense)             (None, 144)               113040    \n",
            "                                                                 \n",
            " dense_5 (Dense)             (None, 784)               113680    \n",
            "                                                                 \n",
            " reshape_2 (Reshape)         (None, 28, 28, 1)         0         \n",
            "                                                                 \n",
            "=================================================================\n",
            "Total params: 226,720\n",
            "Trainable params: 226,720\n",
            "Non-trainable params: 0\n",
            "_________________________________________________________________\n"
          ]
        }
      ],
      "source": [
        "x_in = keras.Input(shape=(28,28,1),name=\"img\")\n",
        "x = keras.layers.Flatten()(x_in)\n",
        "encoder_out = keras.layers.Dense(144,activation='sigmoid')(x)\n",
        "encoder_3 = keras.Model(x_in,encoder_out,name=\"encoder_3\")\n",
        "\n",
        "decoder_ip = keras.layers.Dense(784,activation='sigmoid')(encoder_out)\n",
        "\n",
        "decoder_op = keras.layers.Reshape((28,28,1))(decoder_ip)\n",
        "optimizer = keras.optimizers.Adam(learning_rate = 0.01,decay = 1e-6)\n",
        "\n",
        "Autoencoder3 = keras.Model(x_in,decoder_op,name=\"Autoencoder3\")\n",
        "Autoencoder3.summary()\n"
      ]
    },
    {
      "cell_type": "code",
      "execution_count": null,
      "metadata": {
        "id": "cKREG7vgC8DE"
      },
      "outputs": [],
      "source": [
        ""
      ]
    },
    {
      "cell_type": "code",
      "execution_count": null,
      "metadata": {
        "colab": {
          "base_uri": "https://localhost:8080/",
          "height": 1000
        },
        "id": "n9kZ7z1Nz7Jm",
        "outputId": "a2d5b56e-6cd8-4b3c-ea5a-e88bc83a7b05"
      },
      "outputs": [
        {
          "output_type": "stream",
          "name": "stdout",
          "text": [
            "Epoch 1/100\n",
            "358/358 [==============================] - 2s 5ms/step - loss: 0.0272 - accuracy: 0.6627 - val_loss: 0.0137 - val_accuracy: 0.6693\n",
            "Epoch 2/100\n",
            "358/358 [==============================] - 2s 5ms/step - loss: 0.0095 - accuracy: 0.6713 - val_loss: 0.0085 - val_accuracy: 0.6708\n",
            "Epoch 3/100\n",
            "358/358 [==============================] - 2s 5ms/step - loss: 0.0063 - accuracy: 0.6721 - val_loss: 0.0057 - val_accuracy: 0.6716\n",
            "Epoch 4/100\n",
            "358/358 [==============================] - 2s 5ms/step - loss: 0.0048 - accuracy: 0.6725 - val_loss: 0.0059 - val_accuracy: 0.6717\n",
            "Epoch 5/100\n",
            "358/358 [==============================] - 2s 5ms/step - loss: 0.0042 - accuracy: 0.6726 - val_loss: 0.0046 - val_accuracy: 0.6718\n",
            "Epoch 6/100\n",
            "358/358 [==============================] - 2s 5ms/step - loss: 0.0036 - accuracy: 0.6727 - val_loss: 0.0043 - val_accuracy: 0.6719\n",
            "Epoch 7/100\n",
            "358/358 [==============================] - 2s 4ms/step - loss: 0.0033 - accuracy: 0.6727 - val_loss: 0.0041 - val_accuracy: 0.6719\n",
            "Epoch 8/100\n",
            "358/358 [==============================] - 2s 4ms/step - loss: 0.0031 - accuracy: 0.6727 - val_loss: 0.0037 - val_accuracy: 0.6720\n",
            "Epoch 9/100\n",
            "358/358 [==============================] - 2s 4ms/step - loss: 0.0029 - accuracy: 0.6728 - val_loss: 0.0038 - val_accuracy: 0.6720\n",
            "Epoch 10/100\n",
            "358/358 [==============================] - 2s 5ms/step - loss: 0.0028 - accuracy: 0.6728 - val_loss: 0.0039 - val_accuracy: 0.6720\n",
            "Epoch 11/100\n",
            "358/358 [==============================] - 2s 4ms/step - loss: 0.0028 - accuracy: 0.6728 - val_loss: 0.0042 - val_accuracy: 0.6720\n",
            "Epoch 12/100\n",
            "358/358 [==============================] - 2s 4ms/step - loss: 0.0027 - accuracy: 0.6728 - val_loss: 0.0033 - val_accuracy: 0.6720\n",
            "Epoch 13/100\n",
            "358/358 [==============================] - 2s 5ms/step - loss: 0.0026 - accuracy: 0.6728 - val_loss: 0.0041 - val_accuracy: 0.6719\n",
            "Epoch 14/100\n",
            "358/358 [==============================] - 2s 4ms/step - loss: 0.0027 - accuracy: 0.6728 - val_loss: 0.0035 - val_accuracy: 0.6720\n",
            "Epoch 15/100\n",
            "358/358 [==============================] - 2s 5ms/step - loss: 0.0024 - accuracy: 0.6728 - val_loss: 0.0040 - val_accuracy: 0.6720\n",
            "Epoch 16/100\n",
            "358/358 [==============================] - 2s 5ms/step - loss: 0.0025 - accuracy: 0.6728 - val_loss: 0.0032 - val_accuracy: 0.6720\n",
            "Epoch 17/100\n",
            "358/358 [==============================] - 2s 4ms/step - loss: 0.0024 - accuracy: 0.6728 - val_loss: 0.0036 - val_accuracy: 0.6720\n",
            "Epoch 18/100\n",
            "358/358 [==============================] - 2s 4ms/step - loss: 0.0026 - accuracy: 0.6728 - val_loss: 0.0036 - val_accuracy: 0.6720\n",
            "Epoch 19/100\n",
            "358/358 [==============================] - 2s 5ms/step - loss: 0.0025 - accuracy: 0.6728 - val_loss: 0.0037 - val_accuracy: 0.6720\n",
            "Epoch 20/100\n",
            "358/358 [==============================] - 2s 5ms/step - loss: 0.0024 - accuracy: 0.6728 - val_loss: 0.0036 - val_accuracy: 0.6720\n",
            "Epoch 21/100\n",
            "358/358 [==============================] - 2s 5ms/step - loss: 0.0025 - accuracy: 0.6728 - val_loss: 0.0035 - val_accuracy: 0.6720\n",
            "Epoch 22/100\n",
            "358/358 [==============================] - 2s 5ms/step - loss: 0.0023 - accuracy: 0.6728 - val_loss: 0.0034 - val_accuracy: 0.6720\n",
            "Epoch 23/100\n",
            "358/358 [==============================] - 2s 4ms/step - loss: 0.0023 - accuracy: 0.6728 - val_loss: 0.0032 - val_accuracy: 0.6720\n",
            "Epoch 24/100\n",
            "358/358 [==============================] - 2s 4ms/step - loss: 0.0022 - accuracy: 0.6728 - val_loss: 0.0037 - val_accuracy: 0.6720\n",
            "Epoch 25/100\n",
            "358/358 [==============================] - 2s 5ms/step - loss: 0.0023 - accuracy: 0.6728 - val_loss: 0.0032 - val_accuracy: 0.6720\n",
            "Epoch 26/100\n",
            "358/358 [==============================] - 2s 5ms/step - loss: 0.0023 - accuracy: 0.6728 - val_loss: 0.0040 - val_accuracy: 0.6719\n",
            "Epoch 27/100\n",
            "358/358 [==============================] - 2s 5ms/step - loss: 0.0024 - accuracy: 0.6728 - val_loss: 0.0031 - val_accuracy: 0.6721\n",
            "Epoch 28/100\n",
            "358/358 [==============================] - 2s 5ms/step - loss: 0.0023 - accuracy: 0.6728 - val_loss: 0.0031 - val_accuracy: 0.6720\n",
            "Epoch 29/100\n",
            "358/358 [==============================] - 2s 4ms/step - loss: 0.0022 - accuracy: 0.6728 - val_loss: 0.0035 - val_accuracy: 0.6720\n",
            "Epoch 30/100\n",
            "358/358 [==============================] - 2s 5ms/step - loss: 0.0023 - accuracy: 0.6728 - val_loss: 0.0033 - val_accuracy: 0.6720\n",
            "Epoch 31/100\n",
            "358/358 [==============================] - 2s 4ms/step - loss: 0.0022 - accuracy: 0.6728 - val_loss: 0.0032 - val_accuracy: 0.6721\n",
            "Epoch 32/100\n",
            "358/358 [==============================] - 2s 4ms/step - loss: 0.0022 - accuracy: 0.6728 - val_loss: 0.0035 - val_accuracy: 0.6720\n",
            "Epoch 33/100\n",
            "358/358 [==============================] - 2s 4ms/step - loss: 0.0023 - accuracy: 0.6728 - val_loss: 0.0033 - val_accuracy: 0.6720\n",
            "Epoch 34/100\n",
            "358/358 [==============================] - 2s 4ms/step - loss: 0.0022 - accuracy: 0.6728 - val_loss: 0.0033 - val_accuracy: 0.6720\n",
            "Epoch 35/100\n",
            "358/358 [==============================] - 2s 4ms/step - loss: 0.0022 - accuracy: 0.6728 - val_loss: 0.0032 - val_accuracy: 0.6721\n",
            "Epoch 36/100\n",
            "358/358 [==============================] - 2s 4ms/step - loss: 0.0022 - accuracy: 0.6728 - val_loss: 0.0038 - val_accuracy: 0.6720\n",
            "Epoch 37/100\n",
            "358/358 [==============================] - 2s 5ms/step - loss: 0.0023 - accuracy: 0.6728 - val_loss: 0.0032 - val_accuracy: 0.6721\n",
            "Epoch 38/100\n",
            "358/358 [==============================] - 2s 4ms/step - loss: 0.0022 - accuracy: 0.6728 - val_loss: 0.0031 - val_accuracy: 0.6720\n",
            "Epoch 39/100\n",
            "358/358 [==============================] - 2s 5ms/step - loss: 0.0022 - accuracy: 0.6728 - val_loss: 0.0032 - val_accuracy: 0.6721\n",
            "Epoch 40/100\n",
            "358/358 [==============================] - 2s 4ms/step - loss: 0.0022 - accuracy: 0.6728 - val_loss: 0.0033 - val_accuracy: 0.6721\n",
            "Epoch 41/100\n",
            "358/358 [==============================] - 2s 4ms/step - loss: 0.0022 - accuracy: 0.6728 - val_loss: 0.0036 - val_accuracy: 0.6720\n"
          ]
        },
        {
          "output_type": "display_data",
          "data": {
            "text/plain": [
              "<Figure size 432x288 with 1 Axes>"
            ],
            "image/png": "[encoded data removed]"
          },
          "metadata": {
            "needs_background": "light"
          }
        }
      ],
      "source": [
        "callback = tf.keras.callbacks.EarlyStopping(monitor='loss',min_delta=0.0001,patience=10)\n",
        "Autoencoder3.compile(optimizer,loss=\"mse\",metrics=['accuracy'])\n",
        "history3 = Autoencoder3.fit(train_data,train_data,epochs=100,batch_size=32,callbacks=[callback],validation_data=(val_data, val_data))\n",
        "#history_val3 = Autoencoder3.fit(val_data,val_data,epochs=100,batch_size=32,callbacks=[callback])\n",
        "#compressed_rep_train = encoder_3.predict(train_data)\n",
        "#compressed_rep_valid = encoder_3.predict(val_data)\n",
        "#compressed_rep_test = encoder_3.predict(test_data)\n",
        "plt.plot(history3.history['loss'])\n",
        "\n",
        "plt.savefig(\"/content/drive/MyDrive/autoencoder_output/A3loss.png\")\n"
      ]
    },
    {
      "cell_type": "code",
      "execution_count": null,
      "metadata": {
        "colab": {
          "base_uri": "https://localhost:8080/",
          "height": 265
        },
        "id": "BkoLz9r-2JLD",
        "outputId": "8f283b19-3f76-4868-bd81-00d196a131eb"
      },
      "outputs": [
        {
          "output_type": "display_data",
          "data": {
            "text/plain": [
              "<Figure size 432x288 with 1 Axes>"
            ],
            "image/png": "[encoded data removed]"
          },
          "metadata": {
            "needs_background": "light"
          }
        }
      ],
      "source": [
        "model_op144 = Autoencoder3.predict([test_data[1].reshape(-1,28,28,1)])\n",
        "plt.imshow(test_data[1],cmap=\"gray\")\n",
        "plt.savefig(\"/content/drive/MyDrive/autoencoder_output/test_original_image.png\")"
      ]
    },
    {
      "cell_type": "code",
      "execution_count": null,
      "metadata": {
        "colab": {
          "base_uri": "https://localhost:8080/",
          "height": 265
        },
        "id": "oiKquR712Rzv",
        "outputId": "600ee971-4fab-4ac3-da08-baba553c6af2"
      },
      "outputs": [
        {
          "output_type": "display_data",
          "data": {
            "text/plain": [
              "<Figure size 432x288 with 1 Axes>"
            ],
            "image/png": "[encoded data removed]"
          },
          "metadata": {
            "needs_background": "light"
          }
        }
      ],
      "source": [
        "model_op144=model_op144.reshape(28,28)\n",
        "plt.imshow(model_op144,cmap=\"gray\")\n",
        "plt.savefig(\"/content/drive/MyDrive/autoencoder_output/test_reconstructed_image.png\")"
      ]
    },
    {
      "cell_type": "code",
      "source": [
        "x_in = keras.Input(shape=(28,28,1),name=\"img\")\n",
        "x = keras.layers.Flatten()(x_in)\n",
        "encoder_out = keras.layers.Dense(196,activation='sigmoid')(x)\n",
        "encoder_4 = keras.Model(x_in,encoder_out,name=\"encoder_3\")\n",
        "\n",
        "decoder_ip = keras.layers.Dense(784,activation='sigmoid')(encoder_out)\n",
        "\n",
        "decoder_op = keras.layers.Reshape((28,28,1))(decoder_ip)\n",
        "optimizer = keras.optimizers.Adam(learning_rate = 0.01,decay = 1e-6)\n",
        "\n",
        "Autoencoder4 = keras.Model(x_in,decoder_op,name=\"Autoencoder4\")\n",
        "Autoencoder4.summary()\n"
      ],
      "metadata": {
        "colab": {
          "base_uri": "https://localhost:8080/"
        },
        "id": "O7aKGaICGfP2",
        "outputId": "158c0fd9-d562-49ff-877b-8d73ea9b4784"
      },
      "execution_count": 2,
      "outputs": [
        {
          "output_type": "stream",
          "name": "stdout",
          "text": [
            "Model: \"Autoencoder4\"\n",
            "_________________________________________________________________\n",
            " Layer (type)                Output Shape              Param #   \n",
            "=================================================================\n",
            " img (InputLayer)            [(None, 28, 28, 1)]       0         \n",
            "                                                                 \n",
            " flatten (Flatten)           (None, 784)               0         \n",
            "                                                                 \n",
            " dense (Dense)               (None, 196)               153860    \n",
            "                                                                 \n",
            " dense_1 (Dense)             (None, 784)               154448    \n",
            "                                                                 \n",
            " reshape (Reshape)           (None, 28, 28, 1)         0         \n",
            "                                                                 \n",
            "=================================================================\n",
            "Total params: 308,308\n",
            "Trainable params: 308,308\n",
            "Non-trainable params: 0\n",
            "_________________________________________________________________\n"
          ]
        }
      ]
    },
    {
      "cell_type": "code",
      "source": [
        "callback = tf.keras.callbacks.EarlyStopping(monitor='loss',min_delta=0.0001,patience=10)\n",
        "Autoencoder4.compile(optimizer,loss=\"mse\",metrics=['accuracy'])\n",
        "history4 = Autoencoder4.fit(train_data,train_data,epochs=100,batch_size=32,callbacks=[callback],validation_data=(val_data, val_data))\n",
        "#history_val3 = Autoencoder3.fit(val_data,val_data,epochs=100,batch_size=32,callbacks=[callback])\n",
        "#compressed_rep_train = encoder_3.predict(train_data)\n",
        "#compressed_rep_valid = encoder_3.predict(val_data)\n",
        "#compressed_rep_test = encoder_3.predict(test_data)\n",
        "plt.plot(history4.history['loss'])\n",
        "\n",
        "plt.savefig(\"/content/drive/MyDrive/autoencoder_output/A41024loss.png\")"
      ],
      "metadata": {
        "colab": {
          "base_uri": "https://localhost:8080/",
          "height": 1000
        },
        "id": "T2xyhW4MGgM3",
        "outputId": "01efb868-aa6c-4d79-8374-1d636bf9e506"
      },
      "execution_count": 7,
      "outputs": [
        {
          "output_type": "stream",
          "name": "stdout",
          "text": [
            "Epoch 1/100\n",
            "358/358 [==============================] - 7s 18ms/step - loss: 0.0229 - accuracy: 0.6650 - val_loss: 0.0069 - val_accuracy: 0.6714\n",
            "Epoch 2/100\n",
            "358/358 [==============================] - 8s 23ms/step - loss: 0.0049 - accuracy: 0.6724 - val_loss: 0.0048 - val_accuracy: 0.6718\n",
            "Epoch 3/100\n",
            "358/358 [==============================] - 6s 18ms/step - loss: 0.0036 - accuracy: 0.6726 - val_loss: 0.0044 - val_accuracy: 0.6719\n",
            "Epoch 4/100\n",
            "358/358 [==============================] - 8s 21ms/step - loss: 0.0030 - accuracy: 0.6727 - val_loss: 0.0039 - val_accuracy: 0.6720\n",
            "Epoch 5/100\n",
            "358/358 [==============================] - 7s 19ms/step - loss: 0.0027 - accuracy: 0.6727 - val_loss: 0.0039 - val_accuracy: 0.6720\n",
            "Epoch 6/100\n",
            "358/358 [==============================] - 6s 18ms/step - loss: 0.0025 - accuracy: 0.6728 - val_loss: 0.0036 - val_accuracy: 0.6720\n",
            "Epoch 7/100\n",
            "358/358 [==============================] - 6s 18ms/step - loss: 0.0024 - accuracy: 0.6728 - val_loss: 0.0033 - val_accuracy: 0.6721\n",
            "Epoch 8/100\n",
            "358/358 [==============================] - 6s 18ms/step - loss: 0.0023 - accuracy: 0.6728 - val_loss: 0.0030 - val_accuracy: 0.6721\n",
            "Epoch 9/100\n",
            "358/358 [==============================] - 7s 18ms/step - loss: 0.0022 - accuracy: 0.6728 - val_loss: 0.0031 - val_accuracy: 0.6721\n",
            "Epoch 10/100\n",
            "358/358 [==============================] - 6s 18ms/step - loss: 0.0022 - accuracy: 0.6728 - val_loss: 0.0035 - val_accuracy: 0.6720\n",
            "Epoch 11/100\n",
            "358/358 [==============================] - 7s 18ms/step - loss: 0.0022 - accuracy: 0.6728 - val_loss: 0.0032 - val_accuracy: 0.6721\n",
            "Epoch 12/100\n",
            "358/358 [==============================] - 7s 19ms/step - loss: 0.0022 - accuracy: 0.6728 - val_loss: 0.0032 - val_accuracy: 0.6721\n",
            "Epoch 13/100\n",
            "358/358 [==============================] - 7s 18ms/step - loss: 0.0021 - accuracy: 0.6728 - val_loss: 0.0032 - val_accuracy: 0.6721\n",
            "Epoch 14/100\n",
            "358/358 [==============================] - 7s 18ms/step - loss: 0.0021 - accuracy: 0.6728 - val_loss: 0.0032 - val_accuracy: 0.6721\n",
            "Epoch 15/100\n",
            "358/358 [==============================] - 6s 18ms/step - loss: 0.0021 - accuracy: 0.6728 - val_loss: 0.0036 - val_accuracy: 0.6720\n",
            "Epoch 16/100\n",
            "358/358 [==============================] - 6s 18ms/step - loss: 0.0022 - accuracy: 0.6728 - val_loss: 0.0036 - val_accuracy: 0.6720\n",
            "Epoch 17/100\n",
            "358/358 [==============================] - 7s 18ms/step - loss: 0.0023 - accuracy: 0.6728 - val_loss: 0.0030 - val_accuracy: 0.6721\n",
            "Epoch 18/100\n",
            "358/358 [==============================] - 7s 18ms/step - loss: 0.0020 - accuracy: 0.6728 - val_loss: 0.0035 - val_accuracy: 0.6721\n",
            "Epoch 19/100\n",
            "358/358 [==============================] - 7s 18ms/step - loss: 0.0022 - accuracy: 0.6728 - val_loss: 0.0030 - val_accuracy: 0.6721\n",
            "Epoch 20/100\n",
            "358/358 [==============================] - 7s 18ms/step - loss: 0.0020 - accuracy: 0.6728 - val_loss: 0.0030 - val_accuracy: 0.6721\n",
            "Epoch 21/100\n",
            "358/358 [==============================] - 7s 19ms/step - loss: 0.0019 - accuracy: 0.6728 - val_loss: 0.0031 - val_accuracy: 0.6721\n",
            "Epoch 22/100\n",
            "358/358 [==============================] - 7s 18ms/step - loss: 0.0020 - accuracy: 0.6728 - val_loss: 0.0031 - val_accuracy: 0.6721\n",
            "Epoch 23/100\n",
            "358/358 [==============================] - 7s 18ms/step - loss: 0.0020 - accuracy: 0.6728 - val_loss: 0.0030 - val_accuracy: 0.6721\n",
            "Epoch 24/100\n",
            "358/358 [==============================] - 6s 18ms/step - loss: 0.0020 - accuracy: 0.6728 - val_loss: 0.0028 - val_accuracy: 0.6721\n",
            "Epoch 25/100\n",
            "358/358 [==============================] - 7s 18ms/step - loss: 0.0019 - accuracy: 0.6728 - val_loss: 0.0032 - val_accuracy: 0.6721\n",
            "Epoch 26/100\n",
            "358/358 [==============================] - 7s 18ms/step - loss: 0.0019 - accuracy: 0.6728 - val_loss: 0.0031 - val_accuracy: 0.6721\n",
            "Epoch 27/100\n",
            "358/358 [==============================] - 6s 18ms/step - loss: 0.0019 - accuracy: 0.6728 - val_loss: 0.0028 - val_accuracy: 0.6721\n",
            "Epoch 28/100\n",
            "358/358 [==============================] - 7s 18ms/step - loss: 0.0018 - accuracy: 0.6728 - val_loss: 0.0031 - val_accuracy: 0.6721\n",
            "Epoch 29/100\n",
            "358/358 [==============================] - 7s 18ms/step - loss: 0.0019 - accuracy: 0.6728 - val_loss: 0.0029 - val_accuracy: 0.6721\n",
            "Epoch 30/100\n",
            "358/358 [==============================] - 6s 18ms/step - loss: 0.0019 - accuracy: 0.6728 - val_loss: 0.0034 - val_accuracy: 0.6720\n",
            "Epoch 31/100\n",
            "358/358 [==============================] - 7s 18ms/step - loss: 0.0020 - accuracy: 0.6728 - val_loss: 0.0030 - val_accuracy: 0.6721\n",
            "Epoch 32/100\n",
            "358/358 [==============================] - 7s 19ms/step - loss: 0.0019 - accuracy: 0.6728 - val_loss: 0.0029 - val_accuracy: 0.6721\n",
            "Epoch 33/100\n",
            "358/358 [==============================] - 7s 19ms/step - loss: 0.0018 - accuracy: 0.6728 - val_loss: 0.0029 - val_accuracy: 0.6721\n",
            "Epoch 34/100\n",
            "358/358 [==============================] - 7s 18ms/step - loss: 0.0018 - accuracy: 0.6728 - val_loss: 0.0034 - val_accuracy: 0.6721\n",
            "Epoch 35/100\n",
            "358/358 [==============================] - 7s 18ms/step - loss: 0.0020 - accuracy: 0.6728 - val_loss: 0.0031 - val_accuracy: 0.6721\n"
          ]
        },
        {
          "output_type": "display_data",
          "data": {
            "text/plain": [
              "<Figure size 432x288 with 1 Axes>"
            ],
            "image/png": "[encoded data removed]"
          },
          "metadata": {
            "needs_background": "light"
          }
        }
      ]
    },
    {
      "cell_type": "code",
      "source": [
        "model_op196 = Autoencoder4.predict([test_data[1].reshape(-1,28,28,1)])\n",
        "plt.imshow(test_data[1],cmap=\"gray\")\n",
        "plt.savefig(\"/content/drive/MyDrive/autoencoder_output/1024test_original_image4.png\")"
      ],
      "metadata": {
        "colab": {
          "base_uri": "https://localhost:8080/",
          "height": 265
        },
        "id": "5BSmXz-kGgXt",
        "outputId": "a515a60f-a281-4336-a6c7-301deae38d09"
      },
      "execution_count": 8,
      "outputs": [
        {
          "output_type": "display_data",
          "data": {
            "text/plain": [
              "<Figure size 432x288 with 1 Axes>"
            ],
            "image/png": "[encoded data removed]"
          },
          "metadata": {
            "needs_background": "light"
          }
        }
      ]
    },
    {
      "cell_type": "code",
      "source": [
        "model_op196=model_op196.reshape(28,28)\n",
        "plt.imshow(model_op196,cmap=\"gray\")\n",
        "plt.savefig(\"/content/drive/MyDrive/autoencoder_output/1024test_reconstructed_image4.png\")"
      ],
      "metadata": {
        "colab": {
          "base_uri": "https://localhost:8080/",
          "height": 265
        },
        "id": "K0DVmTlsGgkG",
        "outputId": "5b3aac81-2b14-48df-d50a-8b2bb1334b6b"
      },
      "execution_count": 9,
      "outputs": [
        {
          "output_type": "display_data",
          "data": {
            "text/plain": [
              "<Figure size 432x288 with 1 Axes>"
            ],
            "image/png": "[encoded data removed]"
          },
          "metadata": {
            "needs_background": "light"
          }
        }
      ]
    },
    {
      "cell_type": "code",
      "source": [
        "x_in = keras.Input(shape=(28,28,1),name=\"img\")\n",
        "x = keras.layers.Flatten()(x_in)\n",
        "encoder_out = keras.layers.Dense(256,activation='sigmoid')(x)\n",
        "encoder_5 = keras.Model(x_in,encoder_out,name=\"encoder_3\")\n",
        "\n",
        "decoder_ip = keras.layers.Dense(784,activation='sigmoid')(encoder_out)\n",
        "\n",
        "decoder_op = keras.layers.Reshape((28,28,1))(decoder_ip)\n",
        "optimizer = keras.optimizers.Adam(learning_rate = 0.01,decay = 1e-6)\n",
        "\n",
        "Autoencoder5 = keras.Model(x_in,decoder_op,name=\"Autoencoder5\")\n",
        "Autoencoder5.summary()"
      ],
      "metadata": {
        "colab": {
          "base_uri": "https://localhost:8080/"
        },
        "id": "CkrAmslLGhU1",
        "outputId": "e394d838-9682-431b-9ba5-bf101b25e697"
      },
      "execution_count": null,
      "outputs": [
        {
          "output_type": "stream",
          "name": "stdout",
          "text": [
            "Model: \"Autoencoder5\"\n",
            "_________________________________________________________________\n",
            " Layer (type)                Output Shape              Param #   \n",
            "=================================================================\n",
            " img (InputLayer)            [(None, 28, 28, 1)]       0         \n",
            "                                                                 \n",
            " flatten (Flatten)           (None, 784)               0         \n",
            "                                                                 \n",
            " dense (Dense)               (None, 256)               200960    \n",
            "                                                                 \n",
            " dense_1 (Dense)             (None, 784)               201488    \n",
            "                                                                 \n",
            " reshape (Reshape)           (None, 28, 28, 1)         0         \n",
            "                                                                 \n",
            "=================================================================\n",
            "Total params: 402,448\n",
            "Trainable params: 402,448\n",
            "Non-trainable params: 0\n",
            "_________________________________________________________________\n"
          ]
        }
      ]
    },
    {
      "cell_type": "markdown",
      "source": [
        ""
      ],
      "metadata": {
        "id": "cMBr4NDFhBrl"
      }
    },
    {
      "cell_type": "code",
      "source": [
        "callback = tf.keras.callbacks.EarlyStopping(monitor='loss',min_delta=0.0001,patience=10)\n",
        "Autoencoder5.compile(optimizer,loss=\"mse\",metrics=['accuracy'])\n",
        "history5 = Autoencoder5.fit(train_data,train_data,epochs=100,batch_size=32,callbacks=[callback],validation_data=(val_data, val_data))\n",
        "#history_val3 = Autoencoder3.fit(val_data,val_data,epochs=100,batch_size=32,callbacks=[callback])\n",
        "#compressed_rep_train = encoder_3.predict(train_data)\n",
        "#compressed_rep_valid = encoder_3.predict(val_data)\n",
        "#compressed_rep_test = encoder_3.predict(test_data)\n",
        "plt.plot(history5.history['loss'])\n",
        "\n",
        "plt.savefig(\"/content/drive/MyDrive/autoencoder_output/A5loss.png\")"
      ],
      "metadata": {
        "colab": {
          "base_uri": "https://localhost:8080/",
          "height": 1000
        },
        "id": "78ZiBCKyGhgi",
        "outputId": "3145810e-3145-48c1-8114-8ad141d4a53f"
      },
      "execution_count": null,
      "outputs": [
        {
          "output_type": "stream",
          "name": "stdout",
          "text": [
            "Epoch 1/100\n",
            "358/358 [==============================] - 5s 5ms/step - loss: 0.0199 - accuracy: 0.6658 - val_loss: 0.0090 - val_accuracy: 0.6708\n",
            "Epoch 2/100\n",
            "358/358 [==============================] - 2s 5ms/step - loss: 0.0062 - accuracy: 0.6721 - val_loss: 0.0055 - val_accuracy: 0.6717\n",
            "Epoch 3/100\n",
            "358/358 [==============================] - 2s 5ms/step - loss: 0.0042 - accuracy: 0.6725 - val_loss: 0.0048 - val_accuracy: 0.6718\n",
            "Epoch 4/100\n",
            "358/358 [==============================] - 2s 5ms/step - loss: 0.0035 - accuracy: 0.6727 - val_loss: 0.0041 - val_accuracy: 0.6719\n",
            "Epoch 5/100\n",
            "358/358 [==============================] - 2s 5ms/step - loss: 0.0030 - accuracy: 0.6727 - val_loss: 0.0033 - val_accuracy: 0.6720\n",
            "Epoch 6/100\n",
            "358/358 [==============================] - 2s 5ms/step - loss: 0.0026 - accuracy: 0.6728 - val_loss: 0.0034 - val_accuracy: 0.6720\n",
            "Epoch 7/100\n",
            "358/358 [==============================] - 2s 5ms/step - loss: 0.0025 - accuracy: 0.6728 - val_loss: 0.0033 - val_accuracy: 0.6721\n",
            "Epoch 8/100\n",
            "358/358 [==============================] - 2s 5ms/step - loss: 0.0024 - accuracy: 0.6728 - val_loss: 0.0037 - val_accuracy: 0.6720\n",
            "Epoch 9/100\n",
            "358/358 [==============================] - 2s 5ms/step - loss: 0.0024 - accuracy: 0.6728 - val_loss: 0.0033 - val_accuracy: 0.6720\n",
            "Epoch 10/100\n",
            "358/358 [==============================] - 2s 5ms/step - loss: 0.0023 - accuracy: 0.6728 - val_loss: 0.0034 - val_accuracy: 0.6720\n",
            "Epoch 11/100\n",
            "358/358 [==============================] - 2s 5ms/step - loss: 0.0023 - accuracy: 0.6728 - val_loss: 0.0041 - val_accuracy: 0.6719\n",
            "Epoch 12/100\n",
            "358/358 [==============================] - 2s 5ms/step - loss: 0.0024 - accuracy: 0.6728 - val_loss: 0.0034 - val_accuracy: 0.6721\n",
            "Epoch 13/100\n",
            "358/358 [==============================] - 2s 5ms/step - loss: 0.0022 - accuracy: 0.6728 - val_loss: 0.0033 - val_accuracy: 0.6721\n",
            "Epoch 14/100\n",
            "358/358 [==============================] - 2s 5ms/step - loss: 0.0021 - accuracy: 0.6728 - val_loss: 0.0039 - val_accuracy: 0.6719\n",
            "Epoch 15/100\n",
            "358/358 [==============================] - 2s 5ms/step - loss: 0.0025 - accuracy: 0.6727 - val_loss: 0.0035 - val_accuracy: 0.6720\n",
            "Epoch 16/100\n",
            "358/358 [==============================] - 2s 5ms/step - loss: 0.0024 - accuracy: 0.6727 - val_loss: 0.0033 - val_accuracy: 0.6720\n",
            "Epoch 17/100\n",
            "358/358 [==============================] - 2s 5ms/step - loss: 0.0023 - accuracy: 0.6727 - val_loss: 0.0032 - val_accuracy: 0.6720\n",
            "Epoch 18/100\n",
            "358/358 [==============================] - 2s 5ms/step - loss: 0.0022 - accuracy: 0.6727 - val_loss: 0.0031 - val_accuracy: 0.6720\n",
            "Epoch 19/100\n",
            "358/358 [==============================] - 2s 5ms/step - loss: 0.0022 - accuracy: 0.6727 - val_loss: 0.0033 - val_accuracy: 0.6720\n",
            "Epoch 20/100\n",
            "358/358 [==============================] - 2s 5ms/step - loss: 0.0022 - accuracy: 0.6727 - val_loss: 0.0045 - val_accuracy: 0.6718\n",
            "Epoch 21/100\n",
            "358/358 [==============================] - 2s 5ms/step - loss: 0.0026 - accuracy: 0.6727 - val_loss: 0.0032 - val_accuracy: 0.6720\n",
            "Epoch 22/100\n",
            "358/358 [==============================] - 2s 5ms/step - loss: 0.0022 - accuracy: 0.6727 - val_loss: 0.0034 - val_accuracy: 0.6720\n",
            "Epoch 23/100\n",
            "358/358 [==============================] - 2s 6ms/step - loss: 0.0022 - accuracy: 0.6727 - val_loss: 0.0032 - val_accuracy: 0.6720\n"
          ]
        },
        {
          "output_type": "display_data",
          "data": {
            "text/plain": [
              "<Figure size 432x288 with 1 Axes>"
            ],
            "image/png": "[encoded data removed]"
          },
          "metadata": {
            "needs_background": "light"
          }
        }
      ]
    },
    {
      "cell_type": "code",
      "source": [
        "model_op256 = Autoencoder5.predict([train_data[6500].reshape(-1,28,28,1)])\n",
        "plt.imshow(train_data[6500],cmap=\"gray\")\n",
        "plt.savefig(\"/content/drive/MyDrive/autoencoder_output/test_org_image5train9.png\")"
      ],
      "metadata": {
        "colab": {
          "base_uri": "https://localhost:8080/",
          "height": 265
        },
        "id": "r2WC4jIvGhrd",
        "outputId": "01428f9c-191d-49bc-967f-f9341b0e96f1"
      },
      "execution_count": null,
      "outputs": [
        {
          "output_type": "display_data",
          "data": {
            "text/plain": [
              "<Figure size 432x288 with 1 Axes>"
            ],
            "image/png": "[encoded data removed]"
          },
          "metadata": {
            "needs_background": "light"
          }
        }
      ]
    },
    {
      "cell_type": "code",
      "source": [
        "model_op256 = model_op256.reshape(28,28)\n",
        "plt.imshow(model_op256,cmap=\"gray\")\n",
        "plt.savefig(\"/content/drive/MyDrive/autoencoder_output/test_reconst_image5train9.png\")"
      ],
      "metadata": {
        "colab": {
          "base_uri": "https://localhost:8080/",
          "height": 265
        },
        "id": "k6sujuchGh3j",
        "outputId": "574bd75d-4ade-4ed2-96fe-697cc973a275"
      },
      "execution_count": null,
      "outputs": [
        {
          "output_type": "display_data",
          "data": {
            "text/plain": [
              "<Figure size 432x288 with 1 Axes>"
            ],
            "image/png": "[encoded data removed]"
          },
          "metadata": {
            "needs_background": "light"
          }
        }
      ]
    },
    {
      "cell_type": "code",
      "source": [
        "# To get compressed representation of image from train_data, val_dat, test_data for using that compressed representation in classifiction.\n",
        "encoder_train5 = encoder_5.predict([train_data.reshape(-1,28,28,1)])\n",
        "encoder_val5 = encoder_5.predict([val_data.reshape(-1,28,28,1)])\n",
        "encoder_test5 = encoder_5.predict([test_data.reshape(-1,28,28,1)])\n",
        "\n",
        "print(encoder_train5.shape)\n",
        "print(encoder_val5.shape)\n",
        "print(encoder_test5.shape)"
      ],
      "metadata": {
        "colab": {
          "base_uri": "https://localhost:8080/"
        },
        "id": "WUvJqVwlGiD_",
        "outputId": "a220b22c-becf-4fc8-e22a-8b1905e827b1"
      },
      "execution_count": null,
      "outputs": [
        {
          "output_type": "stream",
          "name": "stdout",
          "text": [
            "(11425, 256)\n",
            "(3855, 256)\n",
            "(3845, 256)\n"
          ]
        }
      ]
    },
    {
      "cell_type": "code",
      "source": [
        "# Model of FCNN with 3 hidden layers for classification \n",
        "model51 = tf.keras.models.Sequential([\n",
        "    #tf.keras.layers.Flatten(input_shape=(28, 28), name='Input_Layer'),\n",
        "    tf.keras.layers.Dense(361, activation='sigmoid', name='Hidden_Layer_1'),\n",
        "    tf.keras.layers.Dense(289, activation='sigmoid', name='Hidden_Layer_2'),\n",
        "    tf.keras.layers.Dense(361, activation='sigmoid', name='Hidden_Layer_3'),\n",
        "    tf.keras.layers.Dense(10, activation='softmax', name='Output_Layer')\n",
        "])\n",
        "optimizer = tf.keras.optimizers.Adam(\n",
        "    learning_rate=0.001,\n",
        "    beta_1=0.9,\n",
        "    beta_2=0.999,\n",
        "    epsilon=1e-08,\n",
        "    name='Adam')\n",
        "model51.compile(optimizer=optimizer,\n",
        "             loss='sparse_categorical_crossentropy',\n",
        "             metrics=['accuracy'])\n",
        "callback = tf.keras.callbacks.EarlyStopping(monitor='loss',min_delta=0.0001,patience=10)\n",
        "trained = model51.fit(encoder_train5, tr_out, epochs=10000, callbacks=callback)\n",
        "\n",
        "# For getting validation loss and accuracy.\n",
        "loss, mse = model51.evaluate(encoder_val5, val_out)\n"
      ],
      "metadata": {
        "colab": {
          "base_uri": "https://localhost:8080/"
        },
        "id": "aLNOJ47NGiQP",
        "outputId": "8b94caf1-266e-4b1f-bb7e-0634cda91b0b"
      },
      "execution_count": null,
      "outputs": [
        {
          "output_type": "stream",
          "name": "stdout",
          "text": [
            "Epoch 1/10000\n",
            "358/358 [==============================] - 2s 4ms/step - loss: 0.6331 - accuracy: 0.7508\n",
            "Epoch 2/10000\n",
            "358/358 [==============================] - 1s 4ms/step - loss: 0.2078 - accuracy: 0.9323\n",
            "Epoch 3/10000\n",
            "358/358 [==============================] - 1s 4ms/step - loss: 0.1802 - accuracy: 0.9417\n",
            "Epoch 4/10000\n",
            "358/358 [==============================] - 1s 4ms/step - loss: 0.1603 - accuracy: 0.9474\n",
            "Epoch 5/10000\n",
            "358/358 [==============================] - 2s 6ms/step - loss: 0.1491 - accuracy: 0.9511\n",
            "Epoch 6/10000\n",
            "358/358 [==============================] - 2s 6ms/step - loss: 0.1401 - accuracy: 0.9517\n",
            "Epoch 7/10000\n",
            "358/358 [==============================] - 2s 5ms/step - loss: 0.1293 - accuracy: 0.9575\n",
            "Epoch 8/10000\n",
            "358/358 [==============================] - 1s 4ms/step - loss: 0.1204 - accuracy: 0.9587\n",
            "Epoch 9/10000\n",
            "358/358 [==============================] - 1s 4ms/step - loss: 0.1093 - accuracy: 0.9624\n",
            "Epoch 10/10000\n",
            "358/358 [==============================] - 1s 4ms/step - loss: 0.0910 - accuracy: 0.9702\n",
            "Epoch 11/10000\n",
            "358/358 [==============================] - 1s 4ms/step - loss: 0.0888 - accuracy: 0.9703\n",
            "Epoch 12/10000\n",
            "358/358 [==============================] - 1s 4ms/step - loss: 0.0738 - accuracy: 0.9754\n",
            "Epoch 13/10000\n",
            "358/358 [==============================] - 1s 4ms/step - loss: 0.0686 - accuracy: 0.9772\n",
            "Epoch 14/10000\n",
            "358/358 [==============================] - 2s 5ms/step - loss: 0.0593 - accuracy: 0.9806\n",
            "Epoch 15/10000\n",
            "358/358 [==============================] - 2s 6ms/step - loss: 0.0500 - accuracy: 0.9838\n",
            "Epoch 16/10000\n",
            "358/358 [==============================] - 3s 7ms/step - loss: 0.0466 - accuracy: 0.9851\n",
            "Epoch 17/10000\n",
            "358/358 [==============================] - 2s 7ms/step - loss: 0.0370 - accuracy: 0.9882\n",
            "Epoch 18/10000\n",
            "358/358 [==============================] - 2s 7ms/step - loss: 0.0396 - accuracy: 0.9874\n",
            "Epoch 19/10000\n",
            "358/358 [==============================] - 2s 4ms/step - loss: 0.0313 - accuracy: 0.9897\n",
            "Epoch 20/10000\n",
            "358/358 [==============================] - 1s 4ms/step - loss: 0.0250 - accuracy: 0.9920\n",
            "Epoch 21/10000\n",
            "358/358 [==============================] - 1s 4ms/step - loss: 0.0236 - accuracy: 0.9919\n",
            "Epoch 22/10000\n",
            "358/358 [==============================] - 1s 4ms/step - loss: 0.0238 - accuracy: 0.9924\n",
            "Epoch 23/10000\n",
            "358/358 [==============================] - 1s 4ms/step - loss: 0.0187 - accuracy: 0.9939\n",
            "Epoch 24/10000\n",
            "358/358 [==============================] - 1s 4ms/step - loss: 0.0106 - accuracy: 0.9978\n",
            "Epoch 25/10000\n",
            "358/358 [==============================] - 1s 4ms/step - loss: 0.0078 - accuracy: 0.9982\n",
            "Epoch 26/10000\n",
            "358/358 [==============================] - 1s 4ms/step - loss: 0.0101 - accuracy: 0.9976\n",
            "Epoch 27/10000\n",
            "358/358 [==============================] - 1s 4ms/step - loss: 0.0170 - accuracy: 0.9936\n",
            "Epoch 28/10000\n",
            "358/358 [==============================] - 1s 4ms/step - loss: 0.0139 - accuracy: 0.9960\n",
            "Epoch 29/10000\n",
            "358/358 [==============================] - 1s 4ms/step - loss: 0.0057 - accuracy: 0.9984\n",
            "Epoch 30/10000\n",
            "358/358 [==============================] - 1s 4ms/step - loss: 0.0075 - accuracy: 0.9981\n",
            "Epoch 31/10000\n",
            "358/358 [==============================] - 1s 4ms/step - loss: 0.0133 - accuracy: 0.9958\n",
            "Epoch 32/10000\n",
            "358/358 [==============================] - 1s 4ms/step - loss: 0.0042 - accuracy: 0.9989\n",
            "Epoch 33/10000\n",
            "358/358 [==============================] - 1s 4ms/step - loss: 0.0205 - accuracy: 0.9939\n",
            "Epoch 34/10000\n",
            "358/358 [==============================] - 1s 4ms/step - loss: 0.0051 - accuracy: 0.9986\n",
            "Epoch 35/10000\n",
            "358/358 [==============================] - 1s 4ms/step - loss: 0.0021 - accuracy: 0.9997\n",
            "Epoch 36/10000\n",
            "358/358 [==============================] - 1s 4ms/step - loss: 0.0018 - accuracy: 0.9997\n",
            "Epoch 37/10000\n",
            "358/358 [==============================] - 1s 4ms/step - loss: 0.0015 - accuracy: 0.9998\n",
            "Epoch 38/10000\n",
            "358/358 [==============================] - 1s 4ms/step - loss: 0.0011 - accuracy: 0.9999\n",
            "Epoch 39/10000\n",
            "358/358 [==============================] - 1s 4ms/step - loss: 9.9666e-04 - accuracy: 0.9999\n",
            "Epoch 40/10000\n",
            "358/358 [==============================] - 1s 4ms/step - loss: 9.3109e-04 - accuracy: 0.9999\n",
            "Epoch 41/10000\n",
            "358/358 [==============================] - 1s 4ms/step - loss: 9.2634e-04 - accuracy: 0.9999\n",
            "Epoch 42/10000\n",
            "358/358 [==============================] - 1s 4ms/step - loss: 9.3067e-04 - accuracy: 0.9999\n",
            "Epoch 43/10000\n",
            "358/358 [==============================] - 1s 4ms/step - loss: 9.3064e-04 - accuracy: 0.9999\n",
            "Epoch 44/10000\n",
            "358/358 [==============================] - 1s 4ms/step - loss: 8.9851e-04 - accuracy: 0.9999\n",
            "Epoch 45/10000\n",
            "358/358 [==============================] - 1s 4ms/step - loss: 8.6375e-04 - accuracy: 0.9999\n",
            "Epoch 46/10000\n",
            "358/358 [==============================] - 1s 4ms/step - loss: 8.4313e-04 - accuracy: 0.9999\n",
            "Epoch 47/10000\n",
            "358/358 [==============================] - 1s 4ms/step - loss: 0.0355 - accuracy: 0.9891\n",
            "Epoch 48/10000\n",
            "358/358 [==============================] - 1s 4ms/step - loss: 0.0046 - accuracy: 0.9987\n",
            "Epoch 49/10000\n",
            "358/358 [==============================] - 1s 4ms/step - loss: 0.0060 - accuracy: 0.9981\n",
            "Epoch 50/10000\n",
            "358/358 [==============================] - 1s 4ms/step - loss: 0.0102 - accuracy: 0.9968\n",
            "121/121 [==============================] - 1s 3ms/step - loss: 0.1121 - accuracy: 0.9787\n"
          ]
        }
      ]
    },
    {
      "cell_type": "code",
      "source": [
        "# confusion matrix for best architecture \n",
        "from sklearn.metrics import confusion_matrix\n",
        "prediction_test = model51.predict(encoder_test5)\n",
        "prdicted_value = [np.argmax(label) for label in prediction_test]\n",
        "cm = confusion_matrix(test_out,prdicted_value)\n",
        "print(cm)\n",
        "\n",
        "\n"
      ],
      "metadata": {
        "colab": {
          "base_uri": "https://localhost:8080/"
        },
        "id": "aYOMg--gdO0E",
        "outputId": "e05b70cb-ba4d-4807-ed01-042a21a14bec"
      },
      "execution_count": null,
      "outputs": [
        {
          "output_type": "stream",
          "name": "stdout",
          "text": [
            "[[760   0   3   4   2]\n",
            " [  1 765   2   2   9]\n",
            " [  1   4 736   3  15]\n",
            " [  0   8   3 742   6]\n",
            " [  0  10   9   7 753]]\n"
          ]
        }
      ]
    },
    {
      "cell_type": "code",
      "source": [
        "#For getting loss and accuracy for testing\n",
        "loss, mse = model51.evaluate(encoder_test5, test_out)"
      ],
      "metadata": {
        "colab": {
          "base_uri": "https://localhost:8080/"
        },
        "id": "M-i3W2SldPLy",
        "outputId": "a60f1090-bd7f-46e5-e7de-7fa2bb16c0d2"
      },
      "execution_count": null,
      "outputs": [
        {
          "output_type": "stream",
          "name": "stdout",
          "text": [
            "121/121 [==============================] - 0s 3ms/step - loss: 0.1367 - accuracy: 0.9769\n"
          ]
        }
      ]
    },
    {
      "cell_type": "code",
      "source": [
        "model52 = tf.keras.models.Sequential([\n",
        "    #tf.keras.layers.Flatten(input_shape=(28, 28), name='Input_Layer'),\n",
        "    tf.keras.layers.Dense(289, activation='sigmoid', name='Hidden_Layer_1'),\n",
        "    tf.keras.layers.Dense(256, activation='sigmoid', name='Hidden_Layer_2'),\n",
        "    tf.keras.layers.Dense(289, activation='sigmoid', name='Hidden_Layer_3'),\n",
        "    tf.keras.layers.Dense(10, activation='softmax', name='Output_Layer')\n",
        "])\n",
        "optimizer = tf.keras.optimizers.Adam(\n",
        "    learning_rate=0.001,\n",
        "    beta_1=0.9,\n",
        "    beta_2=0.999,\n",
        "    epsilon=1e-08,\n",
        "    name='Adam')\n",
        "model52.compile(optimizer=optimizer,\n",
        "             loss='sparse_categorical_crossentropy',\n",
        "             metrics=['accuracy'])\n",
        "callback = tf.keras.callbacks.EarlyStopping(monitor='loss',min_delta=0.0001,patience=10)\n",
        "trained = model52.fit(encoder_train5, tr_out, epochs=10000, callbacks=callback)\n",
        "loss, mse = model52.evaluate(encoder_val5, val_out)\n"
      ],
      "metadata": {
        "colab": {
          "base_uri": "https://localhost:8080/"
        },
        "id": "L5cW4Y9zCWfs",
        "outputId": "ffafe4e2-48ac-4305-e45b-b238c1cf24d8"
      },
      "execution_count": null,
      "outputs": [
        {
          "output_type": "stream",
          "name": "stdout",
          "text": [
            "Epoch 1/10000\n",
            "358/358 [==============================] - 2s 4ms/step - loss: 0.6776 - accuracy: 0.7368\n",
            "Epoch 2/10000\n",
            "358/358 [==============================] - 1s 4ms/step - loss: 0.2056 - accuracy: 0.9320\n",
            "Epoch 3/10000\n",
            "358/358 [==============================] - 1s 4ms/step - loss: 0.1786 - accuracy: 0.9413\n",
            "Epoch 4/10000\n",
            "358/358 [==============================] - 1s 4ms/step - loss: 0.1626 - accuracy: 0.9451\n",
            "Epoch 5/10000\n",
            "358/358 [==============================] - 1s 4ms/step - loss: 0.1479 - accuracy: 0.9499\n",
            "Epoch 6/10000\n",
            "358/358 [==============================] - 1s 4ms/step - loss: 0.1382 - accuracy: 0.9549\n",
            "Epoch 7/10000\n",
            "358/358 [==============================] - 1s 4ms/step - loss: 0.1280 - accuracy: 0.9575\n",
            "Epoch 8/10000\n",
            "358/358 [==============================] - 1s 4ms/step - loss: 0.1165 - accuracy: 0.9602\n",
            "Epoch 9/10000\n",
            "358/358 [==============================] - 1s 4ms/step - loss: 0.1012 - accuracy: 0.9665\n",
            "Epoch 10/10000\n",
            "358/358 [==============================] - 1s 4ms/step - loss: 0.0933 - accuracy: 0.9695\n",
            "Epoch 11/10000\n",
            "358/358 [==============================] - 1s 4ms/step - loss: 0.0909 - accuracy: 0.9686\n",
            "Epoch 12/10000\n",
            "358/358 [==============================] - 1s 4ms/step - loss: 0.0782 - accuracy: 0.9746\n",
            "Epoch 13/10000\n",
            "358/358 [==============================] - 1s 4ms/step - loss: 0.0652 - accuracy: 0.9791\n",
            "Epoch 14/10000\n",
            "358/358 [==============================] - 1s 4ms/step - loss: 0.0619 - accuracy: 0.9780\n",
            "Epoch 15/10000\n",
            "358/358 [==============================] - 1s 4ms/step - loss: 0.0553 - accuracy: 0.9809\n",
            "Epoch 16/10000\n",
            "358/358 [==============================] - 1s 4ms/step - loss: 0.0509 - accuracy: 0.9824\n",
            "Epoch 17/10000\n",
            "358/358 [==============================] - 1s 3ms/step - loss: 0.0417 - accuracy: 0.9870\n",
            "Epoch 18/10000\n",
            "358/358 [==============================] - 1s 4ms/step - loss: 0.0327 - accuracy: 0.9895\n",
            "Epoch 19/10000\n",
            "358/358 [==============================] - 1s 4ms/step - loss: 0.0339 - accuracy: 0.9884\n",
            "Epoch 20/10000\n",
            "358/358 [==============================] - 2s 5ms/step - loss: 0.0240 - accuracy: 0.9925\n",
            "Epoch 21/10000\n",
            "358/358 [==============================] - 2s 6ms/step - loss: 0.0208 - accuracy: 0.9936\n",
            "Epoch 22/10000\n",
            "358/358 [==============================] - 2s 5ms/step - loss: 0.0195 - accuracy: 0.9942\n",
            "Epoch 23/10000\n",
            "358/358 [==============================] - 1s 4ms/step - loss: 0.0251 - accuracy: 0.9914\n",
            "Epoch 24/10000\n",
            "358/358 [==============================] - 2s 6ms/step - loss: 0.0156 - accuracy: 0.9947\n",
            "Epoch 25/10000\n",
            "358/358 [==============================] - 2s 4ms/step - loss: 0.0128 - accuracy: 0.9964\n",
            "Epoch 26/10000\n",
            "358/358 [==============================] - 1s 4ms/step - loss: 0.0101 - accuracy: 0.9971\n",
            "Epoch 27/10000\n",
            "358/358 [==============================] - 3s 7ms/step - loss: 0.0200 - accuracy: 0.9930\n",
            "Epoch 28/10000\n",
            "358/358 [==============================] - 2s 5ms/step - loss: 0.0118 - accuracy: 0.9962\n",
            "Epoch 29/10000\n",
            "358/358 [==============================] - 2s 5ms/step - loss: 0.0068 - accuracy: 0.9980\n",
            "Epoch 30/10000\n",
            "358/358 [==============================] - 2s 6ms/step - loss: 0.0038 - accuracy: 0.9995\n",
            "Epoch 31/10000\n",
            "358/358 [==============================] - 2s 6ms/step - loss: 0.0104 - accuracy: 0.9962\n",
            "Epoch 32/10000\n",
            "358/358 [==============================] - 3s 7ms/step - loss: 0.0133 - accuracy: 0.9957\n",
            "Epoch 33/10000\n",
            "358/358 [==============================] - 2s 4ms/step - loss: 0.0047 - accuracy: 0.9989\n",
            "Epoch 34/10000\n",
            "358/358 [==============================] - 1s 4ms/step - loss: 0.0095 - accuracy: 0.9974\n",
            "Epoch 35/10000\n",
            "358/358 [==============================] - 1s 4ms/step - loss: 0.0069 - accuracy: 0.9980\n",
            "Epoch 36/10000\n",
            "358/358 [==============================] - 1s 4ms/step - loss: 0.0088 - accuracy: 0.9975\n",
            "Epoch 37/10000\n",
            "358/358 [==============================] - 1s 4ms/step - loss: 0.0030 - accuracy: 0.9995\n",
            "Epoch 38/10000\n",
            "358/358 [==============================] - 1s 4ms/step - loss: 0.0013 - accuracy: 0.9999\n",
            "Epoch 39/10000\n",
            "358/358 [==============================] - 1s 4ms/step - loss: 0.0011 - accuracy: 0.9999\n",
            "Epoch 40/10000\n",
            "358/358 [==============================] - 1s 4ms/step - loss: 0.0010 - accuracy: 0.9999\n",
            "Epoch 41/10000\n",
            "358/358 [==============================] - 1s 4ms/step - loss: 9.6093e-04 - accuracy: 0.9999\n",
            "Epoch 42/10000\n",
            "358/358 [==============================] - 1s 4ms/step - loss: 9.6982e-04 - accuracy: 0.9999\n",
            "Epoch 43/10000\n",
            "358/358 [==============================] - 1s 4ms/step - loss: 9.4619e-04 - accuracy: 0.9999\n",
            "Epoch 44/10000\n",
            "358/358 [==============================] - 1s 4ms/step - loss: 9.3010e-04 - accuracy: 0.9999\n",
            "Epoch 45/10000\n",
            "358/358 [==============================] - 1s 4ms/step - loss: 9.1465e-04 - accuracy: 0.9999\n",
            "Epoch 46/10000\n",
            "358/358 [==============================] - 1s 4ms/step - loss: 8.3274e-04 - accuracy: 0.9999\n",
            "Epoch 47/10000\n",
            "358/358 [==============================] - 1s 4ms/step - loss: 8.9451e-04 - accuracy: 0.9999\n",
            "Epoch 48/10000\n",
            "358/358 [==============================] - 1s 4ms/step - loss: 8.7129e-04 - accuracy: 0.9999\n",
            "Epoch 49/10000\n",
            "358/358 [==============================] - 1s 4ms/step - loss: 7.7638e-04 - accuracy: 0.9999\n",
            "Epoch 50/10000\n",
            "358/358 [==============================] - 1s 4ms/step - loss: 0.0363 - accuracy: 0.9901\n",
            "Epoch 51/10000\n",
            "358/358 [==============================] - 1s 4ms/step - loss: 0.0066 - accuracy: 0.9979\n",
            "Epoch 52/10000\n",
            "358/358 [==============================] - 1s 4ms/step - loss: 0.0024 - accuracy: 0.9994\n",
            "Epoch 53/10000\n",
            "358/358 [==============================] - 1s 3ms/step - loss: 9.6500e-04 - accuracy: 0.9999\n",
            "Epoch 54/10000\n",
            "358/358 [==============================] - 1s 4ms/step - loss: 7.4474e-04 - accuracy: 0.9999\n",
            "Epoch 55/10000\n",
            "358/358 [==============================] - 1s 4ms/step - loss: 6.5301e-04 - accuracy: 0.9999\n",
            "Epoch 56/10000\n",
            "358/358 [==============================] - 1s 4ms/step - loss: 5.7889e-04 - accuracy: 0.9999\n",
            "Epoch 57/10000\n",
            "358/358 [==============================] - 1s 4ms/step - loss: 4.3691e-04 - accuracy: 0.9999\n",
            "Epoch 58/10000\n",
            "358/358 [==============================] - 1s 4ms/step - loss: 2.8811e-04 - accuracy: 0.9999\n",
            "Epoch 59/10000\n",
            "358/358 [==============================] - 1s 4ms/step - loss: 3.9817e-04 - accuracy: 0.9999\n",
            "Epoch 60/10000\n",
            "358/358 [==============================] - 1s 4ms/step - loss: 0.0205 - accuracy: 0.9942\n",
            "Epoch 61/10000\n",
            "358/358 [==============================] - 1s 4ms/step - loss: 0.0100 - accuracy: 0.9967\n",
            "Epoch 62/10000\n",
            "358/358 [==============================] - 1s 4ms/step - loss: 4.1704e-04 - accuracy: 1.0000\n",
            "Epoch 63/10000\n",
            "358/358 [==============================] - 1s 4ms/step - loss: 1.7355e-04 - accuracy: 1.0000\n",
            "Epoch 64/10000\n",
            "358/358 [==============================] - 1s 4ms/step - loss: 1.1852e-04 - accuracy: 1.0000\n",
            "Epoch 65/10000\n",
            "358/358 [==============================] - 1s 4ms/step - loss: 9.1897e-05 - accuracy: 1.0000\n",
            "Epoch 66/10000\n",
            "358/358 [==============================] - 2s 4ms/step - loss: 7.3944e-05 - accuracy: 1.0000\n",
            "Epoch 67/10000\n",
            "358/358 [==============================] - 2s 6ms/step - loss: 5.6930e-05 - accuracy: 1.0000\n",
            "Epoch 68/10000\n",
            "358/358 [==============================] - 3s 7ms/step - loss: 4.5910e-05 - accuracy: 1.0000\n",
            "Epoch 69/10000\n",
            "358/358 [==============================] - 1s 4ms/step - loss: 3.7107e-05 - accuracy: 1.0000\n",
            "Epoch 70/10000\n",
            "358/358 [==============================] - 2s 5ms/step - loss: 3.1708e-05 - accuracy: 1.0000\n",
            "Epoch 71/10000\n",
            "358/358 [==============================] - 3s 7ms/step - loss: 2.5633e-05 - accuracy: 1.0000\n",
            "Epoch 72/10000\n",
            "358/358 [==============================] - 2s 6ms/step - loss: 2.1148e-05 - accuracy: 1.0000\n",
            "Epoch 73/10000\n",
            "358/358 [==============================] - 3s 7ms/step - loss: 1.7794e-05 - accuracy: 1.0000\n",
            "Epoch 74/10000\n",
            "358/358 [==============================] - 1s 4ms/step - loss: 1.4675e-05 - accuracy: 1.0000\n",
            "Epoch 75/10000\n",
            "358/358 [==============================] - 1s 4ms/step - loss: 1.2283e-05 - accuracy: 1.0000\n",
            "Epoch 76/10000\n",
            "358/358 [==============================] - 1s 4ms/step - loss: 1.0400e-05 - accuracy: 1.0000\n",
            "Epoch 77/10000\n",
            "358/358 [==============================] - 1s 4ms/step - loss: 8.4387e-06 - accuracy: 1.0000\n",
            "121/121 [==============================] - 0s 3ms/step - loss: 0.1529 - accuracy: 0.9785\n"
          ]
        }
      ]
    },
    {
      "cell_type": "code",
      "source": [
        "model53 = tf.keras.models.Sequential([\n",
        "    #tf.keras.layers.Flatten(input_shape=(28, 28), name='Input_Layer'),\n",
        "    tf.keras.layers.Dense(400, activation='sigmoid', name='Hidden_Layer_1'),\n",
        "    tf.keras.layers.Dense(256, activation='sigmoid', name='Hidden_Layer_2'),\n",
        "    tf.keras.layers.Dense(400, activation='sigmoid', name='Hidden_Layer_3'),\n",
        "    tf.keras.layers.Dense(10, activation='softmax', name='Output_Layer')\n",
        "])\n",
        "optimizer = tf.keras.optimizers.Adam(\n",
        "    learning_rate=0.001,\n",
        "    beta_1=0.9,\n",
        "    beta_2=0.999,\n",
        "    epsilon=1e-08,\n",
        "    name='Adam')\n",
        "model53.compile(optimizer=optimizer,\n",
        "             loss='sparse_categorical_crossentropy',\n",
        "             metrics=['accuracy'])\n",
        "callback = tf.keras.callbacks.EarlyStopping(monitor='loss',min_delta=0.0001,patience=10)\n",
        "trained = model53.fit(encoder_train5, tr_out, epochs=10000, callbacks=callback)\n",
        "loss, mse = model53.evaluate(encoder_val5, val_out)\n"
      ],
      "metadata": {
        "colab": {
          "base_uri": "https://localhost:8080/"
        },
        "id": "_TIaUrrBCWvM",
        "outputId": "9285b8e9-82ef-4cd7-c4ce-5603ce49608a"
      },
      "execution_count": null,
      "outputs": [
        {
          "output_type": "stream",
          "name": "stdout",
          "text": [
            "Epoch 1/10000\n",
            "358/358 [==============================] - 2s 4ms/step - loss: 0.6600 - accuracy: 0.7447\n",
            "Epoch 2/10000\n",
            "358/358 [==============================] - 1s 4ms/step - loss: 0.2096 - accuracy: 0.9305\n",
            "Epoch 3/10000\n",
            "358/358 [==============================] - 1s 4ms/step - loss: 0.1729 - accuracy: 0.9443\n",
            "Epoch 4/10000\n",
            "358/358 [==============================] - 1s 4ms/step - loss: 0.1591 - accuracy: 0.9470\n",
            "Epoch 5/10000\n",
            "358/358 [==============================] - 1s 4ms/step - loss: 0.1479 - accuracy: 0.9507\n",
            "Epoch 6/10000\n",
            "358/358 [==============================] - 1s 4ms/step - loss: 0.1332 - accuracy: 0.9558\n",
            "Epoch 7/10000\n",
            "358/358 [==============================] - 1s 3ms/step - loss: 0.1304 - accuracy: 0.9554\n",
            "Epoch 8/10000\n",
            "358/358 [==============================] - 1s 4ms/step - loss: 0.1105 - accuracy: 0.9641\n",
            "Epoch 9/10000\n",
            "358/358 [==============================] - 1s 4ms/step - loss: 0.0999 - accuracy: 0.9675\n",
            "Epoch 10/10000\n",
            "358/358 [==============================] - 1s 4ms/step - loss: 0.0898 - accuracy: 0.9697\n",
            "Epoch 11/10000\n",
            "358/358 [==============================] - 1s 4ms/step - loss: 0.0804 - accuracy: 0.9735\n",
            "Epoch 12/10000\n",
            "358/358 [==============================] - 2s 4ms/step - loss: 0.0763 - accuracy: 0.9741\n",
            "Epoch 13/10000\n",
            "358/358 [==============================] - 2s 6ms/step - loss: 0.0665 - accuracy: 0.9783\n",
            "Epoch 14/10000\n",
            "358/358 [==============================] - 2s 6ms/step - loss: 0.0562 - accuracy: 0.9822\n",
            "Epoch 15/10000\n",
            "358/358 [==============================] - 2s 4ms/step - loss: 0.0489 - accuracy: 0.9837\n",
            "Epoch 16/10000\n",
            "358/358 [==============================] - 1s 4ms/step - loss: 0.0417 - accuracy: 0.9866\n",
            "Epoch 17/10000\n",
            "358/358 [==============================] - 1s 4ms/step - loss: 0.0341 - accuracy: 0.9882\n",
            "Epoch 18/10000\n",
            "358/358 [==============================] - 1s 4ms/step - loss: 0.0814 - accuracy: 0.9804\n",
            "Epoch 19/10000\n",
            "358/358 [==============================] - 2s 4ms/step - loss: 0.0269 - accuracy: 0.9918\n",
            "Epoch 20/10000\n",
            "358/358 [==============================] - 1s 4ms/step - loss: 0.0244 - accuracy: 0.9916\n",
            "Epoch 21/10000\n",
            "358/358 [==============================] - 1s 4ms/step - loss: 0.0197 - accuracy: 0.9933\n",
            "Epoch 22/10000\n",
            "358/358 [==============================] - 1s 4ms/step - loss: 0.0171 - accuracy: 0.9948\n",
            "Epoch 23/10000\n",
            "358/358 [==============================] - 1s 4ms/step - loss: 0.0154 - accuracy: 0.9948\n",
            "Epoch 24/10000\n",
            "358/358 [==============================] - 1s 4ms/step - loss: 0.0376 - accuracy: 0.9890\n",
            "Epoch 25/10000\n",
            "358/358 [==============================] - 1s 4ms/step - loss: 0.0092 - accuracy: 0.9975\n",
            "Epoch 26/10000\n",
            "358/358 [==============================] - 1s 4ms/step - loss: 0.0071 - accuracy: 0.9984\n",
            "Epoch 27/10000\n",
            "358/358 [==============================] - 1s 4ms/step - loss: 0.0102 - accuracy: 0.9969\n",
            "Epoch 28/10000\n",
            "358/358 [==============================] - 2s 6ms/step - loss: 0.0104 - accuracy: 0.9965\n",
            "Epoch 29/10000\n",
            "358/358 [==============================] - 2s 5ms/step - loss: 0.0180 - accuracy: 0.9944\n",
            "Epoch 30/10000\n",
            "358/358 [==============================] - 1s 4ms/step - loss: 0.0064 - accuracy: 0.9982\n",
            "Epoch 31/10000\n",
            "358/358 [==============================] - 1s 4ms/step - loss: 0.0143 - accuracy: 0.9955\n",
            "Epoch 32/10000\n",
            "358/358 [==============================] - 1s 4ms/step - loss: 0.0077 - accuracy: 0.9980\n",
            "Epoch 33/10000\n",
            "358/358 [==============================] - 1s 4ms/step - loss: 0.0028 - accuracy: 0.9998\n",
            "Epoch 34/10000\n",
            "358/358 [==============================] - 1s 4ms/step - loss: 0.0029 - accuracy: 0.9996\n",
            "Epoch 35/10000\n",
            "358/358 [==============================] - 1s 4ms/step - loss: 0.0115 - accuracy: 0.9966\n",
            "Epoch 36/10000\n",
            "358/358 [==============================] - 1s 4ms/step - loss: 0.0191 - accuracy: 0.9943\n",
            "Epoch 37/10000\n",
            "358/358 [==============================] - 2s 4ms/step - loss: 0.0078 - accuracy: 0.9976\n",
            "Epoch 38/10000\n",
            "358/358 [==============================] - 1s 4ms/step - loss: 0.0033 - accuracy: 0.9991\n",
            "Epoch 39/10000\n",
            "358/358 [==============================] - 1s 4ms/step - loss: 0.0016 - accuracy: 0.9997\n",
            "Epoch 40/10000\n",
            "358/358 [==============================] - 1s 4ms/step - loss: 0.0012 - accuracy: 0.9999\n",
            "Epoch 41/10000\n",
            "358/358 [==============================] - 1s 4ms/step - loss: 0.0126 - accuracy: 0.9959\n",
            "Epoch 42/10000\n",
            "358/358 [==============================] - 1s 4ms/step - loss: 0.0093 - accuracy: 0.9974\n",
            "Epoch 43/10000\n",
            "358/358 [==============================] - 1s 4ms/step - loss: 0.0016 - accuracy: 0.9998\n",
            "Epoch 44/10000\n",
            "358/358 [==============================] - 1s 4ms/step - loss: 0.0011 - accuracy: 0.9999\n",
            "Epoch 45/10000\n",
            "358/358 [==============================] - 2s 5ms/step - loss: 9.7635e-04 - accuracy: 0.9999\n",
            "Epoch 46/10000\n",
            "358/358 [==============================] - 2s 5ms/step - loss: 9.1268e-04 - accuracy: 0.9999\n",
            "Epoch 47/10000\n",
            "358/358 [==============================] - 2s 6ms/step - loss: 9.2115e-04 - accuracy: 0.9999\n",
            "Epoch 48/10000\n",
            "358/358 [==============================] - 1s 4ms/step - loss: 8.6496e-04 - accuracy: 0.9999\n",
            "Epoch 49/10000\n",
            "358/358 [==============================] - 2s 5ms/step - loss: 8.7822e-04 - accuracy: 0.9999\n",
            "Epoch 50/10000\n",
            "358/358 [==============================] - 2s 5ms/step - loss: 8.1708e-04 - accuracy: 0.9999\n",
            "Epoch 51/10000\n",
            "358/358 [==============================] - 2s 6ms/step - loss: 8.1763e-04 - accuracy: 0.9999\n",
            "Epoch 52/10000\n",
            "358/358 [==============================] - 2s 6ms/step - loss: 7.1397e-04 - accuracy: 0.9999\n",
            "Epoch 53/10000\n",
            "358/358 [==============================] - 2s 6ms/step - loss: 6.2551e-04 - accuracy: 0.9999\n",
            "Epoch 54/10000\n",
            "358/358 [==============================] - 1s 4ms/step - loss: 0.0289 - accuracy: 0.9933\n",
            "Epoch 55/10000\n",
            "358/358 [==============================] - 1s 4ms/step - loss: 0.0060 - accuracy: 0.9980\n",
            "Epoch 56/10000\n",
            "358/358 [==============================] - 1s 4ms/step - loss: 0.0082 - accuracy: 0.9982\n",
            "Epoch 57/10000\n",
            "358/358 [==============================] - 1s 4ms/step - loss: 5.5750e-04 - accuracy: 0.9999\n",
            "Epoch 58/10000\n",
            "358/358 [==============================] - 1s 4ms/step - loss: 2.9723e-04 - accuracy: 0.9999\n",
            "Epoch 59/10000\n",
            "358/358 [==============================] - 1s 4ms/step - loss: 1.9638e-04 - accuracy: 0.9999\n",
            "Epoch 60/10000\n",
            "358/358 [==============================] - 2s 5ms/step - loss: 9.9310e-05 - accuracy: 1.0000\n",
            "Epoch 61/10000\n",
            "358/358 [==============================] - 2s 4ms/step - loss: 8.7354e-05 - accuracy: 1.0000\n",
            "Epoch 62/10000\n",
            "358/358 [==============================] - 1s 4ms/step - loss: 5.9840e-05 - accuracy: 1.0000\n",
            "Epoch 63/10000\n",
            "358/358 [==============================] - 1s 4ms/step - loss: 4.3682e-05 - accuracy: 1.0000\n",
            "Epoch 64/10000\n",
            "358/358 [==============================] - 2s 6ms/step - loss: 3.5073e-05 - accuracy: 1.0000\n",
            "Epoch 65/10000\n",
            "358/358 [==============================] - 1s 4ms/step - loss: 2.8058e-05 - accuracy: 1.0000\n",
            "Epoch 66/10000\n",
            "358/358 [==============================] - 2s 6ms/step - loss: 2.2347e-05 - accuracy: 1.0000\n",
            "Epoch 67/10000\n",
            "358/358 [==============================] - 2s 4ms/step - loss: 1.8285e-05 - accuracy: 1.0000\n",
            "Epoch 68/10000\n",
            "358/358 [==============================] - 2s 5ms/step - loss: 1.4541e-05 - accuracy: 1.0000\n",
            "Epoch 69/10000\n",
            "358/358 [==============================] - 2s 6ms/step - loss: 1.1892e-05 - accuracy: 1.0000\n",
            "Epoch 70/10000\n",
            "358/358 [==============================] - 2s 6ms/step - loss: 9.8415e-06 - accuracy: 1.0000\n",
            "Epoch 71/10000\n",
            "358/358 [==============================] - 3s 7ms/step - loss: 8.0425e-06 - accuracy: 1.0000\n",
            "121/121 [==============================] - 1s 3ms/step - loss: 0.1588 - accuracy: 0.9774\n"
          ]
        }
      ]
    },
    {
      "cell_type": "code",
      "source": [
        "# For getting weight between input and hidden layer\n",
        "weight1 = Autoencoder5.layers[2].get_weights()\n",
        "weight1[0].shape"
      ],
      "metadata": {
        "colab": {
          "base_uri": "https://localhost:8080/"
        },
        "id": "g_4PvTI5Wf-y",
        "outputId": "e99ad654-ca98-4677-fcb8-27161c97ab01"
      },
      "execution_count": null,
      "outputs": [
        {
          "output_type": "execute_result",
          "data": {
            "text/plain": [
              "(784, 256)"
            ]
          },
          "metadata": {},
          "execution_count": 26
        }
      ]
    },
    {
      "cell_type": "code",
      "source": [
        "w1 = []\n",
        "# each weight matrix size will be 781 X 1 so it will convert into 28 X 28 for weight visulization \n",
        "for w in weight1[0].T:\n",
        "    w1.append(w.reshape(28, 28))\n",
        "    \n",
        "w1 = np.array(w1)\n",
        "w1.shape"
      ],
      "metadata": {
        "colab": {
          "base_uri": "https://localhost:8080/"
        },
        "id": "LXNPLDozWgCJ",
        "outputId": "a6eeae1e-552c-479e-e653-f16261ea3983"
      },
      "execution_count": null,
      "outputs": [
        {
          "output_type": "execute_result",
          "data": {
            "text/plain": [
              "(256, 28, 28)"
            ]
          },
          "metadata": {},
          "execution_count": 27
        }
      ]
    },
    {
      "cell_type": "code",
      "source": [
        "# For weight visulization of any random 9 neuron out of 256 neuron weight matrices\n",
        "n = 9\n",
        "plt.figure(figsize=(25, 25))\n",
        "for i in range(n):\n",
        "    k = np.random.randint(0, 256)\n",
        "    ax = plt.subplot(3, 3, i+1)\n",
        "    plt.title(\"Node no: \"+str(k))\n",
        "    plt.imshow(w1[k], cmap='gray')\n",
        "    plt.savefig(\"/content/drive/MyDrive/autoencoder_output/weight_img5\"+str(np.random.randint(1, 100000))+\".png\")\n",
        "plt.show"
      ],
      "metadata": {
        "colab": {
          "base_uri": "https://localhost:8080/",
          "height": 1000
        },
        "id": "ff2sqh6LWgG5",
        "outputId": "caa346de-d95c-4d6f-eeaf-eacf8e092713"
      },
      "execution_count": null,
      "outputs": [
        {
          "output_type": "execute_result",
          "data": {
            "text/plain": [
              "<function matplotlib.pyplot.show>"
            ]
          },
          "metadata": {},
          "execution_count": 30
        },
        {
          "output_type": "display_data",
          "data": {
            "text/plain": [
              "<Figure size 1800x1800 with 9 Axes>"
            ],
            "image/png": "[encoded data removed]"
          },
          "metadata": {
            "needs_background": "light"
          }
        }
      ]
    },
    {
      "cell_type": "code",
      "execution_count": null,
      "metadata": {
        "colab": {
          "base_uri": "https://localhost:8080/"
        },
        "id": "ojQerUUe2iI3",
        "outputId": "8658544e-09bb-4928-a6a0-2fbcb6e49d06"
      },
      "outputs": [
        {
          "output_type": "stream",
          "name": "stdout",
          "text": [
            "Model: \"Autoencoder31\"\n",
            "_________________________________________________________________\n",
            " Layer (type)                Output Shape              Param #   \n",
            "=================================================================\n",
            " img (InputLayer)            [(None, 28, 28, 1)]       0         \n",
            "                                                                 \n",
            " flatten_1 (Flatten)         (None, 784)               0         \n",
            "                                                                 \n",
            " dense_2 (Dense)             (None, 144)               113040    \n",
            "                                                                 \n",
            " dense_3 (Dense)             (None, 100)               14500     \n",
            "                                                                 \n",
            " dense_4 (Dense)             (None, 144)               14544     \n",
            "                                                                 \n",
            " dense_5 (Dense)             (None, 784)               113680    \n",
            "                                                                 \n",
            " reshape_1 (Reshape)         (None, 28, 28, 1)         0         \n",
            "                                                                 \n",
            "=================================================================\n",
            "Total params: 255,764\n",
            "Trainable params: 255,764\n",
            "Non-trainable params: 0\n",
            "_________________________________________________________________\n"
          ]
        }
      ],
      "source": [
        "x_in = keras.Input(shape=(28,28,1),name=\"img\")\n",
        "x = keras.layers.Flatten()(x_in)\n",
        "encoder_out311 = keras.layers.Dense(144,activation='sigmoid')(x)\n",
        "encoder311 = keras.Model(x_in,encoder_out311,name=\"encoder1\")\n",
        "\n",
        "encoder_out312 = keras.layers.Dense(100,activation='sigmoid')(encoder_out311)\n",
        "encoder312 = keras.Model(x_in,encoder_out312,name=\"encoder312\")\n",
        "\n",
        "decoder_ip310 = keras.layers.Dense(144,activation='sigmoid')(encoder_out312)\n",
        "\n",
        "decoder_ip311 = keras.layers.Dense(784,activation='sigmoid')(decoder_ip310)\n",
        "\n",
        "decoder_op312 = keras.layers.Reshape((28,28,1))(decoder_ip311)\n",
        "optimizer = keras.optimizers.Adam(learning_rate = 0.01,decay = 1e-6)\n",
        "\n",
        "Autoencoder31 = keras.Model(x_in,decoder_op312,name=\"Autoencoder31\")\n",
        "Autoencoder31.summary()"
      ]
    },
    {
      "cell_type": "code",
      "execution_count": null,
      "metadata": {
        "colab": {
          "base_uri": "https://localhost:8080/",
          "height": 1000
        },
        "id": "UkWBWSuV4vQn",
        "outputId": "a29f8a39-9286-42b4-c450-9e7ed41bdc24"
      },
      "outputs": [
        {
          "output_type": "stream",
          "name": "stdout",
          "text": [
            "Epoch 1/100\n",
            "358/358 [==============================] - 3s 6ms/step - loss: 0.0516 - accuracy: 0.6452 - val_loss: 0.0422 - val_accuracy: 0.6508\n",
            "Epoch 2/100\n",
            "358/358 [==============================] - 2s 5ms/step - loss: 0.0368 - accuracy: 0.6555 - val_loss: 0.0329 - val_accuracy: 0.6578\n",
            "Epoch 3/100\n",
            "358/358 [==============================] - 2s 5ms/step - loss: 0.0302 - accuracy: 0.6602 - val_loss: 0.0292 - val_accuracy: 0.6601\n",
            "Epoch 4/100\n",
            "358/358 [==============================] - 2s 5ms/step - loss: 0.0272 - accuracy: 0.6622 - val_loss: 0.0264 - val_accuracy: 0.6618\n",
            "Epoch 5/100\n",
            "358/358 [==============================] - 2s 5ms/step - loss: 0.0247 - accuracy: 0.6636 - val_loss: 0.0241 - val_accuracy: 0.6633\n",
            "Epoch 6/100\n",
            "358/358 [==============================] - 2s 5ms/step - loss: 0.0227 - accuracy: 0.6648 - val_loss: 0.0223 - val_accuracy: 0.6643\n",
            "Epoch 7/100\n",
            "358/358 [==============================] - 2s 5ms/step - loss: 0.0209 - accuracy: 0.6658 - val_loss: 0.0203 - val_accuracy: 0.6655\n",
            "Epoch 8/100\n",
            "358/358 [==============================] - 2s 5ms/step - loss: 0.0190 - accuracy: 0.6670 - val_loss: 0.0187 - val_accuracy: 0.6664\n",
            "Epoch 9/100\n",
            "358/358 [==============================] - 2s 5ms/step - loss: 0.0176 - accuracy: 0.6677 - val_loss: 0.0175 - val_accuracy: 0.6670\n",
            "Epoch 10/100\n",
            "358/358 [==============================] - 2s 5ms/step - loss: 0.0166 - accuracy: 0.6681 - val_loss: 0.0167 - val_accuracy: 0.6673\n",
            "Epoch 11/100\n",
            "358/358 [==============================] - 2s 5ms/step - loss: 0.0158 - accuracy: 0.6685 - val_loss: 0.0159 - val_accuracy: 0.6677\n",
            "Epoch 12/100\n",
            "358/358 [==============================] - 2s 5ms/step - loss: 0.0151 - accuracy: 0.6688 - val_loss: 0.0152 - val_accuracy: 0.6680\n",
            "Epoch 13/100\n",
            "358/358 [==============================] - 2s 5ms/step - loss: 0.0144 - accuracy: 0.6691 - val_loss: 0.0146 - val_accuracy: 0.6683\n",
            "Epoch 14/100\n",
            "358/358 [==============================] - 2s 5ms/step - loss: 0.0138 - accuracy: 0.6694 - val_loss: 0.0140 - val_accuracy: 0.6685\n",
            "Epoch 15/100\n",
            "358/358 [==============================] - 2s 5ms/step - loss: 0.0132 - accuracy: 0.6696 - val_loss: 0.0135 - val_accuracy: 0.6688\n",
            "Epoch 16/100\n",
            "358/358 [==============================] - 2s 5ms/step - loss: 0.0127 - accuracy: 0.6699 - val_loss: 0.0131 - val_accuracy: 0.6690\n",
            "Epoch 17/100\n",
            "358/358 [==============================] - 2s 5ms/step - loss: 0.0122 - accuracy: 0.6701 - val_loss: 0.0127 - val_accuracy: 0.6692\n",
            "Epoch 18/100\n",
            "358/358 [==============================] - 2s 5ms/step - loss: 0.0118 - accuracy: 0.6702 - val_loss: 0.0122 - val_accuracy: 0.6694\n",
            "Epoch 19/100\n",
            "358/358 [==============================] - 2s 5ms/step - loss: 0.0114 - accuracy: 0.6704 - val_loss: 0.0119 - val_accuracy: 0.6695\n",
            "Epoch 20/100\n",
            "358/358 [==============================] - 2s 5ms/step - loss: 0.0111 - accuracy: 0.6705 - val_loss: 0.0116 - val_accuracy: 0.6696\n",
            "Epoch 21/100\n",
            "358/358 [==============================] - 2s 5ms/step - loss: 0.0108 - accuracy: 0.6707 - val_loss: 0.0113 - val_accuracy: 0.6697\n",
            "Epoch 22/100\n",
            "358/358 [==============================] - 2s 5ms/step - loss: 0.0105 - accuracy: 0.6708 - val_loss: 0.0111 - val_accuracy: 0.6698\n",
            "Epoch 23/100\n",
            "358/358 [==============================] - 2s 5ms/step - loss: 0.0102 - accuracy: 0.6709 - val_loss: 0.0108 - val_accuracy: 0.6699\n",
            "Epoch 24/100\n",
            "358/358 [==============================] - 2s 5ms/step - loss: 0.0099 - accuracy: 0.6710 - val_loss: 0.0106 - val_accuracy: 0.6700\n",
            "Epoch 25/100\n",
            "358/358 [==============================] - 2s 5ms/step - loss: 0.0097 - accuracy: 0.6711 - val_loss: 0.0103 - val_accuracy: 0.6701\n",
            "Epoch 26/100\n",
            "358/358 [==============================] - 2s 5ms/step - loss: 0.0094 - accuracy: 0.6712 - val_loss: 0.0101 - val_accuracy: 0.6702\n",
            "Epoch 27/100\n",
            "358/358 [==============================] - 2s 5ms/step - loss: 0.0092 - accuracy: 0.6712 - val_loss: 0.0100 - val_accuracy: 0.6702\n",
            "Epoch 28/100\n",
            "358/358 [==============================] - 2s 5ms/step - loss: 0.0090 - accuracy: 0.6713 - val_loss: 0.0097 - val_accuracy: 0.6703\n",
            "Epoch 29/100\n",
            "358/358 [==============================] - 2s 5ms/step - loss: 0.0088 - accuracy: 0.6714 - val_loss: 0.0094 - val_accuracy: 0.6704\n",
            "Epoch 30/100\n",
            "358/358 [==============================] - 2s 5ms/step - loss: 0.0086 - accuracy: 0.6714 - val_loss: 0.0093 - val_accuracy: 0.6704\n",
            "Epoch 31/100\n",
            "358/358 [==============================] - 2s 5ms/step - loss: 0.0084 - accuracy: 0.6715 - val_loss: 0.0091 - val_accuracy: 0.6705\n",
            "Epoch 32/100\n",
            "358/358 [==============================] - 2s 5ms/step - loss: 0.0082 - accuracy: 0.6716 - val_loss: 0.0089 - val_accuracy: 0.6705\n",
            "Epoch 33/100\n",
            "358/358 [==============================] - 2s 5ms/step - loss: 0.0081 - accuracy: 0.6716 - val_loss: 0.0089 - val_accuracy: 0.6706\n",
            "Epoch 34/100\n",
            "358/358 [==============================] - 2s 5ms/step - loss: 0.0079 - accuracy: 0.6717 - val_loss: 0.0089 - val_accuracy: 0.6706\n",
            "Epoch 35/100\n",
            "358/358 [==============================] - 2s 5ms/step - loss: 0.0078 - accuracy: 0.6717 - val_loss: 0.0088 - val_accuracy: 0.6706\n",
            "Epoch 36/100\n",
            "358/358 [==============================] - 2s 5ms/step - loss: 0.0076 - accuracy: 0.6717 - val_loss: 0.0085 - val_accuracy: 0.6707\n",
            "Epoch 37/100\n",
            "358/358 [==============================] - 2s 5ms/step - loss: 0.0075 - accuracy: 0.6718 - val_loss: 0.0084 - val_accuracy: 0.6707\n",
            "Epoch 38/100\n",
            "358/358 [==============================] - 2s 5ms/step - loss: 0.0073 - accuracy: 0.6718 - val_loss: 0.0082 - val_accuracy: 0.6708\n",
            "Epoch 39/100\n",
            "358/358 [==============================] - 2s 5ms/step - loss: 0.0072 - accuracy: 0.6719 - val_loss: 0.0082 - val_accuracy: 0.6708\n",
            "Epoch 40/100\n",
            "358/358 [==============================] - 2s 5ms/step - loss: 0.0071 - accuracy: 0.6719 - val_loss: 0.0081 - val_accuracy: 0.6708\n",
            "Epoch 41/100\n",
            "358/358 [==============================] - 2s 5ms/step - loss: 0.0070 - accuracy: 0.6719 - val_loss: 0.0078 - val_accuracy: 0.6709\n",
            "Epoch 42/100\n",
            "358/358 [==============================] - 2s 5ms/step - loss: 0.0068 - accuracy: 0.6720 - val_loss: 0.0077 - val_accuracy: 0.6710\n",
            "Epoch 43/100\n",
            "358/358 [==============================] - 2s 5ms/step - loss: 0.0067 - accuracy: 0.6720 - val_loss: 0.0077 - val_accuracy: 0.6710\n",
            "Epoch 44/100\n",
            "358/358 [==============================] - 2s 5ms/step - loss: 0.0066 - accuracy: 0.6720 - val_loss: 0.0075 - val_accuracy: 0.6710\n",
            "Epoch 45/100\n",
            "358/358 [==============================] - 2s 5ms/step - loss: 0.0065 - accuracy: 0.6720 - val_loss: 0.0076 - val_accuracy: 0.6710\n",
            "Epoch 46/100\n",
            "358/358 [==============================] - 2s 5ms/step - loss: 0.0065 - accuracy: 0.6721 - val_loss: 0.0076 - val_accuracy: 0.6710\n",
            "Epoch 47/100\n",
            "358/358 [==============================] - 2s 5ms/step - loss: 0.0064 - accuracy: 0.6721 - val_loss: 0.0074 - val_accuracy: 0.6710\n",
            "Epoch 48/100\n",
            "358/358 [==============================] - 2s 5ms/step - loss: 0.0063 - accuracy: 0.6721 - val_loss: 0.0073 - val_accuracy: 0.6711\n",
            "Epoch 49/100\n",
            "358/358 [==============================] - 2s 5ms/step - loss: 0.0062 - accuracy: 0.6721 - val_loss: 0.0073 - val_accuracy: 0.6711\n",
            "Epoch 50/100\n",
            "358/358 [==============================] - 2s 5ms/step - loss: 0.0061 - accuracy: 0.6722 - val_loss: 0.0073 - val_accuracy: 0.6711\n",
            "Epoch 51/100\n",
            "358/358 [==============================] - 2s 5ms/step - loss: 0.0061 - accuracy: 0.6722 - val_loss: 0.0070 - val_accuracy: 0.6712\n",
            "Epoch 52/100\n",
            "358/358 [==============================] - 2s 5ms/step - loss: 0.0060 - accuracy: 0.6722 - val_loss: 0.0070 - val_accuracy: 0.6712\n",
            "Epoch 53/100\n",
            "358/358 [==============================] - 2s 5ms/step - loss: 0.0059 - accuracy: 0.6722 - val_loss: 0.0069 - val_accuracy: 0.6712\n",
            "Epoch 54/100\n",
            "358/358 [==============================] - 2s 5ms/step - loss: 0.0058 - accuracy: 0.6722 - val_loss: 0.0068 - val_accuracy: 0.6712\n",
            "Epoch 55/100\n",
            "358/358 [==============================] - 2s 5ms/step - loss: 0.0058 - accuracy: 0.6722 - val_loss: 0.0068 - val_accuracy: 0.6712\n",
            "Epoch 56/100\n",
            "358/358 [==============================] - 2s 5ms/step - loss: 0.0057 - accuracy: 0.6723 - val_loss: 0.0068 - val_accuracy: 0.6712\n",
            "Epoch 57/100\n",
            "358/358 [==============================] - 2s 5ms/step - loss: 0.0056 - accuracy: 0.6723 - val_loss: 0.0066 - val_accuracy: 0.6713\n",
            "Epoch 58/100\n",
            "358/358 [==============================] - 2s 5ms/step - loss: 0.0056 - accuracy: 0.6723 - val_loss: 0.0071 - val_accuracy: 0.6711\n",
            "Epoch 59/100\n",
            "358/358 [==============================] - 2s 5ms/step - loss: 0.0055 - accuracy: 0.6723 - val_loss: 0.0067 - val_accuracy: 0.6712\n",
            "Epoch 60/100\n",
            "358/358 [==============================] - 2s 5ms/step - loss: 0.0054 - accuracy: 0.6723 - val_loss: 0.0065 - val_accuracy: 0.6713\n",
            "Epoch 61/100\n",
            "358/358 [==============================] - 2s 5ms/step - loss: 0.0054 - accuracy: 0.6723 - val_loss: 0.0065 - val_accuracy: 0.6713\n",
            "Epoch 62/100\n",
            "358/358 [==============================] - 2s 5ms/step - loss: 0.0053 - accuracy: 0.6723 - val_loss: 0.0065 - val_accuracy: 0.6713\n",
            "Epoch 63/100\n",
            "358/358 [==============================] - 2s 5ms/step - loss: 0.0053 - accuracy: 0.6724 - val_loss: 0.0066 - val_accuracy: 0.6713\n",
            "Epoch 64/100\n",
            "358/358 [==============================] - 2s 5ms/step - loss: 0.0052 - accuracy: 0.6724 - val_loss: 0.0065 - val_accuracy: 0.6713\n",
            "Epoch 65/100\n",
            "358/358 [==============================] - 2s 5ms/step - loss: 0.0052 - accuracy: 0.6724 - val_loss: 0.0065 - val_accuracy: 0.6713\n",
            "Epoch 66/100\n",
            "358/358 [==============================] - 2s 5ms/step - loss: 0.0052 - accuracy: 0.6724 - val_loss: 0.0063 - val_accuracy: 0.6714\n",
            "Epoch 67/100\n",
            "358/358 [==============================] - 2s 5ms/step - loss: 0.0051 - accuracy: 0.6724 - val_loss: 0.0062 - val_accuracy: 0.6714\n",
            "Epoch 68/100\n",
            "358/358 [==============================] - 2s 5ms/step - loss: 0.0050 - accuracy: 0.6724 - val_loss: 0.0061 - val_accuracy: 0.6714\n",
            "Epoch 69/100\n",
            "358/358 [==============================] - 2s 5ms/step - loss: 0.0050 - accuracy: 0.6724 - val_loss: 0.0062 - val_accuracy: 0.6714\n",
            "Epoch 70/100\n",
            "358/358 [==============================] - 2s 5ms/step - loss: 0.0049 - accuracy: 0.6724 - val_loss: 0.0061 - val_accuracy: 0.6714\n",
            "Epoch 71/100\n",
            "358/358 [==============================] - 2s 5ms/step - loss: 0.0049 - accuracy: 0.6724 - val_loss: 0.0060 - val_accuracy: 0.6714\n",
            "Epoch 72/100\n",
            "358/358 [==============================] - 2s 5ms/step - loss: 0.0048 - accuracy: 0.6725 - val_loss: 0.0060 - val_accuracy: 0.6714\n",
            "Epoch 73/100\n",
            "358/358 [==============================] - 2s 5ms/step - loss: 0.0048 - accuracy: 0.6725 - val_loss: 0.0059 - val_accuracy: 0.6714\n",
            "Epoch 74/100\n",
            "358/358 [==============================] - 2s 5ms/step - loss: 0.0048 - accuracy: 0.6725 - val_loss: 0.0062 - val_accuracy: 0.6714\n",
            "Epoch 75/100\n",
            "358/358 [==============================] - 2s 5ms/step - loss: 0.0048 - accuracy: 0.6725 - val_loss: 0.0058 - val_accuracy: 0.6715\n",
            "Epoch 76/100\n",
            "358/358 [==============================] - 2s 5ms/step - loss: 0.0047 - accuracy: 0.6725 - val_loss: 0.0059 - val_accuracy: 0.6715\n",
            "Epoch 77/100\n",
            "358/358 [==============================] - 2s 5ms/step - loss: 0.0047 - accuracy: 0.6725 - val_loss: 0.0058 - val_accuracy: 0.6715\n",
            "Epoch 78/100\n",
            "358/358 [==============================] - 2s 5ms/step - loss: 0.0046 - accuracy: 0.6725 - val_loss: 0.0059 - val_accuracy: 0.6714\n",
            "Epoch 79/100\n",
            "358/358 [==============================] - 2s 5ms/step - loss: 0.0046 - accuracy: 0.6725 - val_loss: 0.0058 - val_accuracy: 0.6715\n",
            "Epoch 80/100\n",
            "358/358 [==============================] - 2s 5ms/step - loss: 0.0045 - accuracy: 0.6725 - val_loss: 0.0057 - val_accuracy: 0.6715\n",
            "Epoch 81/100\n",
            "358/358 [==============================] - 2s 5ms/step - loss: 0.0045 - accuracy: 0.6725 - val_loss: 0.0058 - val_accuracy: 0.6715\n",
            "Epoch 82/100\n",
            "358/358 [==============================] - 2s 5ms/step - loss: 0.0045 - accuracy: 0.6725 - val_loss: 0.0056 - val_accuracy: 0.6715\n",
            "Epoch 83/100\n",
            "358/358 [==============================] - 2s 5ms/step - loss: 0.0044 - accuracy: 0.6725 - val_loss: 0.0057 - val_accuracy: 0.6715\n",
            "Epoch 84/100\n",
            "358/358 [==============================] - 2s 5ms/step - loss: 0.0044 - accuracy: 0.6725 - val_loss: 0.0056 - val_accuracy: 0.6715\n",
            "Epoch 85/100\n",
            "358/358 [==============================] - 2s 5ms/step - loss: 0.0044 - accuracy: 0.6726 - val_loss: 0.0056 - val_accuracy: 0.6715\n",
            "Epoch 86/100\n",
            "358/358 [==============================] - 2s 5ms/step - loss: 0.0043 - accuracy: 0.6726 - val_loss: 0.0055 - val_accuracy: 0.6715\n",
            "Epoch 87/100\n",
            "358/358 [==============================] - 2s 5ms/step - loss: 0.0043 - accuracy: 0.6726 - val_loss: 0.0055 - val_accuracy: 0.6715\n",
            "Epoch 88/100\n",
            "358/358 [==============================] - 2s 5ms/step - loss: 0.0043 - accuracy: 0.6726 - val_loss: 0.0056 - val_accuracy: 0.6715\n",
            "Epoch 89/100\n",
            "358/358 [==============================] - 2s 5ms/step - loss: 0.0042 - accuracy: 0.6726 - val_loss: 0.0064 - val_accuracy: 0.6714\n",
            "Epoch 90/100\n",
            "358/358 [==============================] - 2s 5ms/step - loss: 0.0043 - accuracy: 0.6726 - val_loss: 0.0055 - val_accuracy: 0.6716\n",
            "Epoch 91/100\n",
            "358/358 [==============================] - 2s 5ms/step - loss: 0.0042 - accuracy: 0.6726 - val_loss: 0.0055 - val_accuracy: 0.6716\n",
            "Epoch 92/100\n",
            "358/358 [==============================] - 2s 5ms/step - loss: 0.0042 - accuracy: 0.6726 - val_loss: 0.0054 - val_accuracy: 0.6716\n",
            "Epoch 93/100\n",
            "358/358 [==============================] - 2s 5ms/step - loss: 0.0041 - accuracy: 0.6726 - val_loss: 0.0054 - val_accuracy: 0.6716\n",
            "Epoch 94/100\n",
            "358/358 [==============================] - 2s 5ms/step - loss: 0.0041 - accuracy: 0.6726 - val_loss: 0.0055 - val_accuracy: 0.6716\n",
            "Epoch 95/100\n",
            "358/358 [==============================] - 2s 5ms/step - loss: 0.0041 - accuracy: 0.6726 - val_loss: 0.0053 - val_accuracy: 0.6716\n",
            "Epoch 96/100\n",
            "358/358 [==============================] - 2s 5ms/step - loss: 0.0040 - accuracy: 0.6726 - val_loss: 0.0054 - val_accuracy: 0.6716\n",
            "Epoch 97/100\n",
            "358/358 [==============================] - 2s 5ms/step - loss: 0.0040 - accuracy: 0.6726 - val_loss: 0.0053 - val_accuracy: 0.6716\n",
            "Epoch 98/100\n",
            "358/358 [==============================] - 2s 5ms/step - loss: 0.0040 - accuracy: 0.6726 - val_loss: 0.0053 - val_accuracy: 0.6716\n",
            "Epoch 99/100\n",
            "358/358 [==============================] - 2s 5ms/step - loss: 0.0040 - accuracy: 0.6726 - val_loss: 0.0051 - val_accuracy: 0.6716\n",
            "Epoch 100/100\n",
            "358/358 [==============================] - 2s 5ms/step - loss: 0.0040 - accuracy: 0.6726 - val_loss: 0.0053 - val_accuracy: 0.6716\n"
          ]
        },
        {
          "output_type": "display_data",
          "data": {
            "text/plain": [
              "<Figure size 432x288 with 1 Axes>"
            ],
            "image/png": "[encoded data removed]"
          },
          "metadata": {
            "needs_background": "light"
          }
        }
      ],
      "source": [
        "callback = tf.keras.callbacks.EarlyStopping(monitor='loss',min_delta=0.0001,patience=10)\n",
        "Autoencoder31.compile(optimizer,loss=\"mse\",metrics=['accuracy'])\n",
        "history31 = Autoencoder31.fit(train_data,train_data,epochs=100,batch_size=32,callbacks=[callback],validation_data=(val_data, val_data))\n",
        "#history_val31 = Autoencoder31.fit(val_data,val_data,epochs=100,batch_size=32,callbacks=[callback])\n",
        "plt.plot(history31.history['loss'])\n",
        "\n",
        "plt.savefig(\"/content/drive/MyDrive/autoencoder_output/A31loss.png\")"
      ]
    },
    {
      "cell_type": "code",
      "execution_count": null,
      "metadata": {
        "id": "tRMQ0jt75owl"
      },
      "outputs": [],
      "source": [
        "encoder_op311 = encoder311.predict([test_data[1].reshape(-1,28,28,1)])\n",
        "#plt.imshow(encoder_op311.reshape(12,12),cmap=\"gray\")"
      ]
    },
    {
      "cell_type": "code",
      "source": [
        "encoder_train311 = encoder311.predict([train_data.reshape(-1,28,28,1)])\n",
        "#encoder_train1= encoder_train1.reshape(8,8)\n",
        "encoder_val311 = encoder311.predict([val_data.reshape(-1,28,28,1)])\n",
        "#encoder_val1 = encoder_val1.reshape(8,8)\n",
        "encoder_test311 = encoder311.predict([test_data.reshape(-1,28,28,1)])\n",
        "#encoder_val1 = encoder_test1.reshape(8,8)\n",
        "print(encoder_train311.shape)\n",
        "print(encoder_val311.shape)\n",
        "print(encoder_test311.shape)"
      ],
      "metadata": {
        "colab": {
          "base_uri": "https://localhost:8080/"
        },
        "id": "dcsyyuALvKbj",
        "outputId": "1011ed82-7d21-48c0-aa67-0144fd2f4426"
      },
      "execution_count": null,
      "outputs": [
        {
          "output_type": "stream",
          "name": "stdout",
          "text": [
            "(11425, 144)\n",
            "(3855, 144)\n",
            "(3845, 144)\n"
          ]
        }
      ]
    },
    {
      "cell_type": "code",
      "source": [
        "model311 = tf.keras.models.Sequential([\n",
        "    #tf.keras.layers.Flatten(input_shape=(28, 28), name='Input_Layer'),\n",
        "    tf.keras.layers.Dense(289, activation='sigmoid', name='Hidden_Layer_1'),\n",
        "    tf.keras.layers.Dense(256, activation='sigmoid', name='Hidden_Layer_2'),\n",
        "    tf.keras.layers.Dense(289, activation='sigmoid', name='Hidden_Layer_3'),\n",
        "    tf.keras.layers.Dense(10, activation='softmax', name='Output_Layer')\n",
        "])\n",
        "optimizer = tf.keras.optimizers.Adam(\n",
        "    learning_rate=0.001,\n",
        "    beta_1=0.9,\n",
        "    beta_2=0.999,\n",
        "    epsilon=1e-08,\n",
        "    name='Adam')\n",
        "model311.compile(optimizer=optimizer,\n",
        "             loss='sparse_categorical_crossentropy',\n",
        "             metrics=['accuracy'])\n",
        "callback = tf.keras.callbacks.EarlyStopping(monitor='loss',min_delta=0.0001,patience=10)\n",
        "trained311 = model311.fit(encoder_train311, tr_out, epochs=10000, callbacks=callback)\n",
        "loss, mse = model311.evaluate(encoder_val311, val_out)"
      ],
      "metadata": {
        "colab": {
          "base_uri": "https://localhost:8080/"
        },
        "id": "WR6OMCtPvLHD",
        "outputId": "36b23d39-4d59-4db6-f7cb-54936557d18b"
      },
      "execution_count": null,
      "outputs": [
        {
          "output_type": "stream",
          "name": "stdout",
          "text": [
            "Epoch 1/10000\n",
            "358/358 [==============================] - 2s 4ms/step - loss: 1.4652 - accuracy: 0.3173\n",
            "Epoch 2/10000\n",
            "358/358 [==============================] - 1s 4ms/step - loss: 0.7217 - accuracy: 0.7035\n",
            "Epoch 3/10000\n",
            "358/358 [==============================] - 1s 4ms/step - loss: 0.5226 - accuracy: 0.7971\n",
            "Epoch 4/10000\n",
            "358/358 [==============================] - 1s 4ms/step - loss: 0.4444 - accuracy: 0.8343\n",
            "Epoch 5/10000\n",
            "358/358 [==============================] - 1s 4ms/step - loss: 0.4004 - accuracy: 0.8586\n",
            "Epoch 6/10000\n",
            "358/358 [==============================] - 1s 4ms/step - loss: 0.3558 - accuracy: 0.8762\n",
            "Epoch 7/10000\n",
            "358/358 [==============================] - 1s 4ms/step - loss: 0.3425 - accuracy: 0.8812\n",
            "Epoch 8/10000\n",
            "358/358 [==============================] - 1s 4ms/step - loss: 0.3178 - accuracy: 0.8909\n",
            "Epoch 9/10000\n",
            "358/358 [==============================] - 1s 4ms/step - loss: 0.3655 - accuracy: 0.8771\n",
            "Epoch 10/10000\n",
            "358/358 [==============================] - 1s 4ms/step - loss: 0.3020 - accuracy: 0.8953\n",
            "Epoch 11/10000\n",
            "358/358 [==============================] - 1s 4ms/step - loss: 0.3032 - accuracy: 0.8957\n",
            "Epoch 12/10000\n",
            "358/358 [==============================] - 1s 4ms/step - loss: 0.3083 - accuracy: 0.8946\n",
            "Epoch 13/10000\n",
            "358/358 [==============================] - 1s 4ms/step - loss: 0.2947 - accuracy: 0.9002\n",
            "Epoch 14/10000\n",
            "358/358 [==============================] - 1s 4ms/step - loss: 0.2974 - accuracy: 0.8971\n",
            "Epoch 15/10000\n",
            "358/358 [==============================] - 1s 4ms/step - loss: 0.2913 - accuracy: 0.9003\n",
            "Epoch 16/10000\n",
            "358/358 [==============================] - 1s 3ms/step - loss: 0.2793 - accuracy: 0.9045\n",
            "Epoch 17/10000\n",
            "358/358 [==============================] - 1s 4ms/step - loss: 0.2807 - accuracy: 0.9038\n",
            "Epoch 18/10000\n",
            "358/358 [==============================] - 1s 4ms/step - loss: 0.2822 - accuracy: 0.9060\n",
            "Epoch 19/10000\n",
            "358/358 [==============================] - 1s 4ms/step - loss: 0.2698 - accuracy: 0.9093\n",
            "Epoch 20/10000\n",
            "358/358 [==============================] - 1s 4ms/step - loss: 0.2696 - accuracy: 0.9066\n",
            "Epoch 21/10000\n",
            "358/358 [==============================] - 1s 4ms/step - loss: 0.2641 - accuracy: 0.9115\n",
            "Epoch 22/10000\n",
            "358/358 [==============================] - 1s 4ms/step - loss: 0.2709 - accuracy: 0.9084\n",
            "Epoch 23/10000\n",
            "358/358 [==============================] - 1s 4ms/step - loss: 0.2628 - accuracy: 0.9118\n",
            "Epoch 24/10000\n",
            "358/358 [==============================] - 1s 4ms/step - loss: 0.2548 - accuracy: 0.9112\n",
            "Epoch 25/10000\n",
            "358/358 [==============================] - 1s 4ms/step - loss: 0.2510 - accuracy: 0.9119\n",
            "Epoch 26/10000\n",
            "358/358 [==============================] - 1s 4ms/step - loss: 0.2539 - accuracy: 0.9157\n",
            "Epoch 27/10000\n",
            "358/358 [==============================] - 1s 4ms/step - loss: 0.2524 - accuracy: 0.9162\n",
            "Epoch 28/10000\n",
            "358/358 [==============================] - 1s 4ms/step - loss: 0.2574 - accuracy: 0.9112\n",
            "Epoch 29/10000\n",
            "358/358 [==============================] - 1s 4ms/step - loss: 0.2362 - accuracy: 0.9235\n",
            "Epoch 30/10000\n",
            "358/358 [==============================] - 1s 4ms/step - loss: 0.2369 - accuracy: 0.9222\n",
            "Epoch 31/10000\n",
            "358/358 [==============================] - 1s 4ms/step - loss: 0.2416 - accuracy: 0.9207\n",
            "Epoch 32/10000\n",
            "358/358 [==============================] - 1s 4ms/step - loss: 0.2519 - accuracy: 0.9186\n",
            "Epoch 33/10000\n",
            "358/358 [==============================] - 1s 4ms/step - loss: 0.2362 - accuracy: 0.9217\n",
            "Epoch 34/10000\n",
            "358/358 [==============================] - 1s 4ms/step - loss: 0.2332 - accuracy: 0.9212\n",
            "Epoch 35/10000\n",
            "358/358 [==============================] - 1s 4ms/step - loss: 0.2411 - accuracy: 0.9189\n",
            "Epoch 36/10000\n",
            "358/358 [==============================] - 1s 4ms/step - loss: 0.2356 - accuracy: 0.9209\n",
            "Epoch 37/10000\n",
            "358/358 [==============================] - 1s 4ms/step - loss: 0.2326 - accuracy: 0.9197\n",
            "Epoch 38/10000\n",
            "358/358 [==============================] - 1s 4ms/step - loss: 0.2411 - accuracy: 0.9214\n",
            "Epoch 39/10000\n",
            "358/358 [==============================] - 1s 4ms/step - loss: 0.2336 - accuracy: 0.9218\n",
            "Epoch 40/10000\n",
            "358/358 [==============================] - 1s 4ms/step - loss: 0.2224 - accuracy: 0.9254\n",
            "Epoch 41/10000\n",
            "358/358 [==============================] - 1s 4ms/step - loss: 0.2225 - accuracy: 0.9259\n",
            "Epoch 42/10000\n",
            "358/358 [==============================] - 1s 3ms/step - loss: 0.2299 - accuracy: 0.9215\n",
            "Epoch 43/10000\n",
            "358/358 [==============================] - 1s 4ms/step - loss: 0.2201 - accuracy: 0.9252\n",
            "Epoch 44/10000\n",
            "358/358 [==============================] - 1s 4ms/step - loss: 0.2211 - accuracy: 0.9260\n",
            "Epoch 45/10000\n",
            "358/358 [==============================] - 1s 4ms/step - loss: 0.2162 - accuracy: 0.9281\n",
            "Epoch 46/10000\n",
            "358/358 [==============================] - 1s 4ms/step - loss: 0.2183 - accuracy: 0.9246\n",
            "Epoch 47/10000\n",
            "358/358 [==============================] - 1s 4ms/step - loss: 0.2233 - accuracy: 0.9247\n",
            "Epoch 48/10000\n",
            "358/358 [==============================] - 1s 4ms/step - loss: 0.2287 - accuracy: 0.9225\n",
            "Epoch 49/10000\n",
            "358/358 [==============================] - 1s 4ms/step - loss: 0.2138 - accuracy: 0.9289\n",
            "Epoch 50/10000\n",
            "358/358 [==============================] - 1s 4ms/step - loss: 0.2174 - accuracy: 0.9268\n",
            "Epoch 51/10000\n",
            "358/358 [==============================] - 1s 4ms/step - loss: 0.2125 - accuracy: 0.9304\n",
            "Epoch 52/10000\n",
            "358/358 [==============================] - 1s 4ms/step - loss: 0.2115 - accuracy: 0.9293\n",
            "Epoch 53/10000\n",
            "358/358 [==============================] - 1s 4ms/step - loss: 0.2107 - accuracy: 0.9276\n",
            "Epoch 54/10000\n",
            "358/358 [==============================] - 1s 4ms/step - loss: 0.2043 - accuracy: 0.9314\n",
            "Epoch 55/10000\n",
            "358/358 [==============================] - 1s 4ms/step - loss: 0.2123 - accuracy: 0.9282\n",
            "Epoch 56/10000\n",
            "358/358 [==============================] - 1s 4ms/step - loss: 0.2081 - accuracy: 0.9315\n",
            "Epoch 57/10000\n",
            "358/358 [==============================] - 1s 4ms/step - loss: 0.2094 - accuracy: 0.9283\n",
            "Epoch 58/10000\n",
            "358/358 [==============================] - 1s 4ms/step - loss: 0.2273 - accuracy: 0.9235\n",
            "Epoch 59/10000\n",
            "358/358 [==============================] - 1s 4ms/step - loss: 0.1977 - accuracy: 0.9330\n",
            "Epoch 60/10000\n",
            "358/358 [==============================] - 1s 4ms/step - loss: 0.2075 - accuracy: 0.9310\n",
            "Epoch 61/10000\n",
            "358/358 [==============================] - 1s 4ms/step - loss: 0.2091 - accuracy: 0.9278\n",
            "Epoch 62/10000\n",
            "358/358 [==============================] - 1s 4ms/step - loss: 0.2020 - accuracy: 0.9341\n",
            "Epoch 63/10000\n",
            "358/358 [==============================] - 1s 4ms/step - loss: 0.2109 - accuracy: 0.9285\n",
            "Epoch 64/10000\n",
            "358/358 [==============================] - 1s 4ms/step - loss: 0.2026 - accuracy: 0.9320\n",
            "Epoch 65/10000\n",
            "358/358 [==============================] - 1s 4ms/step - loss: 0.2199 - accuracy: 0.9269\n",
            "Epoch 66/10000\n",
            "358/358 [==============================] - 1s 4ms/step - loss: 0.1910 - accuracy: 0.9364\n",
            "Epoch 67/10000\n",
            "358/358 [==============================] - 1s 4ms/step - loss: 0.1873 - accuracy: 0.9369\n",
            "Epoch 68/10000\n",
            "358/358 [==============================] - 1s 4ms/step - loss: 0.1941 - accuracy: 0.9347\n",
            "Epoch 69/10000\n",
            "358/358 [==============================] - 1s 4ms/step - loss: 0.1896 - accuracy: 0.9347\n",
            "Epoch 70/10000\n",
            "358/358 [==============================] - 1s 4ms/step - loss: 0.1928 - accuracy: 0.9339\n",
            "Epoch 71/10000\n",
            "358/358 [==============================] - 1s 4ms/step - loss: 0.1851 - accuracy: 0.9367\n",
            "Epoch 72/10000\n",
            "358/358 [==============================] - 1s 4ms/step - loss: 0.1934 - accuracy: 0.9339\n",
            "Epoch 73/10000\n",
            "358/358 [==============================] - 1s 4ms/step - loss: 0.1900 - accuracy: 0.9343\n",
            "Epoch 74/10000\n",
            "358/358 [==============================] - 1s 4ms/step - loss: 0.1761 - accuracy: 0.9413\n",
            "Epoch 75/10000\n",
            "358/358 [==============================] - 1s 4ms/step - loss: 0.1742 - accuracy: 0.9397\n",
            "Epoch 76/10000\n",
            "358/358 [==============================] - 1s 4ms/step - loss: 0.1799 - accuracy: 0.9371\n",
            "Epoch 77/10000\n",
            "358/358 [==============================] - 1s 3ms/step - loss: 0.1982 - accuracy: 0.9324\n",
            "Epoch 78/10000\n",
            "358/358 [==============================] - 1s 4ms/step - loss: 0.1731 - accuracy: 0.9399\n",
            "Epoch 79/10000\n",
            "358/358 [==============================] - 1s 4ms/step - loss: 0.1671 - accuracy: 0.9430\n",
            "Epoch 80/10000\n",
            "358/358 [==============================] - 1s 4ms/step - loss: 0.2692 - accuracy: 0.9043\n",
            "Epoch 81/10000\n",
            "358/358 [==============================] - 1s 4ms/step - loss: 0.1737 - accuracy: 0.9421\n",
            "Epoch 82/10000\n",
            "358/358 [==============================] - 1s 4ms/step - loss: 0.1696 - accuracy: 0.9401\n",
            "Epoch 83/10000\n",
            "358/358 [==============================] - 1s 4ms/step - loss: 0.1694 - accuracy: 0.9405\n",
            "Epoch 84/10000\n",
            "358/358 [==============================] - 1s 4ms/step - loss: 0.1703 - accuracy: 0.9396\n",
            "Epoch 85/10000\n",
            "358/358 [==============================] - 1s 3ms/step - loss: 0.1654 - accuracy: 0.9439\n",
            "Epoch 86/10000\n",
            "358/358 [==============================] - 1s 4ms/step - loss: 0.1645 - accuracy: 0.9440\n",
            "Epoch 87/10000\n",
            "358/358 [==============================] - 1s 4ms/step - loss: 0.1622 - accuracy: 0.9440\n",
            "Epoch 88/10000\n",
            "358/358 [==============================] - 1s 4ms/step - loss: 0.1656 - accuracy: 0.9421\n",
            "Epoch 89/10000\n",
            "358/358 [==============================] - 1s 4ms/step - loss: 0.1632 - accuracy: 0.9435\n",
            "Epoch 90/10000\n",
            "358/358 [==============================] - 1s 4ms/step - loss: 0.1573 - accuracy: 0.9467\n",
            "Epoch 91/10000\n",
            "358/358 [==============================] - 1s 4ms/step - loss: 0.1585 - accuracy: 0.9456\n",
            "Epoch 92/10000\n",
            "358/358 [==============================] - 1s 4ms/step - loss: 0.1579 - accuracy: 0.9442\n",
            "Epoch 93/10000\n",
            "358/358 [==============================] - 1s 4ms/step - loss: 0.1724 - accuracy: 0.9390\n",
            "Epoch 94/10000\n",
            "358/358 [==============================] - 1s 4ms/step - loss: 0.1598 - accuracy: 0.9442\n",
            "Epoch 95/10000\n",
            "358/358 [==============================] - 1s 4ms/step - loss: 0.1543 - accuracy: 0.9438\n",
            "Epoch 96/10000\n",
            "358/358 [==============================] - 1s 4ms/step - loss: 0.1564 - accuracy: 0.9442\n",
            "Epoch 97/10000\n",
            "358/358 [==============================] - 1s 4ms/step - loss: 0.1585 - accuracy: 0.9434\n",
            "Epoch 98/10000\n",
            "358/358 [==============================] - 1s 4ms/step - loss: 0.1847 - accuracy: 0.9391\n",
            "Epoch 99/10000\n",
            "358/358 [==============================] - 1s 4ms/step - loss: 0.1451 - accuracy: 0.9489\n",
            "Epoch 100/10000\n",
            "358/358 [==============================] - 1s 4ms/step - loss: 0.1454 - accuracy: 0.9485\n",
            "Epoch 101/10000\n",
            "358/358 [==============================] - 1s 3ms/step - loss: 0.1447 - accuracy: 0.9486\n",
            "Epoch 102/10000\n",
            "358/358 [==============================] - 1s 4ms/step - loss: 0.1494 - accuracy: 0.9476\n",
            "Epoch 103/10000\n",
            "358/358 [==============================] - 1s 4ms/step - loss: 0.1445 - accuracy: 0.9483\n",
            "Epoch 104/10000\n",
            "358/358 [==============================] - 1s 4ms/step - loss: 0.1961 - accuracy: 0.9349\n",
            "Epoch 105/10000\n",
            "358/358 [==============================] - 1s 4ms/step - loss: 0.1439 - accuracy: 0.9469\n",
            "Epoch 106/10000\n",
            "358/358 [==============================] - 1s 4ms/step - loss: 0.1390 - accuracy: 0.9501\n",
            "Epoch 107/10000\n",
            "358/358 [==============================] - 1s 4ms/step - loss: 0.1409 - accuracy: 0.9501\n",
            "Epoch 108/10000\n",
            "358/358 [==============================] - 1s 4ms/step - loss: 0.1416 - accuracy: 0.9493\n",
            "Epoch 109/10000\n",
            "358/358 [==============================] - 1s 4ms/step - loss: 0.1431 - accuracy: 0.9517\n",
            "Epoch 110/10000\n",
            "358/358 [==============================] - 1s 4ms/step - loss: 0.1375 - accuracy: 0.9508\n",
            "Epoch 111/10000\n",
            "358/358 [==============================] - 1s 4ms/step - loss: 0.1420 - accuracy: 0.9486\n",
            "Epoch 112/10000\n",
            "358/358 [==============================] - 1s 4ms/step - loss: 0.1423 - accuracy: 0.9481\n",
            "Epoch 113/10000\n",
            "358/358 [==============================] - 1s 4ms/step - loss: 0.1374 - accuracy: 0.9494\n",
            "Epoch 114/10000\n",
            "358/358 [==============================] - 1s 4ms/step - loss: 0.1325 - accuracy: 0.9521\n",
            "Epoch 115/10000\n",
            "358/358 [==============================] - 1s 4ms/step - loss: 0.1287 - accuracy: 0.9557\n",
            "Epoch 116/10000\n",
            "358/358 [==============================] - 1s 4ms/step - loss: 0.1322 - accuracy: 0.9533\n",
            "Epoch 117/10000\n",
            "358/358 [==============================] - 1s 4ms/step - loss: 0.1247 - accuracy: 0.9570\n",
            "Epoch 118/10000\n",
            "358/358 [==============================] - 1s 4ms/step - loss: 0.1336 - accuracy: 0.9517\n",
            "Epoch 119/10000\n",
            "358/358 [==============================] - 1s 4ms/step - loss: 0.1266 - accuracy: 0.9558\n",
            "Epoch 120/10000\n",
            "358/358 [==============================] - 1s 4ms/step - loss: 0.1280 - accuracy: 0.9549\n",
            "Epoch 121/10000\n",
            "358/358 [==============================] - 1s 4ms/step - loss: 0.1324 - accuracy: 0.9543\n",
            "Epoch 122/10000\n",
            "358/358 [==============================] - 1s 4ms/step - loss: 0.1230 - accuracy: 0.9567\n",
            "Epoch 123/10000\n",
            "358/358 [==============================] - 1s 4ms/step - loss: 0.1265 - accuracy: 0.9545\n",
            "Epoch 124/10000\n",
            "358/358 [==============================] - 2s 5ms/step - loss: 0.1232 - accuracy: 0.9554\n",
            "Epoch 125/10000\n",
            "358/358 [==============================] - 2s 5ms/step - loss: 0.1165 - accuracy: 0.9590\n",
            "Epoch 126/10000\n",
            "358/358 [==============================] - 1s 4ms/step - loss: 0.1190 - accuracy: 0.9577\n",
            "Epoch 127/10000\n",
            "358/358 [==============================] - 1s 4ms/step - loss: 0.1245 - accuracy: 0.9554\n",
            "Epoch 128/10000\n",
            "358/358 [==============================] - 1s 4ms/step - loss: 0.1177 - accuracy: 0.9589\n",
            "Epoch 129/10000\n",
            "358/358 [==============================] - 1s 4ms/step - loss: 0.1218 - accuracy: 0.9543\n",
            "Epoch 130/10000\n",
            "358/358 [==============================] - 1s 4ms/step - loss: 0.1104 - accuracy: 0.9625\n",
            "Epoch 131/10000\n",
            "358/358 [==============================] - 1s 4ms/step - loss: 0.1197 - accuracy: 0.9555\n",
            "Epoch 132/10000\n",
            "358/358 [==============================] - 1s 4ms/step - loss: 0.1141 - accuracy: 0.9593\n",
            "Epoch 133/10000\n",
            "358/358 [==============================] - 1s 4ms/step - loss: 0.1593 - accuracy: 0.9459\n",
            "Epoch 134/10000\n",
            "358/358 [==============================] - 1s 4ms/step - loss: 0.1172 - accuracy: 0.9581\n",
            "Epoch 135/10000\n",
            "358/358 [==============================] - 1s 4ms/step - loss: 0.1099 - accuracy: 0.9620\n",
            "Epoch 136/10000\n",
            "358/358 [==============================] - 1s 4ms/step - loss: 0.1054 - accuracy: 0.9615\n",
            "Epoch 137/10000\n",
            "358/358 [==============================] - 1s 4ms/step - loss: 0.1108 - accuracy: 0.9587\n",
            "Epoch 138/10000\n",
            "358/358 [==============================] - 1s 4ms/step - loss: 0.1042 - accuracy: 0.9626\n",
            "Epoch 139/10000\n",
            "358/358 [==============================] - 1s 4ms/step - loss: 0.1120 - accuracy: 0.9593\n",
            "Epoch 140/10000\n",
            "358/358 [==============================] - 1s 4ms/step - loss: 0.1118 - accuracy: 0.9592\n",
            "Epoch 141/10000\n",
            "358/358 [==============================] - 1s 4ms/step - loss: 0.1023 - accuracy: 0.9647\n",
            "Epoch 142/10000\n",
            "358/358 [==============================] - 1s 4ms/step - loss: 0.1035 - accuracy: 0.9619\n",
            "Epoch 143/10000\n",
            "358/358 [==============================] - 1s 4ms/step - loss: 0.1074 - accuracy: 0.9599\n",
            "Epoch 144/10000\n",
            "358/358 [==============================] - 1s 4ms/step - loss: 0.1079 - accuracy: 0.9596\n",
            "Epoch 145/10000\n",
            "358/358 [==============================] - 1s 4ms/step - loss: 0.1056 - accuracy: 0.9598\n",
            "Epoch 146/10000\n",
            "358/358 [==============================] - 2s 5ms/step - loss: 0.1065 - accuracy: 0.9604\n",
            "Epoch 147/10000\n",
            "358/358 [==============================] - 2s 7ms/step - loss: 0.1101 - accuracy: 0.9597\n",
            "Epoch 148/10000\n",
            "358/358 [==============================] - 2s 5ms/step - loss: 0.0974 - accuracy: 0.9653\n",
            "Epoch 149/10000\n",
            "358/358 [==============================] - 1s 4ms/step - loss: 0.1064 - accuracy: 0.9612\n",
            "Epoch 150/10000\n",
            "358/358 [==============================] - 1s 4ms/step - loss: 0.0986 - accuracy: 0.9631\n",
            "Epoch 151/10000\n",
            "358/358 [==============================] - 1s 4ms/step - loss: 0.0983 - accuracy: 0.9641\n",
            "Epoch 152/10000\n",
            "358/358 [==============================] - 1s 4ms/step - loss: 0.1008 - accuracy: 0.9636\n",
            "Epoch 153/10000\n",
            "358/358 [==============================] - 2s 6ms/step - loss: 0.1012 - accuracy: 0.9622\n",
            "Epoch 154/10000\n",
            "358/358 [==============================] - 2s 4ms/step - loss: 0.0973 - accuracy: 0.9643\n",
            "Epoch 155/10000\n",
            "358/358 [==============================] - 1s 4ms/step - loss: 0.0955 - accuracy: 0.9661\n",
            "Epoch 156/10000\n",
            "358/358 [==============================] - 1s 4ms/step - loss: 0.0979 - accuracy: 0.9630\n",
            "Epoch 157/10000\n",
            "358/358 [==============================] - 1s 4ms/step - loss: 0.0997 - accuracy: 0.9642\n",
            "Epoch 158/10000\n",
            "358/358 [==============================] - 1s 4ms/step - loss: 0.0911 - accuracy: 0.9670\n",
            "Epoch 159/10000\n",
            "358/358 [==============================] - 1s 4ms/step - loss: 0.0962 - accuracy: 0.9628\n",
            "Epoch 160/10000\n",
            "358/358 [==============================] - 1s 4ms/step - loss: 0.0955 - accuracy: 0.9663\n",
            "Epoch 161/10000\n",
            "358/358 [==============================] - 2s 6ms/step - loss: 0.0924 - accuracy: 0.9653\n",
            "Epoch 162/10000\n",
            "358/358 [==============================] - 2s 6ms/step - loss: 0.0970 - accuracy: 0.9650\n",
            "Epoch 163/10000\n",
            "358/358 [==============================] - 1s 4ms/step - loss: 0.0952 - accuracy: 0.9641\n",
            "Epoch 164/10000\n",
            "358/358 [==============================] - 1s 4ms/step - loss: 0.0899 - accuracy: 0.9677\n",
            "Epoch 165/10000\n",
            "358/358 [==============================] - 1s 4ms/step - loss: 0.0925 - accuracy: 0.9649\n",
            "Epoch 166/10000\n",
            "358/358 [==============================] - 1s 4ms/step - loss: 0.0914 - accuracy: 0.9657\n",
            "Epoch 167/10000\n",
            "358/358 [==============================] - 1s 4ms/step - loss: 0.0847 - accuracy: 0.9696\n",
            "Epoch 168/10000\n",
            "358/358 [==============================] - 1s 4ms/step - loss: 0.0882 - accuracy: 0.9656\n",
            "Epoch 169/10000\n",
            "358/358 [==============================] - 2s 5ms/step - loss: 0.0932 - accuracy: 0.9667\n",
            "Epoch 170/10000\n",
            "358/358 [==============================] - 1s 4ms/step - loss: 0.0876 - accuracy: 0.9685\n",
            "Epoch 171/10000\n",
            "358/358 [==============================] - 1s 4ms/step - loss: 0.0896 - accuracy: 0.9669\n",
            "Epoch 172/10000\n",
            "358/358 [==============================] - 1s 4ms/step - loss: 0.0888 - accuracy: 0.9663\n",
            "Epoch 173/10000\n",
            "358/358 [==============================] - 1s 4ms/step - loss: 0.0900 - accuracy: 0.9656\n",
            "Epoch 174/10000\n",
            "358/358 [==============================] - 2s 4ms/step - loss: 0.0861 - accuracy: 0.9695\n",
            "Epoch 175/10000\n",
            "358/358 [==============================] - 2s 6ms/step - loss: 0.1094 - accuracy: 0.9639\n",
            "Epoch 176/10000\n",
            "358/358 [==============================] - 2s 5ms/step - loss: 0.0791 - accuracy: 0.9722\n",
            "Epoch 177/10000\n",
            "358/358 [==============================] - 1s 4ms/step - loss: 0.0820 - accuracy: 0.9703\n",
            "Epoch 178/10000\n",
            "358/358 [==============================] - 1s 4ms/step - loss: 0.0746 - accuracy: 0.9725\n",
            "Epoch 179/10000\n",
            "358/358 [==============================] - 1s 4ms/step - loss: 0.0768 - accuracy: 0.9716\n",
            "Epoch 180/10000\n",
            "358/358 [==============================] - 1s 4ms/step - loss: 0.0794 - accuracy: 0.9712\n",
            "Epoch 181/10000\n",
            "358/358 [==============================] - 1s 4ms/step - loss: 0.0784 - accuracy: 0.9715\n",
            "Epoch 182/10000\n",
            "358/358 [==============================] - 1s 4ms/step - loss: 0.0772 - accuracy: 0.9709\n",
            "Epoch 183/10000\n",
            "358/358 [==============================] - 1s 4ms/step - loss: 0.0727 - accuracy: 0.9725\n",
            "Epoch 184/10000\n",
            "358/358 [==============================] - 1s 4ms/step - loss: 0.0815 - accuracy: 0.9698\n",
            "Epoch 185/10000\n",
            "358/358 [==============================] - 1s 4ms/step - loss: 0.0753 - accuracy: 0.9717\n",
            "Epoch 186/10000\n",
            "358/358 [==============================] - 1s 4ms/step - loss: 0.0747 - accuracy: 0.9717\n",
            "Epoch 187/10000\n",
            "358/358 [==============================] - 1s 4ms/step - loss: 0.0825 - accuracy: 0.9693\n",
            "Epoch 188/10000\n",
            "358/358 [==============================] - 1s 4ms/step - loss: 0.0726 - accuracy: 0.9737\n",
            "Epoch 189/10000\n",
            "358/358 [==============================] - 1s 4ms/step - loss: 0.0734 - accuracy: 0.9730\n",
            "Epoch 190/10000\n",
            "358/358 [==============================] - 1s 4ms/step - loss: 0.0728 - accuracy: 0.9735\n",
            "Epoch 191/10000\n",
            "358/358 [==============================] - 1s 4ms/step - loss: 0.0893 - accuracy: 0.9684\n",
            "Epoch 192/10000\n",
            "358/358 [==============================] - 1s 4ms/step - loss: 0.0717 - accuracy: 0.9751\n",
            "Epoch 193/10000\n",
            "358/358 [==============================] - 1s 4ms/step - loss: 0.0690 - accuracy: 0.9745\n",
            "Epoch 194/10000\n",
            "358/358 [==============================] - 1s 4ms/step - loss: 0.0768 - accuracy: 0.9704\n",
            "Epoch 195/10000\n",
            "358/358 [==============================] - 1s 4ms/step - loss: 0.0633 - accuracy: 0.9767\n",
            "Epoch 196/10000\n",
            "358/358 [==============================] - 1s 4ms/step - loss: 0.0700 - accuracy: 0.9739\n",
            "Epoch 197/10000\n",
            "358/358 [==============================] - 1s 4ms/step - loss: 0.0702 - accuracy: 0.9749\n",
            "Epoch 198/10000\n",
            "358/358 [==============================] - 1s 4ms/step - loss: 0.0654 - accuracy: 0.9754\n",
            "Epoch 199/10000\n",
            "358/358 [==============================] - 1s 4ms/step - loss: 0.0650 - accuracy: 0.9757\n",
            "Epoch 200/10000\n",
            "358/358 [==============================] - 1s 4ms/step - loss: 0.0701 - accuracy: 0.9747\n",
            "Epoch 201/10000\n",
            "358/358 [==============================] - 1s 4ms/step - loss: 0.0692 - accuracy: 0.9745\n",
            "Epoch 202/10000\n",
            "358/358 [==============================] - 1s 4ms/step - loss: 0.0697 - accuracy: 0.9743\n",
            "Epoch 203/10000\n",
            "358/358 [==============================] - 1s 4ms/step - loss: 0.0754 - accuracy: 0.9709\n",
            "Epoch 204/10000\n",
            "358/358 [==============================] - 1s 4ms/step - loss: 0.0666 - accuracy: 0.9746\n",
            "Epoch 205/10000\n",
            "358/358 [==============================] - 2s 5ms/step - loss: 0.0671 - accuracy: 0.9744\n",
            "121/121 [==============================] - 1s 3ms/step - loss: 0.1169 - accuracy: 0.9655\n"
          ]
        }
      ]
    },
    {
      "cell_type": "code",
      "source": [
        "from sklearn.metrics import confusion_matrix\n",
        "prediction_test311 = model311.predict(encoder_test311)\n",
        "prdicted_value311 = [np.argmax(label) for label in prediction_test311]\n",
        "cm31 = confusion_matrix(test_out,prdicted_value311)\n",
        "print(cm31)\n"
      ],
      "metadata": {
        "colab": {
          "base_uri": "https://localhost:8080/"
        },
        "id": "JdIR_BPivLMI",
        "outputId": "9a3d96d0-b9a1-4b8b-eaf1-4b2206079fd7"
      },
      "execution_count": null,
      "outputs": [
        {
          "output_type": "stream",
          "name": "stdout",
          "text": [
            "[[757   0   3   8   1]\n",
            " [  4 744   5   6  20]\n",
            " [  9   6 728   3  13]\n",
            " [ 10   5   2 733   9]\n",
            " [  6  24  13  13 723]]\n"
          ]
        }
      ]
    },
    {
      "cell_type": "code",
      "source": [
        "loss, mse = model311.evaluate(encoder_test311, test_out)"
      ],
      "metadata": {
        "colab": {
          "base_uri": "https://localhost:8080/"
        },
        "id": "t5iWr-bHvLTp",
        "outputId": "05f60803-1772-4b34-d729-e81a114928df"
      },
      "execution_count": null,
      "outputs": [
        {
          "output_type": "stream",
          "name": "stdout",
          "text": [
            "121/121 [==============================] - 0s 3ms/step - loss: 0.1561 - accuracy: 0.9584\n"
          ]
        }
      ]
    },
    {
      "cell_type": "code",
      "source": [
        "model312 = tf.keras.models.Sequential([\n",
        "    #tf.keras.layers.Flatten(input_shape=(28, 28), name='Input_Layer'),\n",
        "    tf.keras.layers.Dense(361, activation='sigmoid', name='Hidden_Layer_1'),\n",
        "    tf.keras.layers.Dense(289, activation='sigmoid', name='Hidden_Layer_2'),\n",
        "    tf.keras.layers.Dense(361, activation='sigmoid', name='Hidden_Layer_3'),\n",
        "    tf.keras.layers.Dense(10, activation='softmax', name='Output_Layer')\n",
        "])\n",
        "optimizer = tf.keras.optimizers.Adam(\n",
        "    learning_rate=0.001,\n",
        "    beta_1=0.9,\n",
        "    beta_2=0.999,\n",
        "    epsilon=1e-08,\n",
        "    name='Adam')\n",
        "model312.compile(optimizer=optimizer,\n",
        "             loss='sparse_categorical_crossentropy',\n",
        "             metrics=['accuracy'])\n",
        "callback = tf.keras.callbacks.EarlyStopping(monitor='loss',min_delta=0.0001,patience=10)\n",
        "trained = model312.fit(encoder_train311, tr_out, epochs=10000, callbacks=callback)\n",
        "loss, mse = model312.evaluate(encoder_val311, val_out)\n"
      ],
      "metadata": {
        "colab": {
          "base_uri": "https://localhost:8080/"
        },
        "id": "EAWDMyYfZvC8",
        "outputId": "92e62a84-f458-4a1a-f259-b870d2022778"
      },
      "execution_count": null,
      "outputs": [
        {
          "output_type": "stream",
          "name": "stdout",
          "text": [
            "Epoch 1/10000\n",
            "358/358 [==============================] - 2s 4ms/step - loss: 1.4287 - accuracy: 0.3398\n",
            "Epoch 2/10000\n",
            "358/358 [==============================] - 1s 4ms/step - loss: 0.6858 - accuracy: 0.7044\n",
            "Epoch 3/10000\n",
            "358/358 [==============================] - 1s 4ms/step - loss: 0.5473 - accuracy: 0.7888\n",
            "Epoch 4/10000\n",
            "358/358 [==============================] - 1s 4ms/step - loss: 0.4405 - accuracy: 0.8365\n",
            "Epoch 5/10000\n",
            "358/358 [==============================] - 1s 4ms/step - loss: 0.3846 - accuracy: 0.8625\n",
            "Epoch 6/10000\n",
            "358/358 [==============================] - 1s 4ms/step - loss: 0.3595 - accuracy: 0.8740\n",
            "Epoch 7/10000\n",
            "358/358 [==============================] - 2s 6ms/step - loss: 0.3332 - accuracy: 0.8878\n",
            "Epoch 8/10000\n",
            "358/358 [==============================] - 2s 7ms/step - loss: 0.3509 - accuracy: 0.8741\n",
            "Epoch 9/10000\n",
            "358/358 [==============================] - 2s 7ms/step - loss: 0.3216 - accuracy: 0.8887\n",
            "Epoch 10/10000\n",
            "358/358 [==============================] - 2s 6ms/step - loss: 0.3079 - accuracy: 0.8967\n",
            "Epoch 11/10000\n",
            "358/358 [==============================] - 2s 5ms/step - loss: 0.3127 - accuracy: 0.8927\n",
            "Epoch 12/10000\n",
            "358/358 [==============================] - 2s 4ms/step - loss: 0.2998 - accuracy: 0.8976\n",
            "Epoch 13/10000\n",
            "358/358 [==============================] - 2s 7ms/step - loss: 0.2947 - accuracy: 0.9009\n",
            "Epoch 14/10000\n",
            "358/358 [==============================] - 3s 7ms/step - loss: 0.2943 - accuracy: 0.8986\n",
            "Epoch 15/10000\n",
            "358/358 [==============================] - 2s 7ms/step - loss: 0.2845 - accuracy: 0.9027\n",
            "Epoch 16/10000\n",
            "358/358 [==============================] - 2s 4ms/step - loss: 0.2874 - accuracy: 0.9033\n",
            "Epoch 17/10000\n",
            "358/358 [==============================] - 1s 4ms/step - loss: 0.3248 - accuracy: 0.8949\n",
            "Epoch 18/10000\n",
            "358/358 [==============================] - 1s 4ms/step - loss: 0.2747 - accuracy: 0.9084\n",
            "Epoch 19/10000\n",
            "358/358 [==============================] - 1s 4ms/step - loss: 0.2654 - accuracy: 0.9121\n",
            "Epoch 20/10000\n",
            "358/358 [==============================] - 1s 4ms/step - loss: 0.2763 - accuracy: 0.9053\n",
            "Epoch 21/10000\n",
            "358/358 [==============================] - 1s 4ms/step - loss: 0.2630 - accuracy: 0.9102\n",
            "Epoch 22/10000\n",
            "358/358 [==============================] - 1s 4ms/step - loss: 0.2561 - accuracy: 0.9142\n",
            "Epoch 23/10000\n",
            "358/358 [==============================] - 1s 4ms/step - loss: 0.2621 - accuracy: 0.9110\n",
            "Epoch 24/10000\n",
            "358/358 [==============================] - 1s 4ms/step - loss: 0.2599 - accuracy: 0.9140\n",
            "Epoch 25/10000\n",
            "358/358 [==============================] - 1s 4ms/step - loss: 0.2650 - accuracy: 0.9109\n",
            "Epoch 26/10000\n",
            "358/358 [==============================] - 1s 4ms/step - loss: 0.2725 - accuracy: 0.9079\n",
            "Epoch 27/10000\n",
            "358/358 [==============================] - 1s 4ms/step - loss: 0.2510 - accuracy: 0.9140\n",
            "Epoch 28/10000\n",
            "358/358 [==============================] - 1s 4ms/step - loss: 0.2506 - accuracy: 0.9179\n",
            "Epoch 29/10000\n",
            "358/358 [==============================] - 1s 4ms/step - loss: 0.2402 - accuracy: 0.9187\n",
            "Epoch 30/10000\n",
            "358/358 [==============================] - 1s 4ms/step - loss: 0.2465 - accuracy: 0.9157\n",
            "Epoch 31/10000\n",
            "358/358 [==============================] - 1s 4ms/step - loss: 0.2395 - accuracy: 0.9195\n",
            "Epoch 32/10000\n",
            "358/358 [==============================] - 1s 4ms/step - loss: 0.2425 - accuracy: 0.9179\n",
            "Epoch 33/10000\n",
            "358/358 [==============================] - 1s 4ms/step - loss: 0.2416 - accuracy: 0.9199\n",
            "Epoch 34/10000\n",
            "358/358 [==============================] - 1s 4ms/step - loss: 0.2342 - accuracy: 0.9204\n",
            "Epoch 35/10000\n",
            "358/358 [==============================] - 1s 4ms/step - loss: 0.2325 - accuracy: 0.9222\n",
            "Epoch 36/10000\n",
            "358/358 [==============================] - 1s 4ms/step - loss: 0.2309 - accuracy: 0.9230\n",
            "Epoch 37/10000\n",
            "358/358 [==============================] - 1s 4ms/step - loss: 0.2365 - accuracy: 0.9213\n",
            "Epoch 38/10000\n",
            "358/358 [==============================] - 1s 4ms/step - loss: 0.2228 - accuracy: 0.9272\n",
            "Epoch 39/10000\n",
            "358/358 [==============================] - 1s 4ms/step - loss: 0.2233 - accuracy: 0.9266\n",
            "Epoch 40/10000\n",
            "358/358 [==============================] - 1s 4ms/step - loss: 0.2236 - accuracy: 0.9238\n",
            "Epoch 41/10000\n",
            "358/358 [==============================] - 1s 4ms/step - loss: 0.2260 - accuracy: 0.9233\n",
            "Epoch 42/10000\n",
            "358/358 [==============================] - 1s 4ms/step - loss: 0.2228 - accuracy: 0.9266\n",
            "Epoch 43/10000\n",
            "358/358 [==============================] - 1s 4ms/step - loss: 0.2299 - accuracy: 0.9210\n",
            "Epoch 44/10000\n",
            "358/358 [==============================] - 1s 4ms/step - loss: 0.2245 - accuracy: 0.9240\n",
            "Epoch 45/10000\n",
            "358/358 [==============================] - 1s 4ms/step - loss: 0.2188 - accuracy: 0.9288\n",
            "Epoch 46/10000\n",
            "358/358 [==============================] - 1s 4ms/step - loss: 0.2147 - accuracy: 0.9296\n",
            "Epoch 47/10000\n",
            "358/358 [==============================] - 1s 4ms/step - loss: 0.2162 - accuracy: 0.9291\n",
            "Epoch 48/10000\n",
            "358/358 [==============================] - 1s 4ms/step - loss: 0.2759 - accuracy: 0.9106\n",
            "Epoch 49/10000\n",
            "358/358 [==============================] - 1s 4ms/step - loss: 0.2106 - accuracy: 0.9296\n",
            "Epoch 50/10000\n",
            "358/358 [==============================] - 1s 4ms/step - loss: 0.2197 - accuracy: 0.9267\n",
            "Epoch 51/10000\n",
            "358/358 [==============================] - 1s 4ms/step - loss: 0.2151 - accuracy: 0.9298\n",
            "Epoch 52/10000\n",
            "358/358 [==============================] - 1s 4ms/step - loss: 0.2189 - accuracy: 0.9266\n",
            "Epoch 53/10000\n",
            "358/358 [==============================] - 1s 4ms/step - loss: 0.2129 - accuracy: 0.9302\n",
            "Epoch 54/10000\n",
            "358/358 [==============================] - 1s 4ms/step - loss: 0.2142 - accuracy: 0.9305\n",
            "Epoch 55/10000\n",
            "358/358 [==============================] - 1s 4ms/step - loss: 0.2119 - accuracy: 0.9286\n",
            "Epoch 56/10000\n",
            "358/358 [==============================] - 1s 4ms/step - loss: 0.2055 - accuracy: 0.9303\n",
            "Epoch 57/10000\n",
            "358/358 [==============================] - 1s 4ms/step - loss: 0.2029 - accuracy: 0.9326\n",
            "Epoch 58/10000\n",
            "358/358 [==============================] - 1s 4ms/step - loss: 0.2068 - accuracy: 0.9289\n",
            "Epoch 59/10000\n",
            "358/358 [==============================] - 1s 4ms/step - loss: 0.2091 - accuracy: 0.9283\n",
            "Epoch 60/10000\n",
            "358/358 [==============================] - 1s 4ms/step - loss: 0.2022 - accuracy: 0.9314\n",
            "Epoch 61/10000\n",
            "358/358 [==============================] - 1s 4ms/step - loss: 0.2029 - accuracy: 0.9323\n",
            "Epoch 62/10000\n",
            "358/358 [==============================] - 1s 4ms/step - loss: 0.2041 - accuracy: 0.9307\n",
            "Epoch 63/10000\n",
            "358/358 [==============================] - 1s 4ms/step - loss: 0.2076 - accuracy: 0.9304\n",
            "Epoch 64/10000\n",
            "358/358 [==============================] - 1s 4ms/step - loss: 0.2001 - accuracy: 0.9336\n",
            "Epoch 65/10000\n",
            "358/358 [==============================] - 1s 4ms/step - loss: 0.1942 - accuracy: 0.9358\n",
            "Epoch 66/10000\n",
            "358/358 [==============================] - 2s 4ms/step - loss: 0.2027 - accuracy: 0.9315\n",
            "Epoch 67/10000\n",
            "358/358 [==============================] - 3s 8ms/step - loss: 0.1879 - accuracy: 0.9392\n",
            "Epoch 68/10000\n",
            "358/358 [==============================] - 2s 6ms/step - loss: 0.1894 - accuracy: 0.9360\n",
            "Epoch 69/10000\n",
            "358/358 [==============================] - 1s 4ms/step - loss: 0.1882 - accuracy: 0.9363\n",
            "Epoch 70/10000\n",
            "358/358 [==============================] - 1s 4ms/step - loss: 0.1924 - accuracy: 0.9332\n",
            "Epoch 71/10000\n",
            "358/358 [==============================] - 1s 4ms/step - loss: 0.1830 - accuracy: 0.9369\n",
            "Epoch 72/10000\n",
            "358/358 [==============================] - 1s 4ms/step - loss: 0.1801 - accuracy: 0.9379\n",
            "Epoch 73/10000\n",
            "358/358 [==============================] - 1s 4ms/step - loss: 0.1812 - accuracy: 0.9372\n",
            "Epoch 74/10000\n",
            "358/358 [==============================] - 1s 4ms/step - loss: 0.1860 - accuracy: 0.9365\n",
            "Epoch 75/10000\n",
            "358/358 [==============================] - 1s 4ms/step - loss: 0.1741 - accuracy: 0.9427\n",
            "Epoch 76/10000\n",
            "358/358 [==============================] - 1s 4ms/step - loss: 0.1725 - accuracy: 0.9389\n",
            "Epoch 77/10000\n",
            "358/358 [==============================] - 1s 4ms/step - loss: 0.1742 - accuracy: 0.9398\n",
            "Epoch 78/10000\n",
            "358/358 [==============================] - 1s 4ms/step - loss: 0.1736 - accuracy: 0.9400\n",
            "Epoch 79/10000\n",
            "358/358 [==============================] - 1s 4ms/step - loss: 0.1720 - accuracy: 0.9403\n",
            "Epoch 80/10000\n",
            "358/358 [==============================] - 1s 4ms/step - loss: 0.1749 - accuracy: 0.9386\n",
            "Epoch 81/10000\n",
            "358/358 [==============================] - 2s 5ms/step - loss: 0.1718 - accuracy: 0.9421\n",
            "Epoch 82/10000\n",
            "358/358 [==============================] - 1s 4ms/step - loss: 0.1595 - accuracy: 0.9451\n",
            "Epoch 83/10000\n",
            "358/358 [==============================] - 1s 4ms/step - loss: 0.1620 - accuracy: 0.9418\n",
            "Epoch 84/10000\n",
            "358/358 [==============================] - 1s 4ms/step - loss: 0.1673 - accuracy: 0.9404\n",
            "Epoch 85/10000\n",
            "358/358 [==============================] - 1s 4ms/step - loss: 0.1617 - accuracy: 0.9424\n",
            "Epoch 86/10000\n",
            "358/358 [==============================] - 1s 4ms/step - loss: 0.1561 - accuracy: 0.9476\n",
            "Epoch 87/10000\n",
            "358/358 [==============================] - 1s 4ms/step - loss: 0.1569 - accuracy: 0.9470\n",
            "Epoch 88/10000\n",
            "358/358 [==============================] - 1s 4ms/step - loss: 0.1632 - accuracy: 0.9457\n",
            "Epoch 89/10000\n",
            "358/358 [==============================] - 1s 4ms/step - loss: 0.2226 - accuracy: 0.9212\n",
            "Epoch 90/10000\n",
            "358/358 [==============================] - 1s 4ms/step - loss: 0.1615 - accuracy: 0.9416\n",
            "Epoch 91/10000\n",
            "358/358 [==============================] - 1s 4ms/step - loss: 0.1766 - accuracy: 0.9397\n",
            "Epoch 92/10000\n",
            "358/358 [==============================] - 1s 4ms/step - loss: 0.1523 - accuracy: 0.9470\n",
            "Epoch 93/10000\n",
            "358/358 [==============================] - 1s 4ms/step - loss: 0.1575 - accuracy: 0.9454\n",
            "Epoch 94/10000\n",
            "358/358 [==============================] - 1s 4ms/step - loss: 0.1484 - accuracy: 0.9487\n",
            "Epoch 95/10000\n",
            "358/358 [==============================] - 1s 4ms/step - loss: 0.1494 - accuracy: 0.9491\n",
            "Epoch 96/10000\n",
            "358/358 [==============================] - 1s 4ms/step - loss: 0.1448 - accuracy: 0.9500\n",
            "Epoch 97/10000\n",
            "358/358 [==============================] - 1s 4ms/step - loss: 0.1586 - accuracy: 0.9427\n",
            "Epoch 98/10000\n",
            "358/358 [==============================] - 2s 6ms/step - loss: 0.1387 - accuracy: 0.9511\n",
            "Epoch 99/10000\n",
            "358/358 [==============================] - 2s 6ms/step - loss: 0.1466 - accuracy: 0.9472\n",
            "Epoch 100/10000\n",
            "358/358 [==============================] - 2s 6ms/step - loss: 0.1430 - accuracy: 0.9487\n",
            "Epoch 101/10000\n",
            "358/358 [==============================] - 2s 5ms/step - loss: 0.2712 - accuracy: 0.9075\n",
            "Epoch 102/10000\n",
            "358/358 [==============================] - 1s 4ms/step - loss: 0.1915 - accuracy: 0.9346\n",
            "Epoch 103/10000\n",
            "358/358 [==============================] - 1s 4ms/step - loss: 0.1858 - accuracy: 0.9372\n",
            "Epoch 104/10000\n",
            "358/358 [==============================] - 1s 4ms/step - loss: 0.1792 - accuracy: 0.9390\n",
            "Epoch 105/10000\n",
            "358/358 [==============================] - 1s 4ms/step - loss: 0.1675 - accuracy: 0.9433\n",
            "Epoch 106/10000\n",
            "358/358 [==============================] - 1s 4ms/step - loss: 0.1532 - accuracy: 0.9454\n",
            "Epoch 107/10000\n",
            "358/358 [==============================] - 1s 4ms/step - loss: 0.1526 - accuracy: 0.9471\n",
            "Epoch 108/10000\n",
            "358/358 [==============================] - 1s 4ms/step - loss: 0.1508 - accuracy: 0.9470\n",
            "121/121 [==============================] - 1s 3ms/step - loss: 0.1334 - accuracy: 0.9523\n"
          ]
        }
      ]
    },
    {
      "cell_type": "code",
      "source": [
        "model313 = tf.keras.models.Sequential([\n",
        "    #tf.keras.layers.Flatten(input_shape=(28, 28), name='Input_Layer'),\n",
        "    tf.keras.layers.Dense(400, activation='sigmoid', name='Hidden_Layer_1'),\n",
        "    tf.keras.layers.Dense(256, activation='sigmoid', name='Hidden_Layer_2'),\n",
        "    tf.keras.layers.Dense(400, activation='sigmoid', name='Hidden_Layer_3'),\n",
        "    tf.keras.layers.Dense(10, activation='softmax', name='Output_Layer')\n",
        "])\n",
        "optimizer = tf.keras.optimizers.Adam(\n",
        "    learning_rate=0.001,\n",
        "    beta_1=0.9,\n",
        "    beta_2=0.999,\n",
        "    epsilon=1e-08,\n",
        "    name='Adam')\n",
        "model313.compile(optimizer=optimizer,\n",
        "             loss='sparse_categorical_crossentropy',\n",
        "             metrics=['accuracy'])\n",
        "callback = tf.keras.callbacks.EarlyStopping(monitor='loss',min_delta=0.0001,patience=10)\n",
        "trained = model313.fit(encoder_train311, tr_out, epochs=10000, callbacks=callback)\n",
        "loss, mse = model313.evaluate(encoder_val311, val_out)\n"
      ],
      "metadata": {
        "colab": {
          "base_uri": "https://localhost:8080/"
        },
        "id": "6xr53BlTZvQD",
        "outputId": "7a3ea9b0-f3c5-4871-924d-e0528e5a8a27"
      },
      "execution_count": null,
      "outputs": [
        {
          "output_type": "stream",
          "name": "stdout",
          "text": [
            "Epoch 1/10000\n",
            "358/358 [==============================] - 2s 4ms/step - loss: 1.4234 - accuracy: 0.3351\n",
            "Epoch 2/10000\n",
            "358/358 [==============================] - 1s 4ms/step - loss: 0.7580 - accuracy: 0.6544\n",
            "Epoch 3/10000\n",
            "358/358 [==============================] - 1s 4ms/step - loss: 0.5465 - accuracy: 0.7790\n",
            "Epoch 4/10000\n",
            "358/358 [==============================] - 1s 4ms/step - loss: 0.4263 - accuracy: 0.8494\n",
            "Epoch 5/10000\n",
            "358/358 [==============================] - 1s 4ms/step - loss: 0.4018 - accuracy: 0.8546\n",
            "Epoch 6/10000\n",
            "358/358 [==============================] - 1s 4ms/step - loss: 0.3494 - accuracy: 0.8777\n",
            "Epoch 7/10000\n",
            "358/358 [==============================] - 1s 4ms/step - loss: 0.3412 - accuracy: 0.8827\n",
            "Epoch 8/10000\n",
            "358/358 [==============================] - 1s 4ms/step - loss: 0.3301 - accuracy: 0.8849\n",
            "Epoch 9/10000\n",
            "358/358 [==============================] - 1s 4ms/step - loss: 0.3316 - accuracy: 0.8854\n",
            "Epoch 10/10000\n",
            "358/358 [==============================] - 1s 4ms/step - loss: 0.3140 - accuracy: 0.8923\n",
            "Epoch 11/10000\n",
            "358/358 [==============================] - 1s 4ms/step - loss: 0.3163 - accuracy: 0.8903\n",
            "Epoch 12/10000\n",
            "358/358 [==============================] - 1s 4ms/step - loss: 0.2998 - accuracy: 0.8981\n",
            "Epoch 13/10000\n",
            "358/358 [==============================] - 1s 4ms/step - loss: 0.2923 - accuracy: 0.8990\n",
            "Epoch 14/10000\n",
            "358/358 [==============================] - 1s 4ms/step - loss: 0.2818 - accuracy: 0.9057\n",
            "Epoch 15/10000\n",
            "358/358 [==============================] - 1s 4ms/step - loss: 0.2903 - accuracy: 0.9030\n",
            "Epoch 16/10000\n",
            "358/358 [==============================] - 1s 4ms/step - loss: 0.2968 - accuracy: 0.8997\n",
            "Epoch 17/10000\n",
            "358/358 [==============================] - 1s 4ms/step - loss: 0.2862 - accuracy: 0.9034\n",
            "Epoch 18/10000\n",
            "358/358 [==============================] - 1s 4ms/step - loss: 0.2741 - accuracy: 0.9065\n",
            "Epoch 19/10000\n",
            "358/358 [==============================] - 1s 4ms/step - loss: 0.2795 - accuracy: 0.9056\n",
            "Epoch 20/10000\n",
            "358/358 [==============================] - 1s 4ms/step - loss: 0.2644 - accuracy: 0.9121\n",
            "Epoch 21/10000\n",
            "358/358 [==============================] - 1s 4ms/step - loss: 0.2697 - accuracy: 0.9068\n",
            "Epoch 22/10000\n",
            "358/358 [==============================] - 1s 4ms/step - loss: 0.2624 - accuracy: 0.9107\n",
            "Epoch 23/10000\n",
            "358/358 [==============================] - 1s 4ms/step - loss: 0.2654 - accuracy: 0.9088\n",
            "Epoch 24/10000\n",
            "358/358 [==============================] - 1s 4ms/step - loss: 0.2650 - accuracy: 0.9105\n",
            "Epoch 25/10000\n",
            "358/358 [==============================] - 1s 4ms/step - loss: 0.2596 - accuracy: 0.9152\n",
            "Epoch 26/10000\n",
            "358/358 [==============================] - 1s 4ms/step - loss: 0.2493 - accuracy: 0.9151\n",
            "Epoch 27/10000\n",
            "358/358 [==============================] - 1s 4ms/step - loss: 0.2428 - accuracy: 0.9172\n",
            "Epoch 28/10000\n",
            "358/358 [==============================] - 1s 4ms/step - loss: 0.2481 - accuracy: 0.9153\n",
            "Epoch 29/10000\n",
            "358/358 [==============================] - 1s 4ms/step - loss: 0.2478 - accuracy: 0.9154\n",
            "Epoch 30/10000\n",
            "358/358 [==============================] - 1s 4ms/step - loss: 0.2516 - accuracy: 0.9173\n",
            "Epoch 31/10000\n",
            "358/358 [==============================] - 1s 4ms/step - loss: 0.2362 - accuracy: 0.9214\n",
            "Epoch 32/10000\n",
            "358/358 [==============================] - 1s 4ms/step - loss: 0.2431 - accuracy: 0.9185\n",
            "Epoch 33/10000\n",
            "358/358 [==============================] - 1s 4ms/step - loss: 0.2359 - accuracy: 0.9190\n",
            "Epoch 34/10000\n",
            "358/358 [==============================] - 1s 4ms/step - loss: 0.2379 - accuracy: 0.9203\n",
            "Epoch 35/10000\n",
            "358/358 [==============================] - 1s 4ms/step - loss: 0.2366 - accuracy: 0.9222\n",
            "Epoch 36/10000\n",
            "358/358 [==============================] - 1s 4ms/step - loss: 0.2342 - accuracy: 0.9228\n",
            "Epoch 37/10000\n",
            "358/358 [==============================] - 1s 4ms/step - loss: 0.2314 - accuracy: 0.9230\n",
            "Epoch 38/10000\n",
            "358/358 [==============================] - 2s 5ms/step - loss: 0.2298 - accuracy: 0.9246\n",
            "Epoch 39/10000\n",
            "358/358 [==============================] - 1s 4ms/step - loss: 0.2306 - accuracy: 0.9241\n",
            "Epoch 40/10000\n",
            "358/358 [==============================] - 1s 4ms/step - loss: 0.2351 - accuracy: 0.9178\n",
            "Epoch 41/10000\n",
            "358/358 [==============================] - 1s 4ms/step - loss: 0.2178 - accuracy: 0.9290\n",
            "Epoch 42/10000\n",
            "358/358 [==============================] - 1s 4ms/step - loss: 0.2219 - accuracy: 0.9256\n",
            "Epoch 43/10000\n",
            "358/358 [==============================] - 1s 4ms/step - loss: 0.2184 - accuracy: 0.9278\n",
            "Epoch 44/10000\n",
            "358/358 [==============================] - 1s 4ms/step - loss: 0.2294 - accuracy: 0.9212\n",
            "Epoch 45/10000\n",
            "358/358 [==============================] - 1s 4ms/step - loss: 0.2147 - accuracy: 0.9283\n",
            "Epoch 46/10000\n",
            "358/358 [==============================] - 1s 4ms/step - loss: 0.2229 - accuracy: 0.9248\n",
            "Epoch 47/10000\n",
            "358/358 [==============================] - 1s 4ms/step - loss: 0.2134 - accuracy: 0.9293\n",
            "Epoch 48/10000\n",
            "358/358 [==============================] - 1s 4ms/step - loss: 0.2268 - accuracy: 0.9217\n",
            "Epoch 49/10000\n",
            "358/358 [==============================] - 1s 4ms/step - loss: 0.2158 - accuracy: 0.9299\n",
            "Epoch 50/10000\n",
            "358/358 [==============================] - 1s 4ms/step - loss: 0.2167 - accuracy: 0.9263\n",
            "Epoch 51/10000\n",
            "358/358 [==============================] - 1s 4ms/step - loss: 0.2105 - accuracy: 0.9291\n",
            "Epoch 52/10000\n",
            "358/358 [==============================] - 1s 4ms/step - loss: 0.2153 - accuracy: 0.9296\n",
            "Epoch 53/10000\n",
            "358/358 [==============================] - 1s 4ms/step - loss: 0.2149 - accuracy: 0.9273\n",
            "Epoch 54/10000\n",
            "358/358 [==============================] - 1s 4ms/step - loss: 0.2083 - accuracy: 0.9302\n",
            "Epoch 55/10000\n",
            "358/358 [==============================] - 1s 4ms/step - loss: 0.2121 - accuracy: 0.9288\n",
            "Epoch 56/10000\n",
            "358/358 [==============================] - 1s 4ms/step - loss: 0.2074 - accuracy: 0.9305\n",
            "Epoch 57/10000\n",
            "358/358 [==============================] - 1s 4ms/step - loss: 0.2022 - accuracy: 0.9313\n",
            "Epoch 58/10000\n",
            "358/358 [==============================] - 1s 4ms/step - loss: 0.2034 - accuracy: 0.9303\n",
            "Epoch 59/10000\n",
            "358/358 [==============================] - 1s 4ms/step - loss: 0.2015 - accuracy: 0.9335\n",
            "Epoch 60/10000\n",
            "358/358 [==============================] - 1s 4ms/step - loss: 0.1995 - accuracy: 0.9335\n",
            "Epoch 61/10000\n",
            "358/358 [==============================] - 1s 4ms/step - loss: 0.2138 - accuracy: 0.9281\n",
            "Epoch 62/10000\n",
            "358/358 [==============================] - 1s 4ms/step - loss: 0.1949 - accuracy: 0.9341\n",
            "Epoch 63/10000\n",
            "358/358 [==============================] - 1s 4ms/step - loss: 0.2002 - accuracy: 0.9342\n",
            "Epoch 64/10000\n",
            "358/358 [==============================] - 1s 4ms/step - loss: 0.1947 - accuracy: 0.9345\n",
            "Epoch 65/10000\n",
            "358/358 [==============================] - 1s 4ms/step - loss: 0.1916 - accuracy: 0.9331\n",
            "Epoch 66/10000\n",
            "358/358 [==============================] - 1s 4ms/step - loss: 0.1918 - accuracy: 0.9353\n",
            "Epoch 67/10000\n",
            "358/358 [==============================] - 1s 4ms/step - loss: 0.1928 - accuracy: 0.9355\n",
            "Epoch 68/10000\n",
            "358/358 [==============================] - 1s 4ms/step - loss: 0.1888 - accuracy: 0.9365\n",
            "Epoch 69/10000\n",
            "358/358 [==============================] - 1s 4ms/step - loss: 0.1916 - accuracy: 0.9351\n",
            "Epoch 70/10000\n",
            "358/358 [==============================] - 1s 4ms/step - loss: 0.2586 - accuracy: 0.9122\n",
            "Epoch 71/10000\n",
            "358/358 [==============================] - 1s 4ms/step - loss: 0.1888 - accuracy: 0.9342\n",
            "Epoch 72/10000\n",
            "358/358 [==============================] - 1s 4ms/step - loss: 0.1878 - accuracy: 0.9360\n",
            "Epoch 73/10000\n",
            "358/358 [==============================] - 1s 4ms/step - loss: 0.1800 - accuracy: 0.9392\n",
            "Epoch 74/10000\n",
            "358/358 [==============================] - 1s 4ms/step - loss: 0.1766 - accuracy: 0.9403\n",
            "Epoch 75/10000\n",
            "358/358 [==============================] - 1s 4ms/step - loss: 0.1752 - accuracy: 0.9387\n",
            "Epoch 76/10000\n",
            "358/358 [==============================] - 1s 4ms/step - loss: 0.2419 - accuracy: 0.9208\n",
            "Epoch 77/10000\n",
            "358/358 [==============================] - 1s 4ms/step - loss: 0.1775 - accuracy: 0.9385\n",
            "Epoch 78/10000\n",
            "358/358 [==============================] - 1s 4ms/step - loss: 0.1690 - accuracy: 0.9419\n",
            "Epoch 79/10000\n",
            "358/358 [==============================] - 1s 4ms/step - loss: 0.1636 - accuracy: 0.9435\n",
            "Epoch 80/10000\n",
            "358/358 [==============================] - 1s 4ms/step - loss: 0.1789 - accuracy: 0.9382\n",
            "Epoch 81/10000\n",
            "358/358 [==============================] - 1s 4ms/step - loss: 0.1601 - accuracy: 0.9443\n",
            "Epoch 82/10000\n",
            "358/358 [==============================] - 1s 4ms/step - loss: 0.1697 - accuracy: 0.9409\n",
            "Epoch 83/10000\n",
            "358/358 [==============================] - 1s 4ms/step - loss: 0.2052 - accuracy: 0.9314\n",
            "Epoch 84/10000\n",
            "358/358 [==============================] - 1s 4ms/step - loss: 0.1616 - accuracy: 0.9442\n",
            "Epoch 85/10000\n",
            "358/358 [==============================] - 1s 4ms/step - loss: 0.1591 - accuracy: 0.9469\n",
            "Epoch 86/10000\n",
            "358/358 [==============================] - 1s 4ms/step - loss: 0.1636 - accuracy: 0.9441\n",
            "Epoch 87/10000\n",
            "358/358 [==============================] - 1s 4ms/step - loss: 0.1574 - accuracy: 0.9459\n",
            "Epoch 88/10000\n",
            "358/358 [==============================] - 1s 4ms/step - loss: 0.1631 - accuracy: 0.9456\n",
            "Epoch 89/10000\n",
            "358/358 [==============================] - 1s 4ms/step - loss: 0.1630 - accuracy: 0.9435\n",
            "Epoch 90/10000\n",
            "358/358 [==============================] - 1s 4ms/step - loss: 0.1578 - accuracy: 0.9463\n",
            "Epoch 91/10000\n",
            "358/358 [==============================] - 1s 4ms/step - loss: 0.1539 - accuracy: 0.9477\n",
            "Epoch 92/10000\n",
            "358/358 [==============================] - 1s 4ms/step - loss: 0.1532 - accuracy: 0.9491\n",
            "Epoch 93/10000\n",
            "358/358 [==============================] - 1s 4ms/step - loss: 0.1546 - accuracy: 0.9474\n",
            "Epoch 94/10000\n",
            "358/358 [==============================] - 1s 4ms/step - loss: 0.1502 - accuracy: 0.9488\n",
            "Epoch 95/10000\n",
            "358/358 [==============================] - 1s 4ms/step - loss: 0.1505 - accuracy: 0.9477\n",
            "Epoch 96/10000\n",
            "358/358 [==============================] - 1s 4ms/step - loss: 0.1516 - accuracy: 0.9478\n",
            "Epoch 97/10000\n",
            "358/358 [==============================] - 1s 4ms/step - loss: 0.1526 - accuracy: 0.9470\n",
            "Epoch 98/10000\n",
            "358/358 [==============================] - 1s 4ms/step - loss: 0.1486 - accuracy: 0.9477\n",
            "Epoch 99/10000\n",
            "358/358 [==============================] - 1s 4ms/step - loss: 0.1589 - accuracy: 0.9456\n",
            "Epoch 100/10000\n",
            "358/358 [==============================] - 1s 4ms/step - loss: 0.1457 - accuracy: 0.9498\n",
            "Epoch 101/10000\n",
            "358/358 [==============================] - 1s 4ms/step - loss: 0.1464 - accuracy: 0.9485\n",
            "Epoch 102/10000\n",
            "358/358 [==============================] - 1s 4ms/step - loss: 0.1512 - accuracy: 0.9479\n",
            "Epoch 103/10000\n",
            "358/358 [==============================] - 1s 4ms/step - loss: 0.1408 - accuracy: 0.9498\n",
            "Epoch 104/10000\n",
            "358/358 [==============================] - 1s 4ms/step - loss: 0.1418 - accuracy: 0.9505\n",
            "Epoch 105/10000\n",
            "358/358 [==============================] - 1s 4ms/step - loss: 0.1454 - accuracy: 0.9491\n",
            "Epoch 106/10000\n",
            "358/358 [==============================] - 1s 4ms/step - loss: 0.1426 - accuracy: 0.9480\n",
            "Epoch 107/10000\n",
            "358/358 [==============================] - 1s 4ms/step - loss: 0.1366 - accuracy: 0.9522\n",
            "Epoch 108/10000\n",
            "358/358 [==============================] - 1s 4ms/step - loss: 0.1439 - accuracy: 0.9486\n",
            "Epoch 109/10000\n",
            "358/358 [==============================] - 1s 4ms/step - loss: 0.1358 - accuracy: 0.9508\n",
            "Epoch 110/10000\n",
            "358/358 [==============================] - 1s 4ms/step - loss: 0.1273 - accuracy: 0.9554\n",
            "Epoch 111/10000\n",
            "358/358 [==============================] - 1s 4ms/step - loss: 0.1336 - accuracy: 0.9524\n",
            "Epoch 112/10000\n",
            "358/358 [==============================] - 1s 4ms/step - loss: 0.1342 - accuracy: 0.9512\n",
            "Epoch 113/10000\n",
            "358/358 [==============================] - 1s 4ms/step - loss: 0.1367 - accuracy: 0.9540\n",
            "Epoch 114/10000\n",
            "358/358 [==============================] - 1s 4ms/step - loss: 0.1299 - accuracy: 0.9547\n",
            "Epoch 115/10000\n",
            "358/358 [==============================] - 1s 4ms/step - loss: 0.1300 - accuracy: 0.9540\n",
            "Epoch 116/10000\n",
            "358/358 [==============================] - 1s 4ms/step - loss: 0.1383 - accuracy: 0.9524\n",
            "Epoch 117/10000\n",
            "358/358 [==============================] - 2s 4ms/step - loss: 0.1267 - accuracy: 0.9569\n",
            "Epoch 118/10000\n",
            "358/358 [==============================] - 2s 4ms/step - loss: 0.1255 - accuracy: 0.9556\n",
            "Epoch 119/10000\n",
            "358/358 [==============================] - 1s 4ms/step - loss: 0.1231 - accuracy: 0.9549\n",
            "Epoch 120/10000\n",
            "358/358 [==============================] - 1s 4ms/step - loss: 0.1237 - accuracy: 0.9548\n",
            "Epoch 121/10000\n",
            "358/358 [==============================] - 1s 4ms/step - loss: 0.1216 - accuracy: 0.9563\n",
            "Epoch 122/10000\n",
            "358/358 [==============================] - 1s 4ms/step - loss: 0.1291 - accuracy: 0.9532\n",
            "Epoch 123/10000\n",
            "358/358 [==============================] - 1s 4ms/step - loss: 0.1251 - accuracy: 0.9534\n",
            "Epoch 124/10000\n",
            "358/358 [==============================] - 1s 4ms/step - loss: 0.1176 - accuracy: 0.9599\n",
            "Epoch 125/10000\n",
            "358/358 [==============================] - 1s 4ms/step - loss: 0.1164 - accuracy: 0.9581\n",
            "Epoch 126/10000\n",
            "358/358 [==============================] - 1s 4ms/step - loss: 0.1152 - accuracy: 0.9601\n",
            "Epoch 127/10000\n",
            "358/358 [==============================] - 1s 4ms/step - loss: 0.1167 - accuracy: 0.9587\n",
            "Epoch 128/10000\n",
            "358/358 [==============================] - 1s 4ms/step - loss: 0.1171 - accuracy: 0.9568\n",
            "Epoch 129/10000\n",
            "358/358 [==============================] - 1s 4ms/step - loss: 0.1191 - accuracy: 0.9555\n",
            "Epoch 130/10000\n",
            "358/358 [==============================] - 1s 4ms/step - loss: 0.1188 - accuracy: 0.9568\n",
            "Epoch 131/10000\n",
            "358/358 [==============================] - 1s 4ms/step - loss: 0.1201 - accuracy: 0.9561\n",
            "Epoch 132/10000\n",
            "358/358 [==============================] - 1s 4ms/step - loss: 0.1083 - accuracy: 0.9619\n",
            "Epoch 133/10000\n",
            "358/358 [==============================] - 1s 4ms/step - loss: 0.1095 - accuracy: 0.9609\n",
            "Epoch 134/10000\n",
            "358/358 [==============================] - 1s 4ms/step - loss: 0.1036 - accuracy: 0.9624\n",
            "Epoch 135/10000\n",
            "358/358 [==============================] - 1s 4ms/step - loss: 0.1080 - accuracy: 0.9619\n",
            "Epoch 136/10000\n",
            "358/358 [==============================] - 1s 4ms/step - loss: 0.1132 - accuracy: 0.9596\n",
            "Epoch 137/10000\n",
            "358/358 [==============================] - 1s 4ms/step - loss: 0.1116 - accuracy: 0.9591\n",
            "Epoch 138/10000\n",
            "358/358 [==============================] - 1s 4ms/step - loss: 0.1033 - accuracy: 0.9619\n",
            "Epoch 139/10000\n",
            "358/358 [==============================] - 1s 4ms/step - loss: 0.1088 - accuracy: 0.9604\n",
            "Epoch 140/10000\n",
            "358/358 [==============================] - 1s 4ms/step - loss: 0.1030 - accuracy: 0.9628\n",
            "Epoch 141/10000\n",
            "358/358 [==============================] - 1s 4ms/step - loss: 0.1072 - accuracy: 0.9592\n",
            "Epoch 142/10000\n",
            "358/358 [==============================] - 1s 4ms/step - loss: 0.1062 - accuracy: 0.9618\n",
            "Epoch 143/10000\n",
            "358/358 [==============================] - 1s 4ms/step - loss: 0.1024 - accuracy: 0.9628\n",
            "Epoch 144/10000\n",
            "358/358 [==============================] - 1s 4ms/step - loss: 0.1101 - accuracy: 0.9595\n",
            "Epoch 145/10000\n",
            "358/358 [==============================] - 1s 4ms/step - loss: 0.1013 - accuracy: 0.9636\n",
            "Epoch 146/10000\n",
            "358/358 [==============================] - 1s 4ms/step - loss: 0.1016 - accuracy: 0.9643\n",
            "Epoch 147/10000\n",
            "358/358 [==============================] - 1s 4ms/step - loss: 0.1003 - accuracy: 0.9643\n",
            "Epoch 148/10000\n",
            "358/358 [==============================] - 1s 4ms/step - loss: 0.0967 - accuracy: 0.9663\n",
            "Epoch 149/10000\n",
            "358/358 [==============================] - 1s 4ms/step - loss: 0.1004 - accuracy: 0.9639\n",
            "Epoch 150/10000\n",
            "358/358 [==============================] - 1s 4ms/step - loss: 0.0959 - accuracy: 0.9649\n",
            "Epoch 151/10000\n",
            "358/358 [==============================] - 1s 4ms/step - loss: 0.0999 - accuracy: 0.9626\n",
            "Epoch 152/10000\n",
            "358/358 [==============================] - 1s 4ms/step - loss: 0.0950 - accuracy: 0.9653\n",
            "Epoch 153/10000\n",
            "358/358 [==============================] - 1s 4ms/step - loss: 0.1045 - accuracy: 0.9618\n",
            "Epoch 154/10000\n",
            "358/358 [==============================] - 1s 4ms/step - loss: 0.0960 - accuracy: 0.9650\n",
            "Epoch 155/10000\n",
            "358/358 [==============================] - 1s 4ms/step - loss: 0.0920 - accuracy: 0.9676\n",
            "Epoch 156/10000\n",
            "358/358 [==============================] - 1s 4ms/step - loss: 0.0960 - accuracy: 0.9655\n",
            "Epoch 157/10000\n",
            "358/358 [==============================] - 1s 4ms/step - loss: 0.0903 - accuracy: 0.9668\n",
            "Epoch 158/10000\n",
            "358/358 [==============================] - 1s 4ms/step - loss: 0.0953 - accuracy: 0.9641\n",
            "Epoch 159/10000\n",
            "358/358 [==============================] - 1s 4ms/step - loss: 0.0921 - accuracy: 0.9650\n",
            "Epoch 160/10000\n",
            "358/358 [==============================] - 1s 4ms/step - loss: 0.1094 - accuracy: 0.9613\n",
            "Epoch 161/10000\n",
            "358/358 [==============================] - 1s 4ms/step - loss: 0.0868 - accuracy: 0.9685\n",
            "Epoch 162/10000\n",
            "358/358 [==============================] - 1s 4ms/step - loss: 0.0923 - accuracy: 0.9662\n",
            "Epoch 163/10000\n",
            "358/358 [==============================] - 2s 5ms/step - loss: 0.0812 - accuracy: 0.9695\n",
            "Epoch 164/10000\n",
            "358/358 [==============================] - 1s 4ms/step - loss: 0.0899 - accuracy: 0.9677\n",
            "Epoch 165/10000\n",
            "358/358 [==============================] - 1s 4ms/step - loss: 0.0780 - accuracy: 0.9735\n",
            "Epoch 166/10000\n",
            "358/358 [==============================] - 1s 4ms/step - loss: 0.0856 - accuracy: 0.9674\n",
            "Epoch 167/10000\n",
            "358/358 [==============================] - 1s 4ms/step - loss: 0.0891 - accuracy: 0.9679\n",
            "Epoch 168/10000\n",
            "358/358 [==============================] - 1s 4ms/step - loss: 0.0858 - accuracy: 0.9669\n",
            "Epoch 169/10000\n",
            "358/358 [==============================] - 1s 4ms/step - loss: 0.0809 - accuracy: 0.9688\n",
            "Epoch 170/10000\n",
            "358/358 [==============================] - 1s 4ms/step - loss: 0.0809 - accuracy: 0.9691\n",
            "Epoch 171/10000\n",
            "358/358 [==============================] - 1s 4ms/step - loss: 0.0819 - accuracy: 0.9702\n",
            "Epoch 172/10000\n",
            "358/358 [==============================] - 1s 4ms/step - loss: 0.0766 - accuracy: 0.9715\n",
            "Epoch 173/10000\n",
            "358/358 [==============================] - 1s 4ms/step - loss: 0.1795 - accuracy: 0.9407\n",
            "Epoch 174/10000\n",
            "358/358 [==============================] - 1s 4ms/step - loss: 0.1008 - accuracy: 0.9647\n",
            "Epoch 175/10000\n",
            "358/358 [==============================] - 1s 4ms/step - loss: 0.0951 - accuracy: 0.9653\n",
            "Epoch 176/10000\n",
            "358/358 [==============================] - 1s 4ms/step - loss: 0.0853 - accuracy: 0.9688\n",
            "Epoch 177/10000\n",
            "358/358 [==============================] - 1s 4ms/step - loss: 0.0763 - accuracy: 0.9725\n",
            "Epoch 178/10000\n",
            "358/358 [==============================] - 1s 4ms/step - loss: 0.0814 - accuracy: 0.9702\n",
            "Epoch 179/10000\n",
            "358/358 [==============================] - 1s 4ms/step - loss: 0.0834 - accuracy: 0.9702\n",
            "Epoch 180/10000\n",
            "358/358 [==============================] - 1s 4ms/step - loss: 0.0734 - accuracy: 0.9736\n",
            "Epoch 181/10000\n",
            "358/358 [==============================] - 1s 4ms/step - loss: 0.0748 - accuracy: 0.9709\n",
            "Epoch 182/10000\n",
            "358/358 [==============================] - 1s 4ms/step - loss: 0.0743 - accuracy: 0.9730\n",
            "Epoch 183/10000\n",
            "358/358 [==============================] - 1s 4ms/step - loss: 0.0836 - accuracy: 0.9711\n",
            "Epoch 184/10000\n",
            "358/358 [==============================] - 1s 4ms/step - loss: 0.0751 - accuracy: 0.9717\n",
            "Epoch 185/10000\n",
            "358/358 [==============================] - 1s 4ms/step - loss: 0.0781 - accuracy: 0.9709\n",
            "Epoch 186/10000\n",
            "358/358 [==============================] - 1s 4ms/step - loss: 0.0781 - accuracy: 0.9709\n",
            "Epoch 187/10000\n",
            "358/358 [==============================] - 1s 4ms/step - loss: 0.0704 - accuracy: 0.9748\n",
            "Epoch 188/10000\n",
            "358/358 [==============================] - 1s 4ms/step - loss: 0.0736 - accuracy: 0.9734\n",
            "Epoch 189/10000\n",
            "358/358 [==============================] - 1s 4ms/step - loss: 0.0749 - accuracy: 0.9725\n",
            "Epoch 190/10000\n",
            "358/358 [==============================] - 1s 4ms/step - loss: 0.0677 - accuracy: 0.9748\n",
            "Epoch 191/10000\n",
            "358/358 [==============================] - 1s 4ms/step - loss: 0.0724 - accuracy: 0.9730\n",
            "Epoch 192/10000\n",
            "358/358 [==============================] - 1s 4ms/step - loss: 0.0687 - accuracy: 0.9749\n",
            "Epoch 193/10000\n",
            "358/358 [==============================] - 1s 4ms/step - loss: 0.0698 - accuracy: 0.9737\n",
            "Epoch 194/10000\n",
            "358/358 [==============================] - 1s 4ms/step - loss: 0.0640 - accuracy: 0.9771\n",
            "Epoch 195/10000\n",
            "358/358 [==============================] - 1s 4ms/step - loss: 0.0693 - accuracy: 0.9734\n",
            "Epoch 196/10000\n",
            "358/358 [==============================] - 1s 4ms/step - loss: 0.0673 - accuracy: 0.9748\n",
            "Epoch 197/10000\n",
            "358/358 [==============================] - 1s 4ms/step - loss: 0.0660 - accuracy: 0.9762\n",
            "Epoch 198/10000\n",
            "358/358 [==============================] - 1s 4ms/step - loss: 0.0722 - accuracy: 0.9738\n",
            "Epoch 199/10000\n",
            "358/358 [==============================] - 1s 4ms/step - loss: 0.0628 - accuracy: 0.9763\n",
            "Epoch 200/10000\n",
            "358/358 [==============================] - 1s 4ms/step - loss: 0.0568 - accuracy: 0.9790\n",
            "Epoch 201/10000\n",
            "358/358 [==============================] - 1s 4ms/step - loss: 0.0591 - accuracy: 0.9785\n",
            "Epoch 202/10000\n",
            "358/358 [==============================] - 1s 4ms/step - loss: 0.0596 - accuracy: 0.9774\n",
            "Epoch 203/10000\n",
            "358/358 [==============================] - 1s 4ms/step - loss: 0.0522 - accuracy: 0.9817\n",
            "Epoch 204/10000\n",
            "358/358 [==============================] - 1s 4ms/step - loss: 0.0647 - accuracy: 0.9779\n",
            "Epoch 205/10000\n",
            "358/358 [==============================] - 1s 4ms/step - loss: 0.0612 - accuracy: 0.9779\n",
            "Epoch 206/10000\n",
            "358/358 [==============================] - 1s 4ms/step - loss: 0.2403 - accuracy: 0.9182\n",
            "Epoch 207/10000\n",
            "358/358 [==============================] - 1s 4ms/step - loss: 0.1443 - accuracy: 0.9526\n",
            "Epoch 208/10000\n",
            "358/358 [==============================] - 1s 4ms/step - loss: 0.1226 - accuracy: 0.9584\n",
            "Epoch 209/10000\n",
            "358/358 [==============================] - 1s 4ms/step - loss: 0.1091 - accuracy: 0.9641\n",
            "Epoch 210/10000\n",
            "358/358 [==============================] - 1s 4ms/step - loss: 0.1036 - accuracy: 0.9639\n",
            "Epoch 211/10000\n",
            "358/358 [==============================] - 1s 4ms/step - loss: 0.1005 - accuracy: 0.9655\n",
            "Epoch 212/10000\n",
            "358/358 [==============================] - 1s 4ms/step - loss: 0.0913 - accuracy: 0.9690\n",
            "Epoch 213/10000\n",
            "358/358 [==============================] - 1s 4ms/step - loss: 0.0856 - accuracy: 0.9707\n",
            "121/121 [==============================] - 1s 3ms/step - loss: 0.1227 - accuracy: 0.9595\n"
          ]
        }
      ]
    },
    {
      "cell_type": "code",
      "source": [
        "weight31 = Autoencoder31.layers[2].get_weights()\n",
        "weight31[0].shape\n"
      ],
      "metadata": {
        "colab": {
          "base_uri": "https://localhost:8080/"
        },
        "id": "aYCPu-aXZvgL",
        "outputId": "639d8e7c-2eba-440a-886a-70d780315e70"
      },
      "execution_count": null,
      "outputs": [
        {
          "output_type": "execute_result",
          "data": {
            "text/plain": [
              "(784, 144)"
            ]
          },
          "metadata": {},
          "execution_count": 41
        }
      ]
    },
    {
      "cell_type": "code",
      "source": [
        "w31 = []\n",
        "\n",
        "for w in weight31[0].T:\n",
        "    w31.append(w.reshape(28, 28))\n",
        "    \n",
        "w31 = np.array(w31)\n",
        "w31.shape\n"
      ],
      "metadata": {
        "colab": {
          "base_uri": "https://localhost:8080/"
        },
        "id": "Ua7mk5oaZwuS",
        "outputId": "e2b7bf2e-6873-4d85-e71b-4ea549c54c31"
      },
      "execution_count": null,
      "outputs": [
        {
          "output_type": "execute_result",
          "data": {
            "text/plain": [
              "(144, 28, 28)"
            ]
          },
          "metadata": {},
          "execution_count": 42
        }
      ]
    },
    {
      "cell_type": "code",
      "source": [
        "n = 9\n",
        "plt.figure(figsize=(25, 25))\n",
        "for i in range(n):\n",
        "    k = np.random.randint(0, 144)\n",
        "    ax = plt.subplot(3, 3, i+1)\n",
        "    plt.title(\"Node no: \"+str(k))\n",
        "    plt.imshow(w31[k], cmap='gray')\n",
        "    plt.savefig(\"/content/drive/MyDrive/autoencoder_output/weight_img31\"+str(np.random.randint(1, 100000))+\".png\")\n",
        "plt.show"
      ],
      "metadata": {
        "colab": {
          "base_uri": "https://localhost:8080/",
          "height": 1000
        },
        "id": "Xrwx6V94Zw4O",
        "outputId": "f34630ed-41cb-439d-9936-125d44786839"
      },
      "execution_count": null,
      "outputs": [
        {
          "output_type": "execute_result",
          "data": {
            "text/plain": [
              "<function matplotlib.pyplot.show>"
            ]
          },
          "metadata": {},
          "execution_count": 43
        },
        {
          "output_type": "display_data",
          "data": {
            "text/plain": [
              "<Figure size 1800x1800 with 9 Axes>"
            ],
            "image/png": "[encoded data removed]"
          },
          "metadata": {
            "needs_background": "light"
          }
        }
      ]
    },
    {
      "cell_type": "code",
      "execution_count": null,
      "metadata": {
        "id": "hvHLNR4-61pe"
      },
      "outputs": [],
      "source": [
        "encoder_op312 = encoder312.predict([test_data[1].reshape(-1,28,28,1)])\n",
        "#plt.imshow(encoder_op312.reshape(10,10),cmap=\"gray\")"
      ]
    },
    {
      "cell_type": "code",
      "execution_count": null,
      "metadata": {
        "colab": {
          "base_uri": "https://localhost:8080/",
          "height": 265
        },
        "id": "yH-5M1Ko7HPA",
        "outputId": "acac77b6-efea-4eba-86fb-11722f0e263b"
      },
      "outputs": [
        {
          "output_type": "display_data",
          "data": {
            "text/plain": [
              "<Figure size 432x288 with 1 Axes>"
            ],
            "image/png": "[encoded data removed]"
          },
          "metadata": {
            "needs_background": "light"
          }
        }
      ],
      "source": [
        "model_op31 = Autoencoder31.predict([test_data[3500].reshape(-1,28,28,1)])\n",
        "plt.imshow(test_data[3500],cmap=\"gray\")\n",
        "plt.savefig(\"/content/drive/MyDrive/autoencoder_output/31train_org_image3500.png\")"
      ]
    },
    {
      "cell_type": "code",
      "execution_count": null,
      "metadata": {
        "colab": {
          "base_uri": "https://localhost:8080/",
          "height": 265
        },
        "id": "u6Bs4dH17XAn",
        "outputId": "4707e2c8-108f-4bed-ee57-55751bffa9a1"
      },
      "outputs": [
        {
          "output_type": "display_data",
          "data": {
            "text/plain": [
              "<Figure size 432x288 with 1 Axes>"
            ],
            "image/png": "[encoded data removed]"
          },
          "metadata": {
            "needs_background": "light"
          }
        }
      ],
      "source": [
        "model_op31=model_op31.reshape(28,28)\n",
        "plt.imshow(model_op31,cmap=\"gray\")\n",
        "plt.savefig(\"/content/drive/MyDrive/autoencoder_output/31train_reconst_image3500.png\")"
      ]
    },
    {
      "cell_type": "code",
      "execution_count": null,
      "metadata": {
        "colab": {
          "base_uri": "https://localhost:8080/"
        },
        "id": "upHbcLrm7rLq",
        "outputId": "9d5d67e7-e834-4bbd-d0b0-7271a73cef1f"
      },
      "outputs": [
        {
          "output_type": "stream",
          "name": "stdout",
          "text": [
            "Model: \"Autoencoder32\"\n",
            "_________________________________________________________________\n",
            " Layer (type)                Output Shape              Param #   \n",
            "=================================================================\n",
            " img (InputLayer)            [(None, 28, 28, 1)]       0         \n",
            "                                                                 \n",
            " flatten_6 (Flatten)         (None, 784)               0         \n",
            "                                                                 \n",
            " dense_14 (Dense)            (None, 100)               78500     \n",
            "                                                                 \n",
            " dense_15 (Dense)            (None, 64)                6464      \n",
            "                                                                 \n",
            " dense_16 (Dense)            (None, 100)               6500      \n",
            "                                                                 \n",
            " dense_17 (Dense)            (None, 784)               79184     \n",
            "                                                                 \n",
            " reshape_6 (Reshape)         (None, 28, 28, 1)         0         \n",
            "                                                                 \n",
            "=================================================================\n",
            "Total params: 170,648\n",
            "Trainable params: 170,648\n",
            "Non-trainable params: 0\n",
            "_________________________________________________________________\n"
          ]
        }
      ],
      "source": [
        "x_in = keras.Input(shape=(28,28,1),name=\"img\")\n",
        "x = keras.layers.Flatten()(x_in)\n",
        "encoder_out321 = keras.layers.Dense(100,activation='sigmoid')(x)\n",
        "encoder321 = keras.Model(x_in,encoder_out321,name=\"encoder321\")\n",
        "\n",
        "encoder_out322 = keras.layers.Dense(64,activation='sigmoid')(encoder_out321)\n",
        "encoder322 = keras.Model(x_in,encoder_out322,name=\"encoder322\")\n",
        "\n",
        "decoder_ip320 = keras.layers.Dense(100,activation='sigmoid')(encoder_out322)\n",
        "\n",
        "decoder_ip321 = keras.layers.Dense(784,activation='sigmoid')(decoder_ip320)\n",
        "\n",
        "decoder_op322 = keras.layers.Reshape((28,28,1))(decoder_ip321)\n",
        "optimizer = keras.optimizers.Adam(learning_rate = 0.01,decay = 1e-6)\n",
        "\n",
        "Autoencoder32 = keras.Model(x_in,decoder_op322,name=\"Autoencoder32\")\n",
        "Autoencoder32.summary()\n"
      ]
    },
    {
      "cell_type": "code",
      "execution_count": null,
      "metadata": {
        "colab": {
          "base_uri": "https://localhost:8080/",
          "height": 1000
        },
        "id": "4Gvm1IsK-JnH",
        "outputId": "dc42d3b5-f7e2-4c7a-9098-30338107fd56"
      },
      "outputs": [
        {
          "output_type": "stream",
          "name": "stdout",
          "text": [
            "Epoch 1/100\n",
            "358/358 [==============================] - 2s 5ms/step - loss: 0.0463 - accuracy: 0.6484 - val_loss: 0.0327 - val_accuracy: 0.6575\n",
            "Epoch 2/100\n",
            "358/358 [==============================] - 2s 5ms/step - loss: 0.0276 - accuracy: 0.6616 - val_loss: 0.0256 - val_accuracy: 0.6621\n",
            "Epoch 3/100\n",
            "358/358 [==============================] - 2s 5ms/step - loss: 0.0213 - accuracy: 0.6654 - val_loss: 0.0194 - val_accuracy: 0.6657\n",
            "Epoch 4/100\n",
            "358/358 [==============================] - 2s 5ms/step - loss: 0.0180 - accuracy: 0.6672 - val_loss: 0.0188 - val_accuracy: 0.6661\n",
            "Epoch 5/100\n",
            "358/358 [==============================] - 2s 5ms/step - loss: 0.0159 - accuracy: 0.6682 - val_loss: 0.0160 - val_accuracy: 0.6674\n",
            "Epoch 6/100\n",
            "358/358 [==============================] - 2s 5ms/step - loss: 0.0144 - accuracy: 0.6690 - val_loss: 0.0150 - val_accuracy: 0.6680\n",
            "Epoch 7/100\n",
            "358/358 [==============================] - 2s 5ms/step - loss: 0.0134 - accuracy: 0.6695 - val_loss: 0.0139 - val_accuracy: 0.6685\n",
            "Epoch 8/100\n",
            "358/358 [==============================] - 2s 5ms/step - loss: 0.0125 - accuracy: 0.6699 - val_loss: 0.0135 - val_accuracy: 0.6687\n",
            "Epoch 9/100\n",
            "358/358 [==============================] - 2s 5ms/step - loss: 0.0119 - accuracy: 0.6701 - val_loss: 0.0130 - val_accuracy: 0.6689\n",
            "Epoch 10/100\n",
            "358/358 [==============================] - 2s 5ms/step - loss: 0.0114 - accuracy: 0.6703 - val_loss: 0.0138 - val_accuracy: 0.6687\n",
            "Epoch 11/100\n",
            "358/358 [==============================] - 2s 5ms/step - loss: 0.0109 - accuracy: 0.6706 - val_loss: 0.0117 - val_accuracy: 0.6695\n",
            "Epoch 12/100\n",
            "358/358 [==============================] - 2s 5ms/step - loss: 0.0103 - accuracy: 0.6708 - val_loss: 0.0132 - val_accuracy: 0.6690\n",
            "Epoch 13/100\n",
            "358/358 [==============================] - 2s 5ms/step - loss: 0.0104 - accuracy: 0.6707 - val_loss: 0.0114 - val_accuracy: 0.6696\n",
            "Epoch 14/100\n",
            "358/358 [==============================] - 2s 5ms/step - loss: 0.0097 - accuracy: 0.6710 - val_loss: 0.0109 - val_accuracy: 0.6699\n",
            "Epoch 15/100\n",
            "358/358 [==============================] - 2s 5ms/step - loss: 0.0093 - accuracy: 0.6712 - val_loss: 0.0112 - val_accuracy: 0.6698\n",
            "Epoch 16/100\n",
            "358/358 [==============================] - 2s 5ms/step - loss: 0.0092 - accuracy: 0.6712 - val_loss: 0.0101 - val_accuracy: 0.6702\n",
            "Epoch 17/100\n",
            "358/358 [==============================] - 2s 5ms/step - loss: 0.0088 - accuracy: 0.6714 - val_loss: 0.0111 - val_accuracy: 0.6698\n",
            "Epoch 18/100\n",
            "358/358 [==============================] - 2s 5ms/step - loss: 0.0086 - accuracy: 0.6714 - val_loss: 0.0101 - val_accuracy: 0.6702\n",
            "Epoch 19/100\n",
            "358/358 [==============================] - 2s 5ms/step - loss: 0.0085 - accuracy: 0.6715 - val_loss: 0.0100 - val_accuracy: 0.6702\n",
            "Epoch 20/100\n",
            "358/358 [==============================] - 2s 5ms/step - loss: 0.0082 - accuracy: 0.6716 - val_loss: 0.0097 - val_accuracy: 0.6703\n",
            "Epoch 21/100\n",
            "358/358 [==============================] - 2s 5ms/step - loss: 0.0081 - accuracy: 0.6716 - val_loss: 0.0100 - val_accuracy: 0.6702\n",
            "Epoch 22/100\n",
            "358/358 [==============================] - 2s 5ms/step - loss: 0.0080 - accuracy: 0.6717 - val_loss: 0.0098 - val_accuracy: 0.6703\n",
            "Epoch 23/100\n",
            "358/358 [==============================] - 2s 5ms/step - loss: 0.0078 - accuracy: 0.6717 - val_loss: 0.0096 - val_accuracy: 0.6704\n",
            "Epoch 24/100\n",
            "358/358 [==============================] - 2s 5ms/step - loss: 0.0076 - accuracy: 0.6718 - val_loss: 0.0089 - val_accuracy: 0.6706\n",
            "Epoch 25/100\n",
            "358/358 [==============================] - 2s 5ms/step - loss: 0.0075 - accuracy: 0.6718 - val_loss: 0.0108 - val_accuracy: 0.6700\n",
            "Epoch 26/100\n",
            "358/358 [==============================] - 2s 5ms/step - loss: 0.0075 - accuracy: 0.6718 - val_loss: 0.0097 - val_accuracy: 0.6704\n",
            "Epoch 27/100\n",
            "358/358 [==============================] - 2s 5ms/step - loss: 0.0074 - accuracy: 0.6719 - val_loss: 0.0101 - val_accuracy: 0.6702\n",
            "Epoch 28/100\n",
            "358/358 [==============================] - 2s 5ms/step - loss: 0.0076 - accuracy: 0.6718 - val_loss: 0.0091 - val_accuracy: 0.6706\n",
            "Epoch 29/100\n",
            "358/358 [==============================] - 2s 5ms/step - loss: 0.0071 - accuracy: 0.6719 - val_loss: 0.0090 - val_accuracy: 0.6706\n",
            "Epoch 30/100\n",
            "358/358 [==============================] - 2s 5ms/step - loss: 0.0071 - accuracy: 0.6719 - val_loss: 0.0101 - val_accuracy: 0.6702\n",
            "Epoch 31/100\n",
            "358/358 [==============================] - 2s 5ms/step - loss: 0.0071 - accuracy: 0.6720 - val_loss: 0.0087 - val_accuracy: 0.6707\n",
            "Epoch 32/100\n",
            "358/358 [==============================] - 2s 5ms/step - loss: 0.0069 - accuracy: 0.6720 - val_loss: 0.0091 - val_accuracy: 0.6706\n",
            "Epoch 33/100\n",
            "358/358 [==============================] - 2s 5ms/step - loss: 0.0069 - accuracy: 0.6720 - val_loss: 0.0089 - val_accuracy: 0.6707\n",
            "Epoch 34/100\n",
            "358/358 [==============================] - 2s 5ms/step - loss: 0.0068 - accuracy: 0.6720 - val_loss: 0.0091 - val_accuracy: 0.6706\n",
            "Epoch 35/100\n",
            "358/358 [==============================] - 2s 5ms/step - loss: 0.0068 - accuracy: 0.6720 - val_loss: 0.0088 - val_accuracy: 0.6707\n",
            "Epoch 36/100\n",
            "358/358 [==============================] - 2s 5ms/step - loss: 0.0067 - accuracy: 0.6721 - val_loss: 0.0089 - val_accuracy: 0.6707\n",
            "Epoch 37/100\n",
            "358/358 [==============================] - 2s 5ms/step - loss: 0.0067 - accuracy: 0.6721 - val_loss: 0.0102 - val_accuracy: 0.6702\n",
            "Epoch 38/100\n",
            "358/358 [==============================] - 2s 5ms/step - loss: 0.0066 - accuracy: 0.6721 - val_loss: 0.0083 - val_accuracy: 0.6709\n",
            "Epoch 39/100\n",
            "358/358 [==============================] - 2s 5ms/step - loss: 0.0065 - accuracy: 0.6721 - val_loss: 0.0089 - val_accuracy: 0.6707\n",
            "Epoch 40/100\n",
            "358/358 [==============================] - 2s 5ms/step - loss: 0.0064 - accuracy: 0.6721 - val_loss: 0.0087 - val_accuracy: 0.6707\n",
            "Epoch 41/100\n",
            "358/358 [==============================] - 2s 5ms/step - loss: 0.0064 - accuracy: 0.6722 - val_loss: 0.0089 - val_accuracy: 0.6706\n",
            "Epoch 42/100\n",
            "358/358 [==============================] - 2s 5ms/step - loss: 0.0064 - accuracy: 0.6721 - val_loss: 0.0086 - val_accuracy: 0.6707\n",
            "Epoch 43/100\n",
            "358/358 [==============================] - 2s 5ms/step - loss: 0.0063 - accuracy: 0.6722 - val_loss: 0.0102 - val_accuracy: 0.6702\n",
            "Epoch 44/100\n",
            "358/358 [==============================] - 2s 5ms/step - loss: 0.0065 - accuracy: 0.6721 - val_loss: 0.0082 - val_accuracy: 0.6709\n",
            "Epoch 45/100\n",
            "358/358 [==============================] - 2s 5ms/step - loss: 0.0063 - accuracy: 0.6722 - val_loss: 0.0083 - val_accuracy: 0.6708\n",
            "Epoch 46/100\n",
            "358/358 [==============================] - 2s 5ms/step - loss: 0.0062 - accuracy: 0.6722 - val_loss: 0.0080 - val_accuracy: 0.6710\n",
            "Epoch 47/100\n",
            "358/358 [==============================] - 2s 5ms/step - loss: 0.0061 - accuracy: 0.6722 - val_loss: 0.0082 - val_accuracy: 0.6709\n",
            "Epoch 48/100\n",
            "358/358 [==============================] - 2s 5ms/step - loss: 0.0062 - accuracy: 0.6722 - val_loss: 0.0084 - val_accuracy: 0.6708\n",
            "Epoch 49/100\n",
            "358/358 [==============================] - 2s 5ms/step - loss: 0.0062 - accuracy: 0.6722 - val_loss: 0.0085 - val_accuracy: 0.6708\n",
            "Epoch 50/100\n",
            "358/358 [==============================] - 2s 5ms/step - loss: 0.0061 - accuracy: 0.6722 - val_loss: 0.0087 - val_accuracy: 0.6707\n",
            "Epoch 51/100\n",
            "358/358 [==============================] - 2s 6ms/step - loss: 0.0060 - accuracy: 0.6723 - val_loss: 0.0081 - val_accuracy: 0.6710\n",
            "Epoch 52/100\n",
            "358/358 [==============================] - 3s 7ms/step - loss: 0.0060 - accuracy: 0.6723 - val_loss: 0.0090 - val_accuracy: 0.6706\n",
            "Epoch 53/100\n",
            "358/358 [==============================] - 2s 5ms/step - loss: 0.0061 - accuracy: 0.6722 - val_loss: 0.0079 - val_accuracy: 0.6710\n",
            "Epoch 54/100\n",
            "358/358 [==============================] - 2s 5ms/step - loss: 0.0059 - accuracy: 0.6723 - val_loss: 0.0080 - val_accuracy: 0.6710\n",
            "Epoch 55/100\n",
            "358/358 [==============================] - 2s 5ms/step - loss: 0.0059 - accuracy: 0.6723 - val_loss: 0.0079 - val_accuracy: 0.6711\n",
            "Epoch 56/100\n",
            "358/358 [==============================] - 2s 5ms/step - loss: 0.0060 - accuracy: 0.6723 - val_loss: 0.0085 - val_accuracy: 0.6709\n",
            "Epoch 57/100\n",
            "358/358 [==============================] - 2s 5ms/step - loss: 0.0059 - accuracy: 0.6723 - val_loss: 0.0083 - val_accuracy: 0.6709\n",
            "Epoch 58/100\n",
            "358/358 [==============================] - 2s 5ms/step - loss: 0.0058 - accuracy: 0.6723 - val_loss: 0.0079 - val_accuracy: 0.6710\n",
            "Epoch 59/100\n",
            "358/358 [==============================] - 2s 5ms/step - loss: 0.0058 - accuracy: 0.6723 - val_loss: 0.0084 - val_accuracy: 0.6709\n",
            "Epoch 60/100\n",
            "358/358 [==============================] - 2s 5ms/step - loss: 0.0059 - accuracy: 0.6723 - val_loss: 0.0097 - val_accuracy: 0.6705\n",
            "Epoch 61/100\n",
            "358/358 [==============================] - 2s 5ms/step - loss: 0.0061 - accuracy: 0.6722 - val_loss: 0.0076 - val_accuracy: 0.6711\n",
            "Epoch 62/100\n",
            "358/358 [==============================] - 2s 5ms/step - loss: 0.0058 - accuracy: 0.6723 - val_loss: 0.0079 - val_accuracy: 0.6710\n",
            "Epoch 63/100\n",
            "358/358 [==============================] - 2s 5ms/step - loss: 0.0057 - accuracy: 0.6723 - val_loss: 0.0086 - val_accuracy: 0.6707\n",
            "Epoch 64/100\n",
            "358/358 [==============================] - 2s 5ms/step - loss: 0.0058 - accuracy: 0.6723 - val_loss: 0.0080 - val_accuracy: 0.6710\n",
            "Epoch 65/100\n",
            "358/358 [==============================] - 2s 5ms/step - loss: 0.0057 - accuracy: 0.6723 - val_loss: 0.0078 - val_accuracy: 0.6710\n",
            "Epoch 66/100\n",
            "358/358 [==============================] - 2s 5ms/step - loss: 0.0057 - accuracy: 0.6723 - val_loss: 0.0084 - val_accuracy: 0.6709\n",
            "Epoch 67/100\n",
            "358/358 [==============================] - 2s 5ms/step - loss: 0.0056 - accuracy: 0.6724 - val_loss: 0.0081 - val_accuracy: 0.6709\n",
            "Epoch 68/100\n",
            "358/358 [==============================] - 2s 5ms/step - loss: 0.0056 - accuracy: 0.6724 - val_loss: 0.0075 - val_accuracy: 0.6711\n",
            "Epoch 69/100\n",
            "358/358 [==============================] - 2s 5ms/step - loss: 0.0056 - accuracy: 0.6724 - val_loss: 0.0102 - val_accuracy: 0.6700\n",
            "Epoch 70/100\n",
            "358/358 [==============================] - 2s 5ms/step - loss: 0.0059 - accuracy: 0.6723 - val_loss: 0.0081 - val_accuracy: 0.6710\n",
            "Epoch 71/100\n",
            "358/358 [==============================] - 2s 5ms/step - loss: 0.0056 - accuracy: 0.6724 - val_loss: 0.0073 - val_accuracy: 0.6711\n",
            "Epoch 72/100\n",
            "358/358 [==============================] - 2s 5ms/step - loss: 0.0056 - accuracy: 0.6724 - val_loss: 0.0081 - val_accuracy: 0.6709\n",
            "Epoch 73/100\n",
            "358/358 [==============================] - 2s 5ms/step - loss: 0.0057 - accuracy: 0.6723 - val_loss: 0.0078 - val_accuracy: 0.6710\n",
            "Epoch 74/100\n",
            "358/358 [==============================] - 2s 5ms/step - loss: 0.0056 - accuracy: 0.6724 - val_loss: 0.0078 - val_accuracy: 0.6711\n",
            "Epoch 75/100\n",
            "358/358 [==============================] - 2s 5ms/step - loss: 0.0055 - accuracy: 0.6724 - val_loss: 0.0088 - val_accuracy: 0.6708\n",
            "Epoch 76/100\n",
            "358/358 [==============================] - 2s 5ms/step - loss: 0.0056 - accuracy: 0.6724 - val_loss: 0.0083 - val_accuracy: 0.6709\n",
            "Epoch 77/100\n",
            "358/358 [==============================] - 2s 5ms/step - loss: 0.0055 - accuracy: 0.6724 - val_loss: 0.0087 - val_accuracy: 0.6708\n",
            "Epoch 78/100\n",
            "358/358 [==============================] - 2s 5ms/step - loss: 0.0057 - accuracy: 0.6723 - val_loss: 0.0074 - val_accuracy: 0.6711\n",
            "Epoch 79/100\n",
            "358/358 [==============================] - 2s 5ms/step - loss: 0.0054 - accuracy: 0.6724 - val_loss: 0.0074 - val_accuracy: 0.6711\n",
            "Epoch 80/100\n",
            "358/358 [==============================] - 2s 5ms/step - loss: 0.0054 - accuracy: 0.6724 - val_loss: 0.0076 - val_accuracy: 0.6711\n",
            "Epoch 81/100\n",
            "358/358 [==============================] - 2s 5ms/step - loss: 0.0054 - accuracy: 0.6724 - val_loss: 0.0078 - val_accuracy: 0.6710\n",
            "Epoch 82/100\n",
            "358/358 [==============================] - 2s 5ms/step - loss: 0.0054 - accuracy: 0.6724 - val_loss: 0.0084 - val_accuracy: 0.6709\n",
            "Epoch 83/100\n",
            "358/358 [==============================] - 2s 5ms/step - loss: 0.0056 - accuracy: 0.6724 - val_loss: 0.0096 - val_accuracy: 0.6705\n",
            "Epoch 84/100\n",
            "358/358 [==============================] - 2s 5ms/step - loss: 0.0058 - accuracy: 0.6723 - val_loss: 0.0079 - val_accuracy: 0.6710\n",
            "Epoch 85/100\n",
            "358/358 [==============================] - 2s 5ms/step - loss: 0.0054 - accuracy: 0.6724 - val_loss: 0.0077 - val_accuracy: 0.6710\n",
            "Epoch 86/100\n",
            "358/358 [==============================] - 2s 5ms/step - loss: 0.0054 - accuracy: 0.6724 - val_loss: 0.0077 - val_accuracy: 0.6711\n",
            "Epoch 87/100\n",
            "358/358 [==============================] - 2s 5ms/step - loss: 0.0053 - accuracy: 0.6724 - val_loss: 0.0078 - val_accuracy: 0.6711\n",
            "Epoch 88/100\n",
            "358/358 [==============================] - 2s 5ms/step - loss: 0.0054 - accuracy: 0.6724 - val_loss: 0.0093 - val_accuracy: 0.6706\n",
            "Epoch 89/100\n",
            "358/358 [==============================] - 2s 5ms/step - loss: 0.0055 - accuracy: 0.6724 - val_loss: 0.0088 - val_accuracy: 0.6708\n",
            "Epoch 1/100\n",
            "358/358 [==============================] - 1s 4ms/step - loss: 0.0054 - accuracy: 0.6724\n",
            "Epoch 2/100\n",
            "358/358 [==============================] - 1s 4ms/step - loss: 0.0052 - accuracy: 0.6724\n",
            "Epoch 3/100\n",
            "358/358 [==============================] - 1s 4ms/step - loss: 0.0054 - accuracy: 0.6724\n",
            "Epoch 4/100\n",
            "358/358 [==============================] - 1s 4ms/step - loss: 0.0054 - accuracy: 0.6724\n",
            "Epoch 5/100\n",
            "358/358 [==============================] - 1s 4ms/step - loss: 0.0052 - accuracy: 0.6724\n",
            "Epoch 6/100\n",
            "358/358 [==============================] - 1s 4ms/step - loss: 0.0053 - accuracy: 0.6724\n",
            "Epoch 7/100\n",
            "358/358 [==============================] - 1s 4ms/step - loss: 0.0056 - accuracy: 0.6723\n",
            "Epoch 8/100\n",
            "358/358 [==============================] - 1s 4ms/step - loss: 0.0052 - accuracy: 0.6724\n",
            "Epoch 9/100\n",
            "358/358 [==============================] - 1s 4ms/step - loss: 0.0053 - accuracy: 0.6724\n",
            "Epoch 10/100\n",
            "358/358 [==============================] - 1s 4ms/step - loss: 0.0053 - accuracy: 0.6724\n",
            "Epoch 11/100\n",
            "358/358 [==============================] - 1s 4ms/step - loss: 0.0053 - accuracy: 0.6724\n",
            "Epoch 12/100\n",
            "358/358 [==============================] - 1s 4ms/step - loss: 0.0053 - accuracy: 0.6724\n"
          ]
        },
        {
          "output_type": "display_data",
          "data": {
            "text/plain": [
              "<Figure size 432x288 with 1 Axes>"
            ],
            "image/png": "[encoded data removed]"
          },
          "metadata": {
            "needs_background": "light"
          }
        }
      ],
      "source": [
        "callback = tf.keras.callbacks.EarlyStopping(monitor='loss',min_delta=0.0001,patience=10)\n",
        "Autoencoder32.compile(optimizer,loss=\"mse\",metrics=['accuracy'])\n",
        "history32 = Autoencoder32.fit(train_data,train_data,epochs=100,batch_size=32,callbacks=[callback],validation_data=(val_data, val_data))\n",
        "history_val32 = Autoencoder32.fit(train_data,train_data,epochs=100,batch_size=32,callbacks=[callback])\n",
        "plt.plot(history32.history['loss'])\n",
        "\n",
        "plt.savefig(\"/content/drive/MyDrive/autoencoder_output/A32loss.png\")"
      ]
    },
    {
      "cell_type": "code",
      "source": [
        ""
      ],
      "metadata": {
        "id": "6-7wDNmYEYgJ"
      },
      "execution_count": null,
      "outputs": []
    },
    {
      "cell_type": "code",
      "source": [
        "model_op31 = Autoencoder31.predict([test_data[1].reshape(-1,28,28,1)])\n",
        "plt.imshow(test_data[1],cmap=\"gray\")\n",
        "plt.savefig(\"/content/drive/MyDrive/autoencoder_output/test_original_image.png\")"
      ],
      "metadata": {
        "colab": {
          "base_uri": "https://localhost:8080/",
          "height": 265
        },
        "id": "rbVJX4qSEzLM",
        "outputId": "ad009e0a-b503-4fe4-f645-f0e32a429cbd"
      },
      "execution_count": null,
      "outputs": [
        {
          "output_type": "display_data",
          "data": {
            "text/plain": [
              "<Figure size 432x288 with 1 Axes>"
            ],
            "image/png": "[encoded data removed]"
          },
          "metadata": {
            "needs_background": "light"
          }
        }
      ]
    },
    {
      "cell_type": "code",
      "source": [
        "model_op31=model_op31.reshape(28,28)\n",
        "plt.imshow(model_op31,cmap=\"gray\")\n",
        "plt.savefig(\"/content/drive/MyDrive/autoencoder_output/test_reconstructed_image.png\")"
      ],
      "metadata": {
        "colab": {
          "base_uri": "https://localhost:8080/",
          "height": 265
        },
        "id": "hUXUB6I9ExhG",
        "outputId": "740218de-0200-4fb3-b3aa-994406dfc17a"
      },
      "execution_count": null,
      "outputs": [
        {
          "output_type": "display_data",
          "data": {
            "text/plain": [
              "<Figure size 432x288 with 1 Axes>"
            ],
            "image/png": "[encoded data removed]"
          },
          "metadata": {
            "needs_background": "light"
          }
        }
      ]
    },
    {
      "cell_type": "code",
      "execution_count": null,
      "metadata": {
        "colab": {
          "base_uri": "https://localhost:8080/"
        },
        "id": "ANcA4k5oDCHu",
        "outputId": "a7feb41b-613d-4157-bae4-2538cd52a626"
      },
      "outputs": [
        {
          "output_type": "stream",
          "name": "stdout",
          "text": [
            "Model: \"Autoencoder33\"\n",
            "_________________________________________________________________\n",
            " Layer (type)                Output Shape              Param #   \n",
            "=================================================================\n",
            " img (InputLayer)            [(None, 28, 28, 1)]       0         \n",
            "                                                                 \n",
            " flatten_9 (Flatten)         (None, 784)               0         \n",
            "                                                                 \n",
            " dense_22 (Dense)            (None, 225)               176625    \n",
            "                                                                 \n",
            " dense_23 (Dense)            (None, 64)                14464     \n",
            "                                                                 \n",
            " dense_24 (Dense)            (None, 225)               14625     \n",
            "                                                                 \n",
            " dense_25 (Dense)            (None, 784)               177184    \n",
            "                                                                 \n",
            " reshape_9 (Reshape)         (None, 28, 28, 1)         0         \n",
            "                                                                 \n",
            "=================================================================\n",
            "Total params: 382,898\n",
            "Trainable params: 382,898\n",
            "Non-trainable params: 0\n",
            "_________________________________________________________________\n"
          ]
        }
      ],
      "source": [
        "x_in = keras.Input(shape=(28,28,1),name=\"img\")\n",
        "x = keras.layers.Flatten()(x_in)\n",
        "encoder_out332 = keras.layers.Dense(225,activation='sigmoid')(x)\n",
        "encoder332 = keras.Model(x_in,encoder_out332,name=\"encoder332\")\n",
        "\n",
        "encoder_out332 = keras.layers.Dense(64,activation='sigmoid')(encoder_out332)\n",
        "encoder332 = keras.Model(x_in,encoder_out332,name=\"encoder332\")\n",
        "\n",
        "decoder_ip330 = keras.layers.Dense(225,activation='sigmoid')(encoder_out332)\n",
        "\n",
        "decoder_ip331 = keras.layers.Dense(784,activation='sigmoid')(decoder_ip330)\n",
        "\n",
        "decoder_op332 = keras.layers.Reshape((28,28,1))(decoder_ip331)\n",
        "optimizer = keras.optimizers.Adam(learning_rate = 0.01,decay = 1e-6)\n",
        "\n",
        "Autoencoder33 = keras.Model(x_in,decoder_op332,name=\"Autoencoder33\")\n",
        "Autoencoder33.summary()"
      ]
    },
    {
      "cell_type": "code",
      "execution_count": null,
      "metadata": {
        "colab": {
          "base_uri": "https://localhost:8080/",
          "height": 1000
        },
        "id": "rbgMHzpAFfJj",
        "outputId": "87bbf4a1-e15d-4218-e484-73a01486e9a0"
      },
      "outputs": [
        {
          "output_type": "stream",
          "name": "stdout",
          "text": [
            "Epoch 1/100\n",
            "358/358 [==============================] - 2s 5ms/step - loss: 0.0447 - accuracy: 0.6495 - val_loss: 0.0326 - val_accuracy: 0.6574\n",
            "Epoch 2/100\n",
            "358/358 [==============================] - 2s 5ms/step - loss: 0.0265 - accuracy: 0.6622 - val_loss: 0.0233 - val_accuracy: 0.6635\n",
            "Epoch 3/100\n",
            "358/358 [==============================] - 2s 5ms/step - loss: 0.0195 - accuracy: 0.6664 - val_loss: 0.0184 - val_accuracy: 0.6663\n",
            "Epoch 4/100\n",
            "358/358 [==============================] - 2s 5ms/step - loss: 0.0158 - accuracy: 0.6683 - val_loss: 0.0157 - val_accuracy: 0.6677\n",
            "Epoch 5/100\n",
            "358/358 [==============================] - 2s 5ms/step - loss: 0.0137 - accuracy: 0.6694 - val_loss: 0.0155 - val_accuracy: 0.6678\n",
            "Epoch 6/100\n",
            "358/358 [==============================] - 2s 5ms/step - loss: 0.0124 - accuracy: 0.6699 - val_loss: 0.0129 - val_accuracy: 0.6690\n",
            "Epoch 7/100\n",
            "358/358 [==============================] - 2s 5ms/step - loss: 0.0112 - accuracy: 0.6705 - val_loss: 0.0122 - val_accuracy: 0.6694\n",
            "Epoch 8/100\n",
            "358/358 [==============================] - 2s 5ms/step - loss: 0.0106 - accuracy: 0.6707 - val_loss: 0.0114 - val_accuracy: 0.6696\n",
            "Epoch 9/100\n",
            "358/358 [==============================] - 2s 5ms/step - loss: 0.0099 - accuracy: 0.6710 - val_loss: 0.0106 - val_accuracy: 0.6700\n",
            "Epoch 10/100\n",
            "358/358 [==============================] - 2s 5ms/step - loss: 0.0093 - accuracy: 0.6712 - val_loss: 0.0112 - val_accuracy: 0.6698\n",
            "Epoch 11/100\n",
            "358/358 [==============================] - 2s 5ms/step - loss: 0.0090 - accuracy: 0.6713 - val_loss: 0.0115 - val_accuracy: 0.6696\n",
            "Epoch 12/100\n",
            "358/358 [==============================] - 2s 5ms/step - loss: 0.0090 - accuracy: 0.6713 - val_loss: 0.0100 - val_accuracy: 0.6702\n",
            "Epoch 13/100\n",
            "358/358 [==============================] - 2s 5ms/step - loss: 0.0083 - accuracy: 0.6715 - val_loss: 0.0100 - val_accuracy: 0.6702\n",
            "Epoch 14/100\n",
            "358/358 [==============================] - 2s 5ms/step - loss: 0.0082 - accuracy: 0.6716 - val_loss: 0.0097 - val_accuracy: 0.6703\n",
            "Epoch 15/100\n",
            "358/358 [==============================] - 2s 5ms/step - loss: 0.0079 - accuracy: 0.6717 - val_loss: 0.0103 - val_accuracy: 0.6702\n",
            "Epoch 16/100\n",
            "358/358 [==============================] - 2s 5ms/step - loss: 0.0077 - accuracy: 0.6717 - val_loss: 0.0098 - val_accuracy: 0.6704\n",
            "Epoch 17/100\n",
            "358/358 [==============================] - 2s 5ms/step - loss: 0.0076 - accuracy: 0.6718 - val_loss: 0.0098 - val_accuracy: 0.6704\n",
            "Epoch 18/100\n",
            "358/358 [==============================] - 2s 5ms/step - loss: 0.0074 - accuracy: 0.6718 - val_loss: 0.0093 - val_accuracy: 0.6706\n",
            "Epoch 19/100\n",
            "358/358 [==============================] - 2s 5ms/step - loss: 0.0072 - accuracy: 0.6719 - val_loss: 0.0092 - val_accuracy: 0.6705\n",
            "Epoch 20/100\n",
            "358/358 [==============================] - 2s 5ms/step - loss: 0.0072 - accuracy: 0.6719 - val_loss: 0.0094 - val_accuracy: 0.6705\n",
            "Epoch 21/100\n",
            "358/358 [==============================] - 2s 5ms/step - loss: 0.0071 - accuracy: 0.6719 - val_loss: 0.0100 - val_accuracy: 0.6703\n",
            "Epoch 22/100\n",
            "358/358 [==============================] - 2s 5ms/step - loss: 0.0071 - accuracy: 0.6719 - val_loss: 0.0093 - val_accuracy: 0.6706\n",
            "Epoch 23/100\n",
            "358/358 [==============================] - 2s 5ms/step - loss: 0.0071 - accuracy: 0.6719 - val_loss: 0.0092 - val_accuracy: 0.6706\n",
            "Epoch 24/100\n",
            "358/358 [==============================] - 2s 5ms/step - loss: 0.0068 - accuracy: 0.6720 - val_loss: 0.0086 - val_accuracy: 0.6707\n",
            "Epoch 25/100\n",
            "358/358 [==============================] - 2s 5ms/step - loss: 0.0066 - accuracy: 0.6721 - val_loss: 0.0086 - val_accuracy: 0.6708\n",
            "Epoch 26/100\n",
            "358/358 [==============================] - 2s 5ms/step - loss: 0.0065 - accuracy: 0.6721 - val_loss: 0.0088 - val_accuracy: 0.6707\n",
            "Epoch 27/100\n",
            "358/358 [==============================] - 2s 5ms/step - loss: 0.0064 - accuracy: 0.6721 - val_loss: 0.0095 - val_accuracy: 0.6706\n",
            "Epoch 28/100\n",
            "358/358 [==============================] - 2s 5ms/step - loss: 0.0065 - accuracy: 0.6721 - val_loss: 0.0092 - val_accuracy: 0.6705\n",
            "Epoch 29/100\n",
            "358/358 [==============================] - 2s 5ms/step - loss: 0.0065 - accuracy: 0.6721 - val_loss: 0.0084 - val_accuracy: 0.6708\n",
            "Epoch 30/100\n",
            "358/358 [==============================] - 2s 5ms/step - loss: 0.0063 - accuracy: 0.6722 - val_loss: 0.0104 - val_accuracy: 0.6701\n",
            "Epoch 31/100\n",
            "358/358 [==============================] - 2s 5ms/step - loss: 0.0068 - accuracy: 0.6720 - val_loss: 0.0094 - val_accuracy: 0.6706\n",
            "Epoch 32/100\n",
            "358/358 [==============================] - 2s 5ms/step - loss: 0.0063 - accuracy: 0.6722 - val_loss: 0.0087 - val_accuracy: 0.6707\n",
            "Epoch 33/100\n",
            "358/358 [==============================] - 2s 5ms/step - loss: 0.0063 - accuracy: 0.6722 - val_loss: 0.0085 - val_accuracy: 0.6708\n",
            "Epoch 34/100\n",
            "358/358 [==============================] - 2s 5ms/step - loss: 0.0062 - accuracy: 0.6722 - val_loss: 0.0088 - val_accuracy: 0.6707\n",
            "Epoch 35/100\n",
            "358/358 [==============================] - 2s 5ms/step - loss: 0.0062 - accuracy: 0.6722 - val_loss: 0.0083 - val_accuracy: 0.6709\n",
            "Epoch 36/100\n",
            "358/358 [==============================] - 2s 5ms/step - loss: 0.0060 - accuracy: 0.6723 - val_loss: 0.0088 - val_accuracy: 0.6707\n",
            "Epoch 37/100\n",
            "358/358 [==============================] - 2s 5ms/step - loss: 0.0061 - accuracy: 0.6722 - val_loss: 0.0087 - val_accuracy: 0.6707\n",
            "Epoch 38/100\n",
            "358/358 [==============================] - 2s 5ms/step - loss: 0.0061 - accuracy: 0.6722 - val_loss: 0.0088 - val_accuracy: 0.6707\n",
            "Epoch 39/100\n",
            "358/358 [==============================] - 2s 5ms/step - loss: 0.0060 - accuracy: 0.6723 - val_loss: 0.0086 - val_accuracy: 0.6708\n",
            "Epoch 40/100\n",
            "358/358 [==============================] - 2s 5ms/step - loss: 0.0059 - accuracy: 0.6723 - val_loss: 0.0082 - val_accuracy: 0.6709\n",
            "Epoch 41/100\n",
            "358/358 [==============================] - 2s 5ms/step - loss: 0.0059 - accuracy: 0.6723 - val_loss: 0.0099 - val_accuracy: 0.6704\n",
            "Epoch 42/100\n",
            "358/358 [==============================] - 2s 5ms/step - loss: 0.0062 - accuracy: 0.6722 - val_loss: 0.0082 - val_accuracy: 0.6709\n",
            "Epoch 43/100\n",
            "358/358 [==============================] - 2s 5ms/step - loss: 0.0058 - accuracy: 0.6723 - val_loss: 0.0086 - val_accuracy: 0.6708\n",
            "Epoch 44/100\n",
            "358/358 [==============================] - 2s 5ms/step - loss: 0.0057 - accuracy: 0.6723 - val_loss: 0.0081 - val_accuracy: 0.6709\n",
            "Epoch 45/100\n",
            "358/358 [==============================] - 2s 5ms/step - loss: 0.0057 - accuracy: 0.6723 - val_loss: 0.0084 - val_accuracy: 0.6708\n",
            "Epoch 46/100\n",
            "358/358 [==============================] - 2s 5ms/step - loss: 0.0057 - accuracy: 0.6723 - val_loss: 0.0086 - val_accuracy: 0.6708\n",
            "Epoch 47/100\n",
            "358/358 [==============================] - 2s 5ms/step - loss: 0.0057 - accuracy: 0.6723 - val_loss: 0.0083 - val_accuracy: 0.6709\n",
            "Epoch 48/100\n",
            "358/358 [==============================] - 2s 5ms/step - loss: 0.0056 - accuracy: 0.6724 - val_loss: 0.0082 - val_accuracy: 0.6709\n",
            "Epoch 49/100\n",
            "358/358 [==============================] - 2s 5ms/step - loss: 0.0056 - accuracy: 0.6724 - val_loss: 0.0082 - val_accuracy: 0.6709\n",
            "Epoch 50/100\n",
            "358/358 [==============================] - 2s 5ms/step - loss: 0.0056 - accuracy: 0.6724 - val_loss: 0.0087 - val_accuracy: 0.6708\n",
            "Epoch 51/100\n",
            "358/358 [==============================] - 2s 5ms/step - loss: 0.0058 - accuracy: 0.6723 - val_loss: 0.0084 - val_accuracy: 0.6709\n",
            "Epoch 52/100\n",
            "358/358 [==============================] - 2s 5ms/step - loss: 0.0057 - accuracy: 0.6724 - val_loss: 0.0086 - val_accuracy: 0.6707\n",
            "Epoch 53/100\n",
            "358/358 [==============================] - 2s 5ms/step - loss: 0.0055 - accuracy: 0.6724 - val_loss: 0.0092 - val_accuracy: 0.6706\n",
            "Epoch 54/100\n",
            "358/358 [==============================] - 2s 5ms/step - loss: 0.0057 - accuracy: 0.6723 - val_loss: 0.0082 - val_accuracy: 0.6709\n",
            "Epoch 55/100\n",
            "358/358 [==============================] - 2s 5ms/step - loss: 0.0055 - accuracy: 0.6724 - val_loss: 0.0082 - val_accuracy: 0.6709\n",
            "Epoch 56/100\n",
            "358/358 [==============================] - 2s 5ms/step - loss: 0.0054 - accuracy: 0.6724 - val_loss: 0.0088 - val_accuracy: 0.6707\n",
            "Epoch 57/100\n",
            "358/358 [==============================] - 2s 5ms/step - loss: 0.0055 - accuracy: 0.6724 - val_loss: 0.0097 - val_accuracy: 0.6704\n",
            "Epoch 58/100\n",
            "358/358 [==============================] - 2s 5ms/step - loss: 0.0060 - accuracy: 0.6722 - val_loss: 0.0088 - val_accuracy: 0.6707\n",
            "Epoch 59/100\n",
            "358/358 [==============================] - 2s 5ms/step - loss: 0.0055 - accuracy: 0.6724 - val_loss: 0.0087 - val_accuracy: 0.6707\n",
            "Epoch 60/100\n",
            "358/358 [==============================] - 2s 5ms/step - loss: 0.0055 - accuracy: 0.6724 - val_loss: 0.0083 - val_accuracy: 0.6709\n",
            "Epoch 61/100\n",
            "358/358 [==============================] - 2s 5ms/step - loss: 0.0054 - accuracy: 0.6724 - val_loss: 0.0084 - val_accuracy: 0.6709\n",
            "Epoch 62/100\n",
            "358/358 [==============================] - 2s 5ms/step - loss: 0.0055 - accuracy: 0.6724 - val_loss: 0.0085 - val_accuracy: 0.6708\n",
            "Epoch 63/100\n",
            "358/358 [==============================] - 2s 5ms/step - loss: 0.0055 - accuracy: 0.6724 - val_loss: 0.0083 - val_accuracy: 0.6709\n",
            "Epoch 64/100\n",
            "358/358 [==============================] - 2s 5ms/step - loss: 0.0054 - accuracy: 0.6724 - val_loss: 0.0082 - val_accuracy: 0.6709\n",
            "Epoch 65/100\n",
            "358/358 [==============================] - 2s 5ms/step - loss: 0.0054 - accuracy: 0.6724 - val_loss: 0.0083 - val_accuracy: 0.6709\n",
            "Epoch 66/100\n",
            "358/358 [==============================] - 2s 5ms/step - loss: 0.0053 - accuracy: 0.6724 - val_loss: 0.0086 - val_accuracy: 0.6708\n"
          ]
        },
        {
          "output_type": "display_data",
          "data": {
            "text/plain": [
              "<Figure size 432x288 with 1 Axes>"
            ],
            "image/png": "[encoded data removed]"
          },
          "metadata": {
            "needs_background": "light"
          }
        }
      ],
      "source": [
        "callback = tf.keras.callbacks.EarlyStopping(monitor='loss',min_delta=0.0001,patience=10)\n",
        "Autoencoder33.compile(optimizer,loss=\"mse\",metrics=['accuracy'])\n",
        "history33 = Autoencoder33.fit(train_data,train_data,epochs=100,batch_size=32,callbacks=[callback],validation_data=(val_data, val_data))\n",
        "#history_val33 = Autoencoder33.fit(train_data,train_data,epochs=100,batch_size=32,callbacks=[callback])\n",
        "plt.plot(history33.history['loss'])\n",
        "\n",
        "plt.savefig(\"/content/drive/MyDrive/autoencoder_output/A33loss.png\")"
      ]
    },
    {
      "cell_type": "code",
      "source": [
        "model_op33 = Autoencoder33.predict([test_data[1].reshape(-1,28,28,1)])\n",
        "plt.imshow(test_data[1],cmap=\"gray\")\n",
        "plt.savefig(\"/content/drive/MyDrive/autoencoder_output/test_original_image33.png\")"
      ],
      "metadata": {
        "colab": {
          "base_uri": "https://localhost:8080/",
          "height": 265
        },
        "id": "GKcv_-ilEfOm",
        "outputId": "19ae550f-fedd-4b20-93f3-35d28688d724"
      },
      "execution_count": null,
      "outputs": [
        {
          "output_type": "display_data",
          "data": {
            "text/plain": [
              "<Figure size 432x288 with 1 Axes>"
            ],
            "image/png": "[encoded data removed]"
          },
          "metadata": {
            "needs_background": "light"
          }
        }
      ]
    },
    {
      "cell_type": "code",
      "source": [
        "model_op33=model_op33.reshape(28,28)\n",
        "plt.imshow(model_op33,cmap=\"gray\")\n",
        "plt.savefig(\"/content/drive/MyDrive/autoencoder_output/test_reconstructed_image33.png\")"
      ],
      "metadata": {
        "colab": {
          "base_uri": "https://localhost:8080/",
          "height": 265
        },
        "id": "647iJJtBEpej",
        "outputId": "33e25567-682d-4d28-8488-e8cd5c3db41c"
      },
      "execution_count": null,
      "outputs": [
        {
          "output_type": "display_data",
          "data": {
            "text/plain": [
              "<Figure size 432x288 with 1 Axes>"
            ],
            "image/png": "[encoded data removed]"
          },
          "metadata": {
            "needs_background": "light"
          }
        }
      ]
    },
    {
      "cell_type": "code",
      "source": [
        "x_in = keras.Input(shape=(28,28,1),name=\"img\")\n",
        "x = keras.layers.Flatten()(x_in)\n",
        "encoder_out341 = keras.layers.Dense(256,activation='sigmoid')(x)\n",
        "encoder341 = keras.Model(x_in,encoder_out341,name=\"encoder341\")\n",
        "\n",
        "encoder_out342 = keras.layers.Dense(100,activation='sigmoid')(encoder_out341)\n",
        "encoder342 = keras.Model(x_in,encoder_out342,name=\"encoder342\")\n",
        "\n",
        "decoder_ip330 = keras.layers.Dense(256,activation='sigmoid')(encoder_out342)\n",
        "\n",
        "decoder_ip331 = keras.layers.Dense(784,activation='sigmoid')(decoder_ip330)\n",
        "\n",
        "decoder_op332 = keras.layers.Reshape((28,28,1))(decoder_ip331)\n",
        "optimizer = keras.optimizers.Adam(learning_rate = 0.01,decay = 1e-6)\n",
        "\n",
        "Autoencoder34 = keras.Model(x_in,decoder_op332,name=\"Autoencoder34\")\n",
        "Autoencoder34.summary()"
      ],
      "metadata": {
        "colab": {
          "base_uri": "https://localhost:8080/"
        },
        "id": "-bWE-1b7MDla",
        "outputId": "4149b293-4902-4c3d-aa79-457ea3e65069"
      },
      "execution_count": null,
      "outputs": [
        {
          "output_type": "stream",
          "name": "stdout",
          "text": [
            "Model: \"Autoencoder34\"\n",
            "_________________________________________________________________\n",
            " Layer (type)                Output Shape              Param #   \n",
            "=================================================================\n",
            " img (InputLayer)            [(None, 28, 28, 1)]       0         \n",
            "                                                                 \n",
            " flatten_7 (Flatten)         (None, 784)               0         \n",
            "                                                                 \n",
            " dense_18 (Dense)            (None, 256)               200960    \n",
            "                                                                 \n",
            " dense_19 (Dense)            (None, 100)               25700     \n",
            "                                                                 \n",
            " dense_20 (Dense)            (None, 256)               25856     \n",
            "                                                                 \n",
            " dense_21 (Dense)            (None, 784)               201488    \n",
            "                                                                 \n",
            " reshape_7 (Reshape)         (None, 28, 28, 1)         0         \n",
            "                                                                 \n",
            "=================================================================\n",
            "Total params: 454,004\n",
            "Trainable params: 454,004\n",
            "Non-trainable params: 0\n",
            "_________________________________________________________________\n"
          ]
        }
      ]
    },
    {
      "cell_type": "code",
      "source": [
        "callback = tf.keras.callbacks.EarlyStopping(monitor='loss',min_delta=0.0001,patience=10)\n",
        "Autoencoder34.compile(optimizer,loss=\"mse\",metrics=['accuracy'])\n",
        "history34 = Autoencoder34.fit(train_data,train_data,epochs=100,batch_size=32,callbacks=[callback],validation_data=(val_data, val_data))\n",
        "#history_val33 = Autoencoder33.fit(train_data,train_data,epochs=100,batch_size=32,callbacks=[callback])\n",
        "plt.plot(history34.history['loss'])\n",
        "\n",
        "plt.savefig(\"/content/drive/MyDrive/autoencoder_output/A34loss.png\")"
      ],
      "metadata": {
        "colab": {
          "base_uri": "https://localhost:8080/",
          "height": 1000
        },
        "id": "6m4qDXzrMDyC",
        "outputId": "5c048479-15e9-4b16-fae8-b61ccc0869ee"
      },
      "execution_count": null,
      "outputs": [
        {
          "output_type": "stream",
          "name": "stdout",
          "text": [
            "Epoch 1/100\n",
            "358/358 [==============================] - 3s 6ms/step - loss: 0.0417 - accuracy: 0.6516 - val_loss: 0.0318 - val_accuracy: 0.6583\n",
            "Epoch 2/100\n",
            "358/358 [==============================] - 2s 6ms/step - loss: 0.0216 - accuracy: 0.6651 - val_loss: 0.0177 - val_accuracy: 0.6666\n",
            "Epoch 3/100\n",
            "358/358 [==============================] - 2s 6ms/step - loss: 0.0148 - accuracy: 0.6688 - val_loss: 0.0148 - val_accuracy: 0.6682\n",
            "Epoch 4/100\n",
            "358/358 [==============================] - 2s 6ms/step - loss: 0.0122 - accuracy: 0.6700 - val_loss: 0.0133 - val_accuracy: 0.6688\n",
            "Epoch 5/100\n",
            "358/358 [==============================] - 2s 6ms/step - loss: 0.0110 - accuracy: 0.6705 - val_loss: 0.0123 - val_accuracy: 0.6694\n",
            "Epoch 6/100\n",
            "358/358 [==============================] - 2s 6ms/step - loss: 0.0100 - accuracy: 0.6709 - val_loss: 0.0107 - val_accuracy: 0.6699\n",
            "Epoch 7/100\n",
            "358/358 [==============================] - 2s 6ms/step - loss: 0.0093 - accuracy: 0.6712 - val_loss: 0.0102 - val_accuracy: 0.6701\n",
            "Epoch 8/100\n",
            "358/358 [==============================] - 2s 6ms/step - loss: 0.0087 - accuracy: 0.6714 - val_loss: 0.0103 - val_accuracy: 0.6701\n",
            "Epoch 9/100\n",
            "358/358 [==============================] - 2s 6ms/step - loss: 0.0085 - accuracy: 0.6715 - val_loss: 0.0096 - val_accuracy: 0.6704\n",
            "Epoch 10/100\n",
            "358/358 [==============================] - 2s 6ms/step - loss: 0.0082 - accuracy: 0.6716 - val_loss: 0.0093 - val_accuracy: 0.6705\n",
            "Epoch 11/100\n",
            "358/358 [==============================] - 2s 6ms/step - loss: 0.0079 - accuracy: 0.6717 - val_loss: 0.0095 - val_accuracy: 0.6704\n",
            "Epoch 12/100\n",
            "358/358 [==============================] - 2s 6ms/step - loss: 0.0076 - accuracy: 0.6718 - val_loss: 0.0094 - val_accuracy: 0.6705\n",
            "Epoch 13/100\n",
            "358/358 [==============================] - 2s 6ms/step - loss: 0.0076 - accuracy: 0.6718 - val_loss: 0.0096 - val_accuracy: 0.6704\n",
            "Epoch 14/100\n",
            "358/358 [==============================] - 2s 6ms/step - loss: 0.0075 - accuracy: 0.6718 - val_loss: 0.0089 - val_accuracy: 0.6706\n",
            "Epoch 15/100\n",
            "358/358 [==============================] - 2s 6ms/step - loss: 0.0071 - accuracy: 0.6720 - val_loss: 0.0088 - val_accuracy: 0.6707\n",
            "Epoch 16/100\n",
            "358/358 [==============================] - 2s 6ms/step - loss: 0.0069 - accuracy: 0.6720 - val_loss: 0.0100 - val_accuracy: 0.6702\n",
            "Epoch 17/100\n",
            "358/358 [==============================] - 2s 6ms/step - loss: 0.0072 - accuracy: 0.6719 - val_loss: 0.0092 - val_accuracy: 0.6706\n",
            "Epoch 18/100\n",
            "358/358 [==============================] - 2s 6ms/step - loss: 0.0068 - accuracy: 0.6720 - val_loss: 0.0096 - val_accuracy: 0.6705\n",
            "Epoch 19/100\n",
            "358/358 [==============================] - 2s 6ms/step - loss: 0.0066 - accuracy: 0.6721 - val_loss: 0.0086 - val_accuracy: 0.6708\n",
            "Epoch 20/100\n",
            "358/358 [==============================] - 2s 6ms/step - loss: 0.0063 - accuracy: 0.6722 - val_loss: 0.0087 - val_accuracy: 0.6708\n",
            "Epoch 21/100\n",
            "358/358 [==============================] - 2s 7ms/step - loss: 0.0064 - accuracy: 0.6721 - val_loss: 0.0090 - val_accuracy: 0.6706\n",
            "Epoch 22/100\n",
            "358/358 [==============================] - 2s 6ms/step - loss: 0.0065 - accuracy: 0.6721 - val_loss: 0.0083 - val_accuracy: 0.6709\n",
            "Epoch 23/100\n",
            "358/358 [==============================] - 2s 6ms/step - loss: 0.0062 - accuracy: 0.6722 - val_loss: 0.0085 - val_accuracy: 0.6708\n",
            "Epoch 24/100\n",
            "358/358 [==============================] - 2s 6ms/step - loss: 0.0061 - accuracy: 0.6722 - val_loss: 0.0087 - val_accuracy: 0.6708\n",
            "Epoch 25/100\n",
            "358/358 [==============================] - 2s 6ms/step - loss: 0.0062 - accuracy: 0.6722 - val_loss: 0.0084 - val_accuracy: 0.6708\n",
            "Epoch 26/100\n",
            "358/358 [==============================] - 2s 6ms/step - loss: 0.0061 - accuracy: 0.6722 - val_loss: 0.0087 - val_accuracy: 0.6708\n",
            "Epoch 27/100\n",
            "358/358 [==============================] - 2s 6ms/step - loss: 0.0063 - accuracy: 0.6722 - val_loss: 0.0084 - val_accuracy: 0.6708\n",
            "Epoch 28/100\n",
            "358/358 [==============================] - 2s 6ms/step - loss: 0.0059 - accuracy: 0.6723 - val_loss: 0.0090 - val_accuracy: 0.6707\n",
            "Epoch 29/100\n",
            "358/358 [==============================] - 2s 6ms/step - loss: 0.0059 - accuracy: 0.6723 - val_loss: 0.0086 - val_accuracy: 0.6708\n",
            "Epoch 30/100\n",
            "358/358 [==============================] - 2s 6ms/step - loss: 0.0060 - accuracy: 0.6723 - val_loss: 0.0082 - val_accuracy: 0.6709\n",
            "Epoch 31/100\n",
            "358/358 [==============================] - 2s 6ms/step - loss: 0.0059 - accuracy: 0.6723 - val_loss: 0.0084 - val_accuracy: 0.6708\n",
            "Epoch 32/100\n",
            "358/358 [==============================] - 2s 6ms/step - loss: 0.0057 - accuracy: 0.6723 - val_loss: 0.0083 - val_accuracy: 0.6708\n",
            "Epoch 33/100\n",
            "358/358 [==============================] - 2s 6ms/step - loss: 0.0058 - accuracy: 0.6723 - val_loss: 0.0085 - val_accuracy: 0.6708\n",
            "Epoch 34/100\n",
            "358/358 [==============================] - 2s 6ms/step - loss: 0.0057 - accuracy: 0.6723 - val_loss: 0.0085 - val_accuracy: 0.6708\n",
            "Epoch 35/100\n",
            "358/358 [==============================] - 2s 6ms/step - loss: 0.0059 - accuracy: 0.6723 - val_loss: 0.0085 - val_accuracy: 0.6709\n",
            "Epoch 36/100\n",
            "358/358 [==============================] - 2s 6ms/step - loss: 0.0056 - accuracy: 0.6724 - val_loss: 0.0082 - val_accuracy: 0.6709\n",
            "Epoch 37/100\n",
            "358/358 [==============================] - 2s 6ms/step - loss: 0.0056 - accuracy: 0.6724 - val_loss: 0.0088 - val_accuracy: 0.6708\n",
            "Epoch 38/100\n",
            "358/358 [==============================] - 2s 6ms/step - loss: 0.0057 - accuracy: 0.6723 - val_loss: 0.0081 - val_accuracy: 0.6709\n",
            "Epoch 39/100\n",
            "358/358 [==============================] - 2s 6ms/step - loss: 0.0055 - accuracy: 0.6724 - val_loss: 0.0083 - val_accuracy: 0.6709\n",
            "Epoch 40/100\n",
            "358/358 [==============================] - 2s 6ms/step - loss: 0.0054 - accuracy: 0.6724 - val_loss: 0.0087 - val_accuracy: 0.6708\n",
            "Epoch 41/100\n",
            "358/358 [==============================] - 2s 7ms/step - loss: 0.0058 - accuracy: 0.6723 - val_loss: 0.0081 - val_accuracy: 0.6709\n",
            "Epoch 42/100\n",
            "358/358 [==============================] - 2s 6ms/step - loss: 0.0054 - accuracy: 0.6724 - val_loss: 0.0083 - val_accuracy: 0.6709\n",
            "Epoch 43/100\n",
            "358/358 [==============================] - 2s 6ms/step - loss: 0.0054 - accuracy: 0.6724 - val_loss: 0.0082 - val_accuracy: 0.6709\n",
            "Epoch 44/100\n",
            "358/358 [==============================] - 2s 6ms/step - loss: 0.0056 - accuracy: 0.6724 - val_loss: 0.0084 - val_accuracy: 0.6709\n",
            "Epoch 45/100\n",
            "358/358 [==============================] - 2s 6ms/step - loss: 0.0055 - accuracy: 0.6724 - val_loss: 0.0081 - val_accuracy: 0.6709\n",
            "Epoch 46/100\n",
            "358/358 [==============================] - 2s 6ms/step - loss: 0.0052 - accuracy: 0.6725 - val_loss: 0.0082 - val_accuracy: 0.6709\n",
            "Epoch 47/100\n",
            "358/358 [==============================] - 3s 7ms/step - loss: 0.0052 - accuracy: 0.6725 - val_loss: 0.0082 - val_accuracy: 0.6709\n",
            "Epoch 48/100\n",
            "358/358 [==============================] - 2s 7ms/step - loss: 0.0053 - accuracy: 0.6725 - val_loss: 0.0083 - val_accuracy: 0.6709\n",
            "Epoch 49/100\n",
            "358/358 [==============================] - 2s 6ms/step - loss: 0.0053 - accuracy: 0.6724 - val_loss: 0.0083 - val_accuracy: 0.6709\n",
            "Epoch 50/100\n",
            "358/358 [==============================] - 2s 6ms/step - loss: 0.0052 - accuracy: 0.6725 - val_loss: 0.0082 - val_accuracy: 0.6709\n",
            "Epoch 51/100\n",
            "358/358 [==============================] - 2s 6ms/step - loss: 0.0053 - accuracy: 0.6724 - val_loss: 0.0083 - val_accuracy: 0.6709\n",
            "Epoch 52/100\n",
            "358/358 [==============================] - 2s 6ms/step - loss: 0.0053 - accuracy: 0.6724 - val_loss: 0.0081 - val_accuracy: 0.6709\n",
            "Epoch 53/100\n",
            "358/358 [==============================] - 2s 7ms/step - loss: 0.0051 - accuracy: 0.6725 - val_loss: 0.0084 - val_accuracy: 0.6708\n",
            "Epoch 54/100\n",
            "358/358 [==============================] - 3s 7ms/step - loss: 0.0053 - accuracy: 0.6724 - val_loss: 0.0089 - val_accuracy: 0.6707\n",
            "Epoch 55/100\n",
            "358/358 [==============================] - 2s 6ms/step - loss: 0.0056 - accuracy: 0.6724 - val_loss: 0.0085 - val_accuracy: 0.6709\n",
            "Epoch 56/100\n",
            "358/358 [==============================] - 2s 6ms/step - loss: 0.0053 - accuracy: 0.6724 - val_loss: 0.0082 - val_accuracy: 0.6709\n"
          ]
        },
        {
          "output_type": "display_data",
          "data": {
            "text/plain": [
              "<Figure size 432x288 with 1 Axes>"
            ],
            "image/png": "[encoded data removed]"
          },
          "metadata": {
            "needs_background": "light"
          }
        }
      ]
    },
    {
      "cell_type": "code",
      "source": [
        ""
      ],
      "metadata": {
        "id": "iryar3ISMD5f"
      },
      "execution_count": null,
      "outputs": []
    },
    {
      "cell_type": "code",
      "source": [
        "model_op34 = Autoencoder34.predict([test_data[1].reshape(-1,28,28,1)])\n",
        "plt.imshow(test_data[1],cmap=\"gray\")\n",
        "plt.savefig(\"D:\\Autoencoder_op\\test_original_image34.png\")"
      ],
      "metadata": {
        "id": "RsQ5IE3_MEB9",
        "colab": {
          "base_uri": "https://localhost:8080/",
          "height": 265
        },
        "outputId": "675bc36c-b8e7-4685-ba1b-85465a1e412f"
      },
      "execution_count": null,
      "outputs": [
        {
          "output_type": "display_data",
          "data": {
            "text/plain": [
              "<Figure size 432x288 with 1 Axes>"
            ],
            "image/png": "[encoded data removed]"
          },
          "metadata": {
            "needs_background": "light"
          }
        }
      ]
    },
    {
      "cell_type": "code",
      "source": [
        "model_op34=model_op34.reshape(28,28)\n",
        "plt.imshow(model_op34,cmap=\"gray\")\n",
        "plt.savefig(\"D:\\Autoencoder_op\\test_reconstructed_image34.png\")"
      ],
      "metadata": {
        "id": "HkLTdGPoMEMJ",
        "colab": {
          "base_uri": "https://localhost:8080/",
          "height": 265
        },
        "outputId": "92c1988c-8e62-4594-812d-d2873b302abe"
      },
      "execution_count": null,
      "outputs": [
        {
          "output_type": "display_data",
          "data": {
            "text/plain": [
              "<Figure size 432x288 with 1 Axes>"
            ],
            "image/png": "[encoded data removed]"
          },
          "metadata": {
            "needs_background": "light"
          }
        }
      ]
    },
    {
      "cell_type": "code",
      "source": [
        "x_in = keras.Input(shape=(28,28,1),name=\"img\")\n",
        "x = keras.layers.Flatten()(x_in)\n",
        "encoder_out351 = keras.layers.Dense(324,activation='sigmoid')(x)\n",
        "encoder351 = keras.Model(x_in,encoder_out351,name=\"encoder332\")\n",
        "\n",
        "encoder_out352 = keras.layers.Dense(144,activation='sigmoid')(encoder_out351)\n",
        "encoder352 = keras.Model(x_in,encoder_out352,name=\"encoder332\")\n",
        "\n",
        "decoder_ip330 = keras.layers.Dense(324,activation='sigmoid')(encoder_out352)\n",
        "\n",
        "decoder_ip331 = keras.layers.Dense(784,activation='sigmoid')(decoder_ip330)\n",
        "\n",
        "decoder_op332 = keras.layers.Reshape((28,28,1))(decoder_ip331)\n",
        "optimizer = keras.optimizers.Adam(learning_rate = 0.01,decay = 1e-6)\n",
        "\n",
        "Autoencoder35 = keras.Model(x_in,decoder_op332,name=\"Autoencoder35\")\n",
        "Autoencoder35.summary()"
      ],
      "metadata": {
        "id": "3BlhyU6sMEsZ",
        "colab": {
          "base_uri": "https://localhost:8080/"
        },
        "outputId": "ba84b696-f169-447b-e33d-943bcf60fe13"
      },
      "execution_count": null,
      "outputs": [
        {
          "output_type": "stream",
          "name": "stdout",
          "text": [
            "Model: \"Autoencoder35\"\n",
            "_________________________________________________________________\n",
            " Layer (type)                Output Shape              Param #   \n",
            "=================================================================\n",
            " img (InputLayer)            [(None, 28, 28, 1)]       0         \n",
            "                                                                 \n",
            " flatten_9 (Flatten)         (None, 784)               0         \n",
            "                                                                 \n",
            " dense_26 (Dense)            (None, 324)               254340    \n",
            "                                                                 \n",
            " dense_27 (Dense)            (None, 144)               46800     \n",
            "                                                                 \n",
            " dense_28 (Dense)            (None, 324)               46980     \n",
            "                                                                 \n",
            " dense_29 (Dense)            (None, 784)               254800    \n",
            "                                                                 \n",
            " reshape_9 (Reshape)         (None, 28, 28, 1)         0         \n",
            "                                                                 \n",
            "=================================================================\n",
            "Total params: 602,920\n",
            "Trainable params: 602,920\n",
            "Non-trainable params: 0\n",
            "_________________________________________________________________\n"
          ]
        }
      ]
    },
    {
      "cell_type": "code",
      "source": [
        "callback = tf.keras.callbacks.EarlyStopping(monitor='loss',min_delta=0.0001,patience=10)\n",
        "Autoencoder35.compile(optimizer,loss=\"mse\",metrics=['accuracy'])\n",
        "history35 = Autoencoder35.fit(train_data,train_data,epochs=100,batch_size=32,callbacks=[callback],validation_data=(val_data, val_data))\n",
        "#history_val33 = Autoencoder33.fit(train_data,train_data,epochs=100,batch_size=32,callbacks=[callback])\n",
        "plt.plot(history35.history['loss'])\n",
        "\n",
        "plt.savefig(\"D:\\Autoencoder_op\\A35loss.png\")"
      ],
      "metadata": {
        "id": "UVU65WUPMEzo",
        "colab": {
          "base_uri": "https://localhost:8080/",
          "height": 1000
        },
        "outputId": "09386fed-909b-4ac8-90a0-dfc44361e77a"
      },
      "execution_count": null,
      "outputs": [
        {
          "output_type": "stream",
          "name": "stdout",
          "text": [
            "Epoch 1/100\n",
            "358/358 [==============================] - 3s 8ms/step - loss: 0.0397 - accuracy: 0.6529 - val_loss: 0.0279 - val_accuracy: 0.6611\n",
            "Epoch 2/100\n",
            "358/358 [==============================] - 3s 7ms/step - loss: 0.0192 - accuracy: 0.6665 - val_loss: 0.0155 - val_accuracy: 0.6678\n",
            "Epoch 3/100\n",
            "358/358 [==============================] - 2s 7ms/step - loss: 0.0134 - accuracy: 0.6694 - val_loss: 0.0128 - val_accuracy: 0.6690\n",
            "Epoch 4/100\n",
            "358/358 [==============================] - 3s 7ms/step - loss: 0.0113 - accuracy: 0.6704 - val_loss: 0.0123 - val_accuracy: 0.6693\n",
            "Epoch 5/100\n",
            "358/358 [==============================] - 2s 7ms/step - loss: 0.0104 - accuracy: 0.6707 - val_loss: 0.0106 - val_accuracy: 0.6700\n",
            "Epoch 6/100\n",
            "358/358 [==============================] - 3s 7ms/step - loss: 0.0094 - accuracy: 0.6711 - val_loss: 0.0104 - val_accuracy: 0.6701\n",
            "Epoch 7/100\n",
            "358/358 [==============================] - 2s 7ms/step - loss: 0.0088 - accuracy: 0.6714 - val_loss: 0.0100 - val_accuracy: 0.6702\n",
            "Epoch 8/100\n",
            "358/358 [==============================] - 3s 8ms/step - loss: 0.0084 - accuracy: 0.6715 - val_loss: 0.0104 - val_accuracy: 0.6701\n",
            "Epoch 9/100\n",
            "358/358 [==============================] - 3s 7ms/step - loss: 0.0084 - accuracy: 0.6715 - val_loss: 0.0096 - val_accuracy: 0.6704\n",
            "Epoch 10/100\n",
            "358/358 [==============================] - 3s 7ms/step - loss: 0.0078 - accuracy: 0.6717 - val_loss: 0.0094 - val_accuracy: 0.6705\n",
            "Epoch 11/100\n",
            "358/358 [==============================] - 3s 7ms/step - loss: 0.0075 - accuracy: 0.6718 - val_loss: 0.0093 - val_accuracy: 0.6705\n",
            "Epoch 12/100\n",
            "358/358 [==============================] - 3s 7ms/step - loss: 0.0075 - accuracy: 0.6718 - val_loss: 0.0090 - val_accuracy: 0.6706\n",
            "Epoch 13/100\n",
            "358/358 [==============================] - 2s 7ms/step - loss: 0.0071 - accuracy: 0.6719 - val_loss: 0.0092 - val_accuracy: 0.6706\n",
            "Epoch 14/100\n",
            "358/358 [==============================] - 2s 7ms/step - loss: 0.0072 - accuracy: 0.6719 - val_loss: 0.0097 - val_accuracy: 0.6704\n",
            "Epoch 15/100\n",
            "358/358 [==============================] - 2s 7ms/step - loss: 0.0074 - accuracy: 0.6719 - val_loss: 0.0092 - val_accuracy: 0.6706\n",
            "Epoch 16/100\n",
            "358/358 [==============================] - 3s 7ms/step - loss: 0.0069 - accuracy: 0.6720 - val_loss: 0.0094 - val_accuracy: 0.6705\n",
            "Epoch 17/100\n",
            "358/358 [==============================] - 3s 7ms/step - loss: 0.0073 - accuracy: 0.6719 - val_loss: 0.0095 - val_accuracy: 0.6705\n",
            "Epoch 18/100\n",
            "358/358 [==============================] - 3s 7ms/step - loss: 0.0069 - accuracy: 0.6720 - val_loss: 0.0088 - val_accuracy: 0.6707\n",
            "Epoch 19/100\n",
            "358/358 [==============================] - 2s 7ms/step - loss: 0.0065 - accuracy: 0.6721 - val_loss: 0.0090 - val_accuracy: 0.6707\n",
            "Epoch 20/100\n",
            "358/358 [==============================] - 3s 7ms/step - loss: 0.0066 - accuracy: 0.6721 - val_loss: 0.0088 - val_accuracy: 0.6707\n",
            "Epoch 21/100\n",
            "358/358 [==============================] - 3s 8ms/step - loss: 0.0063 - accuracy: 0.6722 - val_loss: 0.0088 - val_accuracy: 0.6708\n",
            "Epoch 22/100\n",
            "358/358 [==============================] - 3s 7ms/step - loss: 0.0062 - accuracy: 0.6722 - val_loss: 0.0088 - val_accuracy: 0.6708\n",
            "Epoch 23/100\n",
            "358/358 [==============================] - 2s 7ms/step - loss: 0.0063 - accuracy: 0.6722 - val_loss: 0.0091 - val_accuracy: 0.6706\n",
            "Epoch 24/100\n",
            "358/358 [==============================] - 3s 8ms/step - loss: 0.0063 - accuracy: 0.6722 - val_loss: 0.0088 - val_accuracy: 0.6707\n",
            "Epoch 25/100\n",
            "358/358 [==============================] - 3s 7ms/step - loss: 0.0064 - accuracy: 0.6722 - val_loss: 0.0087 - val_accuracy: 0.6708\n",
            "Epoch 26/100\n",
            "358/358 [==============================] - 3s 7ms/step - loss: 0.0060 - accuracy: 0.6723 - val_loss: 0.0088 - val_accuracy: 0.6707\n",
            "Epoch 27/100\n",
            "358/358 [==============================] - 3s 7ms/step - loss: 0.0060 - accuracy: 0.6723 - val_loss: 0.0087 - val_accuracy: 0.6707\n",
            "Epoch 28/100\n",
            "358/358 [==============================] - 2s 7ms/step - loss: 0.0060 - accuracy: 0.6723 - val_loss: 0.0088 - val_accuracy: 0.6707\n",
            "Epoch 29/100\n",
            "358/358 [==============================] - 3s 7ms/step - loss: 0.0060 - accuracy: 0.6723 - val_loss: 0.0090 - val_accuracy: 0.6707\n",
            "Epoch 30/100\n",
            "358/358 [==============================] - 3s 8ms/step - loss: 0.0059 - accuracy: 0.6723 - val_loss: 0.0088 - val_accuracy: 0.6708\n",
            "Epoch 31/100\n",
            "358/358 [==============================] - 3s 7ms/step - loss: 0.0059 - accuracy: 0.6723 - val_loss: 0.0087 - val_accuracy: 0.6708\n",
            "Epoch 32/100\n",
            "358/358 [==============================] - 3s 8ms/step - loss: 0.0060 - accuracy: 0.6723 - val_loss: 0.0087 - val_accuracy: 0.6708\n",
            "Epoch 33/100\n",
            "358/358 [==============================] - 3s 7ms/step - loss: 0.0057 - accuracy: 0.6724 - val_loss: 0.0089 - val_accuracy: 0.6707\n",
            "Epoch 34/100\n",
            "358/358 [==============================] - 3s 7ms/step - loss: 0.0057 - accuracy: 0.6724 - val_loss: 0.0089 - val_accuracy: 0.6707\n",
            "Epoch 35/100\n",
            "358/358 [==============================] - 2s 7ms/step - loss: 0.0058 - accuracy: 0.6724 - val_loss: 0.0088 - val_accuracy: 0.6707\n",
            "Epoch 36/100\n",
            "358/358 [==============================] - 2s 7ms/step - loss: 0.0058 - accuracy: 0.6723 - val_loss: 0.0089 - val_accuracy: 0.6707\n",
            "Epoch 37/100\n",
            "358/358 [==============================] - 3s 7ms/step - loss: 0.0056 - accuracy: 0.6724 - val_loss: 0.0088 - val_accuracy: 0.6707\n",
            "Epoch 38/100\n",
            "358/358 [==============================] - 3s 8ms/step - loss: 0.0060 - accuracy: 0.6723 - val_loss: 0.0090 - val_accuracy: 0.6707\n",
            "Epoch 39/100\n",
            "358/358 [==============================] - 3s 8ms/step - loss: 0.0058 - accuracy: 0.6723 - val_loss: 0.0089 - val_accuracy: 0.6707\n",
            "Epoch 40/100\n",
            "358/358 [==============================] - 3s 7ms/step - loss: 0.0056 - accuracy: 0.6724 - val_loss: 0.0090 - val_accuracy: 0.6707\n",
            "Epoch 41/100\n",
            "358/358 [==============================] - 3s 7ms/step - loss: 0.0057 - accuracy: 0.6724 - val_loss: 0.0088 - val_accuracy: 0.6708\n",
            "Epoch 42/100\n",
            "358/358 [==============================] - 3s 7ms/step - loss: 0.0054 - accuracy: 0.6724 - val_loss: 0.0089 - val_accuracy: 0.6707\n",
            "Epoch 43/100\n",
            "358/358 [==============================] - 2s 7ms/step - loss: 0.0058 - accuracy: 0.6723 - val_loss: 0.0090 - val_accuracy: 0.6707\n",
            "Epoch 44/100\n",
            "358/358 [==============================] - 3s 8ms/step - loss: 0.0055 - accuracy: 0.6724 - val_loss: 0.0090 - val_accuracy: 0.6707\n",
            "Epoch 45/100\n",
            "358/358 [==============================] - 3s 8ms/step - loss: 0.0055 - accuracy: 0.6724 - val_loss: 0.0088 - val_accuracy: 0.6707\n",
            "Epoch 46/100\n",
            "358/358 [==============================] - 3s 8ms/step - loss: 0.0054 - accuracy: 0.6724 - val_loss: 0.0090 - val_accuracy: 0.6707\n",
            "Epoch 47/100\n",
            "358/358 [==============================] - 2s 7ms/step - loss: 0.0055 - accuracy: 0.6724 - val_loss: 0.0088 - val_accuracy: 0.6708\n",
            "Epoch 48/100\n",
            "358/358 [==============================] - 3s 8ms/step - loss: 0.0053 - accuracy: 0.6725 - val_loss: 0.0089 - val_accuracy: 0.6707\n",
            "Epoch 49/100\n",
            "358/358 [==============================] - 3s 7ms/step - loss: 0.0054 - accuracy: 0.6724 - val_loss: 0.0090 - val_accuracy: 0.6707\n",
            "Epoch 50/100\n",
            "358/358 [==============================] - 3s 7ms/step - loss: 0.0054 - accuracy: 0.6724 - val_loss: 0.0089 - val_accuracy: 0.6707\n",
            "Epoch 51/100\n",
            "358/358 [==============================] - 2s 7ms/step - loss: 0.0054 - accuracy: 0.6724 - val_loss: 0.0090 - val_accuracy: 0.6707\n",
            "Epoch 52/100\n",
            "358/358 [==============================] - 3s 8ms/step - loss: 0.0053 - accuracy: 0.6725 - val_loss: 0.0090 - val_accuracy: 0.6707\n",
            "Epoch 53/100\n",
            "358/358 [==============================] - 3s 7ms/step - loss: 0.0053 - accuracy: 0.6724 - val_loss: 0.0090 - val_accuracy: 0.6707\n",
            "Epoch 54/100\n",
            "358/358 [==============================] - 3s 7ms/step - loss: 0.0052 - accuracy: 0.6725 - val_loss: 0.0090 - val_accuracy: 0.6707\n",
            "Epoch 55/100\n",
            "358/358 [==============================] - 2s 7ms/step - loss: 0.0052 - accuracy: 0.6725 - val_loss: 0.0090 - val_accuracy: 0.6707\n",
            "Epoch 56/100\n",
            "358/358 [==============================] - 3s 7ms/step - loss: 0.0052 - accuracy: 0.6724 - val_loss: 0.0090 - val_accuracy: 0.6707\n",
            "Epoch 57/100\n",
            "358/358 [==============================] - 3s 8ms/step - loss: 0.0053 - accuracy: 0.6725 - val_loss: 0.0091 - val_accuracy: 0.6707\n",
            "Epoch 58/100\n",
            "358/358 [==============================] - 3s 8ms/step - loss: 0.0052 - accuracy: 0.6725 - val_loss: 0.0089 - val_accuracy: 0.6707\n",
            "Epoch 59/100\n",
            "358/358 [==============================] - 3s 8ms/step - loss: 0.0050 - accuracy: 0.6725 - val_loss: 0.0091 - val_accuracy: 0.6707\n",
            "Epoch 60/100\n",
            "358/358 [==============================] - 3s 7ms/step - loss: 0.0053 - accuracy: 0.6725 - val_loss: 0.0089 - val_accuracy: 0.6708\n",
            "Epoch 61/100\n",
            "358/358 [==============================] - 3s 7ms/step - loss: 0.0051 - accuracy: 0.6725 - val_loss: 0.0089 - val_accuracy: 0.6707\n",
            "Epoch 62/100\n",
            "358/358 [==============================] - 3s 7ms/step - loss: 0.0052 - accuracy: 0.6725 - val_loss: 0.0089 - val_accuracy: 0.6708\n",
            "Epoch 63/100\n",
            "358/358 [==============================] - 3s 7ms/step - loss: 0.0051 - accuracy: 0.6725 - val_loss: 0.0090 - val_accuracy: 0.6707\n",
            "Epoch 64/100\n",
            "358/358 [==============================] - 2s 7ms/step - loss: 0.0051 - accuracy: 0.6725 - val_loss: 0.0090 - val_accuracy: 0.6707\n",
            "Epoch 65/100\n",
            "358/358 [==============================] - 3s 7ms/step - loss: 0.0050 - accuracy: 0.6725 - val_loss: 0.0090 - val_accuracy: 0.6707\n",
            "Epoch 66/100\n",
            "358/358 [==============================] - 3s 8ms/step - loss: 0.0050 - accuracy: 0.6725 - val_loss: 0.0091 - val_accuracy: 0.6707\n",
            "Epoch 67/100\n",
            "358/358 [==============================] - 2s 7ms/step - loss: 0.0050 - accuracy: 0.6725 - val_loss: 0.0091 - val_accuracy: 0.6707\n",
            "Epoch 68/100\n",
            "358/358 [==============================] - 3s 7ms/step - loss: 0.0051 - accuracy: 0.6725 - val_loss: 0.0094 - val_accuracy: 0.6706\n",
            "Epoch 69/100\n",
            "358/358 [==============================] - 3s 7ms/step - loss: 0.0053 - accuracy: 0.6724 - val_loss: 0.0093 - val_accuracy: 0.6706\n"
          ]
        },
        {
          "output_type": "display_data",
          "data": {
            "text/plain": [
              "<Figure size 432x288 with 1 Axes>"
            ],
            "image/png": "[encoded data removed]"
          },
          "metadata": {
            "needs_background": "light"
          }
        }
      ]
    },
    {
      "cell_type": "code",
      "source": [
        "model_op35 = Autoencoder35.predict([test_data[1].reshape(-1,28,28,1)])\n",
        "plt.imshow(test_data[1],cmap=\"gray\")\n",
        "plt.savefig(\"D:\\Autoencoder_op\\test_original_image35.png\")"
      ],
      "metadata": {
        "id": "06wTiwu7ME52",
        "colab": {
          "base_uri": "https://localhost:8080/",
          "height": 265
        },
        "outputId": "e79b58b6-1926-4e3b-88cc-9410f009a87d"
      },
      "execution_count": null,
      "outputs": [
        {
          "output_type": "display_data",
          "data": {
            "text/plain": [
              "<Figure size 432x288 with 1 Axes>"
            ],
            "image/png": "[encoded data removed]"
          },
          "metadata": {
            "needs_background": "light"
          }
        }
      ]
    },
    {
      "cell_type": "code",
      "source": [
        "model_op35=model_op35.reshape(28,28)\n",
        "plt.imshow(model_op35,cmap=\"gray\")\n",
        "plt.savefig(\"D:\\Autoencoder_op\\test_reconstructed_image35.png\")"
      ],
      "metadata": {
        "id": "94TEY557MFAw",
        "colab": {
          "base_uri": "https://localhost:8080/",
          "height": 265
        },
        "outputId": "6157f739-04c3-4fe6-da8f-c78d4ded5970"
      },
      "execution_count": null,
      "outputs": [
        {
          "output_type": "display_data",
          "data": {
            "text/plain": [
              "<Figure size 432x288 with 1 Axes>"
            ],
            "image/png": "[encoded data removed]"
          },
          "metadata": {
            "needs_background": "light"
          }
        }
      ]
    },
    {
      "cell_type": "code",
      "source": [
        ""
      ],
      "metadata": {
        "id": "nUozBN9t3yVA"
      },
      "execution_count": null,
      "outputs": []
    }
  ],
  "metadata": {
    "colab": {
      "collapsed_sections": [],
      "name": "Autoencoder",
      "provenance": []
    },
    "kernelspec": {
      "display_name": "Python 3",
      "name": "python3"
    },
    "language_info": {
      "name": "python"
    }
  },
  "nbformat": 4,
  "nbformat_minor": 0
}